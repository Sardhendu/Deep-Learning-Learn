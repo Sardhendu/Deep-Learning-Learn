{
 "cells": [
  {
   "cell_type": "code",
   "execution_count": null,
   "metadata": {},
   "outputs": [],
   "source": [
    "# Slim in Tensorflow has preimplemented models\n",
    "flowerDataset = \"/Users/sam/All-Program/App-DataSet/Deep-Neural-Nets/TensorFlowOPS/flowers\"\n",
    "\n",
    "import random\n",
    "import tensorflow as tf\n",
    "from tensorflow.models.slim.datasets.dataset_utils import _get_filenames_and_classes , _convert_dataset, write_label_file\n",
    "# from tensorflow.models.slim.datasets import download_and_convert_flowers, _convert_datase\n",
    "# Source: https://kwotsin.github.io/tech/2017/01/29/tfrecords.html"
   ]
  },
  {
   "cell_type": "code",
   "execution_count": null,
   "metadata": {},
   "outputs": [],
   "source": [
    "flags = tf.app.flags\n",
    "\n",
    "# Setting dataset directory\n",
    "flags.DEFINE_string('dataset_dir', \"/Users/sam/All-Program/App-DataSet/Deep-Neural-Nets/TensorFlowOPS/flowers\", \n",
    "                    \"String: The path to the directory\")\n",
    "\n",
    "# Proportion of dataset to be used for validation \n",
    "flags.DEFINE_float('validation_size', 0.3, 'Float: The proportion of example in the dataset to be used for validation')\n",
    "\n",
    "# The number of shards to split the dataset.\n",
    "flags.DEFINE_integer('num_shards', 2, 'Int: Number of shards to split the TFRecord files')\n",
    "\n",
    "# Seed for repeatability.\n",
    "flags.DEFINE_integer('random_seed', 8753, 'Int: Random seed to use for repetability.')\n",
    "\n",
    "# Output file name for naming the TFRecord file\n",
    "flags.DEFINE_string('tfrecord_filename', \"/Users/sam/All-Program/App-DataSet/Deep-Neural-Nets/TensorFlowOPS/flowers/tfRecordOut\", 'String: The output filename to  name your TRRecord file')\n",
    "\n",
    "FLAGS = flags.FLAGS\n"
   ]
  },
  {
   "cell_type": "code",
   "execution_count": null,
   "metadata": {},
   "outputs": [
    {
     "name": "stdout",
     "output_type": "stream",
     "text": [
      "3670\n['daisy', 'dandelion', 'roses', 'sunflowers', 'tulips']\n{'daisy': 0, 'dandelion': 1, 'roses': 2, 'sunflowers': 3, 'tulips': 4}\n1101\n1101 2569\n"
     ]
    }
   ],
   "source": [
    "# Now we distribute a label name to \n",
    "photoFilenames, classNames = _get_filenames_and_classes(FLAGS.dataset_dir)\n",
    "classNameToLabel = dict(zip(classNames, range(len(classNames))))\n",
    "print (len(photoFilenames))\n",
    "print (classNames)\n",
    "print (classNameToLabel)\n",
    "\n",
    "# Number of validation set to select \n",
    "numValidation = int(FLAGS.validation_size * len(photoFilenames))\n",
    "print (numValidation)\n",
    "\n",
    "# Segregate training and validation dataset\n",
    "random.seed(FLAGS.random_seed)\n",
    "random.shuffle(photoFilenames)\n",
    "validationFilenames = photoFilenames[:numValidation]\n",
    "trainingFilenames = photoFilenames[numValidation:]\n",
    "\n",
    "print (len(validationFilenames), len(trainingFilenames))"
   ]
  },
  {
   "cell_type": "code",
   "execution_count": 4,
   "metadata": {
    "collapsed": false
   },
   "outputs": [
    {
     "name": "stdout",
     "output_type": "stream",
     "text": [
      "\r>> Converting image 1/2569 shard 0"
     ]
    },
    {
     "name": "stdout",
     "output_type": "stream",
     "text": [
      "\r>> Converting image 2/2569 shard 0"
     ]
    },
    {
     "name": "stdout",
     "output_type": "stream",
     "text": [
      "\r>> Converting image 3/2569 shard 0"
     ]
    },
    {
     "name": "stdout",
     "output_type": "stream",
     "text": [
      "\r>> Converting image 4/2569 shard 0"
     ]
    },
    {
     "name": "stdout",
     "output_type": "stream",
     "text": [
      "\r>> Converting image 5/2569 shard 0"
     ]
    },
    {
     "name": "stdout",
     "output_type": "stream",
     "text": [
      "\r>> Converting image 6/2569 shard 0"
     ]
    },
    {
     "name": "stdout",
     "output_type": "stream",
     "text": [
      "\r>> Converting image 7/2569 shard 0"
     ]
    },
    {
     "name": "stdout",
     "output_type": "stream",
     "text": [
      "\r>> Converting image 8/2569 shard 0"
     ]
    },
    {
     "name": "stdout",
     "output_type": "stream",
     "text": [
      "\r>> Converting image 9/2569 shard 0"
     ]
    },
    {
     "name": "stdout",
     "output_type": "stream",
     "text": [
      "\r>> Converting image 10/2569 shard 0"
     ]
    },
    {
     "name": "stdout",
     "output_type": "stream",
     "text": [
      "\r>> Converting image 11/2569 shard 0"
     ]
    },
    {
     "name": "stdout",
     "output_type": "stream",
     "text": [
      "\r>> Converting image 12/2569 shard 0"
     ]
    },
    {
     "name": "stdout",
     "output_type": "stream",
     "text": [
      "\r>> Converting image 13/2569 shard 0"
     ]
    },
    {
     "name": "stdout",
     "output_type": "stream",
     "text": [
      "\r>> Converting image 14/2569 shard 0"
     ]
    },
    {
     "name": "stdout",
     "output_type": "stream",
     "text": [
      "\r>> Converting image 15/2569 shard 0"
     ]
    },
    {
     "name": "stdout",
     "output_type": "stream",
     "text": [
      "\r>> Converting image 16/2569 shard 0"
     ]
    },
    {
     "name": "stdout",
     "output_type": "stream",
     "text": [
      "\r>> Converting image 17/2569 shard 0"
     ]
    },
    {
     "name": "stdout",
     "output_type": "stream",
     "text": [
      "\r>> Converting image 18/2569 shard 0"
     ]
    },
    {
     "name": "stdout",
     "output_type": "stream",
     "text": [
      "\r>> Converting image 19/2569 shard 0"
     ]
    },
    {
     "name": "stdout",
     "output_type": "stream",
     "text": [
      "\r>> Converting image 20/2569 shard 0"
     ]
    },
    {
     "name": "stdout",
     "output_type": "stream",
     "text": [
      "\r>> Converting image 21/2569 shard 0"
     ]
    },
    {
     "name": "stdout",
     "output_type": "stream",
     "text": [
      "\r>> Converting image 22/2569 shard 0"
     ]
    },
    {
     "name": "stdout",
     "output_type": "stream",
     "text": [
      "\r>> Converting image 23/2569 shard 0"
     ]
    },
    {
     "name": "stdout",
     "output_type": "stream",
     "text": [
      "\r>> Converting image 24/2569 shard 0"
     ]
    },
    {
     "name": "stdout",
     "output_type": "stream",
     "text": [
      "\r>> Converting image 25/2569 shard 0"
     ]
    },
    {
     "name": "stdout",
     "output_type": "stream",
     "text": [
      "\r>> Converting image 26/2569 shard 0"
     ]
    },
    {
     "name": "stdout",
     "output_type": "stream",
     "text": [
      "\r>> Converting image 27/2569 shard 0"
     ]
    },
    {
     "name": "stdout",
     "output_type": "stream",
     "text": [
      "\r>> Converting image 28/2569 shard 0"
     ]
    },
    {
     "name": "stdout",
     "output_type": "stream",
     "text": [
      "\r>> Converting image 29/2569 shard 0"
     ]
    },
    {
     "name": "stdout",
     "output_type": "stream",
     "text": [
      "\r>> Converting image 30/2569 shard 0"
     ]
    },
    {
     "name": "stdout",
     "output_type": "stream",
     "text": [
      "\r>> Converting image 31/2569 shard 0"
     ]
    },
    {
     "name": "stdout",
     "output_type": "stream",
     "text": [
      "\r>> Converting image 32/2569 shard 0"
     ]
    },
    {
     "name": "stdout",
     "output_type": "stream",
     "text": [
      "\r>> Converting image 33/2569 shard 0"
     ]
    },
    {
     "name": "stdout",
     "output_type": "stream",
     "text": [
      "\r>> Converting image 34/2569 shard 0"
     ]
    },
    {
     "name": "stdout",
     "output_type": "stream",
     "text": [
      "\r>> Converting image 35/2569 shard 0"
     ]
    },
    {
     "name": "stdout",
     "output_type": "stream",
     "text": [
      "\r>> Converting image 36/2569 shard 0"
     ]
    },
    {
     "name": "stdout",
     "output_type": "stream",
     "text": [
      "\r>> Converting image 37/2569 shard 0"
     ]
    },
    {
     "name": "stdout",
     "output_type": "stream",
     "text": [
      "\r>> Converting image 38/2569 shard 0"
     ]
    },
    {
     "name": "stdout",
     "output_type": "stream",
     "text": [
      "\r>> Converting image 39/2569 shard 0"
     ]
    },
    {
     "name": "stdout",
     "output_type": "stream",
     "text": [
      "\r>> Converting image 40/2569 shard 0"
     ]
    },
    {
     "name": "stdout",
     "output_type": "stream",
     "text": [
      "\r>> Converting image 41/2569 shard 0"
     ]
    },
    {
     "name": "stdout",
     "output_type": "stream",
     "text": [
      "\r>> Converting image 42/2569 shard 0"
     ]
    },
    {
     "name": "stdout",
     "output_type": "stream",
     "text": [
      "\r>> Converting image 43/2569 shard 0"
     ]
    },
    {
     "name": "stdout",
     "output_type": "stream",
     "text": [
      "\r>> Converting image 44/2569 shard 0"
     ]
    },
    {
     "name": "stdout",
     "output_type": "stream",
     "text": [
      "\r>> Converting image 45/2569 shard 0"
     ]
    },
    {
     "name": "stdout",
     "output_type": "stream",
     "text": [
      "\r>> Converting image 46/2569 shard 0"
     ]
    },
    {
     "name": "stdout",
     "output_type": "stream",
     "text": [
      "\r>> Converting image 47/2569 shard 0"
     ]
    },
    {
     "name": "stdout",
     "output_type": "stream",
     "text": [
      "\r>> Converting image 48/2569 shard 0"
     ]
    },
    {
     "name": "stdout",
     "output_type": "stream",
     "text": [
      "\r>> Converting image 49/2569 shard 0"
     ]
    },
    {
     "name": "stdout",
     "output_type": "stream",
     "text": [
      "\r>> Converting image 50/2569 shard 0"
     ]
    },
    {
     "name": "stdout",
     "output_type": "stream",
     "text": [
      "\r>> Converting image 51/2569 shard 0"
     ]
    },
    {
     "name": "stdout",
     "output_type": "stream",
     "text": [
      "\r>> Converting image 52/2569 shard 0"
     ]
    },
    {
     "name": "stdout",
     "output_type": "stream",
     "text": [
      "\r>> Converting image 53/2569 shard 0"
     ]
    },
    {
     "name": "stdout",
     "output_type": "stream",
     "text": [
      "\r>> Converting image 54/2569 shard 0"
     ]
    },
    {
     "name": "stdout",
     "output_type": "stream",
     "text": [
      "\r>> Converting image 55/2569 shard 0"
     ]
    },
    {
     "name": "stdout",
     "output_type": "stream",
     "text": [
      "\r>> Converting image 56/2569 shard 0"
     ]
    },
    {
     "name": "stdout",
     "output_type": "stream",
     "text": [
      "\r>> Converting image 57/2569 shard 0"
     ]
    },
    {
     "name": "stdout",
     "output_type": "stream",
     "text": [
      "\r>> Converting image 58/2569 shard 0"
     ]
    },
    {
     "name": "stdout",
     "output_type": "stream",
     "text": [
      "\r>> Converting image 59/2569 shard 0"
     ]
    },
    {
     "name": "stdout",
     "output_type": "stream",
     "text": [
      "\r>> Converting image 60/2569 shard 0"
     ]
    },
    {
     "name": "stdout",
     "output_type": "stream",
     "text": [
      "\r>> Converting image 61/2569 shard 0"
     ]
    },
    {
     "name": "stdout",
     "output_type": "stream",
     "text": [
      "\r>> Converting image 62/2569 shard 0"
     ]
    },
    {
     "name": "stdout",
     "output_type": "stream",
     "text": [
      "\r>> Converting image 63/2569 shard 0"
     ]
    },
    {
     "name": "stdout",
     "output_type": "stream",
     "text": [
      "\r>> Converting image 64/2569 shard 0"
     ]
    },
    {
     "name": "stdout",
     "output_type": "stream",
     "text": [
      "\r>> Converting image 65/2569 shard 0"
     ]
    },
    {
     "name": "stdout",
     "output_type": "stream",
     "text": [
      "\r>> Converting image 66/2569 shard 0"
     ]
    },
    {
     "name": "stdout",
     "output_type": "stream",
     "text": [
      "\r>> Converting image 67/2569 shard 0"
     ]
    },
    {
     "name": "stdout",
     "output_type": "stream",
     "text": [
      "\r>> Converting image 68/2569 shard 0"
     ]
    },
    {
     "name": "stdout",
     "output_type": "stream",
     "text": [
      "\r>> Converting image 69/2569 shard 0"
     ]
    },
    {
     "name": "stdout",
     "output_type": "stream",
     "text": [
      "\r>> Converting image 70/2569 shard 0"
     ]
    },
    {
     "name": "stdout",
     "output_type": "stream",
     "text": [
      "\r>> Converting image 71/2569 shard 0"
     ]
    },
    {
     "name": "stdout",
     "output_type": "stream",
     "text": [
      "\r>> Converting image 72/2569 shard 0"
     ]
    },
    {
     "name": "stdout",
     "output_type": "stream",
     "text": [
      "\r>> Converting image 73/2569 shard 0"
     ]
    },
    {
     "name": "stdout",
     "output_type": "stream",
     "text": [
      "\r>> Converting image 74/2569 shard 0"
     ]
    },
    {
     "name": "stdout",
     "output_type": "stream",
     "text": [
      "\r>> Converting image 75/2569 shard 0"
     ]
    },
    {
     "name": "stdout",
     "output_type": "stream",
     "text": [
      "\r>> Converting image 76/2569 shard 0"
     ]
    },
    {
     "name": "stdout",
     "output_type": "stream",
     "text": [
      "\r>> Converting image 77/2569 shard 0"
     ]
    },
    {
     "name": "stdout",
     "output_type": "stream",
     "text": [
      "\r>> Converting image 78/2569 shard 0"
     ]
    },
    {
     "name": "stdout",
     "output_type": "stream",
     "text": [
      "\r>> Converting image 79/2569 shard 0"
     ]
    },
    {
     "name": "stdout",
     "output_type": "stream",
     "text": [
      "\r>> Converting image 80/2569 shard 0"
     ]
    },
    {
     "name": "stdout",
     "output_type": "stream",
     "text": [
      "\r>> Converting image 81/2569 shard 0"
     ]
    },
    {
     "name": "stdout",
     "output_type": "stream",
     "text": [
      "\r>> Converting image 82/2569 shard 0"
     ]
    },
    {
     "name": "stdout",
     "output_type": "stream",
     "text": [
      "\r>> Converting image 83/2569 shard 0"
     ]
    },
    {
     "name": "stdout",
     "output_type": "stream",
     "text": [
      "\r>> Converting image 84/2569 shard 0"
     ]
    },
    {
     "name": "stdout",
     "output_type": "stream",
     "text": [
      "\r>> Converting image 85/2569 shard 0"
     ]
    },
    {
     "name": "stdout",
     "output_type": "stream",
     "text": [
      "\r>> Converting image 86/2569 shard 0"
     ]
    },
    {
     "name": "stdout",
     "output_type": "stream",
     "text": [
      "\r>> Converting image 87/2569 shard 0"
     ]
    },
    {
     "name": "stdout",
     "output_type": "stream",
     "text": [
      "\r>> Converting image 88/2569 shard 0"
     ]
    },
    {
     "name": "stdout",
     "output_type": "stream",
     "text": [
      "\r>> Converting image 89/2569 shard 0"
     ]
    },
    {
     "name": "stdout",
     "output_type": "stream",
     "text": [
      "\r>> Converting image 90/2569 shard 0"
     ]
    },
    {
     "name": "stdout",
     "output_type": "stream",
     "text": [
      "\r>> Converting image 91/2569 shard 0"
     ]
    },
    {
     "name": "stdout",
     "output_type": "stream",
     "text": [
      "\r>> Converting image 92/2569 shard 0"
     ]
    },
    {
     "name": "stdout",
     "output_type": "stream",
     "text": [
      "\r>> Converting image 93/2569 shard 0"
     ]
    },
    {
     "name": "stdout",
     "output_type": "stream",
     "text": [
      "\r>> Converting image 94/2569 shard 0"
     ]
    },
    {
     "name": "stdout",
     "output_type": "stream",
     "text": [
      "\r>> Converting image 95/2569 shard 0"
     ]
    },
    {
     "name": "stdout",
     "output_type": "stream",
     "text": [
      "\r>> Converting image 96/2569 shard 0"
     ]
    },
    {
     "name": "stdout",
     "output_type": "stream",
     "text": [
      "\r>> Converting image 97/2569 shard 0"
     ]
    },
    {
     "name": "stdout",
     "output_type": "stream",
     "text": [
      "\r>> Converting image 98/2569 shard 0"
     ]
    },
    {
     "name": "stdout",
     "output_type": "stream",
     "text": [
      "\r>> Converting image 99/2569 shard 0"
     ]
    },
    {
     "name": "stdout",
     "output_type": "stream",
     "text": [
      "\r>> Converting image 100/2569 shard 0"
     ]
    },
    {
     "name": "stdout",
     "output_type": "stream",
     "text": [
      "\r>> Converting image 101/2569 shard 0"
     ]
    },
    {
     "name": "stdout",
     "output_type": "stream",
     "text": [
      "\r>> Converting image 102/2569 shard 0"
     ]
    },
    {
     "name": "stdout",
     "output_type": "stream",
     "text": [
      "\r>> Converting image 103/2569 shard 0"
     ]
    },
    {
     "name": "stdout",
     "output_type": "stream",
     "text": [
      "\r>> Converting image 104/2569 shard 0"
     ]
    },
    {
     "name": "stdout",
     "output_type": "stream",
     "text": [
      "\r>> Converting image 105/2569 shard 0"
     ]
    },
    {
     "name": "stdout",
     "output_type": "stream",
     "text": [
      "\r>> Converting image 106/2569 shard 0"
     ]
    },
    {
     "name": "stdout",
     "output_type": "stream",
     "text": [
      "\r>> Converting image 107/2569 shard 0"
     ]
    },
    {
     "name": "stdout",
     "output_type": "stream",
     "text": [
      "\r>> Converting image 108/2569 shard 0"
     ]
    },
    {
     "name": "stdout",
     "output_type": "stream",
     "text": [
      "\r>> Converting image 109/2569 shard 0"
     ]
    },
    {
     "name": "stdout",
     "output_type": "stream",
     "text": [
      "\r>> Converting image 110/2569 shard 0"
     ]
    },
    {
     "name": "stdout",
     "output_type": "stream",
     "text": [
      "\r>> Converting image 111/2569 shard 0"
     ]
    },
    {
     "name": "stdout",
     "output_type": "stream",
     "text": [
      "\r>> Converting image 112/2569 shard 0"
     ]
    },
    {
     "name": "stdout",
     "output_type": "stream",
     "text": [
      "\r>> Converting image 113/2569 shard 0"
     ]
    },
    {
     "name": "stdout",
     "output_type": "stream",
     "text": [
      "\r>> Converting image 114/2569 shard 0"
     ]
    },
    {
     "name": "stdout",
     "output_type": "stream",
     "text": [
      "\r>> Converting image 115/2569 shard 0"
     ]
    },
    {
     "name": "stdout",
     "output_type": "stream",
     "text": [
      "\r>> Converting image 116/2569 shard 0"
     ]
    },
    {
     "name": "stdout",
     "output_type": "stream",
     "text": [
      "\r>> Converting image 117/2569 shard 0"
     ]
    },
    {
     "name": "stdout",
     "output_type": "stream",
     "text": [
      "\r>> Converting image 118/2569 shard 0"
     ]
    },
    {
     "name": "stdout",
     "output_type": "stream",
     "text": [
      "\r>> Converting image 119/2569 shard 0"
     ]
    },
    {
     "name": "stdout",
     "output_type": "stream",
     "text": [
      "\r>> Converting image 120/2569 shard 0"
     ]
    },
    {
     "name": "stdout",
     "output_type": "stream",
     "text": [
      "\r>> Converting image 121/2569 shard 0"
     ]
    },
    {
     "name": "stdout",
     "output_type": "stream",
     "text": [
      "\r>> Converting image 122/2569 shard 0"
     ]
    },
    {
     "name": "stdout",
     "output_type": "stream",
     "text": [
      "\r>> Converting image 123/2569 shard 0"
     ]
    },
    {
     "name": "stdout",
     "output_type": "stream",
     "text": [
      "\r>> Converting image 124/2569 shard 0"
     ]
    },
    {
     "name": "stdout",
     "output_type": "stream",
     "text": [
      "\r>> Converting image 125/2569 shard 0"
     ]
    },
    {
     "name": "stdout",
     "output_type": "stream",
     "text": [
      "\r>> Converting image 126/2569 shard 0"
     ]
    },
    {
     "name": "stdout",
     "output_type": "stream",
     "text": [
      "\r>> Converting image 127/2569 shard 0"
     ]
    },
    {
     "name": "stdout",
     "output_type": "stream",
     "text": [
      "\r>> Converting image 128/2569 shard 0"
     ]
    },
    {
     "name": "stdout",
     "output_type": "stream",
     "text": [
      "\r>> Converting image 129/2569 shard 0"
     ]
    },
    {
     "name": "stdout",
     "output_type": "stream",
     "text": [
      "\r>> Converting image 130/2569 shard 0"
     ]
    },
    {
     "name": "stdout",
     "output_type": "stream",
     "text": [
      "\r>> Converting image 131/2569 shard 0"
     ]
    },
    {
     "name": "stdout",
     "output_type": "stream",
     "text": [
      "\r>> Converting image 132/2569 shard 0"
     ]
    },
    {
     "name": "stdout",
     "output_type": "stream",
     "text": [
      "\r>> Converting image 133/2569 shard 0"
     ]
    },
    {
     "name": "stdout",
     "output_type": "stream",
     "text": [
      "\r>> Converting image 134/2569 shard 0"
     ]
    },
    {
     "name": "stdout",
     "output_type": "stream",
     "text": [
      "\r>> Converting image 135/2569 shard 0"
     ]
    },
    {
     "name": "stdout",
     "output_type": "stream",
     "text": [
      "\r>> Converting image 136/2569 shard 0"
     ]
    },
    {
     "name": "stdout",
     "output_type": "stream",
     "text": [
      "\r>> Converting image 137/2569 shard 0"
     ]
    },
    {
     "name": "stdout",
     "output_type": "stream",
     "text": [
      "\r>> Converting image 138/2569 shard 0"
     ]
    },
    {
     "name": "stdout",
     "output_type": "stream",
     "text": [
      "\r>> Converting image 139/2569 shard 0"
     ]
    },
    {
     "name": "stdout",
     "output_type": "stream",
     "text": [
      "\r>> Converting image 140/2569 shard 0"
     ]
    },
    {
     "name": "stdout",
     "output_type": "stream",
     "text": [
      "\r>> Converting image 141/2569 shard 0"
     ]
    },
    {
     "name": "stdout",
     "output_type": "stream",
     "text": [
      "\r>> Converting image 142/2569 shard 0"
     ]
    },
    {
     "name": "stdout",
     "output_type": "stream",
     "text": [
      "\r>> Converting image 143/2569 shard 0"
     ]
    },
    {
     "name": "stdout",
     "output_type": "stream",
     "text": [
      "\r>> Converting image 144/2569 shard 0"
     ]
    },
    {
     "name": "stdout",
     "output_type": "stream",
     "text": [
      "\r>> Converting image 145/2569 shard 0"
     ]
    },
    {
     "name": "stdout",
     "output_type": "stream",
     "text": [
      "\r>> Converting image 146/2569 shard 0"
     ]
    },
    {
     "name": "stdout",
     "output_type": "stream",
     "text": [
      "\r>> Converting image 147/2569 shard 0"
     ]
    },
    {
     "name": "stdout",
     "output_type": "stream",
     "text": [
      "\r>> Converting image 148/2569 shard 0"
     ]
    },
    {
     "name": "stdout",
     "output_type": "stream",
     "text": [
      "\r>> Converting image 149/2569 shard 0"
     ]
    },
    {
     "name": "stdout",
     "output_type": "stream",
     "text": [
      "\r>> Converting image 150/2569 shard 0"
     ]
    },
    {
     "name": "stdout",
     "output_type": "stream",
     "text": [
      "\r>> Converting image 151/2569 shard 0"
     ]
    },
    {
     "name": "stdout",
     "output_type": "stream",
     "text": [
      "\r>> Converting image 152/2569 shard 0"
     ]
    },
    {
     "name": "stdout",
     "output_type": "stream",
     "text": [
      "\r>> Converting image 153/2569 shard 0"
     ]
    },
    {
     "name": "stdout",
     "output_type": "stream",
     "text": [
      "\r>> Converting image 154/2569 shard 0"
     ]
    },
    {
     "name": "stdout",
     "output_type": "stream",
     "text": [
      "\r>> Converting image 155/2569 shard 0"
     ]
    },
    {
     "name": "stdout",
     "output_type": "stream",
     "text": [
      "\r>> Converting image 156/2569 shard 0"
     ]
    },
    {
     "name": "stdout",
     "output_type": "stream",
     "text": [
      "\r>> Converting image 157/2569 shard 0"
     ]
    },
    {
     "name": "stdout",
     "output_type": "stream",
     "text": [
      "\r>> Converting image 158/2569 shard 0"
     ]
    },
    {
     "name": "stdout",
     "output_type": "stream",
     "text": [
      "\r>> Converting image 159/2569 shard 0"
     ]
    },
    {
     "name": "stdout",
     "output_type": "stream",
     "text": [
      "\r>> Converting image 160/2569 shard 0"
     ]
    },
    {
     "name": "stdout",
     "output_type": "stream",
     "text": [
      "\r>> Converting image 161/2569 shard 0"
     ]
    },
    {
     "name": "stdout",
     "output_type": "stream",
     "text": [
      "\r>> Converting image 162/2569 shard 0"
     ]
    },
    {
     "name": "stdout",
     "output_type": "stream",
     "text": [
      "\r>> Converting image 163/2569 shard 0"
     ]
    },
    {
     "name": "stdout",
     "output_type": "stream",
     "text": [
      "\r>> Converting image 164/2569 shard 0"
     ]
    },
    {
     "name": "stdout",
     "output_type": "stream",
     "text": [
      "\r>> Converting image 165/2569 shard 0"
     ]
    },
    {
     "name": "stdout",
     "output_type": "stream",
     "text": [
      "\r>> Converting image 166/2569 shard 0"
     ]
    },
    {
     "name": "stdout",
     "output_type": "stream",
     "text": [
      "\r>> Converting image 167/2569 shard 0"
     ]
    },
    {
     "name": "stdout",
     "output_type": "stream",
     "text": [
      "\r>> Converting image 168/2569 shard 0"
     ]
    },
    {
     "name": "stdout",
     "output_type": "stream",
     "text": [
      "\r>> Converting image 169/2569 shard 0"
     ]
    },
    {
     "name": "stdout",
     "output_type": "stream",
     "text": [
      "\r>> Converting image 170/2569 shard 0"
     ]
    },
    {
     "name": "stdout",
     "output_type": "stream",
     "text": [
      "\r>> Converting image 171/2569 shard 0"
     ]
    },
    {
     "name": "stdout",
     "output_type": "stream",
     "text": [
      "\r>> Converting image 172/2569 shard 0"
     ]
    },
    {
     "name": "stdout",
     "output_type": "stream",
     "text": [
      "\r>> Converting image 173/2569 shard 0"
     ]
    },
    {
     "name": "stdout",
     "output_type": "stream",
     "text": [
      "\r>> Converting image 174/2569 shard 0"
     ]
    },
    {
     "name": "stdout",
     "output_type": "stream",
     "text": [
      "\r>> Converting image 175/2569 shard 0"
     ]
    },
    {
     "name": "stdout",
     "output_type": "stream",
     "text": [
      "\r>> Converting image 176/2569 shard 0"
     ]
    },
    {
     "name": "stdout",
     "output_type": "stream",
     "text": [
      "\r>> Converting image 177/2569 shard 0"
     ]
    },
    {
     "name": "stdout",
     "output_type": "stream",
     "text": [
      "\r>> Converting image 178/2569 shard 0"
     ]
    },
    {
     "name": "stdout",
     "output_type": "stream",
     "text": [
      "\r>> Converting image 179/2569 shard 0"
     ]
    },
    {
     "name": "stdout",
     "output_type": "stream",
     "text": [
      "\r>> Converting image 180/2569 shard 0"
     ]
    },
    {
     "name": "stdout",
     "output_type": "stream",
     "text": [
      "\r>> Converting image 181/2569 shard 0"
     ]
    },
    {
     "name": "stdout",
     "output_type": "stream",
     "text": [
      "\r>> Converting image 182/2569 shard 0"
     ]
    },
    {
     "name": "stdout",
     "output_type": "stream",
     "text": [
      "\r>> Converting image 183/2569 shard 0"
     ]
    },
    {
     "name": "stdout",
     "output_type": "stream",
     "text": [
      "\r>> Converting image 184/2569 shard 0"
     ]
    },
    {
     "name": "stdout",
     "output_type": "stream",
     "text": [
      "\r>> Converting image 185/2569 shard 0"
     ]
    },
    {
     "name": "stdout",
     "output_type": "stream",
     "text": [
      "\r>> Converting image 186/2569 shard 0"
     ]
    },
    {
     "name": "stdout",
     "output_type": "stream",
     "text": [
      "\r>> Converting image 187/2569 shard 0"
     ]
    },
    {
     "name": "stdout",
     "output_type": "stream",
     "text": [
      "\r>> Converting image 188/2569 shard 0"
     ]
    },
    {
     "name": "stdout",
     "output_type": "stream",
     "text": [
      "\r>> Converting image 189/2569 shard 0"
     ]
    },
    {
     "name": "stdout",
     "output_type": "stream",
     "text": [
      "\r>> Converting image 190/2569 shard 0"
     ]
    },
    {
     "name": "stdout",
     "output_type": "stream",
     "text": [
      "\r>> Converting image 191/2569 shard 0"
     ]
    },
    {
     "name": "stdout",
     "output_type": "stream",
     "text": [
      "\r>> Converting image 192/2569 shard 0"
     ]
    },
    {
     "name": "stdout",
     "output_type": "stream",
     "text": [
      "\r>> Converting image 193/2569 shard 0"
     ]
    },
    {
     "name": "stdout",
     "output_type": "stream",
     "text": [
      "\r>> Converting image 194/2569 shard 0"
     ]
    },
    {
     "name": "stdout",
     "output_type": "stream",
     "text": [
      "\r>> Converting image 195/2569 shard 0"
     ]
    },
    {
     "name": "stdout",
     "output_type": "stream",
     "text": [
      "\r>> Converting image 196/2569 shard 0"
     ]
    },
    {
     "name": "stdout",
     "output_type": "stream",
     "text": [
      "\r>> Converting image 197/2569 shard 0"
     ]
    },
    {
     "name": "stdout",
     "output_type": "stream",
     "text": [
      "\r>> Converting image 198/2569 shard 0"
     ]
    },
    {
     "name": "stdout",
     "output_type": "stream",
     "text": [
      "\r>> Converting image 199/2569 shard 0"
     ]
    },
    {
     "name": "stdout",
     "output_type": "stream",
     "text": [
      "\r>> Converting image 200/2569 shard 0"
     ]
    },
    {
     "name": "stdout",
     "output_type": "stream",
     "text": [
      "\r>> Converting image 201/2569 shard 0"
     ]
    },
    {
     "name": "stdout",
     "output_type": "stream",
     "text": [
      "\r>> Converting image 202/2569 shard 0"
     ]
    },
    {
     "name": "stdout",
     "output_type": "stream",
     "text": [
      "\r>> Converting image 203/2569 shard 0"
     ]
    },
    {
     "name": "stdout",
     "output_type": "stream",
     "text": [
      "\r>> Converting image 204/2569 shard 0"
     ]
    },
    {
     "name": "stdout",
     "output_type": "stream",
     "text": [
      "\r>> Converting image 205/2569 shard 0"
     ]
    },
    {
     "name": "stdout",
     "output_type": "stream",
     "text": [
      "\r>> Converting image 206/2569 shard 0"
     ]
    },
    {
     "name": "stdout",
     "output_type": "stream",
     "text": [
      "\r>> Converting image 207/2569 shard 0"
     ]
    },
    {
     "name": "stdout",
     "output_type": "stream",
     "text": [
      "\r>> Converting image 208/2569 shard 0"
     ]
    },
    {
     "name": "stdout",
     "output_type": "stream",
     "text": [
      "\r>> Converting image 209/2569 shard 0"
     ]
    },
    {
     "name": "stdout",
     "output_type": "stream",
     "text": [
      "\r>> Converting image 210/2569 shard 0"
     ]
    },
    {
     "name": "stdout",
     "output_type": "stream",
     "text": [
      "\r>> Converting image 211/2569 shard 0"
     ]
    },
    {
     "name": "stdout",
     "output_type": "stream",
     "text": [
      "\r>> Converting image 212/2569 shard 0"
     ]
    },
    {
     "name": "stdout",
     "output_type": "stream",
     "text": [
      "\r>> Converting image 213/2569 shard 0"
     ]
    },
    {
     "name": "stdout",
     "output_type": "stream",
     "text": [
      "\r>> Converting image 214/2569 shard 0"
     ]
    },
    {
     "name": "stdout",
     "output_type": "stream",
     "text": [
      "\r>> Converting image 215/2569 shard 0"
     ]
    },
    {
     "name": "stdout",
     "output_type": "stream",
     "text": [
      "\r>> Converting image 216/2569 shard 0"
     ]
    },
    {
     "name": "stdout",
     "output_type": "stream",
     "text": [
      "\r>> Converting image 217/2569 shard 0"
     ]
    },
    {
     "name": "stdout",
     "output_type": "stream",
     "text": [
      "\r>> Converting image 218/2569 shard 0"
     ]
    },
    {
     "name": "stdout",
     "output_type": "stream",
     "text": [
      "\r>> Converting image 219/2569 shard 0"
     ]
    },
    {
     "name": "stdout",
     "output_type": "stream",
     "text": [
      "\r>> Converting image 220/2569 shard 0"
     ]
    },
    {
     "name": "stdout",
     "output_type": "stream",
     "text": [
      "\r>> Converting image 221/2569 shard 0"
     ]
    },
    {
     "name": "stdout",
     "output_type": "stream",
     "text": [
      "\r>> Converting image 222/2569 shard 0"
     ]
    },
    {
     "name": "stdout",
     "output_type": "stream",
     "text": [
      "\r>> Converting image 223/2569 shard 0"
     ]
    },
    {
     "name": "stdout",
     "output_type": "stream",
     "text": [
      "\r>> Converting image 224/2569 shard 0"
     ]
    },
    {
     "name": "stdout",
     "output_type": "stream",
     "text": [
      "\r>> Converting image 225/2569 shard 0"
     ]
    },
    {
     "name": "stdout",
     "output_type": "stream",
     "text": [
      "\r>> Converting image 226/2569 shard 0"
     ]
    },
    {
     "name": "stdout",
     "output_type": "stream",
     "text": [
      "\r>> Converting image 227/2569 shard 0"
     ]
    },
    {
     "name": "stdout",
     "output_type": "stream",
     "text": [
      "\r>> Converting image 228/2569 shard 0"
     ]
    },
    {
     "name": "stdout",
     "output_type": "stream",
     "text": [
      "\r>> Converting image 229/2569 shard 0"
     ]
    },
    {
     "name": "stdout",
     "output_type": "stream",
     "text": [
      "\r>> Converting image 230/2569 shard 0"
     ]
    },
    {
     "name": "stdout",
     "output_type": "stream",
     "text": [
      "\r>> Converting image 231/2569 shard 0"
     ]
    },
    {
     "name": "stdout",
     "output_type": "stream",
     "text": [
      "\r>> Converting image 232/2569 shard 0"
     ]
    },
    {
     "name": "stdout",
     "output_type": "stream",
     "text": [
      "\r>> Converting image 233/2569 shard 0"
     ]
    },
    {
     "name": "stdout",
     "output_type": "stream",
     "text": [
      "\r>> Converting image 234/2569 shard 0"
     ]
    },
    {
     "name": "stdout",
     "output_type": "stream",
     "text": [
      "\r>> Converting image 235/2569 shard 0"
     ]
    },
    {
     "name": "stdout",
     "output_type": "stream",
     "text": [
      "\r>> Converting image 236/2569 shard 0"
     ]
    },
    {
     "name": "stdout",
     "output_type": "stream",
     "text": [
      "\r>> Converting image 237/2569 shard 0"
     ]
    },
    {
     "name": "stdout",
     "output_type": "stream",
     "text": [
      "\r>> Converting image 238/2569 shard 0"
     ]
    },
    {
     "name": "stdout",
     "output_type": "stream",
     "text": [
      "\r>> Converting image 239/2569 shard 0"
     ]
    },
    {
     "name": "stdout",
     "output_type": "stream",
     "text": [
      "\r>> Converting image 240/2569 shard 0"
     ]
    },
    {
     "name": "stdout",
     "output_type": "stream",
     "text": [
      "\r>> Converting image 241/2569 shard 0"
     ]
    },
    {
     "name": "stdout",
     "output_type": "stream",
     "text": [
      "\r>> Converting image 242/2569 shard 0"
     ]
    },
    {
     "name": "stdout",
     "output_type": "stream",
     "text": [
      "\r>> Converting image 243/2569 shard 0"
     ]
    },
    {
     "name": "stdout",
     "output_type": "stream",
     "text": [
      "\r>> Converting image 244/2569 shard 0"
     ]
    },
    {
     "name": "stdout",
     "output_type": "stream",
     "text": [
      "\r>> Converting image 245/2569 shard 0"
     ]
    },
    {
     "name": "stdout",
     "output_type": "stream",
     "text": [
      "\r>> Converting image 246/2569 shard 0"
     ]
    },
    {
     "name": "stdout",
     "output_type": "stream",
     "text": [
      "\r>> Converting image 247/2569 shard 0"
     ]
    },
    {
     "name": "stdout",
     "output_type": "stream",
     "text": [
      "\r>> Converting image 248/2569 shard 0"
     ]
    },
    {
     "name": "stdout",
     "output_type": "stream",
     "text": [
      "\r>> Converting image 249/2569 shard 0"
     ]
    },
    {
     "name": "stdout",
     "output_type": "stream",
     "text": [
      "\r>> Converting image 250/2569 shard 0"
     ]
    },
    {
     "name": "stdout",
     "output_type": "stream",
     "text": [
      "\r>> Converting image 251/2569 shard 0"
     ]
    },
    {
     "name": "stdout",
     "output_type": "stream",
     "text": [
      "\r>> Converting image 252/2569 shard 0"
     ]
    },
    {
     "name": "stdout",
     "output_type": "stream",
     "text": [
      "\r>> Converting image 253/2569 shard 0"
     ]
    },
    {
     "name": "stdout",
     "output_type": "stream",
     "text": [
      "\r>> Converting image 254/2569 shard 0"
     ]
    },
    {
     "name": "stdout",
     "output_type": "stream",
     "text": [
      "\r>> Converting image 255/2569 shard 0"
     ]
    },
    {
     "name": "stdout",
     "output_type": "stream",
     "text": [
      "\r>> Converting image 256/2569 shard 0"
     ]
    },
    {
     "name": "stdout",
     "output_type": "stream",
     "text": [
      "\r>> Converting image 257/2569 shard 0"
     ]
    },
    {
     "name": "stdout",
     "output_type": "stream",
     "text": [
      "\r>> Converting image 258/2569 shard 0"
     ]
    },
    {
     "name": "stdout",
     "output_type": "stream",
     "text": [
      "\r>> Converting image 259/2569 shard 0"
     ]
    },
    {
     "name": "stdout",
     "output_type": "stream",
     "text": [
      "\r>> Converting image 260/2569 shard 0"
     ]
    },
    {
     "name": "stdout",
     "output_type": "stream",
     "text": [
      "\r>> Converting image 261/2569 shard 0"
     ]
    },
    {
     "name": "stdout",
     "output_type": "stream",
     "text": [
      "\r>> Converting image 262/2569 shard 0"
     ]
    },
    {
     "name": "stdout",
     "output_type": "stream",
     "text": [
      "\r>> Converting image 263/2569 shard 0"
     ]
    },
    {
     "name": "stdout",
     "output_type": "stream",
     "text": [
      "\r>> Converting image 264/2569 shard 0"
     ]
    },
    {
     "name": "stdout",
     "output_type": "stream",
     "text": [
      "\r>> Converting image 265/2569 shard 0"
     ]
    },
    {
     "name": "stdout",
     "output_type": "stream",
     "text": [
      "\r>> Converting image 266/2569 shard 0"
     ]
    },
    {
     "name": "stdout",
     "output_type": "stream",
     "text": [
      "\r>> Converting image 267/2569 shard 0"
     ]
    },
    {
     "name": "stdout",
     "output_type": "stream",
     "text": [
      "\r>> Converting image 268/2569 shard 0"
     ]
    },
    {
     "name": "stdout",
     "output_type": "stream",
     "text": [
      "\r>> Converting image 269/2569 shard 0"
     ]
    },
    {
     "name": "stdout",
     "output_type": "stream",
     "text": [
      "\r>> Converting image 270/2569 shard 0"
     ]
    },
    {
     "name": "stdout",
     "output_type": "stream",
     "text": [
      "\r>> Converting image 271/2569 shard 0"
     ]
    },
    {
     "name": "stdout",
     "output_type": "stream",
     "text": [
      "\r>> Converting image 272/2569 shard 0"
     ]
    },
    {
     "name": "stdout",
     "output_type": "stream",
     "text": [
      "\r>> Converting image 273/2569 shard 0"
     ]
    },
    {
     "name": "stdout",
     "output_type": "stream",
     "text": [
      "\r>> Converting image 274/2569 shard 0"
     ]
    },
    {
     "name": "stdout",
     "output_type": "stream",
     "text": [
      "\r>> Converting image 275/2569 shard 0"
     ]
    },
    {
     "name": "stdout",
     "output_type": "stream",
     "text": [
      "\r>> Converting image 276/2569 shard 0"
     ]
    },
    {
     "name": "stdout",
     "output_type": "stream",
     "text": [
      "\r>> Converting image 277/2569 shard 0"
     ]
    },
    {
     "name": "stdout",
     "output_type": "stream",
     "text": [
      "\r>> Converting image 278/2569 shard 0"
     ]
    },
    {
     "name": "stdout",
     "output_type": "stream",
     "text": [
      "\r>> Converting image 279/2569 shard 0"
     ]
    },
    {
     "name": "stdout",
     "output_type": "stream",
     "text": [
      "\r>> Converting image 280/2569 shard 0"
     ]
    },
    {
     "name": "stdout",
     "output_type": "stream",
     "text": [
      "\r>> Converting image 281/2569 shard 0"
     ]
    },
    {
     "name": "stdout",
     "output_type": "stream",
     "text": [
      "\r>> Converting image 282/2569 shard 0"
     ]
    },
    {
     "name": "stdout",
     "output_type": "stream",
     "text": [
      "\r>> Converting image 283/2569 shard 0"
     ]
    },
    {
     "name": "stdout",
     "output_type": "stream",
     "text": [
      "\r>> Converting image 284/2569 shard 0"
     ]
    },
    {
     "name": "stdout",
     "output_type": "stream",
     "text": [
      "\r>> Converting image 285/2569 shard 0"
     ]
    },
    {
     "name": "stdout",
     "output_type": "stream",
     "text": [
      "\r>> Converting image 286/2569 shard 0"
     ]
    },
    {
     "name": "stdout",
     "output_type": "stream",
     "text": [
      "\r>> Converting image 287/2569 shard 0"
     ]
    },
    {
     "name": "stdout",
     "output_type": "stream",
     "text": [
      "\r>> Converting image 288/2569 shard 0"
     ]
    },
    {
     "name": "stdout",
     "output_type": "stream",
     "text": [
      "\r>> Converting image 289/2569 shard 0"
     ]
    },
    {
     "name": "stdout",
     "output_type": "stream",
     "text": [
      "\r>> Converting image 290/2569 shard 0"
     ]
    },
    {
     "name": "stdout",
     "output_type": "stream",
     "text": [
      "\r>> Converting image 291/2569 shard 0"
     ]
    },
    {
     "name": "stdout",
     "output_type": "stream",
     "text": [
      "\r>> Converting image 292/2569 shard 0"
     ]
    },
    {
     "name": "stdout",
     "output_type": "stream",
     "text": [
      "\r>> Converting image 293/2569 shard 0"
     ]
    },
    {
     "name": "stdout",
     "output_type": "stream",
     "text": [
      "\r>> Converting image 294/2569 shard 0"
     ]
    },
    {
     "name": "stdout",
     "output_type": "stream",
     "text": [
      "\r>> Converting image 295/2569 shard 0"
     ]
    },
    {
     "name": "stdout",
     "output_type": "stream",
     "text": [
      "\r>> Converting image 296/2569 shard 0"
     ]
    },
    {
     "name": "stdout",
     "output_type": "stream",
     "text": [
      "\r>> Converting image 297/2569 shard 0"
     ]
    },
    {
     "name": "stdout",
     "output_type": "stream",
     "text": [
      "\r>> Converting image 298/2569 shard 0"
     ]
    },
    {
     "name": "stdout",
     "output_type": "stream",
     "text": [
      "\r>> Converting image 299/2569 shard 0"
     ]
    },
    {
     "name": "stdout",
     "output_type": "stream",
     "text": [
      "\r>> Converting image 300/2569 shard 0"
     ]
    },
    {
     "name": "stdout",
     "output_type": "stream",
     "text": [
      "\r>> Converting image 301/2569 shard 0"
     ]
    },
    {
     "name": "stdout",
     "output_type": "stream",
     "text": [
      "\r>> Converting image 302/2569 shard 0"
     ]
    },
    {
     "name": "stdout",
     "output_type": "stream",
     "text": [
      "\r>> Converting image 303/2569 shard 0"
     ]
    },
    {
     "name": "stdout",
     "output_type": "stream",
     "text": [
      "\r>> Converting image 304/2569 shard 0"
     ]
    },
    {
     "name": "stdout",
     "output_type": "stream",
     "text": [
      "\r>> Converting image 305/2569 shard 0"
     ]
    },
    {
     "name": "stdout",
     "output_type": "stream",
     "text": [
      "\r>> Converting image 306/2569 shard 0"
     ]
    },
    {
     "name": "stdout",
     "output_type": "stream",
     "text": [
      "\r>> Converting image 307/2569 shard 0"
     ]
    },
    {
     "name": "stdout",
     "output_type": "stream",
     "text": [
      "\r>> Converting image 308/2569 shard 0"
     ]
    },
    {
     "name": "stdout",
     "output_type": "stream",
     "text": [
      "\r>> Converting image 309/2569 shard 0"
     ]
    },
    {
     "name": "stdout",
     "output_type": "stream",
     "text": [
      "\r>> Converting image 310/2569 shard 0"
     ]
    },
    {
     "name": "stdout",
     "output_type": "stream",
     "text": [
      "\r>> Converting image 311/2569 shard 0"
     ]
    },
    {
     "name": "stdout",
     "output_type": "stream",
     "text": [
      "\r>> Converting image 312/2569 shard 0"
     ]
    },
    {
     "name": "stdout",
     "output_type": "stream",
     "text": [
      "\r>> Converting image 313/2569 shard 0"
     ]
    },
    {
     "name": "stdout",
     "output_type": "stream",
     "text": [
      "\r>> Converting image 314/2569 shard 0"
     ]
    },
    {
     "name": "stdout",
     "output_type": "stream",
     "text": [
      "\r>> Converting image 315/2569 shard 0"
     ]
    },
    {
     "name": "stdout",
     "output_type": "stream",
     "text": [
      "\r>> Converting image 316/2569 shard 0"
     ]
    },
    {
     "name": "stdout",
     "output_type": "stream",
     "text": [
      "\r>> Converting image 317/2569 shard 0"
     ]
    },
    {
     "name": "stdout",
     "output_type": "stream",
     "text": [
      "\r>> Converting image 318/2569 shard 0"
     ]
    },
    {
     "name": "stdout",
     "output_type": "stream",
     "text": [
      "\r>> Converting image 319/2569 shard 0"
     ]
    },
    {
     "name": "stdout",
     "output_type": "stream",
     "text": [
      "\r>> Converting image 320/2569 shard 0"
     ]
    },
    {
     "name": "stdout",
     "output_type": "stream",
     "text": [
      "\r>> Converting image 321/2569 shard 0"
     ]
    },
    {
     "name": "stdout",
     "output_type": "stream",
     "text": [
      "\r>> Converting image 322/2569 shard 0"
     ]
    },
    {
     "name": "stdout",
     "output_type": "stream",
     "text": [
      "\r>> Converting image 323/2569 shard 0"
     ]
    },
    {
     "name": "stdout",
     "output_type": "stream",
     "text": [
      "\r>> Converting image 324/2569 shard 0"
     ]
    },
    {
     "name": "stdout",
     "output_type": "stream",
     "text": [
      "\r>> Converting image 325/2569 shard 0"
     ]
    },
    {
     "name": "stdout",
     "output_type": "stream",
     "text": [
      "\r>> Converting image 326/2569 shard 0"
     ]
    },
    {
     "name": "stdout",
     "output_type": "stream",
     "text": [
      "\r>> Converting image 327/2569 shard 0"
     ]
    },
    {
     "name": "stdout",
     "output_type": "stream",
     "text": [
      "\r>> Converting image 328/2569 shard 0"
     ]
    },
    {
     "name": "stdout",
     "output_type": "stream",
     "text": [
      "\r>> Converting image 329/2569 shard 0"
     ]
    },
    {
     "name": "stdout",
     "output_type": "stream",
     "text": [
      "\r>> Converting image 330/2569 shard 0"
     ]
    },
    {
     "name": "stdout",
     "output_type": "stream",
     "text": [
      "\r>> Converting image 331/2569 shard 0"
     ]
    },
    {
     "name": "stdout",
     "output_type": "stream",
     "text": [
      "\r>> Converting image 332/2569 shard 0"
     ]
    },
    {
     "name": "stdout",
     "output_type": "stream",
     "text": [
      "\r>> Converting image 333/2569 shard 0"
     ]
    },
    {
     "name": "stdout",
     "output_type": "stream",
     "text": [
      "\r>> Converting image 334/2569 shard 0"
     ]
    },
    {
     "name": "stdout",
     "output_type": "stream",
     "text": [
      "\r>> Converting image 335/2569 shard 0"
     ]
    },
    {
     "name": "stdout",
     "output_type": "stream",
     "text": [
      "\r>> Converting image 336/2569 shard 0"
     ]
    },
    {
     "name": "stdout",
     "output_type": "stream",
     "text": [
      "\r>> Converting image 337/2569 shard 0"
     ]
    },
    {
     "name": "stdout",
     "output_type": "stream",
     "text": [
      "\r>> Converting image 338/2569 shard 0"
     ]
    },
    {
     "name": "stdout",
     "output_type": "stream",
     "text": [
      "\r>> Converting image 339/2569 shard 0"
     ]
    },
    {
     "name": "stdout",
     "output_type": "stream",
     "text": [
      "\r>> Converting image 340/2569 shard 0"
     ]
    },
    {
     "name": "stdout",
     "output_type": "stream",
     "text": [
      "\r>> Converting image 341/2569 shard 0"
     ]
    },
    {
     "name": "stdout",
     "output_type": "stream",
     "text": [
      "\r>> Converting image 342/2569 shard 0"
     ]
    },
    {
     "name": "stdout",
     "output_type": "stream",
     "text": [
      "\r>> Converting image 343/2569 shard 0"
     ]
    },
    {
     "name": "stdout",
     "output_type": "stream",
     "text": [
      "\r>> Converting image 344/2569 shard 0"
     ]
    },
    {
     "name": "stdout",
     "output_type": "stream",
     "text": [
      "\r>> Converting image 345/2569 shard 0"
     ]
    },
    {
     "name": "stdout",
     "output_type": "stream",
     "text": [
      "\r>> Converting image 346/2569 shard 0"
     ]
    },
    {
     "name": "stdout",
     "output_type": "stream",
     "text": [
      "\r>> Converting image 347/2569 shard 0"
     ]
    },
    {
     "name": "stdout",
     "output_type": "stream",
     "text": [
      "\r>> Converting image 348/2569 shard 0"
     ]
    },
    {
     "name": "stdout",
     "output_type": "stream",
     "text": [
      "\r>> Converting image 349/2569 shard 0"
     ]
    },
    {
     "name": "stdout",
     "output_type": "stream",
     "text": [
      "\r>> Converting image 350/2569 shard 0"
     ]
    },
    {
     "name": "stdout",
     "output_type": "stream",
     "text": [
      "\r>> Converting image 351/2569 shard 0"
     ]
    },
    {
     "name": "stdout",
     "output_type": "stream",
     "text": [
      "\r>> Converting image 352/2569 shard 0"
     ]
    },
    {
     "name": "stdout",
     "output_type": "stream",
     "text": [
      "\r>> Converting image 353/2569 shard 0"
     ]
    },
    {
     "name": "stdout",
     "output_type": "stream",
     "text": [
      "\r>> Converting image 354/2569 shard 0"
     ]
    },
    {
     "name": "stdout",
     "output_type": "stream",
     "text": [
      "\r>> Converting image 355/2569 shard 0"
     ]
    },
    {
     "name": "stdout",
     "output_type": "stream",
     "text": [
      "\r>> Converting image 356/2569 shard 0"
     ]
    },
    {
     "name": "stdout",
     "output_type": "stream",
     "text": [
      "\r>> Converting image 357/2569 shard 0"
     ]
    },
    {
     "name": "stdout",
     "output_type": "stream",
     "text": [
      "\r>> Converting image 358/2569 shard 0"
     ]
    },
    {
     "name": "stdout",
     "output_type": "stream",
     "text": [
      "\r>> Converting image 359/2569 shard 0"
     ]
    },
    {
     "name": "stdout",
     "output_type": "stream",
     "text": [
      "\r>> Converting image 360/2569 shard 0"
     ]
    },
    {
     "name": "stdout",
     "output_type": "stream",
     "text": [
      "\r>> Converting image 361/2569 shard 0"
     ]
    },
    {
     "name": "stdout",
     "output_type": "stream",
     "text": [
      "\r>> Converting image 362/2569 shard 0"
     ]
    },
    {
     "name": "stdout",
     "output_type": "stream",
     "text": [
      "\r>> Converting image 363/2569 shard 0"
     ]
    },
    {
     "name": "stdout",
     "output_type": "stream",
     "text": [
      "\r>> Converting image 364/2569 shard 0"
     ]
    },
    {
     "name": "stdout",
     "output_type": "stream",
     "text": [
      "\r>> Converting image 365/2569 shard 0"
     ]
    },
    {
     "name": "stdout",
     "output_type": "stream",
     "text": [
      "\r>> Converting image 366/2569 shard 0"
     ]
    },
    {
     "name": "stdout",
     "output_type": "stream",
     "text": [
      "\r>> Converting image 367/2569 shard 0"
     ]
    },
    {
     "name": "stdout",
     "output_type": "stream",
     "text": [
      "\r>> Converting image 368/2569 shard 0"
     ]
    },
    {
     "name": "stdout",
     "output_type": "stream",
     "text": [
      "\r>> Converting image 369/2569 shard 0"
     ]
    },
    {
     "name": "stdout",
     "output_type": "stream",
     "text": [
      "\r>> Converting image 370/2569 shard 0"
     ]
    },
    {
     "name": "stdout",
     "output_type": "stream",
     "text": [
      "\r>> Converting image 371/2569 shard 0"
     ]
    },
    {
     "name": "stdout",
     "output_type": "stream",
     "text": [
      "\r>> Converting image 372/2569 shard 0"
     ]
    },
    {
     "name": "stdout",
     "output_type": "stream",
     "text": [
      "\r>> Converting image 373/2569 shard 0"
     ]
    },
    {
     "name": "stdout",
     "output_type": "stream",
     "text": [
      "\r>> Converting image 374/2569 shard 0"
     ]
    },
    {
     "name": "stdout",
     "output_type": "stream",
     "text": [
      "\r>> Converting image 375/2569 shard 0"
     ]
    },
    {
     "name": "stdout",
     "output_type": "stream",
     "text": [
      "\r>> Converting image 376/2569 shard 0"
     ]
    },
    {
     "name": "stdout",
     "output_type": "stream",
     "text": [
      "\r>> Converting image 377/2569 shard 0"
     ]
    },
    {
     "name": "stdout",
     "output_type": "stream",
     "text": [
      "\r>> Converting image 378/2569 shard 0"
     ]
    },
    {
     "name": "stdout",
     "output_type": "stream",
     "text": [
      "\r>> Converting image 379/2569 shard 0"
     ]
    },
    {
     "name": "stdout",
     "output_type": "stream",
     "text": [
      "\r>> Converting image 380/2569 shard 0"
     ]
    },
    {
     "name": "stdout",
     "output_type": "stream",
     "text": [
      "\r>> Converting image 381/2569 shard 0"
     ]
    },
    {
     "name": "stdout",
     "output_type": "stream",
     "text": [
      "\r>> Converting image 382/2569 shard 0"
     ]
    },
    {
     "name": "stdout",
     "output_type": "stream",
     "text": [
      "\r>> Converting image 383/2569 shard 0"
     ]
    },
    {
     "name": "stdout",
     "output_type": "stream",
     "text": [
      "\r>> Converting image 384/2569 shard 0"
     ]
    },
    {
     "name": "stdout",
     "output_type": "stream",
     "text": [
      "\r>> Converting image 385/2569 shard 0"
     ]
    },
    {
     "name": "stdout",
     "output_type": "stream",
     "text": [
      "\r>> Converting image 386/2569 shard 0"
     ]
    },
    {
     "name": "stdout",
     "output_type": "stream",
     "text": [
      "\r>> Converting image 387/2569 shard 0"
     ]
    },
    {
     "name": "stdout",
     "output_type": "stream",
     "text": [
      "\r>> Converting image 388/2569 shard 0"
     ]
    },
    {
     "name": "stdout",
     "output_type": "stream",
     "text": [
      "\r>> Converting image 389/2569 shard 0"
     ]
    },
    {
     "name": "stdout",
     "output_type": "stream",
     "text": [
      "\r>> Converting image 390/2569 shard 0"
     ]
    },
    {
     "name": "stdout",
     "output_type": "stream",
     "text": [
      "\r>> Converting image 391/2569 shard 0"
     ]
    },
    {
     "name": "stdout",
     "output_type": "stream",
     "text": [
      "\r>> Converting image 392/2569 shard 0"
     ]
    },
    {
     "name": "stdout",
     "output_type": "stream",
     "text": [
      "\r>> Converting image 393/2569 shard 0"
     ]
    },
    {
     "name": "stdout",
     "output_type": "stream",
     "text": [
      "\r>> Converting image 394/2569 shard 0"
     ]
    },
    {
     "name": "stdout",
     "output_type": "stream",
     "text": [
      "\r>> Converting image 395/2569 shard 0"
     ]
    },
    {
     "name": "stdout",
     "output_type": "stream",
     "text": [
      "\r>> Converting image 396/2569 shard 0"
     ]
    },
    {
     "name": "stdout",
     "output_type": "stream",
     "text": [
      "\r>> Converting image 397/2569 shard 0"
     ]
    },
    {
     "name": "stdout",
     "output_type": "stream",
     "text": [
      "\r>> Converting image 398/2569 shard 0"
     ]
    },
    {
     "name": "stdout",
     "output_type": "stream",
     "text": [
      "\r>> Converting image 399/2569 shard 0"
     ]
    },
    {
     "name": "stdout",
     "output_type": "stream",
     "text": [
      "\r>> Converting image 400/2569 shard 0"
     ]
    },
    {
     "name": "stdout",
     "output_type": "stream",
     "text": [
      "\r>> Converting image 401/2569 shard 0"
     ]
    },
    {
     "name": "stdout",
     "output_type": "stream",
     "text": [
      "\r>> Converting image 402/2569 shard 0"
     ]
    },
    {
     "name": "stdout",
     "output_type": "stream",
     "text": [
      "\r>> Converting image 403/2569 shard 0"
     ]
    },
    {
     "name": "stdout",
     "output_type": "stream",
     "text": [
      "\r>> Converting image 404/2569 shard 0"
     ]
    },
    {
     "name": "stdout",
     "output_type": "stream",
     "text": [
      "\r>> Converting image 405/2569 shard 0"
     ]
    },
    {
     "name": "stdout",
     "output_type": "stream",
     "text": [
      "\r>> Converting image 406/2569 shard 0"
     ]
    },
    {
     "name": "stdout",
     "output_type": "stream",
     "text": [
      "\r>> Converting image 407/2569 shard 0"
     ]
    },
    {
     "name": "stdout",
     "output_type": "stream",
     "text": [
      "\r>> Converting image 408/2569 shard 0"
     ]
    },
    {
     "name": "stdout",
     "output_type": "stream",
     "text": [
      "\r>> Converting image 409/2569 shard 0"
     ]
    },
    {
     "name": "stdout",
     "output_type": "stream",
     "text": [
      "\r>> Converting image 410/2569 shard 0"
     ]
    },
    {
     "name": "stdout",
     "output_type": "stream",
     "text": [
      "\r>> Converting image 411/2569 shard 0"
     ]
    },
    {
     "name": "stdout",
     "output_type": "stream",
     "text": [
      "\r>> Converting image 412/2569 shard 0"
     ]
    },
    {
     "name": "stdout",
     "output_type": "stream",
     "text": [
      "\r>> Converting image 413/2569 shard 0"
     ]
    },
    {
     "name": "stdout",
     "output_type": "stream",
     "text": [
      "\r>> Converting image 414/2569 shard 0"
     ]
    },
    {
     "name": "stdout",
     "output_type": "stream",
     "text": [
      "\r>> Converting image 415/2569 shard 0"
     ]
    },
    {
     "name": "stdout",
     "output_type": "stream",
     "text": [
      "\r>> Converting image 416/2569 shard 0"
     ]
    },
    {
     "name": "stdout",
     "output_type": "stream",
     "text": [
      "\r>> Converting image 417/2569 shard 0"
     ]
    },
    {
     "name": "stdout",
     "output_type": "stream",
     "text": [
      "\r>> Converting image 418/2569 shard 0"
     ]
    },
    {
     "name": "stdout",
     "output_type": "stream",
     "text": [
      "\r>> Converting image 419/2569 shard 0"
     ]
    },
    {
     "name": "stdout",
     "output_type": "stream",
     "text": [
      "\r>> Converting image 420/2569 shard 0"
     ]
    },
    {
     "name": "stdout",
     "output_type": "stream",
     "text": [
      "\r>> Converting image 421/2569 shard 0"
     ]
    },
    {
     "name": "stdout",
     "output_type": "stream",
     "text": [
      "\r>> Converting image 422/2569 shard 0"
     ]
    },
    {
     "name": "stdout",
     "output_type": "stream",
     "text": [
      "\r>> Converting image 423/2569 shard 0"
     ]
    },
    {
     "name": "stdout",
     "output_type": "stream",
     "text": [
      "\r>> Converting image 424/2569 shard 0"
     ]
    },
    {
     "name": "stdout",
     "output_type": "stream",
     "text": [
      "\r>> Converting image 425/2569 shard 0"
     ]
    },
    {
     "name": "stdout",
     "output_type": "stream",
     "text": [
      "\r>> Converting image 426/2569 shard 0"
     ]
    },
    {
     "name": "stdout",
     "output_type": "stream",
     "text": [
      "\r>> Converting image 427/2569 shard 0"
     ]
    },
    {
     "name": "stdout",
     "output_type": "stream",
     "text": [
      "\r>> Converting image 428/2569 shard 0"
     ]
    },
    {
     "name": "stdout",
     "output_type": "stream",
     "text": [
      "\r>> Converting image 429/2569 shard 0"
     ]
    },
    {
     "name": "stdout",
     "output_type": "stream",
     "text": [
      "\r>> Converting image 430/2569 shard 0"
     ]
    },
    {
     "name": "stdout",
     "output_type": "stream",
     "text": [
      "\r>> Converting image 431/2569 shard 0"
     ]
    },
    {
     "name": "stdout",
     "output_type": "stream",
     "text": [
      "\r>> Converting image 432/2569 shard 0"
     ]
    },
    {
     "name": "stdout",
     "output_type": "stream",
     "text": [
      "\r>> Converting image 433/2569 shard 0"
     ]
    },
    {
     "name": "stdout",
     "output_type": "stream",
     "text": [
      "\r>> Converting image 434/2569 shard 0"
     ]
    },
    {
     "name": "stdout",
     "output_type": "stream",
     "text": [
      "\r>> Converting image 435/2569 shard 0"
     ]
    },
    {
     "name": "stdout",
     "output_type": "stream",
     "text": [
      "\r>> Converting image 436/2569 shard 0"
     ]
    },
    {
     "name": "stdout",
     "output_type": "stream",
     "text": [
      "\r>> Converting image 437/2569 shard 0"
     ]
    },
    {
     "name": "stdout",
     "output_type": "stream",
     "text": [
      "\r>> Converting image 438/2569 shard 0"
     ]
    },
    {
     "name": "stdout",
     "output_type": "stream",
     "text": [
      "\r>> Converting image 439/2569 shard 0"
     ]
    },
    {
     "name": "stdout",
     "output_type": "stream",
     "text": [
      "\r>> Converting image 440/2569 shard 0"
     ]
    },
    {
     "name": "stdout",
     "output_type": "stream",
     "text": [
      "\r>> Converting image 441/2569 shard 0"
     ]
    },
    {
     "name": "stdout",
     "output_type": "stream",
     "text": [
      "\r>> Converting image 442/2569 shard 0"
     ]
    },
    {
     "name": "stdout",
     "output_type": "stream",
     "text": [
      "\r>> Converting image 443/2569 shard 0"
     ]
    },
    {
     "name": "stdout",
     "output_type": "stream",
     "text": [
      "\r>> Converting image 444/2569 shard 0"
     ]
    },
    {
     "name": "stdout",
     "output_type": "stream",
     "text": [
      "\r>> Converting image 445/2569 shard 0"
     ]
    },
    {
     "name": "stdout",
     "output_type": "stream",
     "text": [
      "\r>> Converting image 446/2569 shard 0"
     ]
    },
    {
     "name": "stdout",
     "output_type": "stream",
     "text": [
      "\r>> Converting image 447/2569 shard 0"
     ]
    },
    {
     "name": "stdout",
     "output_type": "stream",
     "text": [
      "\r>> Converting image 448/2569 shard 0"
     ]
    },
    {
     "name": "stdout",
     "output_type": "stream",
     "text": [
      "\r>> Converting image 449/2569 shard 0"
     ]
    },
    {
     "name": "stdout",
     "output_type": "stream",
     "text": [
      "\r>> Converting image 450/2569 shard 0"
     ]
    },
    {
     "name": "stdout",
     "output_type": "stream",
     "text": [
      "\r>> Converting image 451/2569 shard 0"
     ]
    },
    {
     "name": "stdout",
     "output_type": "stream",
     "text": [
      "\r>> Converting image 452/2569 shard 0"
     ]
    },
    {
     "name": "stdout",
     "output_type": "stream",
     "text": [
      "\r>> Converting image 453/2569 shard 0"
     ]
    },
    {
     "name": "stdout",
     "output_type": "stream",
     "text": [
      "\r>> Converting image 454/2569 shard 0"
     ]
    },
    {
     "name": "stdout",
     "output_type": "stream",
     "text": [
      "\r>> Converting image 455/2569 shard 0"
     ]
    },
    {
     "name": "stdout",
     "output_type": "stream",
     "text": [
      "\r>> Converting image 456/2569 shard 0"
     ]
    },
    {
     "name": "stdout",
     "output_type": "stream",
     "text": [
      "\r>> Converting image 457/2569 shard 0"
     ]
    },
    {
     "name": "stdout",
     "output_type": "stream",
     "text": [
      "\r>> Converting image 458/2569 shard 0"
     ]
    },
    {
     "name": "stdout",
     "output_type": "stream",
     "text": [
      "\r>> Converting image 459/2569 shard 0"
     ]
    },
    {
     "name": "stdout",
     "output_type": "stream",
     "text": [
      "\r>> Converting image 460/2569 shard 0"
     ]
    },
    {
     "name": "stdout",
     "output_type": "stream",
     "text": [
      "\r>> Converting image 461/2569 shard 0"
     ]
    },
    {
     "name": "stdout",
     "output_type": "stream",
     "text": [
      "\r>> Converting image 462/2569 shard 0"
     ]
    },
    {
     "name": "stdout",
     "output_type": "stream",
     "text": [
      "\r>> Converting image 463/2569 shard 0"
     ]
    },
    {
     "name": "stdout",
     "output_type": "stream",
     "text": [
      "\r>> Converting image 464/2569 shard 0"
     ]
    },
    {
     "name": "stdout",
     "output_type": "stream",
     "text": [
      "\r>> Converting image 465/2569 shard 0"
     ]
    },
    {
     "name": "stdout",
     "output_type": "stream",
     "text": [
      "\r>> Converting image 466/2569 shard 0"
     ]
    },
    {
     "name": "stdout",
     "output_type": "stream",
     "text": [
      "\r>> Converting image 467/2569 shard 0"
     ]
    },
    {
     "name": "stdout",
     "output_type": "stream",
     "text": [
      "\r>> Converting image 468/2569 shard 0"
     ]
    },
    {
     "name": "stdout",
     "output_type": "stream",
     "text": [
      "\r>> Converting image 469/2569 shard 0"
     ]
    },
    {
     "name": "stdout",
     "output_type": "stream",
     "text": [
      "\r>> Converting image 470/2569 shard 0"
     ]
    },
    {
     "name": "stdout",
     "output_type": "stream",
     "text": [
      "\r>> Converting image 471/2569 shard 0"
     ]
    },
    {
     "name": "stdout",
     "output_type": "stream",
     "text": [
      "\r>> Converting image 472/2569 shard 0"
     ]
    },
    {
     "name": "stdout",
     "output_type": "stream",
     "text": [
      "\r>> Converting image 473/2569 shard 0"
     ]
    },
    {
     "name": "stdout",
     "output_type": "stream",
     "text": [
      "\r>> Converting image 474/2569 shard 0"
     ]
    },
    {
     "name": "stdout",
     "output_type": "stream",
     "text": [
      "\r>> Converting image 475/2569 shard 0"
     ]
    },
    {
     "name": "stdout",
     "output_type": "stream",
     "text": [
      "\r>> Converting image 476/2569 shard 0"
     ]
    },
    {
     "name": "stdout",
     "output_type": "stream",
     "text": [
      "\r>> Converting image 477/2569 shard 0"
     ]
    },
    {
     "name": "stdout",
     "output_type": "stream",
     "text": [
      "\r>> Converting image 478/2569 shard 0"
     ]
    },
    {
     "name": "stdout",
     "output_type": "stream",
     "text": [
      "\r>> Converting image 479/2569 shard 0"
     ]
    },
    {
     "name": "stdout",
     "output_type": "stream",
     "text": [
      "\r>> Converting image 480/2569 shard 0"
     ]
    },
    {
     "name": "stdout",
     "output_type": "stream",
     "text": [
      "\r>> Converting image 481/2569 shard 0"
     ]
    },
    {
     "name": "stdout",
     "output_type": "stream",
     "text": [
      "\r>> Converting image 482/2569 shard 0"
     ]
    },
    {
     "name": "stdout",
     "output_type": "stream",
     "text": [
      "\r>> Converting image 483/2569 shard 0"
     ]
    },
    {
     "name": "stdout",
     "output_type": "stream",
     "text": [
      "\r>> Converting image 484/2569 shard 0"
     ]
    },
    {
     "name": "stdout",
     "output_type": "stream",
     "text": [
      "\r>> Converting image 485/2569 shard 0"
     ]
    },
    {
     "name": "stdout",
     "output_type": "stream",
     "text": [
      "\r>> Converting image 486/2569 shard 0"
     ]
    },
    {
     "name": "stdout",
     "output_type": "stream",
     "text": [
      "\r>> Converting image 487/2569 shard 0"
     ]
    },
    {
     "name": "stdout",
     "output_type": "stream",
     "text": [
      "\r>> Converting image 488/2569 shard 0"
     ]
    },
    {
     "name": "stdout",
     "output_type": "stream",
     "text": [
      "\r>> Converting image 489/2569 shard 0"
     ]
    },
    {
     "name": "stdout",
     "output_type": "stream",
     "text": [
      "\r>> Converting image 490/2569 shard 0"
     ]
    },
    {
     "name": "stdout",
     "output_type": "stream",
     "text": [
      "\r>> Converting image 491/2569 shard 0"
     ]
    },
    {
     "name": "stdout",
     "output_type": "stream",
     "text": [
      "\r>> Converting image 492/2569 shard 0"
     ]
    },
    {
     "name": "stdout",
     "output_type": "stream",
     "text": [
      "\r>> Converting image 493/2569 shard 0"
     ]
    },
    {
     "name": "stdout",
     "output_type": "stream",
     "text": [
      "\r>> Converting image 494/2569 shard 0"
     ]
    },
    {
     "name": "stdout",
     "output_type": "stream",
     "text": [
      "\r>> Converting image 495/2569 shard 0"
     ]
    },
    {
     "name": "stdout",
     "output_type": "stream",
     "text": [
      "\r>> Converting image 496/2569 shard 0"
     ]
    },
    {
     "name": "stdout",
     "output_type": "stream",
     "text": [
      "\r>> Converting image 497/2569 shard 0"
     ]
    },
    {
     "name": "stdout",
     "output_type": "stream",
     "text": [
      "\r>> Converting image 498/2569 shard 0"
     ]
    },
    {
     "name": "stdout",
     "output_type": "stream",
     "text": [
      "\r>> Converting image 499/2569 shard 0"
     ]
    },
    {
     "name": "stdout",
     "output_type": "stream",
     "text": [
      "\r>> Converting image 500/2569 shard 0"
     ]
    },
    {
     "name": "stdout",
     "output_type": "stream",
     "text": [
      "\r>> Converting image 501/2569 shard 0"
     ]
    },
    {
     "name": "stdout",
     "output_type": "stream",
     "text": [
      "\r>> Converting image 502/2569 shard 0"
     ]
    },
    {
     "name": "stdout",
     "output_type": "stream",
     "text": [
      "\r>> Converting image 503/2569 shard 0"
     ]
    },
    {
     "name": "stdout",
     "output_type": "stream",
     "text": [
      "\r>> Converting image 504/2569 shard 0"
     ]
    },
    {
     "name": "stdout",
     "output_type": "stream",
     "text": [
      "\r>> Converting image 505/2569 shard 0"
     ]
    },
    {
     "name": "stdout",
     "output_type": "stream",
     "text": [
      "\r>> Converting image 506/2569 shard 0"
     ]
    },
    {
     "name": "stdout",
     "output_type": "stream",
     "text": [
      "\r>> Converting image 507/2569 shard 0"
     ]
    },
    {
     "name": "stdout",
     "output_type": "stream",
     "text": [
      "\r>> Converting image 508/2569 shard 0"
     ]
    },
    {
     "name": "stdout",
     "output_type": "stream",
     "text": [
      "\r>> Converting image 509/2569 shard 0"
     ]
    },
    {
     "name": "stdout",
     "output_type": "stream",
     "text": [
      "\r>> Converting image 510/2569 shard 0"
     ]
    },
    {
     "name": "stdout",
     "output_type": "stream",
     "text": [
      "\r>> Converting image 511/2569 shard 0"
     ]
    },
    {
     "name": "stdout",
     "output_type": "stream",
     "text": [
      "\r>> Converting image 512/2569 shard 0"
     ]
    },
    {
     "name": "stdout",
     "output_type": "stream",
     "text": [
      "\r>> Converting image 513/2569 shard 0"
     ]
    },
    {
     "name": "stdout",
     "output_type": "stream",
     "text": [
      "\r>> Converting image 514/2569 shard 0"
     ]
    },
    {
     "name": "stdout",
     "output_type": "stream",
     "text": [
      "\r>> Converting image 515/2569 shard 0"
     ]
    },
    {
     "name": "stdout",
     "output_type": "stream",
     "text": [
      "\r>> Converting image 516/2569 shard 0"
     ]
    },
    {
     "name": "stdout",
     "output_type": "stream",
     "text": [
      "\r>> Converting image 517/2569 shard 0"
     ]
    },
    {
     "name": "stdout",
     "output_type": "stream",
     "text": [
      "\r>> Converting image 518/2569 shard 0"
     ]
    },
    {
     "name": "stdout",
     "output_type": "stream",
     "text": [
      "\r>> Converting image 519/2569 shard 0"
     ]
    },
    {
     "name": "stdout",
     "output_type": "stream",
     "text": [
      "\r>> Converting image 520/2569 shard 0"
     ]
    },
    {
     "name": "stdout",
     "output_type": "stream",
     "text": [
      "\r>> Converting image 521/2569 shard 0"
     ]
    },
    {
     "name": "stdout",
     "output_type": "stream",
     "text": [
      "\r>> Converting image 522/2569 shard 0"
     ]
    },
    {
     "name": "stdout",
     "output_type": "stream",
     "text": [
      "\r>> Converting image 523/2569 shard 0"
     ]
    },
    {
     "name": "stdout",
     "output_type": "stream",
     "text": [
      "\r>> Converting image 524/2569 shard 0"
     ]
    },
    {
     "name": "stdout",
     "output_type": "stream",
     "text": [
      "\r>> Converting image 525/2569 shard 0"
     ]
    },
    {
     "name": "stdout",
     "output_type": "stream",
     "text": [
      "\r>> Converting image 526/2569 shard 0"
     ]
    },
    {
     "name": "stdout",
     "output_type": "stream",
     "text": [
      "\r>> Converting image 527/2569 shard 0"
     ]
    },
    {
     "name": "stdout",
     "output_type": "stream",
     "text": [
      "\r>> Converting image 528/2569 shard 0"
     ]
    },
    {
     "name": "stdout",
     "output_type": "stream",
     "text": [
      "\r>> Converting image 529/2569 shard 0"
     ]
    },
    {
     "name": "stdout",
     "output_type": "stream",
     "text": [
      "\r>> Converting image 530/2569 shard 0"
     ]
    },
    {
     "name": "stdout",
     "output_type": "stream",
     "text": [
      "\r>> Converting image 531/2569 shard 0"
     ]
    },
    {
     "name": "stdout",
     "output_type": "stream",
     "text": [
      "\r>> Converting image 532/2569 shard 0"
     ]
    },
    {
     "name": "stdout",
     "output_type": "stream",
     "text": [
      "\r>> Converting image 533/2569 shard 0"
     ]
    },
    {
     "name": "stdout",
     "output_type": "stream",
     "text": [
      "\r>> Converting image 534/2569 shard 0"
     ]
    },
    {
     "name": "stdout",
     "output_type": "stream",
     "text": [
      "\r>> Converting image 535/2569 shard 0"
     ]
    },
    {
     "name": "stdout",
     "output_type": "stream",
     "text": [
      "\r>> Converting image 536/2569 shard 0"
     ]
    },
    {
     "name": "stdout",
     "output_type": "stream",
     "text": [
      "\r>> Converting image 537/2569 shard 0"
     ]
    },
    {
     "name": "stdout",
     "output_type": "stream",
     "text": [
      "\r>> Converting image 538/2569 shard 0"
     ]
    },
    {
     "name": "stdout",
     "output_type": "stream",
     "text": [
      "\r>> Converting image 539/2569 shard 0"
     ]
    },
    {
     "name": "stdout",
     "output_type": "stream",
     "text": [
      "\r>> Converting image 540/2569 shard 0"
     ]
    },
    {
     "name": "stdout",
     "output_type": "stream",
     "text": [
      "\r>> Converting image 541/2569 shard 0"
     ]
    },
    {
     "name": "stdout",
     "output_type": "stream",
     "text": [
      "\r>> Converting image 542/2569 shard 0"
     ]
    },
    {
     "name": "stdout",
     "output_type": "stream",
     "text": [
      "\r>> Converting image 543/2569 shard 0"
     ]
    },
    {
     "name": "stdout",
     "output_type": "stream",
     "text": [
      "\r>> Converting image 544/2569 shard 0"
     ]
    },
    {
     "name": "stdout",
     "output_type": "stream",
     "text": [
      "\r>> Converting image 545/2569 shard 0"
     ]
    },
    {
     "name": "stdout",
     "output_type": "stream",
     "text": [
      "\r>> Converting image 546/2569 shard 0"
     ]
    },
    {
     "name": "stdout",
     "output_type": "stream",
     "text": [
      "\r>> Converting image 547/2569 shard 0"
     ]
    },
    {
     "name": "stdout",
     "output_type": "stream",
     "text": [
      "\r>> Converting image 548/2569 shard 0"
     ]
    },
    {
     "name": "stdout",
     "output_type": "stream",
     "text": [
      "\r>> Converting image 549/2569 shard 0"
     ]
    },
    {
     "name": "stdout",
     "output_type": "stream",
     "text": [
      "\r>> Converting image 550/2569 shard 0"
     ]
    },
    {
     "name": "stdout",
     "output_type": "stream",
     "text": [
      "\r>> Converting image 551/2569 shard 0"
     ]
    },
    {
     "name": "stdout",
     "output_type": "stream",
     "text": [
      "\r>> Converting image 552/2569 shard 0"
     ]
    },
    {
     "name": "stdout",
     "output_type": "stream",
     "text": [
      "\r>> Converting image 553/2569 shard 0"
     ]
    },
    {
     "name": "stdout",
     "output_type": "stream",
     "text": [
      "\r>> Converting image 554/2569 shard 0"
     ]
    },
    {
     "name": "stdout",
     "output_type": "stream",
     "text": [
      "\r>> Converting image 555/2569 shard 0"
     ]
    },
    {
     "name": "stdout",
     "output_type": "stream",
     "text": [
      "\r>> Converting image 556/2569 shard 0"
     ]
    },
    {
     "name": "stdout",
     "output_type": "stream",
     "text": [
      "\r>> Converting image 557/2569 shard 0"
     ]
    },
    {
     "name": "stdout",
     "output_type": "stream",
     "text": [
      "\r>> Converting image 558/2569 shard 0"
     ]
    },
    {
     "name": "stdout",
     "output_type": "stream",
     "text": [
      "\r>> Converting image 559/2569 shard 0"
     ]
    },
    {
     "name": "stdout",
     "output_type": "stream",
     "text": [
      "\r>> Converting image 560/2569 shard 0"
     ]
    },
    {
     "name": "stdout",
     "output_type": "stream",
     "text": [
      "\r>> Converting image 561/2569 shard 0"
     ]
    },
    {
     "name": "stdout",
     "output_type": "stream",
     "text": [
      "\r>> Converting image 562/2569 shard 0"
     ]
    },
    {
     "name": "stdout",
     "output_type": "stream",
     "text": [
      "\r>> Converting image 563/2569 shard 0"
     ]
    },
    {
     "name": "stdout",
     "output_type": "stream",
     "text": [
      "\r>> Converting image 564/2569 shard 0"
     ]
    },
    {
     "name": "stdout",
     "output_type": "stream",
     "text": [
      "\r>> Converting image 565/2569 shard 0"
     ]
    },
    {
     "name": "stdout",
     "output_type": "stream",
     "text": [
      "\r>> Converting image 566/2569 shard 0"
     ]
    },
    {
     "name": "stdout",
     "output_type": "stream",
     "text": [
      "\r>> Converting image 567/2569 shard 0"
     ]
    },
    {
     "name": "stdout",
     "output_type": "stream",
     "text": [
      "\r>> Converting image 568/2569 shard 0"
     ]
    },
    {
     "name": "stdout",
     "output_type": "stream",
     "text": [
      "\r>> Converting image 569/2569 shard 0"
     ]
    },
    {
     "name": "stdout",
     "output_type": "stream",
     "text": [
      "\r>> Converting image 570/2569 shard 0"
     ]
    },
    {
     "name": "stdout",
     "output_type": "stream",
     "text": [
      "\r>> Converting image 571/2569 shard 0"
     ]
    },
    {
     "name": "stdout",
     "output_type": "stream",
     "text": [
      "\r>> Converting image 572/2569 shard 0"
     ]
    },
    {
     "name": "stdout",
     "output_type": "stream",
     "text": [
      "\r>> Converting image 573/2569 shard 0"
     ]
    },
    {
     "name": "stdout",
     "output_type": "stream",
     "text": [
      "\r>> Converting image 574/2569 shard 0"
     ]
    },
    {
     "name": "stdout",
     "output_type": "stream",
     "text": [
      "\r>> Converting image 575/2569 shard 0"
     ]
    },
    {
     "name": "stdout",
     "output_type": "stream",
     "text": [
      "\r>> Converting image 576/2569 shard 0"
     ]
    },
    {
     "name": "stdout",
     "output_type": "stream",
     "text": [
      "\r>> Converting image 577/2569 shard 0"
     ]
    },
    {
     "name": "stdout",
     "output_type": "stream",
     "text": [
      "\r>> Converting image 578/2569 shard 0"
     ]
    },
    {
     "name": "stdout",
     "output_type": "stream",
     "text": [
      "\r>> Converting image 579/2569 shard 0"
     ]
    },
    {
     "name": "stdout",
     "output_type": "stream",
     "text": [
      "\r>> Converting image 580/2569 shard 0"
     ]
    },
    {
     "name": "stdout",
     "output_type": "stream",
     "text": [
      "\r>> Converting image 581/2569 shard 0"
     ]
    },
    {
     "name": "stdout",
     "output_type": "stream",
     "text": [
      "\r>> Converting image 582/2569 shard 0"
     ]
    },
    {
     "name": "stdout",
     "output_type": "stream",
     "text": [
      "\r>> Converting image 583/2569 shard 0"
     ]
    },
    {
     "name": "stdout",
     "output_type": "stream",
     "text": [
      "\r>> Converting image 584/2569 shard 0"
     ]
    },
    {
     "name": "stdout",
     "output_type": "stream",
     "text": [
      "\r>> Converting image 585/2569 shard 0"
     ]
    },
    {
     "name": "stdout",
     "output_type": "stream",
     "text": [
      "\r>> Converting image 586/2569 shard 0"
     ]
    },
    {
     "name": "stdout",
     "output_type": "stream",
     "text": [
      "\r>> Converting image 587/2569 shard 0"
     ]
    },
    {
     "name": "stdout",
     "output_type": "stream",
     "text": [
      "\r>> Converting image 588/2569 shard 0"
     ]
    },
    {
     "name": "stdout",
     "output_type": "stream",
     "text": [
      "\r>> Converting image 589/2569 shard 0"
     ]
    },
    {
     "name": "stdout",
     "output_type": "stream",
     "text": [
      "\r>> Converting image 590/2569 shard 0"
     ]
    },
    {
     "name": "stdout",
     "output_type": "stream",
     "text": [
      "\r>> Converting image 591/2569 shard 0"
     ]
    },
    {
     "name": "stdout",
     "output_type": "stream",
     "text": [
      "\r>> Converting image 592/2569 shard 0"
     ]
    },
    {
     "name": "stdout",
     "output_type": "stream",
     "text": [
      "\r>> Converting image 593/2569 shard 0"
     ]
    },
    {
     "name": "stdout",
     "output_type": "stream",
     "text": [
      "\r>> Converting image 594/2569 shard 0"
     ]
    },
    {
     "name": "stdout",
     "output_type": "stream",
     "text": [
      "\r>> Converting image 595/2569 shard 0"
     ]
    },
    {
     "name": "stdout",
     "output_type": "stream",
     "text": [
      "\r>> Converting image 596/2569 shard 0"
     ]
    },
    {
     "name": "stdout",
     "output_type": "stream",
     "text": [
      "\r>> Converting image 597/2569 shard 0"
     ]
    },
    {
     "name": "stdout",
     "output_type": "stream",
     "text": [
      "\r>> Converting image 598/2569 shard 0"
     ]
    },
    {
     "name": "stdout",
     "output_type": "stream",
     "text": [
      "\r>> Converting image 599/2569 shard 0"
     ]
    },
    {
     "name": "stdout",
     "output_type": "stream",
     "text": [
      "\r>> Converting image 600/2569 shard 0"
     ]
    },
    {
     "name": "stdout",
     "output_type": "stream",
     "text": [
      "\r>> Converting image 601/2569 shard 0"
     ]
    },
    {
     "name": "stdout",
     "output_type": "stream",
     "text": [
      "\r>> Converting image 602/2569 shard 0"
     ]
    },
    {
     "name": "stdout",
     "output_type": "stream",
     "text": [
      "\r>> Converting image 603/2569 shard 0"
     ]
    },
    {
     "name": "stdout",
     "output_type": "stream",
     "text": [
      "\r>> Converting image 604/2569 shard 0"
     ]
    },
    {
     "name": "stdout",
     "output_type": "stream",
     "text": [
      "\r>> Converting image 605/2569 shard 0"
     ]
    },
    {
     "name": "stdout",
     "output_type": "stream",
     "text": [
      "\r>> Converting image 606/2569 shard 0"
     ]
    },
    {
     "name": "stdout",
     "output_type": "stream",
     "text": [
      "\r>> Converting image 607/2569 shard 0"
     ]
    },
    {
     "name": "stdout",
     "output_type": "stream",
     "text": [
      "\r>> Converting image 608/2569 shard 0"
     ]
    },
    {
     "name": "stdout",
     "output_type": "stream",
     "text": [
      "\r>> Converting image 609/2569 shard 0"
     ]
    },
    {
     "name": "stdout",
     "output_type": "stream",
     "text": [
      "\r>> Converting image 610/2569 shard 0"
     ]
    },
    {
     "name": "stdout",
     "output_type": "stream",
     "text": [
      "\r>> Converting image 611/2569 shard 0"
     ]
    },
    {
     "name": "stdout",
     "output_type": "stream",
     "text": [
      "\r>> Converting image 612/2569 shard 0"
     ]
    },
    {
     "name": "stdout",
     "output_type": "stream",
     "text": [
      "\r>> Converting image 613/2569 shard 0"
     ]
    },
    {
     "name": "stdout",
     "output_type": "stream",
     "text": [
      "\r>> Converting image 614/2569 shard 0"
     ]
    },
    {
     "name": "stdout",
     "output_type": "stream",
     "text": [
      "\r>> Converting image 615/2569 shard 0"
     ]
    },
    {
     "name": "stdout",
     "output_type": "stream",
     "text": [
      "\r>> Converting image 616/2569 shard 0"
     ]
    },
    {
     "name": "stdout",
     "output_type": "stream",
     "text": [
      "\r>> Converting image 617/2569 shard 0"
     ]
    },
    {
     "name": "stdout",
     "output_type": "stream",
     "text": [
      "\r>> Converting image 618/2569 shard 0"
     ]
    },
    {
     "name": "stdout",
     "output_type": "stream",
     "text": [
      "\r>> Converting image 619/2569 shard 0"
     ]
    },
    {
     "name": "stdout",
     "output_type": "stream",
     "text": [
      "\r>> Converting image 620/2569 shard 0"
     ]
    },
    {
     "name": "stdout",
     "output_type": "stream",
     "text": [
      "\r>> Converting image 621/2569 shard 0"
     ]
    },
    {
     "name": "stdout",
     "output_type": "stream",
     "text": [
      "\r>> Converting image 622/2569 shard 0"
     ]
    },
    {
     "name": "stdout",
     "output_type": "stream",
     "text": [
      "\r>> Converting image 623/2569 shard 0"
     ]
    },
    {
     "name": "stdout",
     "output_type": "stream",
     "text": [
      "\r>> Converting image 624/2569 shard 0"
     ]
    },
    {
     "name": "stdout",
     "output_type": "stream",
     "text": [
      "\r>> Converting image 625/2569 shard 0"
     ]
    },
    {
     "name": "stdout",
     "output_type": "stream",
     "text": [
      "\r>> Converting image 626/2569 shard 0"
     ]
    },
    {
     "name": "stdout",
     "output_type": "stream",
     "text": [
      "\r>> Converting image 627/2569 shard 0"
     ]
    },
    {
     "name": "stdout",
     "output_type": "stream",
     "text": [
      "\r>> Converting image 628/2569 shard 0"
     ]
    },
    {
     "name": "stdout",
     "output_type": "stream",
     "text": [
      "\r>> Converting image 629/2569 shard 0"
     ]
    },
    {
     "name": "stdout",
     "output_type": "stream",
     "text": [
      "\r>> Converting image 630/2569 shard 0"
     ]
    },
    {
     "name": "stdout",
     "output_type": "stream",
     "text": [
      "\r>> Converting image 631/2569 shard 0"
     ]
    },
    {
     "name": "stdout",
     "output_type": "stream",
     "text": [
      "\r>> Converting image 632/2569 shard 0"
     ]
    },
    {
     "name": "stdout",
     "output_type": "stream",
     "text": [
      "\r>> Converting image 633/2569 shard 0"
     ]
    },
    {
     "name": "stdout",
     "output_type": "stream",
     "text": [
      "\r>> Converting image 634/2569 shard 0"
     ]
    },
    {
     "name": "stdout",
     "output_type": "stream",
     "text": [
      "\r>> Converting image 635/2569 shard 0"
     ]
    },
    {
     "name": "stdout",
     "output_type": "stream",
     "text": [
      "\r>> Converting image 636/2569 shard 0"
     ]
    },
    {
     "name": "stdout",
     "output_type": "stream",
     "text": [
      "\r>> Converting image 637/2569 shard 0"
     ]
    },
    {
     "name": "stdout",
     "output_type": "stream",
     "text": [
      "\r>> Converting image 638/2569 shard 0"
     ]
    },
    {
     "name": "stdout",
     "output_type": "stream",
     "text": [
      "\r>> Converting image 639/2569 shard 0"
     ]
    },
    {
     "name": "stdout",
     "output_type": "stream",
     "text": [
      "\r>> Converting image 640/2569 shard 0"
     ]
    },
    {
     "name": "stdout",
     "output_type": "stream",
     "text": [
      "\r>> Converting image 641/2569 shard 0"
     ]
    },
    {
     "name": "stdout",
     "output_type": "stream",
     "text": [
      "\r>> Converting image 642/2569 shard 0"
     ]
    },
    {
     "name": "stdout",
     "output_type": "stream",
     "text": [
      "\r>> Converting image 643/2569 shard 0"
     ]
    },
    {
     "name": "stdout",
     "output_type": "stream",
     "text": [
      "\r>> Converting image 644/2569 shard 0"
     ]
    },
    {
     "name": "stdout",
     "output_type": "stream",
     "text": [
      "\r>> Converting image 645/2569 shard 0"
     ]
    },
    {
     "name": "stdout",
     "output_type": "stream",
     "text": [
      "\r>> Converting image 646/2569 shard 0"
     ]
    },
    {
     "name": "stdout",
     "output_type": "stream",
     "text": [
      "\r>> Converting image 647/2569 shard 0"
     ]
    },
    {
     "name": "stdout",
     "output_type": "stream",
     "text": [
      "\r>> Converting image 648/2569 shard 0"
     ]
    },
    {
     "name": "stdout",
     "output_type": "stream",
     "text": [
      "\r>> Converting image 649/2569 shard 0"
     ]
    },
    {
     "name": "stdout",
     "output_type": "stream",
     "text": [
      "\r>> Converting image 650/2569 shard 0"
     ]
    },
    {
     "name": "stdout",
     "output_type": "stream",
     "text": [
      "\r>> Converting image 651/2569 shard 0"
     ]
    },
    {
     "name": "stdout",
     "output_type": "stream",
     "text": [
      "\r>> Converting image 652/2569 shard 0"
     ]
    },
    {
     "name": "stdout",
     "output_type": "stream",
     "text": [
      "\r>> Converting image 653/2569 shard 0"
     ]
    },
    {
     "name": "stdout",
     "output_type": "stream",
     "text": [
      "\r>> Converting image 654/2569 shard 0"
     ]
    },
    {
     "name": "stdout",
     "output_type": "stream",
     "text": [
      "\r>> Converting image 655/2569 shard 0"
     ]
    },
    {
     "name": "stdout",
     "output_type": "stream",
     "text": [
      "\r>> Converting image 656/2569 shard 0"
     ]
    },
    {
     "name": "stdout",
     "output_type": "stream",
     "text": [
      "\r>> Converting image 657/2569 shard 0"
     ]
    },
    {
     "name": "stdout",
     "output_type": "stream",
     "text": [
      "\r>> Converting image 658/2569 shard 0"
     ]
    },
    {
     "name": "stdout",
     "output_type": "stream",
     "text": [
      "\r>> Converting image 659/2569 shard 0"
     ]
    },
    {
     "name": "stdout",
     "output_type": "stream",
     "text": [
      "\r>> Converting image 660/2569 shard 0"
     ]
    },
    {
     "name": "stdout",
     "output_type": "stream",
     "text": [
      "\r>> Converting image 661/2569 shard 0"
     ]
    },
    {
     "name": "stdout",
     "output_type": "stream",
     "text": [
      "\r>> Converting image 662/2569 shard 0"
     ]
    },
    {
     "name": "stdout",
     "output_type": "stream",
     "text": [
      "\r>> Converting image 663/2569 shard 0"
     ]
    },
    {
     "name": "stdout",
     "output_type": "stream",
     "text": [
      "\r>> Converting image 664/2569 shard 0"
     ]
    },
    {
     "name": "stdout",
     "output_type": "stream",
     "text": [
      "\r>> Converting image 665/2569 shard 0"
     ]
    },
    {
     "name": "stdout",
     "output_type": "stream",
     "text": [
      "\r>> Converting image 666/2569 shard 0"
     ]
    },
    {
     "name": "stdout",
     "output_type": "stream",
     "text": [
      "\r>> Converting image 667/2569 shard 0"
     ]
    },
    {
     "name": "stdout",
     "output_type": "stream",
     "text": [
      "\r>> Converting image 668/2569 shard 0"
     ]
    },
    {
     "name": "stdout",
     "output_type": "stream",
     "text": [
      "\r>> Converting image 669/2569 shard 0"
     ]
    },
    {
     "name": "stdout",
     "output_type": "stream",
     "text": [
      "\r>> Converting image 670/2569 shard 0"
     ]
    },
    {
     "name": "stdout",
     "output_type": "stream",
     "text": [
      "\r>> Converting image 671/2569 shard 0"
     ]
    },
    {
     "name": "stdout",
     "output_type": "stream",
     "text": [
      "\r>> Converting image 672/2569 shard 0"
     ]
    },
    {
     "name": "stdout",
     "output_type": "stream",
     "text": [
      "\r>> Converting image 673/2569 shard 0"
     ]
    },
    {
     "name": "stdout",
     "output_type": "stream",
     "text": [
      "\r>> Converting image 674/2569 shard 0"
     ]
    },
    {
     "name": "stdout",
     "output_type": "stream",
     "text": [
      "\r>> Converting image 675/2569 shard 0"
     ]
    },
    {
     "name": "stdout",
     "output_type": "stream",
     "text": [
      "\r>> Converting image 676/2569 shard 0"
     ]
    },
    {
     "name": "stdout",
     "output_type": "stream",
     "text": [
      "\r>> Converting image 677/2569 shard 0"
     ]
    },
    {
     "name": "stdout",
     "output_type": "stream",
     "text": [
      "\r>> Converting image 678/2569 shard 0"
     ]
    },
    {
     "name": "stdout",
     "output_type": "stream",
     "text": [
      "\r>> Converting image 679/2569 shard 0"
     ]
    },
    {
     "name": "stdout",
     "output_type": "stream",
     "text": [
      "\r>> Converting image 680/2569 shard 0"
     ]
    },
    {
     "name": "stdout",
     "output_type": "stream",
     "text": [
      "\r>> Converting image 681/2569 shard 0"
     ]
    },
    {
     "name": "stdout",
     "output_type": "stream",
     "text": [
      "\r>> Converting image 682/2569 shard 0"
     ]
    },
    {
     "name": "stdout",
     "output_type": "stream",
     "text": [
      "\r>> Converting image 683/2569 shard 0"
     ]
    },
    {
     "name": "stdout",
     "output_type": "stream",
     "text": [
      "\r>> Converting image 684/2569 shard 0"
     ]
    },
    {
     "name": "stdout",
     "output_type": "stream",
     "text": [
      "\r>> Converting image 685/2569 shard 0"
     ]
    },
    {
     "name": "stdout",
     "output_type": "stream",
     "text": [
      "\r>> Converting image 686/2569 shard 0"
     ]
    },
    {
     "name": "stdout",
     "output_type": "stream",
     "text": [
      "\r>> Converting image 687/2569 shard 0"
     ]
    },
    {
     "name": "stdout",
     "output_type": "stream",
     "text": [
      "\r>> Converting image 688/2569 shard 0"
     ]
    },
    {
     "name": "stdout",
     "output_type": "stream",
     "text": [
      "\r>> Converting image 689/2569 shard 0"
     ]
    },
    {
     "name": "stdout",
     "output_type": "stream",
     "text": [
      "\r>> Converting image 690/2569 shard 0"
     ]
    },
    {
     "name": "stdout",
     "output_type": "stream",
     "text": [
      "\r>> Converting image 691/2569 shard 0"
     ]
    },
    {
     "name": "stdout",
     "output_type": "stream",
     "text": [
      "\r>> Converting image 692/2569 shard 0"
     ]
    },
    {
     "name": "stdout",
     "output_type": "stream",
     "text": [
      "\r>> Converting image 693/2569 shard 0"
     ]
    },
    {
     "name": "stdout",
     "output_type": "stream",
     "text": [
      "\r>> Converting image 694/2569 shard 0"
     ]
    },
    {
     "name": "stdout",
     "output_type": "stream",
     "text": [
      "\r>> Converting image 695/2569 shard 0"
     ]
    },
    {
     "name": "stdout",
     "output_type": "stream",
     "text": [
      "\r>> Converting image 696/2569 shard 0"
     ]
    },
    {
     "name": "stdout",
     "output_type": "stream",
     "text": [
      "\r>> Converting image 697/2569 shard 0"
     ]
    },
    {
     "name": "stdout",
     "output_type": "stream",
     "text": [
      "\r>> Converting image 698/2569 shard 0"
     ]
    },
    {
     "name": "stdout",
     "output_type": "stream",
     "text": [
      "\r>> Converting image 699/2569 shard 0"
     ]
    },
    {
     "name": "stdout",
     "output_type": "stream",
     "text": [
      "\r>> Converting image 700/2569 shard 0"
     ]
    },
    {
     "name": "stdout",
     "output_type": "stream",
     "text": [
      "\r>> Converting image 701/2569 shard 0"
     ]
    },
    {
     "name": "stdout",
     "output_type": "stream",
     "text": [
      "\r>> Converting image 702/2569 shard 0"
     ]
    },
    {
     "name": "stdout",
     "output_type": "stream",
     "text": [
      "\r>> Converting image 703/2569 shard 0"
     ]
    },
    {
     "name": "stdout",
     "output_type": "stream",
     "text": [
      "\r>> Converting image 704/2569 shard 0"
     ]
    },
    {
     "name": "stdout",
     "output_type": "stream",
     "text": [
      "\r>> Converting image 705/2569 shard 0"
     ]
    },
    {
     "name": "stdout",
     "output_type": "stream",
     "text": [
      "\r>> Converting image 706/2569 shard 0"
     ]
    },
    {
     "name": "stdout",
     "output_type": "stream",
     "text": [
      "\r>> Converting image 707/2569 shard 0"
     ]
    },
    {
     "name": "stdout",
     "output_type": "stream",
     "text": [
      "\r>> Converting image 708/2569 shard 0"
     ]
    },
    {
     "name": "stdout",
     "output_type": "stream",
     "text": [
      "\r>> Converting image 709/2569 shard 0"
     ]
    },
    {
     "name": "stdout",
     "output_type": "stream",
     "text": [
      "\r>> Converting image 710/2569 shard 0"
     ]
    },
    {
     "name": "stdout",
     "output_type": "stream",
     "text": [
      "\r>> Converting image 711/2569 shard 0"
     ]
    },
    {
     "name": "stdout",
     "output_type": "stream",
     "text": [
      "\r>> Converting image 712/2569 shard 0"
     ]
    },
    {
     "name": "stdout",
     "output_type": "stream",
     "text": [
      "\r>> Converting image 713/2569 shard 0"
     ]
    },
    {
     "name": "stdout",
     "output_type": "stream",
     "text": [
      "\r>> Converting image 714/2569 shard 0"
     ]
    },
    {
     "name": "stdout",
     "output_type": "stream",
     "text": [
      "\r>> Converting image 715/2569 shard 0"
     ]
    },
    {
     "name": "stdout",
     "output_type": "stream",
     "text": [
      "\r>> Converting image 716/2569 shard 0"
     ]
    },
    {
     "name": "stdout",
     "output_type": "stream",
     "text": [
      "\r>> Converting image 717/2569 shard 0"
     ]
    },
    {
     "name": "stdout",
     "output_type": "stream",
     "text": [
      "\r>> Converting image 718/2569 shard 0"
     ]
    },
    {
     "name": "stdout",
     "output_type": "stream",
     "text": [
      "\r>> Converting image 719/2569 shard 0"
     ]
    },
    {
     "name": "stdout",
     "output_type": "stream",
     "text": [
      "\r>> Converting image 720/2569 shard 0"
     ]
    },
    {
     "name": "stdout",
     "output_type": "stream",
     "text": [
      "\r>> Converting image 721/2569 shard 0"
     ]
    },
    {
     "name": "stdout",
     "output_type": "stream",
     "text": [
      "\r>> Converting image 722/2569 shard 0"
     ]
    },
    {
     "name": "stdout",
     "output_type": "stream",
     "text": [
      "\r>> Converting image 723/2569 shard 0"
     ]
    },
    {
     "name": "stdout",
     "output_type": "stream",
     "text": [
      "\r>> Converting image 724/2569 shard 0"
     ]
    },
    {
     "name": "stdout",
     "output_type": "stream",
     "text": [
      "\r>> Converting image 725/2569 shard 0"
     ]
    },
    {
     "name": "stdout",
     "output_type": "stream",
     "text": [
      "\r>> Converting image 726/2569 shard 0"
     ]
    },
    {
     "name": "stdout",
     "output_type": "stream",
     "text": [
      "\r>> Converting image 727/2569 shard 0"
     ]
    },
    {
     "name": "stdout",
     "output_type": "stream",
     "text": [
      "\r>> Converting image 728/2569 shard 0"
     ]
    },
    {
     "name": "stdout",
     "output_type": "stream",
     "text": [
      "\r>> Converting image 729/2569 shard 0"
     ]
    },
    {
     "name": "stdout",
     "output_type": "stream",
     "text": [
      "\r>> Converting image 730/2569 shard 0"
     ]
    },
    {
     "name": "stdout",
     "output_type": "stream",
     "text": [
      "\r>> Converting image 731/2569 shard 0"
     ]
    },
    {
     "name": "stdout",
     "output_type": "stream",
     "text": [
      "\r>> Converting image 732/2569 shard 0"
     ]
    },
    {
     "name": "stdout",
     "output_type": "stream",
     "text": [
      "\r>> Converting image 733/2569 shard 0"
     ]
    },
    {
     "name": "stdout",
     "output_type": "stream",
     "text": [
      "\r>> Converting image 734/2569 shard 0"
     ]
    },
    {
     "name": "stdout",
     "output_type": "stream",
     "text": [
      "\r>> Converting image 735/2569 shard 0"
     ]
    },
    {
     "name": "stdout",
     "output_type": "stream",
     "text": [
      "\r>> Converting image 736/2569 shard 0"
     ]
    },
    {
     "name": "stdout",
     "output_type": "stream",
     "text": [
      "\r>> Converting image 737/2569 shard 0"
     ]
    },
    {
     "name": "stdout",
     "output_type": "stream",
     "text": [
      "\r>> Converting image 738/2569 shard 0"
     ]
    },
    {
     "name": "stdout",
     "output_type": "stream",
     "text": [
      "\r>> Converting image 739/2569 shard 0"
     ]
    },
    {
     "name": "stdout",
     "output_type": "stream",
     "text": [
      "\r>> Converting image 740/2569 shard 0"
     ]
    },
    {
     "name": "stdout",
     "output_type": "stream",
     "text": [
      "\r>> Converting image 741/2569 shard 0"
     ]
    },
    {
     "name": "stdout",
     "output_type": "stream",
     "text": [
      "\r>> Converting image 742/2569 shard 0"
     ]
    },
    {
     "name": "stdout",
     "output_type": "stream",
     "text": [
      "\r>> Converting image 743/2569 shard 0"
     ]
    },
    {
     "name": "stdout",
     "output_type": "stream",
     "text": [
      "\r>> Converting image 744/2569 shard 0"
     ]
    },
    {
     "name": "stdout",
     "output_type": "stream",
     "text": [
      "\r>> Converting image 745/2569 shard 0"
     ]
    },
    {
     "name": "stdout",
     "output_type": "stream",
     "text": [
      "\r>> Converting image 746/2569 shard 0"
     ]
    },
    {
     "name": "stdout",
     "output_type": "stream",
     "text": [
      "\r>> Converting image 747/2569 shard 0"
     ]
    },
    {
     "name": "stdout",
     "output_type": "stream",
     "text": [
      "\r>> Converting image 748/2569 shard 0"
     ]
    },
    {
     "name": "stdout",
     "output_type": "stream",
     "text": [
      "\r>> Converting image 749/2569 shard 0"
     ]
    },
    {
     "name": "stdout",
     "output_type": "stream",
     "text": [
      "\r>> Converting image 750/2569 shard 0"
     ]
    },
    {
     "name": "stdout",
     "output_type": "stream",
     "text": [
      "\r>> Converting image 751/2569 shard 0"
     ]
    },
    {
     "name": "stdout",
     "output_type": "stream",
     "text": [
      "\r>> Converting image 752/2569 shard 0"
     ]
    },
    {
     "name": "stdout",
     "output_type": "stream",
     "text": [
      "\r>> Converting image 753/2569 shard 0"
     ]
    },
    {
     "name": "stdout",
     "output_type": "stream",
     "text": [
      "\r>> Converting image 754/2569 shard 0"
     ]
    },
    {
     "name": "stdout",
     "output_type": "stream",
     "text": [
      "\r>> Converting image 755/2569 shard 0"
     ]
    },
    {
     "name": "stdout",
     "output_type": "stream",
     "text": [
      "\r>> Converting image 756/2569 shard 0"
     ]
    },
    {
     "name": "stdout",
     "output_type": "stream",
     "text": [
      "\r>> Converting image 757/2569 shard 0"
     ]
    },
    {
     "name": "stdout",
     "output_type": "stream",
     "text": [
      "\r>> Converting image 758/2569 shard 0"
     ]
    },
    {
     "name": "stdout",
     "output_type": "stream",
     "text": [
      "\r>> Converting image 759/2569 shard 0"
     ]
    },
    {
     "name": "stdout",
     "output_type": "stream",
     "text": [
      "\r>> Converting image 760/2569 shard 0"
     ]
    },
    {
     "name": "stdout",
     "output_type": "stream",
     "text": [
      "\r>> Converting image 761/2569 shard 0"
     ]
    },
    {
     "name": "stdout",
     "output_type": "stream",
     "text": [
      "\r>> Converting image 762/2569 shard 0"
     ]
    },
    {
     "name": "stdout",
     "output_type": "stream",
     "text": [
      "\r>> Converting image 763/2569 shard 0"
     ]
    },
    {
     "name": "stdout",
     "output_type": "stream",
     "text": [
      "\r>> Converting image 764/2569 shard 0"
     ]
    },
    {
     "name": "stdout",
     "output_type": "stream",
     "text": [
      "\r>> Converting image 765/2569 shard 0"
     ]
    },
    {
     "name": "stdout",
     "output_type": "stream",
     "text": [
      "\r>> Converting image 766/2569 shard 0"
     ]
    },
    {
     "name": "stdout",
     "output_type": "stream",
     "text": [
      "\r>> Converting image 767/2569 shard 0"
     ]
    },
    {
     "name": "stdout",
     "output_type": "stream",
     "text": [
      "\r>> Converting image 768/2569 shard 0"
     ]
    },
    {
     "name": "stdout",
     "output_type": "stream",
     "text": [
      "\r>> Converting image 769/2569 shard 0"
     ]
    },
    {
     "name": "stdout",
     "output_type": "stream",
     "text": [
      "\r>> Converting image 770/2569 shard 0"
     ]
    },
    {
     "name": "stdout",
     "output_type": "stream",
     "text": [
      "\r>> Converting image 771/2569 shard 0"
     ]
    },
    {
     "name": "stdout",
     "output_type": "stream",
     "text": [
      "\r>> Converting image 772/2569 shard 0"
     ]
    },
    {
     "name": "stdout",
     "output_type": "stream",
     "text": [
      "\r>> Converting image 773/2569 shard 0"
     ]
    },
    {
     "name": "stdout",
     "output_type": "stream",
     "text": [
      "\r>> Converting image 774/2569 shard 0"
     ]
    },
    {
     "name": "stdout",
     "output_type": "stream",
     "text": [
      "\r>> Converting image 775/2569 shard 0"
     ]
    },
    {
     "name": "stdout",
     "output_type": "stream",
     "text": [
      "\r>> Converting image 776/2569 shard 0"
     ]
    },
    {
     "name": "stdout",
     "output_type": "stream",
     "text": [
      "\r>> Converting image 777/2569 shard 0"
     ]
    },
    {
     "name": "stdout",
     "output_type": "stream",
     "text": [
      "\r>> Converting image 778/2569 shard 0"
     ]
    },
    {
     "name": "stdout",
     "output_type": "stream",
     "text": [
      "\r>> Converting image 779/2569 shard 0"
     ]
    },
    {
     "name": "stdout",
     "output_type": "stream",
     "text": [
      "\r>> Converting image 780/2569 shard 0"
     ]
    },
    {
     "name": "stdout",
     "output_type": "stream",
     "text": [
      "\r>> Converting image 781/2569 shard 0"
     ]
    },
    {
     "name": "stdout",
     "output_type": "stream",
     "text": [
      "\r>> Converting image 782/2569 shard 0"
     ]
    },
    {
     "name": "stdout",
     "output_type": "stream",
     "text": [
      "\r>> Converting image 783/2569 shard 0"
     ]
    },
    {
     "name": "stdout",
     "output_type": "stream",
     "text": [
      "\r>> Converting image 784/2569 shard 0"
     ]
    },
    {
     "name": "stdout",
     "output_type": "stream",
     "text": [
      "\r>> Converting image 785/2569 shard 0"
     ]
    },
    {
     "name": "stdout",
     "output_type": "stream",
     "text": [
      "\r>> Converting image 786/2569 shard 0"
     ]
    },
    {
     "name": "stdout",
     "output_type": "stream",
     "text": [
      "\r>> Converting image 787/2569 shard 0"
     ]
    },
    {
     "name": "stdout",
     "output_type": "stream",
     "text": [
      "\r>> Converting image 788/2569 shard 0"
     ]
    },
    {
     "name": "stdout",
     "output_type": "stream",
     "text": [
      "\r>> Converting image 789/2569 shard 0"
     ]
    },
    {
     "name": "stdout",
     "output_type": "stream",
     "text": [
      "\r>> Converting image 790/2569 shard 0"
     ]
    },
    {
     "name": "stdout",
     "output_type": "stream",
     "text": [
      "\r>> Converting image 791/2569 shard 0"
     ]
    },
    {
     "name": "stdout",
     "output_type": "stream",
     "text": [
      "\r>> Converting image 792/2569 shard 0"
     ]
    },
    {
     "name": "stdout",
     "output_type": "stream",
     "text": [
      "\r>> Converting image 793/2569 shard 0"
     ]
    },
    {
     "name": "stdout",
     "output_type": "stream",
     "text": [
      "\r>> Converting image 794/2569 shard 0"
     ]
    },
    {
     "name": "stdout",
     "output_type": "stream",
     "text": [
      "\r>> Converting image 795/2569 shard 0"
     ]
    },
    {
     "name": "stdout",
     "output_type": "stream",
     "text": [
      "\r>> Converting image 796/2569 shard 0"
     ]
    },
    {
     "name": "stdout",
     "output_type": "stream",
     "text": [
      "\r>> Converting image 797/2569 shard 0"
     ]
    },
    {
     "name": "stdout",
     "output_type": "stream",
     "text": [
      "\r>> Converting image 798/2569 shard 0"
     ]
    },
    {
     "name": "stdout",
     "output_type": "stream",
     "text": [
      "\r>> Converting image 799/2569 shard 0"
     ]
    },
    {
     "name": "stdout",
     "output_type": "stream",
     "text": [
      "\r>> Converting image 800/2569 shard 0"
     ]
    },
    {
     "name": "stdout",
     "output_type": "stream",
     "text": [
      "\r>> Converting image 801/2569 shard 0"
     ]
    },
    {
     "name": "stdout",
     "output_type": "stream",
     "text": [
      "\r>> Converting image 802/2569 shard 0"
     ]
    },
    {
     "name": "stdout",
     "output_type": "stream",
     "text": [
      "\r>> Converting image 803/2569 shard 0"
     ]
    },
    {
     "name": "stdout",
     "output_type": "stream",
     "text": [
      "\r>> Converting image 804/2569 shard 0"
     ]
    },
    {
     "name": "stdout",
     "output_type": "stream",
     "text": [
      "\r>> Converting image 805/2569 shard 0"
     ]
    },
    {
     "name": "stdout",
     "output_type": "stream",
     "text": [
      "\r>> Converting image 806/2569 shard 0"
     ]
    },
    {
     "name": "stdout",
     "output_type": "stream",
     "text": [
      "\r>> Converting image 807/2569 shard 0"
     ]
    },
    {
     "name": "stdout",
     "output_type": "stream",
     "text": [
      "\r>> Converting image 808/2569 shard 0"
     ]
    },
    {
     "name": "stdout",
     "output_type": "stream",
     "text": [
      "\r>> Converting image 809/2569 shard 0"
     ]
    },
    {
     "name": "stdout",
     "output_type": "stream",
     "text": [
      "\r>> Converting image 810/2569 shard 0"
     ]
    },
    {
     "name": "stdout",
     "output_type": "stream",
     "text": [
      "\r>> Converting image 811/2569 shard 0"
     ]
    },
    {
     "name": "stdout",
     "output_type": "stream",
     "text": [
      "\r>> Converting image 812/2569 shard 0"
     ]
    },
    {
     "name": "stdout",
     "output_type": "stream",
     "text": [
      "\r>> Converting image 813/2569 shard 0"
     ]
    },
    {
     "name": "stdout",
     "output_type": "stream",
     "text": [
      "\r>> Converting image 814/2569 shard 0"
     ]
    },
    {
     "name": "stdout",
     "output_type": "stream",
     "text": [
      "\r>> Converting image 815/2569 shard 0"
     ]
    },
    {
     "name": "stdout",
     "output_type": "stream",
     "text": [
      "\r>> Converting image 816/2569 shard 0"
     ]
    },
    {
     "name": "stdout",
     "output_type": "stream",
     "text": [
      "\r>> Converting image 817/2569 shard 0"
     ]
    },
    {
     "name": "stdout",
     "output_type": "stream",
     "text": [
      "\r>> Converting image 818/2569 shard 0"
     ]
    },
    {
     "name": "stdout",
     "output_type": "stream",
     "text": [
      "\r>> Converting image 819/2569 shard 0"
     ]
    },
    {
     "name": "stdout",
     "output_type": "stream",
     "text": [
      "\r>> Converting image 820/2569 shard 0"
     ]
    },
    {
     "name": "stdout",
     "output_type": "stream",
     "text": [
      "\r>> Converting image 821/2569 shard 0"
     ]
    },
    {
     "name": "stdout",
     "output_type": "stream",
     "text": [
      "\r>> Converting image 822/2569 shard 0"
     ]
    },
    {
     "name": "stdout",
     "output_type": "stream",
     "text": [
      "\r>> Converting image 823/2569 shard 0"
     ]
    },
    {
     "name": "stdout",
     "output_type": "stream",
     "text": [
      "\r>> Converting image 824/2569 shard 0"
     ]
    },
    {
     "name": "stdout",
     "output_type": "stream",
     "text": [
      "\r>> Converting image 825/2569 shard 0"
     ]
    },
    {
     "name": "stdout",
     "output_type": "stream",
     "text": [
      "\r>> Converting image 826/2569 shard 0"
     ]
    },
    {
     "name": "stdout",
     "output_type": "stream",
     "text": [
      "\r>> Converting image 827/2569 shard 0"
     ]
    },
    {
     "name": "stdout",
     "output_type": "stream",
     "text": [
      "\r>> Converting image 828/2569 shard 0"
     ]
    },
    {
     "name": "stdout",
     "output_type": "stream",
     "text": [
      "\r>> Converting image 829/2569 shard 0"
     ]
    },
    {
     "name": "stdout",
     "output_type": "stream",
     "text": [
      "\r>> Converting image 830/2569 shard 0"
     ]
    },
    {
     "name": "stdout",
     "output_type": "stream",
     "text": [
      "\r>> Converting image 831/2569 shard 0"
     ]
    },
    {
     "name": "stdout",
     "output_type": "stream",
     "text": [
      "\r>> Converting image 832/2569 shard 0"
     ]
    },
    {
     "name": "stdout",
     "output_type": "stream",
     "text": [
      "\r>> Converting image 833/2569 shard 0"
     ]
    },
    {
     "name": "stdout",
     "output_type": "stream",
     "text": [
      "\r>> Converting image 834/2569 shard 0"
     ]
    },
    {
     "name": "stdout",
     "output_type": "stream",
     "text": [
      "\r>> Converting image 835/2569 shard 0"
     ]
    },
    {
     "name": "stdout",
     "output_type": "stream",
     "text": [
      "\r>> Converting image 836/2569 shard 0"
     ]
    },
    {
     "name": "stdout",
     "output_type": "stream",
     "text": [
      "\r>> Converting image 837/2569 shard 0"
     ]
    },
    {
     "name": "stdout",
     "output_type": "stream",
     "text": [
      "\r>> Converting image 838/2569 shard 0"
     ]
    },
    {
     "name": "stdout",
     "output_type": "stream",
     "text": [
      "\r>> Converting image 839/2569 shard 0"
     ]
    },
    {
     "name": "stdout",
     "output_type": "stream",
     "text": [
      "\r>> Converting image 840/2569 shard 0"
     ]
    },
    {
     "name": "stdout",
     "output_type": "stream",
     "text": [
      "\r>> Converting image 841/2569 shard 0"
     ]
    },
    {
     "name": "stdout",
     "output_type": "stream",
     "text": [
      "\r>> Converting image 842/2569 shard 0"
     ]
    },
    {
     "name": "stdout",
     "output_type": "stream",
     "text": [
      "\r>> Converting image 843/2569 shard 0"
     ]
    },
    {
     "name": "stdout",
     "output_type": "stream",
     "text": [
      "\r>> Converting image 844/2569 shard 0"
     ]
    },
    {
     "name": "stdout",
     "output_type": "stream",
     "text": [
      "\r>> Converting image 845/2569 shard 0"
     ]
    },
    {
     "name": "stdout",
     "output_type": "stream",
     "text": [
      "\r>> Converting image 846/2569 shard 0"
     ]
    },
    {
     "name": "stdout",
     "output_type": "stream",
     "text": [
      "\r>> Converting image 847/2569 shard 0"
     ]
    },
    {
     "name": "stdout",
     "output_type": "stream",
     "text": [
      "\r>> Converting image 848/2569 shard 0"
     ]
    },
    {
     "name": "stdout",
     "output_type": "stream",
     "text": [
      "\r>> Converting image 849/2569 shard 0"
     ]
    },
    {
     "name": "stdout",
     "output_type": "stream",
     "text": [
      "\r>> Converting image 850/2569 shard 0"
     ]
    },
    {
     "name": "stdout",
     "output_type": "stream",
     "text": [
      "\r>> Converting image 851/2569 shard 0"
     ]
    },
    {
     "name": "stdout",
     "output_type": "stream",
     "text": [
      "\r>> Converting image 852/2569 shard 0"
     ]
    },
    {
     "name": "stdout",
     "output_type": "stream",
     "text": [
      "\r>> Converting image 853/2569 shard 0"
     ]
    },
    {
     "name": "stdout",
     "output_type": "stream",
     "text": [
      "\r>> Converting image 854/2569 shard 0"
     ]
    },
    {
     "name": "stdout",
     "output_type": "stream",
     "text": [
      "\r>> Converting image 855/2569 shard 0"
     ]
    },
    {
     "name": "stdout",
     "output_type": "stream",
     "text": [
      "\r>> Converting image 856/2569 shard 0"
     ]
    },
    {
     "name": "stdout",
     "output_type": "stream",
     "text": [
      "\r>> Converting image 857/2569 shard 0"
     ]
    },
    {
     "name": "stdout",
     "output_type": "stream",
     "text": [
      "\r>> Converting image 858/2569 shard 0"
     ]
    },
    {
     "name": "stdout",
     "output_type": "stream",
     "text": [
      "\r>> Converting image 859/2569 shard 0"
     ]
    },
    {
     "name": "stdout",
     "output_type": "stream",
     "text": [
      "\r>> Converting image 860/2569 shard 0"
     ]
    },
    {
     "name": "stdout",
     "output_type": "stream",
     "text": [
      "\r>> Converting image 861/2569 shard 0"
     ]
    },
    {
     "name": "stdout",
     "output_type": "stream",
     "text": [
      "\r>> Converting image 862/2569 shard 0"
     ]
    },
    {
     "name": "stdout",
     "output_type": "stream",
     "text": [
      "\r>> Converting image 863/2569 shard 0"
     ]
    },
    {
     "name": "stdout",
     "output_type": "stream",
     "text": [
      "\r>> Converting image 864/2569 shard 0"
     ]
    },
    {
     "name": "stdout",
     "output_type": "stream",
     "text": [
      "\r>> Converting image 865/2569 shard 0"
     ]
    },
    {
     "name": "stdout",
     "output_type": "stream",
     "text": [
      "\r>> Converting image 866/2569 shard 0"
     ]
    },
    {
     "name": "stdout",
     "output_type": "stream",
     "text": [
      "\r>> Converting image 867/2569 shard 0"
     ]
    },
    {
     "name": "stdout",
     "output_type": "stream",
     "text": [
      "\r>> Converting image 868/2569 shard 0"
     ]
    },
    {
     "name": "stdout",
     "output_type": "stream",
     "text": [
      "\r>> Converting image 869/2569 shard 0"
     ]
    },
    {
     "name": "stdout",
     "output_type": "stream",
     "text": [
      "\r>> Converting image 870/2569 shard 0"
     ]
    },
    {
     "name": "stdout",
     "output_type": "stream",
     "text": [
      "\r>> Converting image 871/2569 shard 0"
     ]
    },
    {
     "name": "stdout",
     "output_type": "stream",
     "text": [
      "\r>> Converting image 872/2569 shard 0"
     ]
    },
    {
     "name": "stdout",
     "output_type": "stream",
     "text": [
      "\r>> Converting image 873/2569 shard 0"
     ]
    },
    {
     "name": "stdout",
     "output_type": "stream",
     "text": [
      "\r>> Converting image 874/2569 shard 0"
     ]
    },
    {
     "name": "stdout",
     "output_type": "stream",
     "text": [
      "\r>> Converting image 875/2569 shard 0"
     ]
    },
    {
     "name": "stdout",
     "output_type": "stream",
     "text": [
      "\r>> Converting image 876/2569 shard 0"
     ]
    },
    {
     "name": "stdout",
     "output_type": "stream",
     "text": [
      "\r>> Converting image 877/2569 shard 0"
     ]
    },
    {
     "name": "stdout",
     "output_type": "stream",
     "text": [
      "\r>> Converting image 878/2569 shard 0"
     ]
    },
    {
     "name": "stdout",
     "output_type": "stream",
     "text": [
      "\r>> Converting image 879/2569 shard 0"
     ]
    },
    {
     "name": "stdout",
     "output_type": "stream",
     "text": [
      "\r>> Converting image 880/2569 shard 0"
     ]
    },
    {
     "name": "stdout",
     "output_type": "stream",
     "text": [
      "\r>> Converting image 881/2569 shard 0"
     ]
    },
    {
     "name": "stdout",
     "output_type": "stream",
     "text": [
      "\r>> Converting image 882/2569 shard 0"
     ]
    },
    {
     "name": "stdout",
     "output_type": "stream",
     "text": [
      "\r>> Converting image 883/2569 shard 0"
     ]
    },
    {
     "name": "stdout",
     "output_type": "stream",
     "text": [
      "\r>> Converting image 884/2569 shard 0"
     ]
    },
    {
     "name": "stdout",
     "output_type": "stream",
     "text": [
      "\r>> Converting image 885/2569 shard 0"
     ]
    },
    {
     "name": "stdout",
     "output_type": "stream",
     "text": [
      "\r>> Converting image 886/2569 shard 0"
     ]
    },
    {
     "name": "stdout",
     "output_type": "stream",
     "text": [
      "\r>> Converting image 887/2569 shard 0"
     ]
    },
    {
     "name": "stdout",
     "output_type": "stream",
     "text": [
      "\r>> Converting image 888/2569 shard 0"
     ]
    },
    {
     "name": "stdout",
     "output_type": "stream",
     "text": [
      "\r>> Converting image 889/2569 shard 0"
     ]
    },
    {
     "name": "stdout",
     "output_type": "stream",
     "text": [
      "\r>> Converting image 890/2569 shard 0"
     ]
    },
    {
     "name": "stdout",
     "output_type": "stream",
     "text": [
      "\r>> Converting image 891/2569 shard 0"
     ]
    },
    {
     "name": "stdout",
     "output_type": "stream",
     "text": [
      "\r>> Converting image 892/2569 shard 0"
     ]
    },
    {
     "name": "stdout",
     "output_type": "stream",
     "text": [
      "\r>> Converting image 893/2569 shard 0"
     ]
    },
    {
     "name": "stdout",
     "output_type": "stream",
     "text": [
      "\r>> Converting image 894/2569 shard 0"
     ]
    },
    {
     "name": "stdout",
     "output_type": "stream",
     "text": [
      "\r>> Converting image 895/2569 shard 0"
     ]
    },
    {
     "name": "stdout",
     "output_type": "stream",
     "text": [
      "\r>> Converting image 896/2569 shard 0"
     ]
    },
    {
     "name": "stdout",
     "output_type": "stream",
     "text": [
      "\r>> Converting image 897/2569 shard 0"
     ]
    },
    {
     "name": "stdout",
     "output_type": "stream",
     "text": [
      "\r>> Converting image 898/2569 shard 0"
     ]
    },
    {
     "name": "stdout",
     "output_type": "stream",
     "text": [
      "\r>> Converting image 899/2569 shard 0"
     ]
    },
    {
     "name": "stdout",
     "output_type": "stream",
     "text": [
      "\r>> Converting image 900/2569 shard 0"
     ]
    },
    {
     "name": "stdout",
     "output_type": "stream",
     "text": [
      "\r>> Converting image 901/2569 shard 0"
     ]
    },
    {
     "name": "stdout",
     "output_type": "stream",
     "text": [
      "\r>> Converting image 902/2569 shard 0"
     ]
    },
    {
     "name": "stdout",
     "output_type": "stream",
     "text": [
      "\r>> Converting image 903/2569 shard 0"
     ]
    },
    {
     "name": "stdout",
     "output_type": "stream",
     "text": [
      "\r>> Converting image 904/2569 shard 0"
     ]
    },
    {
     "name": "stdout",
     "output_type": "stream",
     "text": [
      "\r>> Converting image 905/2569 shard 0"
     ]
    },
    {
     "name": "stdout",
     "output_type": "stream",
     "text": [
      "\r>> Converting image 906/2569 shard 0"
     ]
    },
    {
     "name": "stdout",
     "output_type": "stream",
     "text": [
      "\r>> Converting image 907/2569 shard 0"
     ]
    },
    {
     "name": "stdout",
     "output_type": "stream",
     "text": [
      "\r>> Converting image 908/2569 shard 0"
     ]
    },
    {
     "name": "stdout",
     "output_type": "stream",
     "text": [
      "\r>> Converting image 909/2569 shard 0"
     ]
    },
    {
     "name": "stdout",
     "output_type": "stream",
     "text": [
      "\r>> Converting image 910/2569 shard 0"
     ]
    },
    {
     "name": "stdout",
     "output_type": "stream",
     "text": [
      "\r>> Converting image 911/2569 shard 0"
     ]
    },
    {
     "name": "stdout",
     "output_type": "stream",
     "text": [
      "\r>> Converting image 912/2569 shard 0"
     ]
    },
    {
     "name": "stdout",
     "output_type": "stream",
     "text": [
      "\r>> Converting image 913/2569 shard 0"
     ]
    },
    {
     "name": "stdout",
     "output_type": "stream",
     "text": [
      "\r>> Converting image 914/2569 shard 0"
     ]
    },
    {
     "name": "stdout",
     "output_type": "stream",
     "text": [
      "\r>> Converting image 915/2569 shard 0"
     ]
    },
    {
     "name": "stdout",
     "output_type": "stream",
     "text": [
      "\r>> Converting image 916/2569 shard 0"
     ]
    },
    {
     "name": "stdout",
     "output_type": "stream",
     "text": [
      "\r>> Converting image 917/2569 shard 0"
     ]
    },
    {
     "name": "stdout",
     "output_type": "stream",
     "text": [
      "\r>> Converting image 918/2569 shard 0"
     ]
    },
    {
     "name": "stdout",
     "output_type": "stream",
     "text": [
      "\r>> Converting image 919/2569 shard 0"
     ]
    },
    {
     "name": "stdout",
     "output_type": "stream",
     "text": [
      "\r>> Converting image 920/2569 shard 0"
     ]
    },
    {
     "name": "stdout",
     "output_type": "stream",
     "text": [
      "\r>> Converting image 921/2569 shard 0"
     ]
    },
    {
     "name": "stdout",
     "output_type": "stream",
     "text": [
      "\r>> Converting image 922/2569 shard 0"
     ]
    },
    {
     "name": "stdout",
     "output_type": "stream",
     "text": [
      "\r>> Converting image 923/2569 shard 0"
     ]
    },
    {
     "name": "stdout",
     "output_type": "stream",
     "text": [
      "\r>> Converting image 924/2569 shard 0"
     ]
    },
    {
     "name": "stdout",
     "output_type": "stream",
     "text": [
      "\r>> Converting image 925/2569 shard 0"
     ]
    },
    {
     "name": "stdout",
     "output_type": "stream",
     "text": [
      "\r>> Converting image 926/2569 shard 0"
     ]
    },
    {
     "name": "stdout",
     "output_type": "stream",
     "text": [
      "\r>> Converting image 927/2569 shard 0"
     ]
    },
    {
     "name": "stdout",
     "output_type": "stream",
     "text": [
      "\r>> Converting image 928/2569 shard 0"
     ]
    },
    {
     "name": "stdout",
     "output_type": "stream",
     "text": [
      "\r>> Converting image 929/2569 shard 0"
     ]
    },
    {
     "name": "stdout",
     "output_type": "stream",
     "text": [
      "\r>> Converting image 930/2569 shard 0"
     ]
    },
    {
     "name": "stdout",
     "output_type": "stream",
     "text": [
      "\r>> Converting image 931/2569 shard 0"
     ]
    },
    {
     "name": "stdout",
     "output_type": "stream",
     "text": [
      "\r>> Converting image 932/2569 shard 0"
     ]
    },
    {
     "name": "stdout",
     "output_type": "stream",
     "text": [
      "\r>> Converting image 933/2569 shard 0"
     ]
    },
    {
     "name": "stdout",
     "output_type": "stream",
     "text": [
      "\r>> Converting image 934/2569 shard 0"
     ]
    },
    {
     "name": "stdout",
     "output_type": "stream",
     "text": [
      "\r>> Converting image 935/2569 shard 0"
     ]
    },
    {
     "name": "stdout",
     "output_type": "stream",
     "text": [
      "\r>> Converting image 936/2569 shard 0"
     ]
    },
    {
     "name": "stdout",
     "output_type": "stream",
     "text": [
      "\r>> Converting image 937/2569 shard 0"
     ]
    },
    {
     "name": "stdout",
     "output_type": "stream",
     "text": [
      "\r>> Converting image 938/2569 shard 0"
     ]
    },
    {
     "name": "stdout",
     "output_type": "stream",
     "text": [
      "\r>> Converting image 939/2569 shard 0"
     ]
    },
    {
     "name": "stdout",
     "output_type": "stream",
     "text": [
      "\r>> Converting image 940/2569 shard 0"
     ]
    },
    {
     "name": "stdout",
     "output_type": "stream",
     "text": [
      "\r>> Converting image 941/2569 shard 0"
     ]
    },
    {
     "name": "stdout",
     "output_type": "stream",
     "text": [
      "\r>> Converting image 942/2569 shard 0"
     ]
    },
    {
     "name": "stdout",
     "output_type": "stream",
     "text": [
      "\r>> Converting image 943/2569 shard 0"
     ]
    },
    {
     "name": "stdout",
     "output_type": "stream",
     "text": [
      "\r>> Converting image 944/2569 shard 0"
     ]
    },
    {
     "name": "stdout",
     "output_type": "stream",
     "text": [
      "\r>> Converting image 945/2569 shard 0"
     ]
    },
    {
     "name": "stdout",
     "output_type": "stream",
     "text": [
      "\r>> Converting image 946/2569 shard 0"
     ]
    },
    {
     "name": "stdout",
     "output_type": "stream",
     "text": [
      "\r>> Converting image 947/2569 shard 0"
     ]
    },
    {
     "name": "stdout",
     "output_type": "stream",
     "text": [
      "\r>> Converting image 948/2569 shard 0"
     ]
    },
    {
     "name": "stdout",
     "output_type": "stream",
     "text": [
      "\r>> Converting image 949/2569 shard 0"
     ]
    },
    {
     "name": "stdout",
     "output_type": "stream",
     "text": [
      "\r>> Converting image 950/2569 shard 0"
     ]
    },
    {
     "name": "stdout",
     "output_type": "stream",
     "text": [
      "\r>> Converting image 951/2569 shard 0"
     ]
    },
    {
     "name": "stdout",
     "output_type": "stream",
     "text": [
      "\r>> Converting image 952/2569 shard 0"
     ]
    },
    {
     "name": "stdout",
     "output_type": "stream",
     "text": [
      "\r>> Converting image 953/2569 shard 0"
     ]
    },
    {
     "name": "stdout",
     "output_type": "stream",
     "text": [
      "\r>> Converting image 954/2569 shard 0"
     ]
    },
    {
     "name": "stdout",
     "output_type": "stream",
     "text": [
      "\r>> Converting image 955/2569 shard 0"
     ]
    },
    {
     "name": "stdout",
     "output_type": "stream",
     "text": [
      "\r>> Converting image 956/2569 shard 0"
     ]
    },
    {
     "name": "stdout",
     "output_type": "stream",
     "text": [
      "\r>> Converting image 957/2569 shard 0"
     ]
    },
    {
     "name": "stdout",
     "output_type": "stream",
     "text": [
      "\r>> Converting image 958/2569 shard 0"
     ]
    },
    {
     "name": "stdout",
     "output_type": "stream",
     "text": [
      "\r>> Converting image 959/2569 shard 0"
     ]
    },
    {
     "name": "stdout",
     "output_type": "stream",
     "text": [
      "\r>> Converting image 960/2569 shard 0"
     ]
    },
    {
     "name": "stdout",
     "output_type": "stream",
     "text": [
      "\r>> Converting image 961/2569 shard 0"
     ]
    },
    {
     "name": "stdout",
     "output_type": "stream",
     "text": [
      "\r>> Converting image 962/2569 shard 0"
     ]
    },
    {
     "name": "stdout",
     "output_type": "stream",
     "text": [
      "\r>> Converting image 963/2569 shard 0"
     ]
    },
    {
     "name": "stdout",
     "output_type": "stream",
     "text": [
      "\r>> Converting image 964/2569 shard 0"
     ]
    },
    {
     "name": "stdout",
     "output_type": "stream",
     "text": [
      "\r>> Converting image 965/2569 shard 0"
     ]
    },
    {
     "name": "stdout",
     "output_type": "stream",
     "text": [
      "\r>> Converting image 966/2569 shard 0"
     ]
    },
    {
     "name": "stdout",
     "output_type": "stream",
     "text": [
      "\r>> Converting image 967/2569 shard 0"
     ]
    },
    {
     "name": "stdout",
     "output_type": "stream",
     "text": [
      "\r>> Converting image 968/2569 shard 0"
     ]
    },
    {
     "name": "stdout",
     "output_type": "stream",
     "text": [
      "\r>> Converting image 969/2569 shard 0"
     ]
    },
    {
     "name": "stdout",
     "output_type": "stream",
     "text": [
      "\r>> Converting image 970/2569 shard 0"
     ]
    },
    {
     "name": "stdout",
     "output_type": "stream",
     "text": [
      "\r>> Converting image 971/2569 shard 0"
     ]
    },
    {
     "name": "stdout",
     "output_type": "stream",
     "text": [
      "\r>> Converting image 972/2569 shard 0"
     ]
    },
    {
     "name": "stdout",
     "output_type": "stream",
     "text": [
      "\r>> Converting image 973/2569 shard 0"
     ]
    },
    {
     "name": "stdout",
     "output_type": "stream",
     "text": [
      "\r>> Converting image 974/2569 shard 0"
     ]
    },
    {
     "name": "stdout",
     "output_type": "stream",
     "text": [
      "\r>> Converting image 975/2569 shard 0"
     ]
    },
    {
     "name": "stdout",
     "output_type": "stream",
     "text": [
      "\r>> Converting image 976/2569 shard 0"
     ]
    },
    {
     "name": "stdout",
     "output_type": "stream",
     "text": [
      "\r>> Converting image 977/2569 shard 0"
     ]
    },
    {
     "name": "stdout",
     "output_type": "stream",
     "text": [
      "\r>> Converting image 978/2569 shard 0"
     ]
    },
    {
     "name": "stdout",
     "output_type": "stream",
     "text": [
      "\r>> Converting image 979/2569 shard 0"
     ]
    },
    {
     "name": "stdout",
     "output_type": "stream",
     "text": [
      "\r>> Converting image 980/2569 shard 0"
     ]
    },
    {
     "name": "stdout",
     "output_type": "stream",
     "text": [
      "\r>> Converting image 981/2569 shard 0"
     ]
    },
    {
     "name": "stdout",
     "output_type": "stream",
     "text": [
      "\r>> Converting image 982/2569 shard 0"
     ]
    },
    {
     "name": "stdout",
     "output_type": "stream",
     "text": [
      "\r>> Converting image 983/2569 shard 0"
     ]
    },
    {
     "name": "stdout",
     "output_type": "stream",
     "text": [
      "\r>> Converting image 984/2569 shard 0"
     ]
    },
    {
     "name": "stdout",
     "output_type": "stream",
     "text": [
      "\r>> Converting image 985/2569 shard 0"
     ]
    },
    {
     "name": "stdout",
     "output_type": "stream",
     "text": [
      "\r>> Converting image 986/2569 shard 0"
     ]
    },
    {
     "name": "stdout",
     "output_type": "stream",
     "text": [
      "\r>> Converting image 987/2569 shard 0"
     ]
    },
    {
     "name": "stdout",
     "output_type": "stream",
     "text": [
      "\r>> Converting image 988/2569 shard 0"
     ]
    },
    {
     "name": "stdout",
     "output_type": "stream",
     "text": [
      "\r>> Converting image 989/2569 shard 0"
     ]
    },
    {
     "name": "stdout",
     "output_type": "stream",
     "text": [
      "\r>> Converting image 990/2569 shard 0"
     ]
    },
    {
     "name": "stdout",
     "output_type": "stream",
     "text": [
      "\r>> Converting image 991/2569 shard 0"
     ]
    },
    {
     "name": "stdout",
     "output_type": "stream",
     "text": [
      "\r>> Converting image 992/2569 shard 0"
     ]
    },
    {
     "name": "stdout",
     "output_type": "stream",
     "text": [
      "\r>> Converting image 993/2569 shard 0"
     ]
    },
    {
     "name": "stdout",
     "output_type": "stream",
     "text": [
      "\r>> Converting image 994/2569 shard 0"
     ]
    },
    {
     "name": "stdout",
     "output_type": "stream",
     "text": [
      "\r>> Converting image 995/2569 shard 0"
     ]
    },
    {
     "name": "stdout",
     "output_type": "stream",
     "text": [
      "\r>> Converting image 996/2569 shard 0"
     ]
    },
    {
     "name": "stdout",
     "output_type": "stream",
     "text": [
      "\r>> Converting image 997/2569 shard 0"
     ]
    },
    {
     "name": "stdout",
     "output_type": "stream",
     "text": [
      "\r>> Converting image 998/2569 shard 0"
     ]
    },
    {
     "name": "stdout",
     "output_type": "stream",
     "text": [
      "\r>> Converting image 999/2569 shard 0"
     ]
    },
    {
     "name": "stdout",
     "output_type": "stream",
     "text": [
      "\r>> Converting image 1000/2569 shard 0"
     ]
    },
    {
     "name": "stdout",
     "output_type": "stream",
     "text": [
      "\r>> Converting image 1001/2569 shard 0"
     ]
    },
    {
     "name": "stdout",
     "output_type": "stream",
     "text": [
      "\r>> Converting image 1002/2569 shard 0"
     ]
    },
    {
     "name": "stdout",
     "output_type": "stream",
     "text": [
      "\r>> Converting image 1003/2569 shard 0"
     ]
    },
    {
     "name": "stdout",
     "output_type": "stream",
     "text": [
      "\r>> Converting image 1004/2569 shard 0"
     ]
    },
    {
     "name": "stdout",
     "output_type": "stream",
     "text": [
      "\r>> Converting image 1005/2569 shard 0"
     ]
    },
    {
     "name": "stdout",
     "output_type": "stream",
     "text": [
      "\r>> Converting image 1006/2569 shard 0"
     ]
    },
    {
     "name": "stdout",
     "output_type": "stream",
     "text": [
      "\r>> Converting image 1007/2569 shard 0"
     ]
    },
    {
     "name": "stdout",
     "output_type": "stream",
     "text": [
      "\r>> Converting image 1008/2569 shard 0"
     ]
    },
    {
     "name": "stdout",
     "output_type": "stream",
     "text": [
      "\r>> Converting image 1009/2569 shard 0"
     ]
    },
    {
     "name": "stdout",
     "output_type": "stream",
     "text": [
      "\r>> Converting image 1010/2569 shard 0"
     ]
    },
    {
     "name": "stdout",
     "output_type": "stream",
     "text": [
      "\r>> Converting image 1011/2569 shard 0"
     ]
    },
    {
     "name": "stdout",
     "output_type": "stream",
     "text": [
      "\r>> Converting image 1012/2569 shard 0"
     ]
    },
    {
     "name": "stdout",
     "output_type": "stream",
     "text": [
      "\r>> Converting image 1013/2569 shard 0"
     ]
    },
    {
     "name": "stdout",
     "output_type": "stream",
     "text": [
      "\r>> Converting image 1014/2569 shard 0"
     ]
    },
    {
     "name": "stdout",
     "output_type": "stream",
     "text": [
      "\r>> Converting image 1015/2569 shard 0"
     ]
    },
    {
     "name": "stdout",
     "output_type": "stream",
     "text": [
      "\r>> Converting image 1016/2569 shard 0"
     ]
    },
    {
     "name": "stdout",
     "output_type": "stream",
     "text": [
      "\r>> Converting image 1017/2569 shard 0"
     ]
    },
    {
     "name": "stdout",
     "output_type": "stream",
     "text": [
      "\r>> Converting image 1018/2569 shard 0"
     ]
    },
    {
     "name": "stdout",
     "output_type": "stream",
     "text": [
      "\r>> Converting image 1019/2569 shard 0"
     ]
    },
    {
     "name": "stdout",
     "output_type": "stream",
     "text": [
      "\r>> Converting image 1020/2569 shard 0"
     ]
    },
    {
     "name": "stdout",
     "output_type": "stream",
     "text": [
      "\r>> Converting image 1021/2569 shard 0"
     ]
    },
    {
     "name": "stdout",
     "output_type": "stream",
     "text": [
      "\r>> Converting image 1022/2569 shard 0"
     ]
    },
    {
     "name": "stdout",
     "output_type": "stream",
     "text": [
      "\r>> Converting image 1023/2569 shard 0"
     ]
    },
    {
     "name": "stdout",
     "output_type": "stream",
     "text": [
      "\r>> Converting image 1024/2569 shard 0"
     ]
    },
    {
     "name": "stdout",
     "output_type": "stream",
     "text": [
      "\r>> Converting image 1025/2569 shard 0"
     ]
    },
    {
     "name": "stdout",
     "output_type": "stream",
     "text": [
      "\r>> Converting image 1026/2569 shard 0"
     ]
    },
    {
     "name": "stdout",
     "output_type": "stream",
     "text": [
      "\r>> Converting image 1027/2569 shard 0"
     ]
    },
    {
     "name": "stdout",
     "output_type": "stream",
     "text": [
      "\r>> Converting image 1028/2569 shard 0"
     ]
    },
    {
     "name": "stdout",
     "output_type": "stream",
     "text": [
      "\r>> Converting image 1029/2569 shard 0"
     ]
    },
    {
     "name": "stdout",
     "output_type": "stream",
     "text": [
      "\r>> Converting image 1030/2569 shard 0"
     ]
    },
    {
     "name": "stdout",
     "output_type": "stream",
     "text": [
      "\r>> Converting image 1031/2569 shard 0"
     ]
    },
    {
     "name": "stdout",
     "output_type": "stream",
     "text": [
      "\r>> Converting image 1032/2569 shard 0"
     ]
    },
    {
     "name": "stdout",
     "output_type": "stream",
     "text": [
      "\r>> Converting image 1033/2569 shard 0"
     ]
    },
    {
     "name": "stdout",
     "output_type": "stream",
     "text": [
      "\r>> Converting image 1034/2569 shard 0"
     ]
    },
    {
     "name": "stdout",
     "output_type": "stream",
     "text": [
      "\r>> Converting image 1035/2569 shard 0"
     ]
    },
    {
     "name": "stdout",
     "output_type": "stream",
     "text": [
      "\r>> Converting image 1036/2569 shard 0"
     ]
    },
    {
     "name": "stdout",
     "output_type": "stream",
     "text": [
      "\r>> Converting image 1037/2569 shard 0"
     ]
    },
    {
     "name": "stdout",
     "output_type": "stream",
     "text": [
      "\r>> Converting image 1038/2569 shard 0"
     ]
    },
    {
     "name": "stdout",
     "output_type": "stream",
     "text": [
      "\r>> Converting image 1039/2569 shard 0"
     ]
    },
    {
     "name": "stdout",
     "output_type": "stream",
     "text": [
      "\r>> Converting image 1040/2569 shard 0"
     ]
    },
    {
     "name": "stdout",
     "output_type": "stream",
     "text": [
      "\r>> Converting image 1041/2569 shard 0"
     ]
    },
    {
     "name": "stdout",
     "output_type": "stream",
     "text": [
      "\r>> Converting image 1042/2569 shard 0"
     ]
    },
    {
     "name": "stdout",
     "output_type": "stream",
     "text": [
      "\r>> Converting image 1043/2569 shard 0"
     ]
    },
    {
     "name": "stdout",
     "output_type": "stream",
     "text": [
      "\r>> Converting image 1044/2569 shard 0"
     ]
    },
    {
     "name": "stdout",
     "output_type": "stream",
     "text": [
      "\r>> Converting image 1045/2569 shard 0"
     ]
    },
    {
     "name": "stdout",
     "output_type": "stream",
     "text": [
      "\r>> Converting image 1046/2569 shard 0"
     ]
    },
    {
     "name": "stdout",
     "output_type": "stream",
     "text": [
      "\r>> Converting image 1047/2569 shard 0"
     ]
    },
    {
     "name": "stdout",
     "output_type": "stream",
     "text": [
      "\r>> Converting image 1048/2569 shard 0"
     ]
    },
    {
     "name": "stdout",
     "output_type": "stream",
     "text": [
      "\r>> Converting image 1049/2569 shard 0"
     ]
    },
    {
     "name": "stdout",
     "output_type": "stream",
     "text": [
      "\r>> Converting image 1050/2569 shard 0"
     ]
    },
    {
     "name": "stdout",
     "output_type": "stream",
     "text": [
      "\r>> Converting image 1051/2569 shard 0"
     ]
    },
    {
     "name": "stdout",
     "output_type": "stream",
     "text": [
      "\r>> Converting image 1052/2569 shard 0"
     ]
    },
    {
     "name": "stdout",
     "output_type": "stream",
     "text": [
      "\r>> Converting image 1053/2569 shard 0"
     ]
    },
    {
     "name": "stdout",
     "output_type": "stream",
     "text": [
      "\r>> Converting image 1054/2569 shard 0"
     ]
    },
    {
     "name": "stdout",
     "output_type": "stream",
     "text": [
      "\r>> Converting image 1055/2569 shard 0"
     ]
    },
    {
     "name": "stdout",
     "output_type": "stream",
     "text": [
      "\r>> Converting image 1056/2569 shard 0"
     ]
    },
    {
     "name": "stdout",
     "output_type": "stream",
     "text": [
      "\r>> Converting image 1057/2569 shard 0"
     ]
    },
    {
     "name": "stdout",
     "output_type": "stream",
     "text": [
      "\r>> Converting image 1058/2569 shard 0"
     ]
    },
    {
     "name": "stdout",
     "output_type": "stream",
     "text": [
      "\r>> Converting image 1059/2569 shard 0"
     ]
    },
    {
     "name": "stdout",
     "output_type": "stream",
     "text": [
      "\r>> Converting image 1060/2569 shard 0"
     ]
    },
    {
     "name": "stdout",
     "output_type": "stream",
     "text": [
      "\r>> Converting image 1061/2569 shard 0"
     ]
    },
    {
     "name": "stdout",
     "output_type": "stream",
     "text": [
      "\r>> Converting image 1062/2569 shard 0"
     ]
    },
    {
     "name": "stdout",
     "output_type": "stream",
     "text": [
      "\r>> Converting image 1063/2569 shard 0"
     ]
    },
    {
     "name": "stdout",
     "output_type": "stream",
     "text": [
      "\r>> Converting image 1064/2569 shard 0"
     ]
    },
    {
     "name": "stdout",
     "output_type": "stream",
     "text": [
      "\r>> Converting image 1065/2569 shard 0"
     ]
    },
    {
     "name": "stdout",
     "output_type": "stream",
     "text": [
      "\r>> Converting image 1066/2569 shard 0"
     ]
    },
    {
     "name": "stdout",
     "output_type": "stream",
     "text": [
      "\r>> Converting image 1067/2569 shard 0"
     ]
    },
    {
     "name": "stdout",
     "output_type": "stream",
     "text": [
      "\r>> Converting image 1068/2569 shard 0"
     ]
    },
    {
     "name": "stdout",
     "output_type": "stream",
     "text": [
      "\r>> Converting image 1069/2569 shard 0"
     ]
    },
    {
     "name": "stdout",
     "output_type": "stream",
     "text": [
      "\r>> Converting image 1070/2569 shard 0"
     ]
    },
    {
     "name": "stdout",
     "output_type": "stream",
     "text": [
      "\r>> Converting image 1071/2569 shard 0"
     ]
    },
    {
     "name": "stdout",
     "output_type": "stream",
     "text": [
      "\r>> Converting image 1072/2569 shard 0"
     ]
    },
    {
     "name": "stdout",
     "output_type": "stream",
     "text": [
      "\r>> Converting image 1073/2569 shard 0"
     ]
    },
    {
     "name": "stdout",
     "output_type": "stream",
     "text": [
      "\r>> Converting image 1074/2569 shard 0"
     ]
    },
    {
     "name": "stdout",
     "output_type": "stream",
     "text": [
      "\r>> Converting image 1075/2569 shard 0"
     ]
    },
    {
     "name": "stdout",
     "output_type": "stream",
     "text": [
      "\r>> Converting image 1076/2569 shard 0"
     ]
    },
    {
     "name": "stdout",
     "output_type": "stream",
     "text": [
      "\r>> Converting image 1077/2569 shard 0"
     ]
    },
    {
     "name": "stdout",
     "output_type": "stream",
     "text": [
      "\r>> Converting image 1078/2569 shard 0"
     ]
    },
    {
     "name": "stdout",
     "output_type": "stream",
     "text": [
      "\r>> Converting image 1079/2569 shard 0"
     ]
    },
    {
     "name": "stdout",
     "output_type": "stream",
     "text": [
      "\r>> Converting image 1080/2569 shard 0"
     ]
    },
    {
     "name": "stdout",
     "output_type": "stream",
     "text": [
      "\r>> Converting image 1081/2569 shard 0"
     ]
    },
    {
     "name": "stdout",
     "output_type": "stream",
     "text": [
      "\r>> Converting image 1082/2569 shard 0"
     ]
    },
    {
     "name": "stdout",
     "output_type": "stream",
     "text": [
      "\r>> Converting image 1083/2569 shard 0"
     ]
    },
    {
     "name": "stdout",
     "output_type": "stream",
     "text": [
      "\r>> Converting image 1084/2569 shard 0"
     ]
    },
    {
     "name": "stdout",
     "output_type": "stream",
     "text": [
      "\r>> Converting image 1085/2569 shard 0"
     ]
    },
    {
     "name": "stdout",
     "output_type": "stream",
     "text": [
      "\r>> Converting image 1086/2569 shard 0"
     ]
    },
    {
     "name": "stdout",
     "output_type": "stream",
     "text": [
      "\r>> Converting image 1087/2569 shard 0"
     ]
    },
    {
     "name": "stdout",
     "output_type": "stream",
     "text": [
      "\r>> Converting image 1088/2569 shard 0"
     ]
    },
    {
     "name": "stdout",
     "output_type": "stream",
     "text": [
      "\r>> Converting image 1089/2569 shard 0"
     ]
    },
    {
     "name": "stdout",
     "output_type": "stream",
     "text": [
      "\r>> Converting image 1090/2569 shard 0"
     ]
    },
    {
     "name": "stdout",
     "output_type": "stream",
     "text": [
      "\r>> Converting image 1091/2569 shard 0"
     ]
    },
    {
     "name": "stdout",
     "output_type": "stream",
     "text": [
      "\r>> Converting image 1092/2569 shard 0"
     ]
    },
    {
     "name": "stdout",
     "output_type": "stream",
     "text": [
      "\r>> Converting image 1093/2569 shard 0"
     ]
    },
    {
     "name": "stdout",
     "output_type": "stream",
     "text": [
      "\r>> Converting image 1094/2569 shard 0"
     ]
    },
    {
     "name": "stdout",
     "output_type": "stream",
     "text": [
      "\r>> Converting image 1095/2569 shard 0"
     ]
    },
    {
     "name": "stdout",
     "output_type": "stream",
     "text": [
      "\r>> Converting image 1096/2569 shard 0"
     ]
    },
    {
     "name": "stdout",
     "output_type": "stream",
     "text": [
      "\r>> Converting image 1097/2569 shard 0"
     ]
    },
    {
     "name": "stdout",
     "output_type": "stream",
     "text": [
      "\r>> Converting image 1098/2569 shard 0"
     ]
    },
    {
     "name": "stdout",
     "output_type": "stream",
     "text": [
      "\r>> Converting image 1099/2569 shard 0"
     ]
    },
    {
     "name": "stdout",
     "output_type": "stream",
     "text": [
      "\r>> Converting image 1100/2569 shard 0"
     ]
    },
    {
     "name": "stdout",
     "output_type": "stream",
     "text": [
      "\r>> Converting image 1101/2569 shard 0"
     ]
    },
    {
     "name": "stdout",
     "output_type": "stream",
     "text": [
      "\r>> Converting image 1102/2569 shard 0"
     ]
    },
    {
     "name": "stdout",
     "output_type": "stream",
     "text": [
      "\r>> Converting image 1103/2569 shard 0"
     ]
    },
    {
     "name": "stdout",
     "output_type": "stream",
     "text": [
      "\r>> Converting image 1104/2569 shard 0"
     ]
    },
    {
     "name": "stdout",
     "output_type": "stream",
     "text": [
      "\r>> Converting image 1105/2569 shard 0"
     ]
    },
    {
     "name": "stdout",
     "output_type": "stream",
     "text": [
      "\r>> Converting image 1106/2569 shard 0"
     ]
    },
    {
     "name": "stdout",
     "output_type": "stream",
     "text": [
      "\r>> Converting image 1107/2569 shard 0"
     ]
    },
    {
     "name": "stdout",
     "output_type": "stream",
     "text": [
      "\r>> Converting image 1108/2569 shard 0"
     ]
    },
    {
     "name": "stdout",
     "output_type": "stream",
     "text": [
      "\r>> Converting image 1109/2569 shard 0"
     ]
    },
    {
     "name": "stdout",
     "output_type": "stream",
     "text": [
      "\r>> Converting image 1110/2569 shard 0"
     ]
    },
    {
     "name": "stdout",
     "output_type": "stream",
     "text": [
      "\r>> Converting image 1111/2569 shard 0"
     ]
    },
    {
     "name": "stdout",
     "output_type": "stream",
     "text": [
      "\r>> Converting image 1112/2569 shard 0"
     ]
    },
    {
     "name": "stdout",
     "output_type": "stream",
     "text": [
      "\r>> Converting image 1113/2569 shard 0"
     ]
    },
    {
     "name": "stdout",
     "output_type": "stream",
     "text": [
      "\r>> Converting image 1114/2569 shard 0"
     ]
    },
    {
     "name": "stdout",
     "output_type": "stream",
     "text": [
      "\r>> Converting image 1115/2569 shard 0"
     ]
    },
    {
     "name": "stdout",
     "output_type": "stream",
     "text": [
      "\r>> Converting image 1116/2569 shard 0"
     ]
    },
    {
     "name": "stdout",
     "output_type": "stream",
     "text": [
      "\r>> Converting image 1117/2569 shard 0"
     ]
    },
    {
     "name": "stdout",
     "output_type": "stream",
     "text": [
      "\r>> Converting image 1118/2569 shard 0"
     ]
    },
    {
     "name": "stdout",
     "output_type": "stream",
     "text": [
      "\r>> Converting image 1119/2569 shard 0"
     ]
    },
    {
     "name": "stdout",
     "output_type": "stream",
     "text": [
      "\r>> Converting image 1120/2569 shard 0"
     ]
    },
    {
     "name": "stdout",
     "output_type": "stream",
     "text": [
      "\r>> Converting image 1121/2569 shard 0"
     ]
    },
    {
     "name": "stdout",
     "output_type": "stream",
     "text": [
      "\r>> Converting image 1122/2569 shard 0"
     ]
    },
    {
     "name": "stdout",
     "output_type": "stream",
     "text": [
      "\r>> Converting image 1123/2569 shard 0"
     ]
    },
    {
     "name": "stdout",
     "output_type": "stream",
     "text": [
      "\r>> Converting image 1124/2569 shard 0"
     ]
    },
    {
     "name": "stdout",
     "output_type": "stream",
     "text": [
      "\r>> Converting image 1125/2569 shard 0"
     ]
    },
    {
     "name": "stdout",
     "output_type": "stream",
     "text": [
      "\r>> Converting image 1126/2569 shard 0"
     ]
    },
    {
     "name": "stdout",
     "output_type": "stream",
     "text": [
      "\r>> Converting image 1127/2569 shard 0"
     ]
    },
    {
     "name": "stdout",
     "output_type": "stream",
     "text": [
      "\r>> Converting image 1128/2569 shard 0"
     ]
    },
    {
     "name": "stdout",
     "output_type": "stream",
     "text": [
      "\r>> Converting image 1129/2569 shard 0"
     ]
    },
    {
     "name": "stdout",
     "output_type": "stream",
     "text": [
      "\r>> Converting image 1130/2569 shard 0"
     ]
    },
    {
     "name": "stdout",
     "output_type": "stream",
     "text": [
      "\r>> Converting image 1131/2569 shard 0"
     ]
    },
    {
     "name": "stdout",
     "output_type": "stream",
     "text": [
      "\r>> Converting image 1132/2569 shard 0"
     ]
    },
    {
     "name": "stdout",
     "output_type": "stream",
     "text": [
      "\r>> Converting image 1133/2569 shard 0"
     ]
    },
    {
     "name": "stdout",
     "output_type": "stream",
     "text": [
      "\r>> Converting image 1134/2569 shard 0"
     ]
    },
    {
     "name": "stdout",
     "output_type": "stream",
     "text": [
      "\r>> Converting image 1135/2569 shard 0"
     ]
    },
    {
     "name": "stdout",
     "output_type": "stream",
     "text": [
      "\r>> Converting image 1136/2569 shard 0"
     ]
    },
    {
     "name": "stdout",
     "output_type": "stream",
     "text": [
      "\r>> Converting image 1137/2569 shard 0"
     ]
    },
    {
     "name": "stdout",
     "output_type": "stream",
     "text": [
      "\r>> Converting image 1138/2569 shard 0"
     ]
    },
    {
     "name": "stdout",
     "output_type": "stream",
     "text": [
      "\r>> Converting image 1139/2569 shard 0"
     ]
    },
    {
     "name": "stdout",
     "output_type": "stream",
     "text": [
      "\r>> Converting image 1140/2569 shard 0"
     ]
    },
    {
     "name": "stdout",
     "output_type": "stream",
     "text": [
      "\r>> Converting image 1141/2569 shard 0"
     ]
    },
    {
     "name": "stdout",
     "output_type": "stream",
     "text": [
      "\r>> Converting image 1142/2569 shard 0"
     ]
    },
    {
     "name": "stdout",
     "output_type": "stream",
     "text": [
      "\r>> Converting image 1143/2569 shard 0"
     ]
    },
    {
     "name": "stdout",
     "output_type": "stream",
     "text": [
      "\r>> Converting image 1144/2569 shard 0"
     ]
    },
    {
     "name": "stdout",
     "output_type": "stream",
     "text": [
      "\r>> Converting image 1145/2569 shard 0"
     ]
    },
    {
     "name": "stdout",
     "output_type": "stream",
     "text": [
      "\r>> Converting image 1146/2569 shard 0"
     ]
    },
    {
     "name": "stdout",
     "output_type": "stream",
     "text": [
      "\r>> Converting image 1147/2569 shard 0"
     ]
    },
    {
     "name": "stdout",
     "output_type": "stream",
     "text": [
      "\r>> Converting image 1148/2569 shard 0"
     ]
    },
    {
     "name": "stdout",
     "output_type": "stream",
     "text": [
      "\r>> Converting image 1149/2569 shard 0"
     ]
    },
    {
     "name": "stdout",
     "output_type": "stream",
     "text": [
      "\r>> Converting image 1150/2569 shard 0"
     ]
    },
    {
     "name": "stdout",
     "output_type": "stream",
     "text": [
      "\r>> Converting image 1151/2569 shard 0"
     ]
    },
    {
     "name": "stdout",
     "output_type": "stream",
     "text": [
      "\r>> Converting image 1152/2569 shard 0"
     ]
    },
    {
     "name": "stdout",
     "output_type": "stream",
     "text": [
      "\r>> Converting image 1153/2569 shard 0"
     ]
    },
    {
     "name": "stdout",
     "output_type": "stream",
     "text": [
      "\r>> Converting image 1154/2569 shard 0"
     ]
    },
    {
     "name": "stdout",
     "output_type": "stream",
     "text": [
      "\r>> Converting image 1155/2569 shard 0"
     ]
    },
    {
     "name": "stdout",
     "output_type": "stream",
     "text": [
      "\r>> Converting image 1156/2569 shard 0"
     ]
    },
    {
     "name": "stdout",
     "output_type": "stream",
     "text": [
      "\r>> Converting image 1157/2569 shard 0"
     ]
    },
    {
     "name": "stdout",
     "output_type": "stream",
     "text": [
      "\r>> Converting image 1158/2569 shard 0"
     ]
    },
    {
     "name": "stdout",
     "output_type": "stream",
     "text": [
      "\r>> Converting image 1159/2569 shard 0"
     ]
    },
    {
     "name": "stdout",
     "output_type": "stream",
     "text": [
      "\r>> Converting image 1160/2569 shard 0"
     ]
    },
    {
     "name": "stdout",
     "output_type": "stream",
     "text": [
      "\r>> Converting image 1161/2569 shard 0"
     ]
    },
    {
     "name": "stdout",
     "output_type": "stream",
     "text": [
      "\r>> Converting image 1162/2569 shard 0"
     ]
    },
    {
     "name": "stdout",
     "output_type": "stream",
     "text": [
      "\r>> Converting image 1163/2569 shard 0"
     ]
    },
    {
     "name": "stdout",
     "output_type": "stream",
     "text": [
      "\r>> Converting image 1164/2569 shard 0"
     ]
    },
    {
     "name": "stdout",
     "output_type": "stream",
     "text": [
      "\r>> Converting image 1165/2569 shard 0"
     ]
    },
    {
     "name": "stdout",
     "output_type": "stream",
     "text": [
      "\r>> Converting image 1166/2569 shard 0"
     ]
    },
    {
     "name": "stdout",
     "output_type": "stream",
     "text": [
      "\r>> Converting image 1167/2569 shard 0"
     ]
    },
    {
     "name": "stdout",
     "output_type": "stream",
     "text": [
      "\r>> Converting image 1168/2569 shard 0"
     ]
    },
    {
     "name": "stdout",
     "output_type": "stream",
     "text": [
      "\r>> Converting image 1169/2569 shard 0"
     ]
    },
    {
     "name": "stdout",
     "output_type": "stream",
     "text": [
      "\r>> Converting image 1170/2569 shard 0"
     ]
    },
    {
     "name": "stdout",
     "output_type": "stream",
     "text": [
      "\r>> Converting image 1171/2569 shard 0"
     ]
    },
    {
     "name": "stdout",
     "output_type": "stream",
     "text": [
      "\r>> Converting image 1172/2569 shard 0"
     ]
    },
    {
     "name": "stdout",
     "output_type": "stream",
     "text": [
      "\r>> Converting image 1173/2569 shard 0"
     ]
    },
    {
     "name": "stdout",
     "output_type": "stream",
     "text": [
      "\r>> Converting image 1174/2569 shard 0"
     ]
    },
    {
     "name": "stdout",
     "output_type": "stream",
     "text": [
      "\r>> Converting image 1175/2569 shard 0"
     ]
    },
    {
     "name": "stdout",
     "output_type": "stream",
     "text": [
      "\r>> Converting image 1176/2569 shard 0"
     ]
    },
    {
     "name": "stdout",
     "output_type": "stream",
     "text": [
      "\r>> Converting image 1177/2569 shard 0"
     ]
    },
    {
     "name": "stdout",
     "output_type": "stream",
     "text": [
      "\r>> Converting image 1178/2569 shard 0"
     ]
    },
    {
     "name": "stdout",
     "output_type": "stream",
     "text": [
      "\r>> Converting image 1179/2569 shard 0"
     ]
    },
    {
     "name": "stdout",
     "output_type": "stream",
     "text": [
      "\r>> Converting image 1180/2569 shard 0"
     ]
    },
    {
     "name": "stdout",
     "output_type": "stream",
     "text": [
      "\r>> Converting image 1181/2569 shard 0"
     ]
    },
    {
     "name": "stdout",
     "output_type": "stream",
     "text": [
      "\r>> Converting image 1182/2569 shard 0"
     ]
    },
    {
     "name": "stdout",
     "output_type": "stream",
     "text": [
      "\r>> Converting image 1183/2569 shard 0"
     ]
    },
    {
     "name": "stdout",
     "output_type": "stream",
     "text": [
      "\r>> Converting image 1184/2569 shard 0"
     ]
    },
    {
     "name": "stdout",
     "output_type": "stream",
     "text": [
      "\r>> Converting image 1185/2569 shard 0"
     ]
    },
    {
     "name": "stdout",
     "output_type": "stream",
     "text": [
      "\r>> Converting image 1186/2569 shard 0"
     ]
    },
    {
     "name": "stdout",
     "output_type": "stream",
     "text": [
      "\r>> Converting image 1187/2569 shard 0"
     ]
    },
    {
     "name": "stdout",
     "output_type": "stream",
     "text": [
      "\r>> Converting image 1188/2569 shard 0"
     ]
    },
    {
     "name": "stdout",
     "output_type": "stream",
     "text": [
      "\r>> Converting image 1189/2569 shard 0"
     ]
    },
    {
     "name": "stdout",
     "output_type": "stream",
     "text": [
      "\r>> Converting image 1190/2569 shard 0"
     ]
    },
    {
     "name": "stdout",
     "output_type": "stream",
     "text": [
      "\r>> Converting image 1191/2569 shard 0"
     ]
    },
    {
     "name": "stdout",
     "output_type": "stream",
     "text": [
      "\r>> Converting image 1192/2569 shard 0"
     ]
    },
    {
     "name": "stdout",
     "output_type": "stream",
     "text": [
      "\r>> Converting image 1193/2569 shard 0"
     ]
    },
    {
     "name": "stdout",
     "output_type": "stream",
     "text": [
      "\r>> Converting image 1194/2569 shard 0"
     ]
    },
    {
     "name": "stdout",
     "output_type": "stream",
     "text": [
      "\r>> Converting image 1195/2569 shard 0"
     ]
    },
    {
     "name": "stdout",
     "output_type": "stream",
     "text": [
      "\r>> Converting image 1196/2569 shard 0"
     ]
    },
    {
     "name": "stdout",
     "output_type": "stream",
     "text": [
      "\r>> Converting image 1197/2569 shard 0"
     ]
    },
    {
     "name": "stdout",
     "output_type": "stream",
     "text": [
      "\r>> Converting image 1198/2569 shard 0"
     ]
    },
    {
     "name": "stdout",
     "output_type": "stream",
     "text": [
      "\r>> Converting image 1199/2569 shard 0"
     ]
    },
    {
     "name": "stdout",
     "output_type": "stream",
     "text": [
      "\r>> Converting image 1200/2569 shard 0"
     ]
    },
    {
     "name": "stdout",
     "output_type": "stream",
     "text": [
      "\r>> Converting image 1201/2569 shard 0"
     ]
    },
    {
     "name": "stdout",
     "output_type": "stream",
     "text": [
      "\r>> Converting image 1202/2569 shard 0"
     ]
    },
    {
     "name": "stdout",
     "output_type": "stream",
     "text": [
      "\r>> Converting image 1203/2569 shard 0"
     ]
    },
    {
     "name": "stdout",
     "output_type": "stream",
     "text": [
      "\r>> Converting image 1204/2569 shard 0"
     ]
    },
    {
     "name": "stdout",
     "output_type": "stream",
     "text": [
      "\r>> Converting image 1205/2569 shard 0"
     ]
    },
    {
     "name": "stdout",
     "output_type": "stream",
     "text": [
      "\r>> Converting image 1206/2569 shard 0"
     ]
    },
    {
     "name": "stdout",
     "output_type": "stream",
     "text": [
      "\r>> Converting image 1207/2569 shard 0"
     ]
    },
    {
     "name": "stdout",
     "output_type": "stream",
     "text": [
      "\r>> Converting image 1208/2569 shard 0"
     ]
    },
    {
     "name": "stdout",
     "output_type": "stream",
     "text": [
      "\r>> Converting image 1209/2569 shard 0"
     ]
    },
    {
     "name": "stdout",
     "output_type": "stream",
     "text": [
      "\r>> Converting image 1210/2569 shard 0"
     ]
    },
    {
     "name": "stdout",
     "output_type": "stream",
     "text": [
      "\r>> Converting image 1211/2569 shard 0"
     ]
    },
    {
     "name": "stdout",
     "output_type": "stream",
     "text": [
      "\r>> Converting image 1212/2569 shard 0"
     ]
    },
    {
     "name": "stdout",
     "output_type": "stream",
     "text": [
      "\r>> Converting image 1213/2569 shard 0"
     ]
    },
    {
     "name": "stdout",
     "output_type": "stream",
     "text": [
      "\r>> Converting image 1214/2569 shard 0"
     ]
    },
    {
     "name": "stdout",
     "output_type": "stream",
     "text": [
      "\r>> Converting image 1215/2569 shard 0"
     ]
    },
    {
     "name": "stdout",
     "output_type": "stream",
     "text": [
      "\r>> Converting image 1216/2569 shard 0"
     ]
    },
    {
     "name": "stdout",
     "output_type": "stream",
     "text": [
      "\r>> Converting image 1217/2569 shard 0"
     ]
    },
    {
     "name": "stdout",
     "output_type": "stream",
     "text": [
      "\r>> Converting image 1218/2569 shard 0"
     ]
    },
    {
     "name": "stdout",
     "output_type": "stream",
     "text": [
      "\r>> Converting image 1219/2569 shard 0"
     ]
    },
    {
     "name": "stdout",
     "output_type": "stream",
     "text": [
      "\r>> Converting image 1220/2569 shard 0"
     ]
    },
    {
     "name": "stdout",
     "output_type": "stream",
     "text": [
      "\r>> Converting image 1221/2569 shard 0"
     ]
    },
    {
     "name": "stdout",
     "output_type": "stream",
     "text": [
      "\r>> Converting image 1222/2569 shard 0"
     ]
    },
    {
     "name": "stdout",
     "output_type": "stream",
     "text": [
      "\r>> Converting image 1223/2569 shard 0"
     ]
    },
    {
     "name": "stdout",
     "output_type": "stream",
     "text": [
      "\r>> Converting image 1224/2569 shard 0"
     ]
    },
    {
     "name": "stdout",
     "output_type": "stream",
     "text": [
      "\r>> Converting image 1225/2569 shard 0"
     ]
    },
    {
     "name": "stdout",
     "output_type": "stream",
     "text": [
      "\r>> Converting image 1226/2569 shard 0"
     ]
    },
    {
     "name": "stdout",
     "output_type": "stream",
     "text": [
      "\r>> Converting image 1227/2569 shard 0"
     ]
    },
    {
     "name": "stdout",
     "output_type": "stream",
     "text": [
      "\r>> Converting image 1228/2569 shard 0"
     ]
    },
    {
     "name": "stdout",
     "output_type": "stream",
     "text": [
      "\r>> Converting image 1229/2569 shard 0"
     ]
    },
    {
     "name": "stdout",
     "output_type": "stream",
     "text": [
      "\r>> Converting image 1230/2569 shard 0"
     ]
    },
    {
     "name": "stdout",
     "output_type": "stream",
     "text": [
      "\r>> Converting image 1231/2569 shard 0"
     ]
    },
    {
     "name": "stdout",
     "output_type": "stream",
     "text": [
      "\r>> Converting image 1232/2569 shard 0"
     ]
    },
    {
     "name": "stdout",
     "output_type": "stream",
     "text": [
      "\r>> Converting image 1233/2569 shard 0"
     ]
    },
    {
     "name": "stdout",
     "output_type": "stream",
     "text": [
      "\r>> Converting image 1234/2569 shard 0"
     ]
    },
    {
     "name": "stdout",
     "output_type": "stream",
     "text": [
      "\r>> Converting image 1235/2569 shard 0"
     ]
    },
    {
     "name": "stdout",
     "output_type": "stream",
     "text": [
      "\r>> Converting image 1236/2569 shard 0"
     ]
    },
    {
     "name": "stdout",
     "output_type": "stream",
     "text": [
      "\r>> Converting image 1237/2569 shard 0"
     ]
    },
    {
     "name": "stdout",
     "output_type": "stream",
     "text": [
      "\r>> Converting image 1238/2569 shard 0"
     ]
    },
    {
     "name": "stdout",
     "output_type": "stream",
     "text": [
      "\r>> Converting image 1239/2569 shard 0"
     ]
    },
    {
     "name": "stdout",
     "output_type": "stream",
     "text": [
      "\r>> Converting image 1240/2569 shard 0"
     ]
    },
    {
     "name": "stdout",
     "output_type": "stream",
     "text": [
      "\r>> Converting image 1241/2569 shard 0"
     ]
    },
    {
     "name": "stdout",
     "output_type": "stream",
     "text": [
      "\r>> Converting image 1242/2569 shard 0"
     ]
    },
    {
     "name": "stdout",
     "output_type": "stream",
     "text": [
      "\r>> Converting image 1243/2569 shard 0"
     ]
    },
    {
     "name": "stdout",
     "output_type": "stream",
     "text": [
      "\r>> Converting image 1244/2569 shard 0"
     ]
    },
    {
     "name": "stdout",
     "output_type": "stream",
     "text": [
      "\r>> Converting image 1245/2569 shard 0"
     ]
    },
    {
     "name": "stdout",
     "output_type": "stream",
     "text": [
      "\r>> Converting image 1246/2569 shard 0"
     ]
    },
    {
     "name": "stdout",
     "output_type": "stream",
     "text": [
      "\r>> Converting image 1247/2569 shard 0"
     ]
    },
    {
     "name": "stdout",
     "output_type": "stream",
     "text": [
      "\r>> Converting image 1248/2569 shard 0"
     ]
    },
    {
     "name": "stdout",
     "output_type": "stream",
     "text": [
      "\r>> Converting image 1249/2569 shard 0"
     ]
    },
    {
     "name": "stdout",
     "output_type": "stream",
     "text": [
      "\r>> Converting image 1250/2569 shard 0"
     ]
    },
    {
     "name": "stdout",
     "output_type": "stream",
     "text": [
      "\r>> Converting image 1251/2569 shard 0"
     ]
    },
    {
     "name": "stdout",
     "output_type": "stream",
     "text": [
      "\r>> Converting image 1252/2569 shard 0"
     ]
    },
    {
     "name": "stdout",
     "output_type": "stream",
     "text": [
      "\r>> Converting image 1253/2569 shard 0"
     ]
    },
    {
     "name": "stdout",
     "output_type": "stream",
     "text": [
      "\r>> Converting image 1254/2569 shard 0"
     ]
    },
    {
     "name": "stdout",
     "output_type": "stream",
     "text": [
      "\r>> Converting image 1255/2569 shard 0"
     ]
    },
    {
     "name": "stdout",
     "output_type": "stream",
     "text": [
      "\r>> Converting image 1256/2569 shard 0"
     ]
    },
    {
     "name": "stdout",
     "output_type": "stream",
     "text": [
      "\r>> Converting image 1257/2569 shard 0"
     ]
    },
    {
     "name": "stdout",
     "output_type": "stream",
     "text": [
      "\r>> Converting image 1258/2569 shard 0"
     ]
    },
    {
     "name": "stdout",
     "output_type": "stream",
     "text": [
      "\r>> Converting image 1259/2569 shard 0"
     ]
    },
    {
     "name": "stdout",
     "output_type": "stream",
     "text": [
      "\r>> Converting image 1260/2569 shard 0"
     ]
    },
    {
     "name": "stdout",
     "output_type": "stream",
     "text": [
      "\r>> Converting image 1261/2569 shard 0"
     ]
    },
    {
     "name": "stdout",
     "output_type": "stream",
     "text": [
      "\r>> Converting image 1262/2569 shard 0"
     ]
    },
    {
     "name": "stdout",
     "output_type": "stream",
     "text": [
      "\r>> Converting image 1263/2569 shard 0"
     ]
    },
    {
     "name": "stdout",
     "output_type": "stream",
     "text": [
      "\r>> Converting image 1264/2569 shard 0"
     ]
    },
    {
     "name": "stdout",
     "output_type": "stream",
     "text": [
      "\r>> Converting image 1265/2569 shard 0"
     ]
    },
    {
     "name": "stdout",
     "output_type": "stream",
     "text": [
      "\r>> Converting image 1266/2569 shard 0"
     ]
    },
    {
     "name": "stdout",
     "output_type": "stream",
     "text": [
      "\r>> Converting image 1267/2569 shard 0"
     ]
    },
    {
     "name": "stdout",
     "output_type": "stream",
     "text": [
      "\r>> Converting image 1268/2569 shard 0"
     ]
    },
    {
     "name": "stdout",
     "output_type": "stream",
     "text": [
      "\r>> Converting image 1269/2569 shard 0"
     ]
    },
    {
     "name": "stdout",
     "output_type": "stream",
     "text": [
      "\r>> Converting image 1270/2569 shard 0"
     ]
    },
    {
     "name": "stdout",
     "output_type": "stream",
     "text": [
      "\r>> Converting image 1271/2569 shard 0"
     ]
    },
    {
     "name": "stdout",
     "output_type": "stream",
     "text": [
      "\r>> Converting image 1272/2569 shard 0"
     ]
    },
    {
     "name": "stdout",
     "output_type": "stream",
     "text": [
      "\r>> Converting image 1273/2569 shard 0"
     ]
    },
    {
     "name": "stdout",
     "output_type": "stream",
     "text": [
      "\r>> Converting image 1274/2569 shard 0"
     ]
    },
    {
     "name": "stdout",
     "output_type": "stream",
     "text": [
      "\r>> Converting image 1275/2569 shard 0"
     ]
    },
    {
     "name": "stdout",
     "output_type": "stream",
     "text": [
      "\r>> Converting image 1276/2569 shard 0"
     ]
    },
    {
     "name": "stdout",
     "output_type": "stream",
     "text": [
      "\r>> Converting image 1277/2569 shard 0"
     ]
    },
    {
     "name": "stdout",
     "output_type": "stream",
     "text": [
      "\r>> Converting image 1278/2569 shard 0"
     ]
    },
    {
     "name": "stdout",
     "output_type": "stream",
     "text": [
      "\r>> Converting image 1279/2569 shard 0"
     ]
    },
    {
     "name": "stdout",
     "output_type": "stream",
     "text": [
      "\r>> Converting image 1280/2569 shard 0"
     ]
    },
    {
     "name": "stdout",
     "output_type": "stream",
     "text": [
      "\r>> Converting image 1281/2569 shard 0"
     ]
    },
    {
     "name": "stdout",
     "output_type": "stream",
     "text": [
      "\r>> Converting image 1282/2569 shard 0"
     ]
    },
    {
     "name": "stdout",
     "output_type": "stream",
     "text": [
      "\r>> Converting image 1283/2569 shard 0"
     ]
    },
    {
     "name": "stdout",
     "output_type": "stream",
     "text": [
      "\r>> Converting image 1284/2569 shard 0"
     ]
    },
    {
     "name": "stdout",
     "output_type": "stream",
     "text": [
      "\r>> Converting image 1285/2569 shard 0"
     ]
    },
    {
     "name": "stdout",
     "output_type": "stream",
     "text": [
      "\r>> Converting image 1286/2569 shard 1"
     ]
    },
    {
     "name": "stdout",
     "output_type": "stream",
     "text": [
      "\r>> Converting image 1287/2569 shard 1"
     ]
    },
    {
     "name": "stdout",
     "output_type": "stream",
     "text": [
      "\r>> Converting image 1288/2569 shard 1"
     ]
    },
    {
     "name": "stdout",
     "output_type": "stream",
     "text": [
      "\r>> Converting image 1289/2569 shard 1"
     ]
    },
    {
     "name": "stdout",
     "output_type": "stream",
     "text": [
      "\r>> Converting image 1290/2569 shard 1"
     ]
    },
    {
     "name": "stdout",
     "output_type": "stream",
     "text": [
      "\r>> Converting image 1291/2569 shard 1"
     ]
    },
    {
     "name": "stdout",
     "output_type": "stream",
     "text": [
      "\r>> Converting image 1292/2569 shard 1"
     ]
    },
    {
     "name": "stdout",
     "output_type": "stream",
     "text": [
      "\r>> Converting image 1293/2569 shard 1"
     ]
    },
    {
     "name": "stdout",
     "output_type": "stream",
     "text": [
      "\r>> Converting image 1294/2569 shard 1"
     ]
    },
    {
     "name": "stdout",
     "output_type": "stream",
     "text": [
      "\r>> Converting image 1295/2569 shard 1"
     ]
    },
    {
     "name": "stdout",
     "output_type": "stream",
     "text": [
      "\r>> Converting image 1296/2569 shard 1"
     ]
    },
    {
     "name": "stdout",
     "output_type": "stream",
     "text": [
      "\r>> Converting image 1297/2569 shard 1"
     ]
    },
    {
     "name": "stdout",
     "output_type": "stream",
     "text": [
      "\r>> Converting image 1298/2569 shard 1"
     ]
    },
    {
     "name": "stdout",
     "output_type": "stream",
     "text": [
      "\r>> Converting image 1299/2569 shard 1"
     ]
    },
    {
     "name": "stdout",
     "output_type": "stream",
     "text": [
      "\r>> Converting image 1300/2569 shard 1"
     ]
    },
    {
     "name": "stdout",
     "output_type": "stream",
     "text": [
      "\r>> Converting image 1301/2569 shard 1"
     ]
    },
    {
     "name": "stdout",
     "output_type": "stream",
     "text": [
      "\r>> Converting image 1302/2569 shard 1"
     ]
    },
    {
     "name": "stdout",
     "output_type": "stream",
     "text": [
      "\r>> Converting image 1303/2569 shard 1"
     ]
    },
    {
     "name": "stdout",
     "output_type": "stream",
     "text": [
      "\r>> Converting image 1304/2569 shard 1"
     ]
    },
    {
     "name": "stdout",
     "output_type": "stream",
     "text": [
      "\r>> Converting image 1305/2569 shard 1"
     ]
    },
    {
     "name": "stdout",
     "output_type": "stream",
     "text": [
      "\r>> Converting image 1306/2569 shard 1"
     ]
    },
    {
     "name": "stdout",
     "output_type": "stream",
     "text": [
      "\r>> Converting image 1307/2569 shard 1"
     ]
    },
    {
     "name": "stdout",
     "output_type": "stream",
     "text": [
      "\r>> Converting image 1308/2569 shard 1"
     ]
    },
    {
     "name": "stdout",
     "output_type": "stream",
     "text": [
      "\r>> Converting image 1309/2569 shard 1"
     ]
    },
    {
     "name": "stdout",
     "output_type": "stream",
     "text": [
      "\r>> Converting image 1310/2569 shard 1"
     ]
    },
    {
     "name": "stdout",
     "output_type": "stream",
     "text": [
      "\r>> Converting image 1311/2569 shard 1"
     ]
    },
    {
     "name": "stdout",
     "output_type": "stream",
     "text": [
      "\r>> Converting image 1312/2569 shard 1"
     ]
    },
    {
     "name": "stdout",
     "output_type": "stream",
     "text": [
      "\r>> Converting image 1313/2569 shard 1"
     ]
    },
    {
     "name": "stdout",
     "output_type": "stream",
     "text": [
      "\r>> Converting image 1314/2569 shard 1"
     ]
    },
    {
     "name": "stdout",
     "output_type": "stream",
     "text": [
      "\r>> Converting image 1315/2569 shard 1"
     ]
    },
    {
     "name": "stdout",
     "output_type": "stream",
     "text": [
      "\r>> Converting image 1316/2569 shard 1"
     ]
    },
    {
     "name": "stdout",
     "output_type": "stream",
     "text": [
      "\r>> Converting image 1317/2569 shard 1"
     ]
    },
    {
     "name": "stdout",
     "output_type": "stream",
     "text": [
      "\r>> Converting image 1318/2569 shard 1"
     ]
    },
    {
     "name": "stdout",
     "output_type": "stream",
     "text": [
      "\r>> Converting image 1319/2569 shard 1"
     ]
    },
    {
     "name": "stdout",
     "output_type": "stream",
     "text": [
      "\r>> Converting image 1320/2569 shard 1"
     ]
    },
    {
     "name": "stdout",
     "output_type": "stream",
     "text": [
      "\r>> Converting image 1321/2569 shard 1"
     ]
    },
    {
     "name": "stdout",
     "output_type": "stream",
     "text": [
      "\r>> Converting image 1322/2569 shard 1"
     ]
    },
    {
     "name": "stdout",
     "output_type": "stream",
     "text": [
      "\r>> Converting image 1323/2569 shard 1"
     ]
    },
    {
     "name": "stdout",
     "output_type": "stream",
     "text": [
      "\r>> Converting image 1324/2569 shard 1"
     ]
    },
    {
     "name": "stdout",
     "output_type": "stream",
     "text": [
      "\r>> Converting image 1325/2569 shard 1"
     ]
    },
    {
     "name": "stdout",
     "output_type": "stream",
     "text": [
      "\r>> Converting image 1326/2569 shard 1"
     ]
    },
    {
     "name": "stdout",
     "output_type": "stream",
     "text": [
      "\r>> Converting image 1327/2569 shard 1"
     ]
    },
    {
     "name": "stdout",
     "output_type": "stream",
     "text": [
      "\r>> Converting image 1328/2569 shard 1"
     ]
    },
    {
     "name": "stdout",
     "output_type": "stream",
     "text": [
      "\r>> Converting image 1329/2569 shard 1"
     ]
    },
    {
     "name": "stdout",
     "output_type": "stream",
     "text": [
      "\r>> Converting image 1330/2569 shard 1"
     ]
    },
    {
     "name": "stdout",
     "output_type": "stream",
     "text": [
      "\r>> Converting image 1331/2569 shard 1"
     ]
    },
    {
     "name": "stdout",
     "output_type": "stream",
     "text": [
      "\r>> Converting image 1332/2569 shard 1"
     ]
    },
    {
     "name": "stdout",
     "output_type": "stream",
     "text": [
      "\r>> Converting image 1333/2569 shard 1"
     ]
    },
    {
     "name": "stdout",
     "output_type": "stream",
     "text": [
      "\r>> Converting image 1334/2569 shard 1"
     ]
    },
    {
     "name": "stdout",
     "output_type": "stream",
     "text": [
      "\r>> Converting image 1335/2569 shard 1"
     ]
    },
    {
     "name": "stdout",
     "output_type": "stream",
     "text": [
      "\r>> Converting image 1336/2569 shard 1"
     ]
    },
    {
     "name": "stdout",
     "output_type": "stream",
     "text": [
      "\r>> Converting image 1337/2569 shard 1"
     ]
    },
    {
     "name": "stdout",
     "output_type": "stream",
     "text": [
      "\r>> Converting image 1338/2569 shard 1"
     ]
    },
    {
     "name": "stdout",
     "output_type": "stream",
     "text": [
      "\r>> Converting image 1339/2569 shard 1"
     ]
    },
    {
     "name": "stdout",
     "output_type": "stream",
     "text": [
      "\r>> Converting image 1340/2569 shard 1"
     ]
    },
    {
     "name": "stdout",
     "output_type": "stream",
     "text": [
      "\r>> Converting image 1341/2569 shard 1"
     ]
    },
    {
     "name": "stdout",
     "output_type": "stream",
     "text": [
      "\r>> Converting image 1342/2569 shard 1"
     ]
    },
    {
     "name": "stdout",
     "output_type": "stream",
     "text": [
      "\r>> Converting image 1343/2569 shard 1"
     ]
    },
    {
     "name": "stdout",
     "output_type": "stream",
     "text": [
      "\r>> Converting image 1344/2569 shard 1"
     ]
    },
    {
     "name": "stdout",
     "output_type": "stream",
     "text": [
      "\r>> Converting image 1345/2569 shard 1"
     ]
    },
    {
     "name": "stdout",
     "output_type": "stream",
     "text": [
      "\r>> Converting image 1346/2569 shard 1"
     ]
    },
    {
     "name": "stdout",
     "output_type": "stream",
     "text": [
      "\r>> Converting image 1347/2569 shard 1"
     ]
    },
    {
     "name": "stdout",
     "output_type": "stream",
     "text": [
      "\r>> Converting image 1348/2569 shard 1"
     ]
    },
    {
     "name": "stdout",
     "output_type": "stream",
     "text": [
      "\r>> Converting image 1349/2569 shard 1"
     ]
    },
    {
     "name": "stdout",
     "output_type": "stream",
     "text": [
      "\r>> Converting image 1350/2569 shard 1"
     ]
    },
    {
     "name": "stdout",
     "output_type": "stream",
     "text": [
      "\r>> Converting image 1351/2569 shard 1"
     ]
    },
    {
     "name": "stdout",
     "output_type": "stream",
     "text": [
      "\r>> Converting image 1352/2569 shard 1"
     ]
    },
    {
     "name": "stdout",
     "output_type": "stream",
     "text": [
      "\r>> Converting image 1353/2569 shard 1"
     ]
    },
    {
     "name": "stdout",
     "output_type": "stream",
     "text": [
      "\r>> Converting image 1354/2569 shard 1"
     ]
    },
    {
     "name": "stdout",
     "output_type": "stream",
     "text": [
      "\r>> Converting image 1355/2569 shard 1"
     ]
    },
    {
     "name": "stdout",
     "output_type": "stream",
     "text": [
      "\r>> Converting image 1356/2569 shard 1"
     ]
    },
    {
     "name": "stdout",
     "output_type": "stream",
     "text": [
      "\r>> Converting image 1357/2569 shard 1"
     ]
    },
    {
     "name": "stdout",
     "output_type": "stream",
     "text": [
      "\r>> Converting image 1358/2569 shard 1"
     ]
    },
    {
     "name": "stdout",
     "output_type": "stream",
     "text": [
      "\r>> Converting image 1359/2569 shard 1"
     ]
    },
    {
     "name": "stdout",
     "output_type": "stream",
     "text": [
      "\r>> Converting image 1360/2569 shard 1"
     ]
    },
    {
     "name": "stdout",
     "output_type": "stream",
     "text": [
      "\r>> Converting image 1361/2569 shard 1"
     ]
    },
    {
     "name": "stdout",
     "output_type": "stream",
     "text": [
      "\r>> Converting image 1362/2569 shard 1"
     ]
    },
    {
     "name": "stdout",
     "output_type": "stream",
     "text": [
      "\r>> Converting image 1363/2569 shard 1"
     ]
    },
    {
     "name": "stdout",
     "output_type": "stream",
     "text": [
      "\r>> Converting image 1364/2569 shard 1"
     ]
    },
    {
     "name": "stdout",
     "output_type": "stream",
     "text": [
      "\r>> Converting image 1365/2569 shard 1"
     ]
    },
    {
     "name": "stdout",
     "output_type": "stream",
     "text": [
      "\r>> Converting image 1366/2569 shard 1"
     ]
    },
    {
     "name": "stdout",
     "output_type": "stream",
     "text": [
      "\r>> Converting image 1367/2569 shard 1"
     ]
    },
    {
     "name": "stdout",
     "output_type": "stream",
     "text": [
      "\r>> Converting image 1368/2569 shard 1"
     ]
    },
    {
     "name": "stdout",
     "output_type": "stream",
     "text": [
      "\r>> Converting image 1369/2569 shard 1"
     ]
    },
    {
     "name": "stdout",
     "output_type": "stream",
     "text": [
      "\r>> Converting image 1370/2569 shard 1"
     ]
    },
    {
     "name": "stdout",
     "output_type": "stream",
     "text": [
      "\r>> Converting image 1371/2569 shard 1"
     ]
    },
    {
     "name": "stdout",
     "output_type": "stream",
     "text": [
      "\r>> Converting image 1372/2569 shard 1"
     ]
    },
    {
     "name": "stdout",
     "output_type": "stream",
     "text": [
      "\r>> Converting image 1373/2569 shard 1"
     ]
    },
    {
     "name": "stdout",
     "output_type": "stream",
     "text": [
      "\r>> Converting image 1374/2569 shard 1"
     ]
    },
    {
     "name": "stdout",
     "output_type": "stream",
     "text": [
      "\r>> Converting image 1375/2569 shard 1"
     ]
    },
    {
     "name": "stdout",
     "output_type": "stream",
     "text": [
      "\r>> Converting image 1376/2569 shard 1"
     ]
    },
    {
     "name": "stdout",
     "output_type": "stream",
     "text": [
      "\r>> Converting image 1377/2569 shard 1"
     ]
    },
    {
     "name": "stdout",
     "output_type": "stream",
     "text": [
      "\r>> Converting image 1378/2569 shard 1"
     ]
    },
    {
     "name": "stdout",
     "output_type": "stream",
     "text": [
      "\r>> Converting image 1379/2569 shard 1"
     ]
    },
    {
     "name": "stdout",
     "output_type": "stream",
     "text": [
      "\r>> Converting image 1380/2569 shard 1"
     ]
    },
    {
     "name": "stdout",
     "output_type": "stream",
     "text": [
      "\r>> Converting image 1381/2569 shard 1"
     ]
    },
    {
     "name": "stdout",
     "output_type": "stream",
     "text": [
      "\r>> Converting image 1382/2569 shard 1"
     ]
    },
    {
     "name": "stdout",
     "output_type": "stream",
     "text": [
      "\r>> Converting image 1383/2569 shard 1"
     ]
    },
    {
     "name": "stdout",
     "output_type": "stream",
     "text": [
      "\r>> Converting image 1384/2569 shard 1"
     ]
    },
    {
     "name": "stdout",
     "output_type": "stream",
     "text": [
      "\r>> Converting image 1385/2569 shard 1"
     ]
    },
    {
     "name": "stdout",
     "output_type": "stream",
     "text": [
      "\r>> Converting image 1386/2569 shard 1"
     ]
    },
    {
     "name": "stdout",
     "output_type": "stream",
     "text": [
      "\r>> Converting image 1387/2569 shard 1"
     ]
    },
    {
     "name": "stdout",
     "output_type": "stream",
     "text": [
      "\r>> Converting image 1388/2569 shard 1"
     ]
    },
    {
     "name": "stdout",
     "output_type": "stream",
     "text": [
      "\r>> Converting image 1389/2569 shard 1"
     ]
    },
    {
     "name": "stdout",
     "output_type": "stream",
     "text": [
      "\r>> Converting image 1390/2569 shard 1"
     ]
    },
    {
     "name": "stdout",
     "output_type": "stream",
     "text": [
      "\r>> Converting image 1391/2569 shard 1"
     ]
    },
    {
     "name": "stdout",
     "output_type": "stream",
     "text": [
      "\r>> Converting image 1392/2569 shard 1"
     ]
    },
    {
     "name": "stdout",
     "output_type": "stream",
     "text": [
      "\r>> Converting image 1393/2569 shard 1"
     ]
    },
    {
     "name": "stdout",
     "output_type": "stream",
     "text": [
      "\r>> Converting image 1394/2569 shard 1"
     ]
    },
    {
     "name": "stdout",
     "output_type": "stream",
     "text": [
      "\r>> Converting image 1395/2569 shard 1"
     ]
    },
    {
     "name": "stdout",
     "output_type": "stream",
     "text": [
      "\r>> Converting image 1396/2569 shard 1"
     ]
    },
    {
     "name": "stdout",
     "output_type": "stream",
     "text": [
      "\r>> Converting image 1397/2569 shard 1"
     ]
    },
    {
     "name": "stdout",
     "output_type": "stream",
     "text": [
      "\r>> Converting image 1398/2569 shard 1"
     ]
    },
    {
     "name": "stdout",
     "output_type": "stream",
     "text": [
      "\r>> Converting image 1399/2569 shard 1"
     ]
    },
    {
     "name": "stdout",
     "output_type": "stream",
     "text": [
      "\r>> Converting image 1400/2569 shard 1"
     ]
    },
    {
     "name": "stdout",
     "output_type": "stream",
     "text": [
      "\r>> Converting image 1401/2569 shard 1"
     ]
    },
    {
     "name": "stdout",
     "output_type": "stream",
     "text": [
      "\r>> Converting image 1402/2569 shard 1"
     ]
    },
    {
     "name": "stdout",
     "output_type": "stream",
     "text": [
      "\r>> Converting image 1403/2569 shard 1"
     ]
    },
    {
     "name": "stdout",
     "output_type": "stream",
     "text": [
      "\r>> Converting image 1404/2569 shard 1"
     ]
    },
    {
     "name": "stdout",
     "output_type": "stream",
     "text": [
      "\r>> Converting image 1405/2569 shard 1"
     ]
    },
    {
     "name": "stdout",
     "output_type": "stream",
     "text": [
      "\r>> Converting image 1406/2569 shard 1"
     ]
    },
    {
     "name": "stdout",
     "output_type": "stream",
     "text": [
      "\r>> Converting image 1407/2569 shard 1"
     ]
    },
    {
     "name": "stdout",
     "output_type": "stream",
     "text": [
      "\r>> Converting image 1408/2569 shard 1"
     ]
    },
    {
     "name": "stdout",
     "output_type": "stream",
     "text": [
      "\r>> Converting image 1409/2569 shard 1"
     ]
    },
    {
     "name": "stdout",
     "output_type": "stream",
     "text": [
      "\r>> Converting image 1410/2569 shard 1"
     ]
    },
    {
     "name": "stdout",
     "output_type": "stream",
     "text": [
      "\r>> Converting image 1411/2569 shard 1"
     ]
    },
    {
     "name": "stdout",
     "output_type": "stream",
     "text": [
      "\r>> Converting image 1412/2569 shard 1"
     ]
    },
    {
     "name": "stdout",
     "output_type": "stream",
     "text": [
      "\r>> Converting image 1413/2569 shard 1"
     ]
    },
    {
     "name": "stdout",
     "output_type": "stream",
     "text": [
      "\r>> Converting image 1414/2569 shard 1"
     ]
    },
    {
     "name": "stdout",
     "output_type": "stream",
     "text": [
      "\r>> Converting image 1415/2569 shard 1"
     ]
    },
    {
     "name": "stdout",
     "output_type": "stream",
     "text": [
      "\r>> Converting image 1416/2569 shard 1"
     ]
    },
    {
     "name": "stdout",
     "output_type": "stream",
     "text": [
      "\r>> Converting image 1417/2569 shard 1"
     ]
    },
    {
     "name": "stdout",
     "output_type": "stream",
     "text": [
      "\r>> Converting image 1418/2569 shard 1"
     ]
    },
    {
     "name": "stdout",
     "output_type": "stream",
     "text": [
      "\r>> Converting image 1419/2569 shard 1"
     ]
    },
    {
     "name": "stdout",
     "output_type": "stream",
     "text": [
      "\r>> Converting image 1420/2569 shard 1"
     ]
    },
    {
     "name": "stdout",
     "output_type": "stream",
     "text": [
      "\r>> Converting image 1421/2569 shard 1"
     ]
    },
    {
     "name": "stdout",
     "output_type": "stream",
     "text": [
      "\r>> Converting image 1422/2569 shard 1"
     ]
    },
    {
     "name": "stdout",
     "output_type": "stream",
     "text": [
      "\r>> Converting image 1423/2569 shard 1"
     ]
    },
    {
     "name": "stdout",
     "output_type": "stream",
     "text": [
      "\r>> Converting image 1424/2569 shard 1"
     ]
    },
    {
     "name": "stdout",
     "output_type": "stream",
     "text": [
      "\r>> Converting image 1425/2569 shard 1"
     ]
    },
    {
     "name": "stdout",
     "output_type": "stream",
     "text": [
      "\r>> Converting image 1426/2569 shard 1"
     ]
    },
    {
     "name": "stdout",
     "output_type": "stream",
     "text": [
      "\r>> Converting image 1427/2569 shard 1"
     ]
    },
    {
     "name": "stdout",
     "output_type": "stream",
     "text": [
      "\r>> Converting image 1428/2569 shard 1"
     ]
    },
    {
     "name": "stdout",
     "output_type": "stream",
     "text": [
      "\r>> Converting image 1429/2569 shard 1"
     ]
    },
    {
     "name": "stdout",
     "output_type": "stream",
     "text": [
      "\r>> Converting image 1430/2569 shard 1"
     ]
    },
    {
     "name": "stdout",
     "output_type": "stream",
     "text": [
      "\r>> Converting image 1431/2569 shard 1"
     ]
    },
    {
     "name": "stdout",
     "output_type": "stream",
     "text": [
      "\r>> Converting image 1432/2569 shard 1"
     ]
    },
    {
     "name": "stdout",
     "output_type": "stream",
     "text": [
      "\r>> Converting image 1433/2569 shard 1"
     ]
    },
    {
     "name": "stdout",
     "output_type": "stream",
     "text": [
      "\r>> Converting image 1434/2569 shard 1"
     ]
    },
    {
     "name": "stdout",
     "output_type": "stream",
     "text": [
      "\r>> Converting image 1435/2569 shard 1"
     ]
    },
    {
     "name": "stdout",
     "output_type": "stream",
     "text": [
      "\r>> Converting image 1436/2569 shard 1"
     ]
    },
    {
     "name": "stdout",
     "output_type": "stream",
     "text": [
      "\r>> Converting image 1437/2569 shard 1"
     ]
    },
    {
     "name": "stdout",
     "output_type": "stream",
     "text": [
      "\r>> Converting image 1438/2569 shard 1"
     ]
    },
    {
     "name": "stdout",
     "output_type": "stream",
     "text": [
      "\r>> Converting image 1439/2569 shard 1"
     ]
    },
    {
     "name": "stdout",
     "output_type": "stream",
     "text": [
      "\r>> Converting image 1440/2569 shard 1"
     ]
    },
    {
     "name": "stdout",
     "output_type": "stream",
     "text": [
      "\r>> Converting image 1441/2569 shard 1"
     ]
    },
    {
     "name": "stdout",
     "output_type": "stream",
     "text": [
      "\r>> Converting image 1442/2569 shard 1"
     ]
    },
    {
     "name": "stdout",
     "output_type": "stream",
     "text": [
      "\r>> Converting image 1443/2569 shard 1"
     ]
    },
    {
     "name": "stdout",
     "output_type": "stream",
     "text": [
      "\r>> Converting image 1444/2569 shard 1"
     ]
    },
    {
     "name": "stdout",
     "output_type": "stream",
     "text": [
      "\r>> Converting image 1445/2569 shard 1"
     ]
    },
    {
     "name": "stdout",
     "output_type": "stream",
     "text": [
      "\r>> Converting image 1446/2569 shard 1"
     ]
    },
    {
     "name": "stdout",
     "output_type": "stream",
     "text": [
      "\r>> Converting image 1447/2569 shard 1"
     ]
    },
    {
     "name": "stdout",
     "output_type": "stream",
     "text": [
      "\r>> Converting image 1448/2569 shard 1"
     ]
    },
    {
     "name": "stdout",
     "output_type": "stream",
     "text": [
      "\r>> Converting image 1449/2569 shard 1"
     ]
    },
    {
     "name": "stdout",
     "output_type": "stream",
     "text": [
      "\r>> Converting image 1450/2569 shard 1"
     ]
    },
    {
     "name": "stdout",
     "output_type": "stream",
     "text": [
      "\r>> Converting image 1451/2569 shard 1"
     ]
    },
    {
     "name": "stdout",
     "output_type": "stream",
     "text": [
      "\r>> Converting image 1452/2569 shard 1"
     ]
    },
    {
     "name": "stdout",
     "output_type": "stream",
     "text": [
      "\r>> Converting image 1453/2569 shard 1"
     ]
    },
    {
     "name": "stdout",
     "output_type": "stream",
     "text": [
      "\r>> Converting image 1454/2569 shard 1"
     ]
    },
    {
     "name": "stdout",
     "output_type": "stream",
     "text": [
      "\r>> Converting image 1455/2569 shard 1"
     ]
    },
    {
     "name": "stdout",
     "output_type": "stream",
     "text": [
      "\r>> Converting image 1456/2569 shard 1"
     ]
    },
    {
     "name": "stdout",
     "output_type": "stream",
     "text": [
      "\r>> Converting image 1457/2569 shard 1"
     ]
    },
    {
     "name": "stdout",
     "output_type": "stream",
     "text": [
      "\r>> Converting image 1458/2569 shard 1"
     ]
    },
    {
     "name": "stdout",
     "output_type": "stream",
     "text": [
      "\r>> Converting image 1459/2569 shard 1"
     ]
    },
    {
     "name": "stdout",
     "output_type": "stream",
     "text": [
      "\r>> Converting image 1460/2569 shard 1"
     ]
    },
    {
     "name": "stdout",
     "output_type": "stream",
     "text": [
      "\r>> Converting image 1461/2569 shard 1"
     ]
    },
    {
     "name": "stdout",
     "output_type": "stream",
     "text": [
      "\r>> Converting image 1462/2569 shard 1"
     ]
    },
    {
     "name": "stdout",
     "output_type": "stream",
     "text": [
      "\r>> Converting image 1463/2569 shard 1"
     ]
    },
    {
     "name": "stdout",
     "output_type": "stream",
     "text": [
      "\r>> Converting image 1464/2569 shard 1"
     ]
    },
    {
     "name": "stdout",
     "output_type": "stream",
     "text": [
      "\r>> Converting image 1465/2569 shard 1"
     ]
    },
    {
     "name": "stdout",
     "output_type": "stream",
     "text": [
      "\r>> Converting image 1466/2569 shard 1"
     ]
    },
    {
     "name": "stdout",
     "output_type": "stream",
     "text": [
      "\r>> Converting image 1467/2569 shard 1"
     ]
    },
    {
     "name": "stdout",
     "output_type": "stream",
     "text": [
      "\r>> Converting image 1468/2569 shard 1"
     ]
    },
    {
     "name": "stdout",
     "output_type": "stream",
     "text": [
      "\r>> Converting image 1469/2569 shard 1"
     ]
    },
    {
     "name": "stdout",
     "output_type": "stream",
     "text": [
      "\r>> Converting image 1470/2569 shard 1"
     ]
    },
    {
     "name": "stdout",
     "output_type": "stream",
     "text": [
      "\r>> Converting image 1471/2569 shard 1"
     ]
    },
    {
     "name": "stdout",
     "output_type": "stream",
     "text": [
      "\r>> Converting image 1472/2569 shard 1"
     ]
    },
    {
     "name": "stdout",
     "output_type": "stream",
     "text": [
      "\r>> Converting image 1473/2569 shard 1"
     ]
    },
    {
     "name": "stdout",
     "output_type": "stream",
     "text": [
      "\r>> Converting image 1474/2569 shard 1"
     ]
    },
    {
     "name": "stdout",
     "output_type": "stream",
     "text": [
      "\r>> Converting image 1475/2569 shard 1"
     ]
    },
    {
     "name": "stdout",
     "output_type": "stream",
     "text": [
      "\r>> Converting image 1476/2569 shard 1"
     ]
    },
    {
     "name": "stdout",
     "output_type": "stream",
     "text": [
      "\r>> Converting image 1477/2569 shard 1"
     ]
    },
    {
     "name": "stdout",
     "output_type": "stream",
     "text": [
      "\r>> Converting image 1478/2569 shard 1"
     ]
    },
    {
     "name": "stdout",
     "output_type": "stream",
     "text": [
      "\r>> Converting image 1479/2569 shard 1"
     ]
    },
    {
     "name": "stdout",
     "output_type": "stream",
     "text": [
      "\r>> Converting image 1480/2569 shard 1"
     ]
    },
    {
     "name": "stdout",
     "output_type": "stream",
     "text": [
      "\r>> Converting image 1481/2569 shard 1"
     ]
    },
    {
     "name": "stdout",
     "output_type": "stream",
     "text": [
      "\r>> Converting image 1482/2569 shard 1"
     ]
    },
    {
     "name": "stdout",
     "output_type": "stream",
     "text": [
      "\r>> Converting image 1483/2569 shard 1"
     ]
    },
    {
     "name": "stdout",
     "output_type": "stream",
     "text": [
      "\r>> Converting image 1484/2569 shard 1"
     ]
    },
    {
     "name": "stdout",
     "output_type": "stream",
     "text": [
      "\r>> Converting image 1485/2569 shard 1"
     ]
    },
    {
     "name": "stdout",
     "output_type": "stream",
     "text": [
      "\r>> Converting image 1486/2569 shard 1"
     ]
    },
    {
     "name": "stdout",
     "output_type": "stream",
     "text": [
      "\r>> Converting image 1487/2569 shard 1"
     ]
    },
    {
     "name": "stdout",
     "output_type": "stream",
     "text": [
      "\r>> Converting image 1488/2569 shard 1"
     ]
    },
    {
     "name": "stdout",
     "output_type": "stream",
     "text": [
      "\r>> Converting image 1489/2569 shard 1"
     ]
    },
    {
     "name": "stdout",
     "output_type": "stream",
     "text": [
      "\r>> Converting image 1490/2569 shard 1"
     ]
    },
    {
     "name": "stdout",
     "output_type": "stream",
     "text": [
      "\r>> Converting image 1491/2569 shard 1"
     ]
    },
    {
     "name": "stdout",
     "output_type": "stream",
     "text": [
      "\r>> Converting image 1492/2569 shard 1"
     ]
    },
    {
     "name": "stdout",
     "output_type": "stream",
     "text": [
      "\r>> Converting image 1493/2569 shard 1"
     ]
    },
    {
     "name": "stdout",
     "output_type": "stream",
     "text": [
      "\r>> Converting image 1494/2569 shard 1"
     ]
    },
    {
     "name": "stdout",
     "output_type": "stream",
     "text": [
      "\r>> Converting image 1495/2569 shard 1"
     ]
    },
    {
     "name": "stdout",
     "output_type": "stream",
     "text": [
      "\r>> Converting image 1496/2569 shard 1"
     ]
    },
    {
     "name": "stdout",
     "output_type": "stream",
     "text": [
      "\r>> Converting image 1497/2569 shard 1"
     ]
    },
    {
     "name": "stdout",
     "output_type": "stream",
     "text": [
      "\r>> Converting image 1498/2569 shard 1"
     ]
    },
    {
     "name": "stdout",
     "output_type": "stream",
     "text": [
      "\r>> Converting image 1499/2569 shard 1"
     ]
    },
    {
     "name": "stdout",
     "output_type": "stream",
     "text": [
      "\r>> Converting image 1500/2569 shard 1"
     ]
    },
    {
     "name": "stdout",
     "output_type": "stream",
     "text": [
      "\r>> Converting image 1501/2569 shard 1"
     ]
    },
    {
     "name": "stdout",
     "output_type": "stream",
     "text": [
      "\r>> Converting image 1502/2569 shard 1"
     ]
    },
    {
     "name": "stdout",
     "output_type": "stream",
     "text": [
      "\r>> Converting image 1503/2569 shard 1"
     ]
    },
    {
     "name": "stdout",
     "output_type": "stream",
     "text": [
      "\r>> Converting image 1504/2569 shard 1"
     ]
    },
    {
     "name": "stdout",
     "output_type": "stream",
     "text": [
      "\r>> Converting image 1505/2569 shard 1"
     ]
    },
    {
     "name": "stdout",
     "output_type": "stream",
     "text": [
      "\r>> Converting image 1506/2569 shard 1"
     ]
    },
    {
     "name": "stdout",
     "output_type": "stream",
     "text": [
      "\r>> Converting image 1507/2569 shard 1"
     ]
    },
    {
     "name": "stdout",
     "output_type": "stream",
     "text": [
      "\r>> Converting image 1508/2569 shard 1"
     ]
    },
    {
     "name": "stdout",
     "output_type": "stream",
     "text": [
      "\r>> Converting image 1509/2569 shard 1"
     ]
    },
    {
     "name": "stdout",
     "output_type": "stream",
     "text": [
      "\r>> Converting image 1510/2569 shard 1"
     ]
    },
    {
     "name": "stdout",
     "output_type": "stream",
     "text": [
      "\r>> Converting image 1511/2569 shard 1"
     ]
    },
    {
     "name": "stdout",
     "output_type": "stream",
     "text": [
      "\r>> Converting image 1512/2569 shard 1"
     ]
    },
    {
     "name": "stdout",
     "output_type": "stream",
     "text": [
      "\r>> Converting image 1513/2569 shard 1"
     ]
    },
    {
     "name": "stdout",
     "output_type": "stream",
     "text": [
      "\r>> Converting image 1514/2569 shard 1"
     ]
    },
    {
     "name": "stdout",
     "output_type": "stream",
     "text": [
      "\r>> Converting image 1515/2569 shard 1"
     ]
    },
    {
     "name": "stdout",
     "output_type": "stream",
     "text": [
      "\r>> Converting image 1516/2569 shard 1"
     ]
    },
    {
     "name": "stdout",
     "output_type": "stream",
     "text": [
      "\r>> Converting image 1517/2569 shard 1"
     ]
    },
    {
     "name": "stdout",
     "output_type": "stream",
     "text": [
      "\r>> Converting image 1518/2569 shard 1"
     ]
    },
    {
     "name": "stdout",
     "output_type": "stream",
     "text": [
      "\r>> Converting image 1519/2569 shard 1"
     ]
    },
    {
     "name": "stdout",
     "output_type": "stream",
     "text": [
      "\r>> Converting image 1520/2569 shard 1"
     ]
    },
    {
     "name": "stdout",
     "output_type": "stream",
     "text": [
      "\r>> Converting image 1521/2569 shard 1"
     ]
    },
    {
     "name": "stdout",
     "output_type": "stream",
     "text": [
      "\r>> Converting image 1522/2569 shard 1"
     ]
    },
    {
     "name": "stdout",
     "output_type": "stream",
     "text": [
      "\r>> Converting image 1523/2569 shard 1"
     ]
    },
    {
     "name": "stdout",
     "output_type": "stream",
     "text": [
      "\r>> Converting image 1524/2569 shard 1"
     ]
    },
    {
     "name": "stdout",
     "output_type": "stream",
     "text": [
      "\r>> Converting image 1525/2569 shard 1"
     ]
    },
    {
     "name": "stdout",
     "output_type": "stream",
     "text": [
      "\r>> Converting image 1526/2569 shard 1"
     ]
    },
    {
     "name": "stdout",
     "output_type": "stream",
     "text": [
      "\r>> Converting image 1527/2569 shard 1"
     ]
    },
    {
     "name": "stdout",
     "output_type": "stream",
     "text": [
      "\r>> Converting image 1528/2569 shard 1"
     ]
    },
    {
     "name": "stdout",
     "output_type": "stream",
     "text": [
      "\r>> Converting image 1529/2569 shard 1"
     ]
    },
    {
     "name": "stdout",
     "output_type": "stream",
     "text": [
      "\r>> Converting image 1530/2569 shard 1"
     ]
    },
    {
     "name": "stdout",
     "output_type": "stream",
     "text": [
      "\r>> Converting image 1531/2569 shard 1"
     ]
    },
    {
     "name": "stdout",
     "output_type": "stream",
     "text": [
      "\r>> Converting image 1532/2569 shard 1"
     ]
    },
    {
     "name": "stdout",
     "output_type": "stream",
     "text": [
      "\r>> Converting image 1533/2569 shard 1"
     ]
    },
    {
     "name": "stdout",
     "output_type": "stream",
     "text": [
      "\r>> Converting image 1534/2569 shard 1"
     ]
    },
    {
     "name": "stdout",
     "output_type": "stream",
     "text": [
      "\r>> Converting image 1535/2569 shard 1"
     ]
    },
    {
     "name": "stdout",
     "output_type": "stream",
     "text": [
      "\r>> Converting image 1536/2569 shard 1"
     ]
    },
    {
     "name": "stdout",
     "output_type": "stream",
     "text": [
      "\r>> Converting image 1537/2569 shard 1"
     ]
    },
    {
     "name": "stdout",
     "output_type": "stream",
     "text": [
      "\r>> Converting image 1538/2569 shard 1"
     ]
    },
    {
     "name": "stdout",
     "output_type": "stream",
     "text": [
      "\r>> Converting image 1539/2569 shard 1"
     ]
    },
    {
     "name": "stdout",
     "output_type": "stream",
     "text": [
      "\r>> Converting image 1540/2569 shard 1"
     ]
    },
    {
     "name": "stdout",
     "output_type": "stream",
     "text": [
      "\r>> Converting image 1541/2569 shard 1"
     ]
    },
    {
     "name": "stdout",
     "output_type": "stream",
     "text": [
      "\r>> Converting image 1542/2569 shard 1"
     ]
    },
    {
     "name": "stdout",
     "output_type": "stream",
     "text": [
      "\r>> Converting image 1543/2569 shard 1"
     ]
    },
    {
     "name": "stdout",
     "output_type": "stream",
     "text": [
      "\r>> Converting image 1544/2569 shard 1"
     ]
    },
    {
     "name": "stdout",
     "output_type": "stream",
     "text": [
      "\r>> Converting image 1545/2569 shard 1"
     ]
    },
    {
     "name": "stdout",
     "output_type": "stream",
     "text": [
      "\r>> Converting image 1546/2569 shard 1"
     ]
    },
    {
     "name": "stdout",
     "output_type": "stream",
     "text": [
      "\r>> Converting image 1547/2569 shard 1"
     ]
    },
    {
     "name": "stdout",
     "output_type": "stream",
     "text": [
      "\r>> Converting image 1548/2569 shard 1"
     ]
    },
    {
     "name": "stdout",
     "output_type": "stream",
     "text": [
      "\r>> Converting image 1549/2569 shard 1"
     ]
    },
    {
     "name": "stdout",
     "output_type": "stream",
     "text": [
      "\r>> Converting image 1550/2569 shard 1"
     ]
    },
    {
     "name": "stdout",
     "output_type": "stream",
     "text": [
      "\r>> Converting image 1551/2569 shard 1"
     ]
    },
    {
     "name": "stdout",
     "output_type": "stream",
     "text": [
      "\r>> Converting image 1552/2569 shard 1"
     ]
    },
    {
     "name": "stdout",
     "output_type": "stream",
     "text": [
      "\r>> Converting image 1553/2569 shard 1"
     ]
    },
    {
     "name": "stdout",
     "output_type": "stream",
     "text": [
      "\r>> Converting image 1554/2569 shard 1"
     ]
    },
    {
     "name": "stdout",
     "output_type": "stream",
     "text": [
      "\r>> Converting image 1555/2569 shard 1"
     ]
    },
    {
     "name": "stdout",
     "output_type": "stream",
     "text": [
      "\r>> Converting image 1556/2569 shard 1"
     ]
    },
    {
     "name": "stdout",
     "output_type": "stream",
     "text": [
      "\r>> Converting image 1557/2569 shard 1"
     ]
    },
    {
     "name": "stdout",
     "output_type": "stream",
     "text": [
      "\r>> Converting image 1558/2569 shard 1"
     ]
    },
    {
     "name": "stdout",
     "output_type": "stream",
     "text": [
      "\r>> Converting image 1559/2569 shard 1"
     ]
    },
    {
     "name": "stdout",
     "output_type": "stream",
     "text": [
      "\r>> Converting image 1560/2569 shard 1"
     ]
    },
    {
     "name": "stdout",
     "output_type": "stream",
     "text": [
      "\r>> Converting image 1561/2569 shard 1"
     ]
    },
    {
     "name": "stdout",
     "output_type": "stream",
     "text": [
      "\r>> Converting image 1562/2569 shard 1"
     ]
    },
    {
     "name": "stdout",
     "output_type": "stream",
     "text": [
      "\r>> Converting image 1563/2569 shard 1"
     ]
    },
    {
     "name": "stdout",
     "output_type": "stream",
     "text": [
      "\r>> Converting image 1564/2569 shard 1"
     ]
    },
    {
     "name": "stdout",
     "output_type": "stream",
     "text": [
      "\r>> Converting image 1565/2569 shard 1"
     ]
    },
    {
     "name": "stdout",
     "output_type": "stream",
     "text": [
      "\r>> Converting image 1566/2569 shard 1"
     ]
    },
    {
     "name": "stdout",
     "output_type": "stream",
     "text": [
      "\r>> Converting image 1567/2569 shard 1"
     ]
    },
    {
     "name": "stdout",
     "output_type": "stream",
     "text": [
      "\r>> Converting image 1568/2569 shard 1"
     ]
    },
    {
     "name": "stdout",
     "output_type": "stream",
     "text": [
      "\r>> Converting image 1569/2569 shard 1"
     ]
    },
    {
     "name": "stdout",
     "output_type": "stream",
     "text": [
      "\r>> Converting image 1570/2569 shard 1"
     ]
    },
    {
     "name": "stdout",
     "output_type": "stream",
     "text": [
      "\r>> Converting image 1571/2569 shard 1"
     ]
    },
    {
     "name": "stdout",
     "output_type": "stream",
     "text": [
      "\r>> Converting image 1572/2569 shard 1"
     ]
    },
    {
     "name": "stdout",
     "output_type": "stream",
     "text": [
      "\r>> Converting image 1573/2569 shard 1"
     ]
    },
    {
     "name": "stdout",
     "output_type": "stream",
     "text": [
      "\r>> Converting image 1574/2569 shard 1"
     ]
    },
    {
     "name": "stdout",
     "output_type": "stream",
     "text": [
      "\r>> Converting image 1575/2569 shard 1"
     ]
    },
    {
     "name": "stdout",
     "output_type": "stream",
     "text": [
      "\r>> Converting image 1576/2569 shard 1"
     ]
    },
    {
     "name": "stdout",
     "output_type": "stream",
     "text": [
      "\r>> Converting image 1577/2569 shard 1"
     ]
    },
    {
     "name": "stdout",
     "output_type": "stream",
     "text": [
      "\r>> Converting image 1578/2569 shard 1"
     ]
    },
    {
     "name": "stdout",
     "output_type": "stream",
     "text": [
      "\r>> Converting image 1579/2569 shard 1"
     ]
    },
    {
     "name": "stdout",
     "output_type": "stream",
     "text": [
      "\r>> Converting image 1580/2569 shard 1"
     ]
    },
    {
     "name": "stdout",
     "output_type": "stream",
     "text": [
      "\r>> Converting image 1581/2569 shard 1"
     ]
    },
    {
     "name": "stdout",
     "output_type": "stream",
     "text": [
      "\r>> Converting image 1582/2569 shard 1"
     ]
    },
    {
     "name": "stdout",
     "output_type": "stream",
     "text": [
      "\r>> Converting image 1583/2569 shard 1"
     ]
    },
    {
     "name": "stdout",
     "output_type": "stream",
     "text": [
      "\r>> Converting image 1584/2569 shard 1"
     ]
    },
    {
     "name": "stdout",
     "output_type": "stream",
     "text": [
      "\r>> Converting image 1585/2569 shard 1"
     ]
    },
    {
     "name": "stdout",
     "output_type": "stream",
     "text": [
      "\r>> Converting image 1586/2569 shard 1"
     ]
    },
    {
     "name": "stdout",
     "output_type": "stream",
     "text": [
      "\r>> Converting image 1587/2569 shard 1"
     ]
    },
    {
     "name": "stdout",
     "output_type": "stream",
     "text": [
      "\r>> Converting image 1588/2569 shard 1"
     ]
    },
    {
     "name": "stdout",
     "output_type": "stream",
     "text": [
      "\r>> Converting image 1589/2569 shard 1"
     ]
    },
    {
     "name": "stdout",
     "output_type": "stream",
     "text": [
      "\r>> Converting image 1590/2569 shard 1"
     ]
    },
    {
     "name": "stdout",
     "output_type": "stream",
     "text": [
      "\r>> Converting image 1591/2569 shard 1"
     ]
    },
    {
     "name": "stdout",
     "output_type": "stream",
     "text": [
      "\r>> Converting image 1592/2569 shard 1"
     ]
    },
    {
     "name": "stdout",
     "output_type": "stream",
     "text": [
      "\r>> Converting image 1593/2569 shard 1"
     ]
    },
    {
     "name": "stdout",
     "output_type": "stream",
     "text": [
      "\r>> Converting image 1594/2569 shard 1"
     ]
    },
    {
     "name": "stdout",
     "output_type": "stream",
     "text": [
      "\r>> Converting image 1595/2569 shard 1"
     ]
    },
    {
     "name": "stdout",
     "output_type": "stream",
     "text": [
      "\r>> Converting image 1596/2569 shard 1"
     ]
    },
    {
     "name": "stdout",
     "output_type": "stream",
     "text": [
      "\r>> Converting image 1597/2569 shard 1"
     ]
    },
    {
     "name": "stdout",
     "output_type": "stream",
     "text": [
      "\r>> Converting image 1598/2569 shard 1"
     ]
    },
    {
     "name": "stdout",
     "output_type": "stream",
     "text": [
      "\r>> Converting image 1599/2569 shard 1"
     ]
    },
    {
     "name": "stdout",
     "output_type": "stream",
     "text": [
      "\r>> Converting image 1600/2569 shard 1"
     ]
    },
    {
     "name": "stdout",
     "output_type": "stream",
     "text": [
      "\r>> Converting image 1601/2569 shard 1"
     ]
    },
    {
     "name": "stdout",
     "output_type": "stream",
     "text": [
      "\r>> Converting image 1602/2569 shard 1"
     ]
    },
    {
     "name": "stdout",
     "output_type": "stream",
     "text": [
      "\r>> Converting image 1603/2569 shard 1"
     ]
    },
    {
     "name": "stdout",
     "output_type": "stream",
     "text": [
      "\r>> Converting image 1604/2569 shard 1"
     ]
    },
    {
     "name": "stdout",
     "output_type": "stream",
     "text": [
      "\r>> Converting image 1605/2569 shard 1"
     ]
    },
    {
     "name": "stdout",
     "output_type": "stream",
     "text": [
      "\r>> Converting image 1606/2569 shard 1"
     ]
    },
    {
     "name": "stdout",
     "output_type": "stream",
     "text": [
      "\r>> Converting image 1607/2569 shard 1"
     ]
    },
    {
     "name": "stdout",
     "output_type": "stream",
     "text": [
      "\r>> Converting image 1608/2569 shard 1"
     ]
    },
    {
     "name": "stdout",
     "output_type": "stream",
     "text": [
      "\r>> Converting image 1609/2569 shard 1"
     ]
    },
    {
     "name": "stdout",
     "output_type": "stream",
     "text": [
      "\r>> Converting image 1610/2569 shard 1"
     ]
    },
    {
     "name": "stdout",
     "output_type": "stream",
     "text": [
      "\r>> Converting image 1611/2569 shard 1"
     ]
    },
    {
     "name": "stdout",
     "output_type": "stream",
     "text": [
      "\r>> Converting image 1612/2569 shard 1"
     ]
    },
    {
     "name": "stdout",
     "output_type": "stream",
     "text": [
      "\r>> Converting image 1613/2569 shard 1"
     ]
    },
    {
     "name": "stdout",
     "output_type": "stream",
     "text": [
      "\r>> Converting image 1614/2569 shard 1"
     ]
    },
    {
     "name": "stdout",
     "output_type": "stream",
     "text": [
      "\r>> Converting image 1615/2569 shard 1"
     ]
    },
    {
     "name": "stdout",
     "output_type": "stream",
     "text": [
      "\r>> Converting image 1616/2569 shard 1"
     ]
    },
    {
     "name": "stdout",
     "output_type": "stream",
     "text": [
      "\r>> Converting image 1617/2569 shard 1"
     ]
    },
    {
     "name": "stdout",
     "output_type": "stream",
     "text": [
      "\r>> Converting image 1618/2569 shard 1"
     ]
    },
    {
     "name": "stdout",
     "output_type": "stream",
     "text": [
      "\r>> Converting image 1619/2569 shard 1"
     ]
    },
    {
     "name": "stdout",
     "output_type": "stream",
     "text": [
      "\r>> Converting image 1620/2569 shard 1"
     ]
    },
    {
     "name": "stdout",
     "output_type": "stream",
     "text": [
      "\r>> Converting image 1621/2569 shard 1"
     ]
    },
    {
     "name": "stdout",
     "output_type": "stream",
     "text": [
      "\r>> Converting image 1622/2569 shard 1"
     ]
    },
    {
     "name": "stdout",
     "output_type": "stream",
     "text": [
      "\r>> Converting image 1623/2569 shard 1"
     ]
    },
    {
     "name": "stdout",
     "output_type": "stream",
     "text": [
      "\r>> Converting image 1624/2569 shard 1"
     ]
    },
    {
     "name": "stdout",
     "output_type": "stream",
     "text": [
      "\r>> Converting image 1625/2569 shard 1"
     ]
    },
    {
     "name": "stdout",
     "output_type": "stream",
     "text": [
      "\r>> Converting image 1626/2569 shard 1"
     ]
    },
    {
     "name": "stdout",
     "output_type": "stream",
     "text": [
      "\r>> Converting image 1627/2569 shard 1"
     ]
    },
    {
     "name": "stdout",
     "output_type": "stream",
     "text": [
      "\r>> Converting image 1628/2569 shard 1"
     ]
    },
    {
     "name": "stdout",
     "output_type": "stream",
     "text": [
      "\r>> Converting image 1629/2569 shard 1"
     ]
    },
    {
     "name": "stdout",
     "output_type": "stream",
     "text": [
      "\r>> Converting image 1630/2569 shard 1"
     ]
    },
    {
     "name": "stdout",
     "output_type": "stream",
     "text": [
      "\r>> Converting image 1631/2569 shard 1"
     ]
    },
    {
     "name": "stdout",
     "output_type": "stream",
     "text": [
      "\r>> Converting image 1632/2569 shard 1"
     ]
    },
    {
     "name": "stdout",
     "output_type": "stream",
     "text": [
      "\r>> Converting image 1633/2569 shard 1"
     ]
    },
    {
     "name": "stdout",
     "output_type": "stream",
     "text": [
      "\r>> Converting image 1634/2569 shard 1"
     ]
    },
    {
     "name": "stdout",
     "output_type": "stream",
     "text": [
      "\r>> Converting image 1635/2569 shard 1"
     ]
    },
    {
     "name": "stdout",
     "output_type": "stream",
     "text": [
      "\r>> Converting image 1636/2569 shard 1"
     ]
    },
    {
     "name": "stdout",
     "output_type": "stream",
     "text": [
      "\r>> Converting image 1637/2569 shard 1"
     ]
    },
    {
     "name": "stdout",
     "output_type": "stream",
     "text": [
      "\r>> Converting image 1638/2569 shard 1"
     ]
    },
    {
     "name": "stdout",
     "output_type": "stream",
     "text": [
      "\r>> Converting image 1639/2569 shard 1"
     ]
    },
    {
     "name": "stdout",
     "output_type": "stream",
     "text": [
      "\r>> Converting image 1640/2569 shard 1"
     ]
    },
    {
     "name": "stdout",
     "output_type": "stream",
     "text": [
      "\r>> Converting image 1641/2569 shard 1"
     ]
    },
    {
     "name": "stdout",
     "output_type": "stream",
     "text": [
      "\r>> Converting image 1642/2569 shard 1"
     ]
    },
    {
     "name": "stdout",
     "output_type": "stream",
     "text": [
      "\r>> Converting image 1643/2569 shard 1"
     ]
    },
    {
     "name": "stdout",
     "output_type": "stream",
     "text": [
      "\r>> Converting image 1644/2569 shard 1"
     ]
    },
    {
     "name": "stdout",
     "output_type": "stream",
     "text": [
      "\r>> Converting image 1645/2569 shard 1"
     ]
    },
    {
     "name": "stdout",
     "output_type": "stream",
     "text": [
      "\r>> Converting image 1646/2569 shard 1"
     ]
    },
    {
     "name": "stdout",
     "output_type": "stream",
     "text": [
      "\r>> Converting image 1647/2569 shard 1"
     ]
    },
    {
     "name": "stdout",
     "output_type": "stream",
     "text": [
      "\r>> Converting image 1648/2569 shard 1"
     ]
    },
    {
     "name": "stdout",
     "output_type": "stream",
     "text": [
      "\r>> Converting image 1649/2569 shard 1"
     ]
    },
    {
     "name": "stdout",
     "output_type": "stream",
     "text": [
      "\r>> Converting image 1650/2569 shard 1"
     ]
    },
    {
     "name": "stdout",
     "output_type": "stream",
     "text": [
      "\r>> Converting image 1651/2569 shard 1"
     ]
    },
    {
     "name": "stdout",
     "output_type": "stream",
     "text": [
      "\r>> Converting image 1652/2569 shard 1"
     ]
    },
    {
     "name": "stdout",
     "output_type": "stream",
     "text": [
      "\r>> Converting image 1653/2569 shard 1"
     ]
    },
    {
     "name": "stdout",
     "output_type": "stream",
     "text": [
      "\r>> Converting image 1654/2569 shard 1"
     ]
    },
    {
     "name": "stdout",
     "output_type": "stream",
     "text": [
      "\r>> Converting image 1655/2569 shard 1"
     ]
    },
    {
     "name": "stdout",
     "output_type": "stream",
     "text": [
      "\r>> Converting image 1656/2569 shard 1"
     ]
    },
    {
     "name": "stdout",
     "output_type": "stream",
     "text": [
      "\r>> Converting image 1657/2569 shard 1"
     ]
    },
    {
     "name": "stdout",
     "output_type": "stream",
     "text": [
      "\r>> Converting image 1658/2569 shard 1"
     ]
    },
    {
     "name": "stdout",
     "output_type": "stream",
     "text": [
      "\r>> Converting image 1659/2569 shard 1"
     ]
    },
    {
     "name": "stdout",
     "output_type": "stream",
     "text": [
      "\r>> Converting image 1660/2569 shard 1"
     ]
    },
    {
     "name": "stdout",
     "output_type": "stream",
     "text": [
      "\r>> Converting image 1661/2569 shard 1"
     ]
    },
    {
     "name": "stdout",
     "output_type": "stream",
     "text": [
      "\r>> Converting image 1662/2569 shard 1"
     ]
    },
    {
     "name": "stdout",
     "output_type": "stream",
     "text": [
      "\r>> Converting image 1663/2569 shard 1"
     ]
    },
    {
     "name": "stdout",
     "output_type": "stream",
     "text": [
      "\r>> Converting image 1664/2569 shard 1"
     ]
    },
    {
     "name": "stdout",
     "output_type": "stream",
     "text": [
      "\r>> Converting image 1665/2569 shard 1"
     ]
    },
    {
     "name": "stdout",
     "output_type": "stream",
     "text": [
      "\r>> Converting image 1666/2569 shard 1"
     ]
    },
    {
     "name": "stdout",
     "output_type": "stream",
     "text": [
      "\r>> Converting image 1667/2569 shard 1"
     ]
    },
    {
     "name": "stdout",
     "output_type": "stream",
     "text": [
      "\r>> Converting image 1668/2569 shard 1"
     ]
    },
    {
     "name": "stdout",
     "output_type": "stream",
     "text": [
      "\r>> Converting image 1669/2569 shard 1"
     ]
    },
    {
     "name": "stdout",
     "output_type": "stream",
     "text": [
      "\r>> Converting image 1670/2569 shard 1"
     ]
    },
    {
     "name": "stdout",
     "output_type": "stream",
     "text": [
      "\r>> Converting image 1671/2569 shard 1"
     ]
    },
    {
     "name": "stdout",
     "output_type": "stream",
     "text": [
      "\r>> Converting image 1672/2569 shard 1"
     ]
    },
    {
     "name": "stdout",
     "output_type": "stream",
     "text": [
      "\r>> Converting image 1673/2569 shard 1"
     ]
    },
    {
     "name": "stdout",
     "output_type": "stream",
     "text": [
      "\r>> Converting image 1674/2569 shard 1"
     ]
    },
    {
     "name": "stdout",
     "output_type": "stream",
     "text": [
      "\r>> Converting image 1675/2569 shard 1"
     ]
    },
    {
     "name": "stdout",
     "output_type": "stream",
     "text": [
      "\r>> Converting image 1676/2569 shard 1"
     ]
    },
    {
     "name": "stdout",
     "output_type": "stream",
     "text": [
      "\r>> Converting image 1677/2569 shard 1"
     ]
    },
    {
     "name": "stdout",
     "output_type": "stream",
     "text": [
      "\r>> Converting image 1678/2569 shard 1"
     ]
    },
    {
     "name": "stdout",
     "output_type": "stream",
     "text": [
      "\r>> Converting image 1679/2569 shard 1"
     ]
    },
    {
     "name": "stdout",
     "output_type": "stream",
     "text": [
      "\r>> Converting image 1680/2569 shard 1"
     ]
    },
    {
     "name": "stdout",
     "output_type": "stream",
     "text": [
      "\r>> Converting image 1681/2569 shard 1"
     ]
    },
    {
     "name": "stdout",
     "output_type": "stream",
     "text": [
      "\r>> Converting image 1682/2569 shard 1"
     ]
    },
    {
     "name": "stdout",
     "output_type": "stream",
     "text": [
      "\r>> Converting image 1683/2569 shard 1"
     ]
    },
    {
     "name": "stdout",
     "output_type": "stream",
     "text": [
      "\r>> Converting image 1684/2569 shard 1"
     ]
    },
    {
     "name": "stdout",
     "output_type": "stream",
     "text": [
      "\r>> Converting image 1685/2569 shard 1"
     ]
    },
    {
     "name": "stdout",
     "output_type": "stream",
     "text": [
      "\r>> Converting image 1686/2569 shard 1"
     ]
    },
    {
     "name": "stdout",
     "output_type": "stream",
     "text": [
      "\r>> Converting image 1687/2569 shard 1"
     ]
    },
    {
     "name": "stdout",
     "output_type": "stream",
     "text": [
      "\r>> Converting image 1688/2569 shard 1"
     ]
    },
    {
     "name": "stdout",
     "output_type": "stream",
     "text": [
      "\r>> Converting image 1689/2569 shard 1"
     ]
    },
    {
     "name": "stdout",
     "output_type": "stream",
     "text": [
      "\r>> Converting image 1690/2569 shard 1"
     ]
    },
    {
     "name": "stdout",
     "output_type": "stream",
     "text": [
      "\r>> Converting image 1691/2569 shard 1"
     ]
    },
    {
     "name": "stdout",
     "output_type": "stream",
     "text": [
      "\r>> Converting image 1692/2569 shard 1"
     ]
    },
    {
     "name": "stdout",
     "output_type": "stream",
     "text": [
      "\r>> Converting image 1693/2569 shard 1"
     ]
    },
    {
     "name": "stdout",
     "output_type": "stream",
     "text": [
      "\r>> Converting image 1694/2569 shard 1"
     ]
    },
    {
     "name": "stdout",
     "output_type": "stream",
     "text": [
      "\r>> Converting image 1695/2569 shard 1"
     ]
    },
    {
     "name": "stdout",
     "output_type": "stream",
     "text": [
      "\r>> Converting image 1696/2569 shard 1"
     ]
    },
    {
     "name": "stdout",
     "output_type": "stream",
     "text": [
      "\r>> Converting image 1697/2569 shard 1"
     ]
    },
    {
     "name": "stdout",
     "output_type": "stream",
     "text": [
      "\r>> Converting image 1698/2569 shard 1"
     ]
    },
    {
     "name": "stdout",
     "output_type": "stream",
     "text": [
      "\r>> Converting image 1699/2569 shard 1"
     ]
    },
    {
     "name": "stdout",
     "output_type": "stream",
     "text": [
      "\r>> Converting image 1700/2569 shard 1"
     ]
    },
    {
     "name": "stdout",
     "output_type": "stream",
     "text": [
      "\r>> Converting image 1701/2569 shard 1"
     ]
    },
    {
     "name": "stdout",
     "output_type": "stream",
     "text": [
      "\r>> Converting image 1702/2569 shard 1"
     ]
    },
    {
     "name": "stdout",
     "output_type": "stream",
     "text": [
      "\r>> Converting image 1703/2569 shard 1"
     ]
    },
    {
     "name": "stdout",
     "output_type": "stream",
     "text": [
      "\r>> Converting image 1704/2569 shard 1"
     ]
    },
    {
     "name": "stdout",
     "output_type": "stream",
     "text": [
      "\r>> Converting image 1705/2569 shard 1"
     ]
    },
    {
     "name": "stdout",
     "output_type": "stream",
     "text": [
      "\r>> Converting image 1706/2569 shard 1"
     ]
    },
    {
     "name": "stdout",
     "output_type": "stream",
     "text": [
      "\r>> Converting image 1707/2569 shard 1"
     ]
    },
    {
     "name": "stdout",
     "output_type": "stream",
     "text": [
      "\r>> Converting image 1708/2569 shard 1"
     ]
    },
    {
     "name": "stdout",
     "output_type": "stream",
     "text": [
      "\r>> Converting image 1709/2569 shard 1"
     ]
    },
    {
     "name": "stdout",
     "output_type": "stream",
     "text": [
      "\r>> Converting image 1710/2569 shard 1"
     ]
    },
    {
     "name": "stdout",
     "output_type": "stream",
     "text": [
      "\r>> Converting image 1711/2569 shard 1"
     ]
    },
    {
     "name": "stdout",
     "output_type": "stream",
     "text": [
      "\r>> Converting image 1712/2569 shard 1"
     ]
    },
    {
     "name": "stdout",
     "output_type": "stream",
     "text": [
      "\r>> Converting image 1713/2569 shard 1"
     ]
    },
    {
     "name": "stdout",
     "output_type": "stream",
     "text": [
      "\r>> Converting image 1714/2569 shard 1"
     ]
    },
    {
     "name": "stdout",
     "output_type": "stream",
     "text": [
      "\r>> Converting image 1715/2569 shard 1"
     ]
    },
    {
     "name": "stdout",
     "output_type": "stream",
     "text": [
      "\r>> Converting image 1716/2569 shard 1"
     ]
    },
    {
     "name": "stdout",
     "output_type": "stream",
     "text": [
      "\r>> Converting image 1717/2569 shard 1"
     ]
    },
    {
     "name": "stdout",
     "output_type": "stream",
     "text": [
      "\r>> Converting image 1718/2569 shard 1"
     ]
    },
    {
     "name": "stdout",
     "output_type": "stream",
     "text": [
      "\r>> Converting image 1719/2569 shard 1"
     ]
    },
    {
     "name": "stdout",
     "output_type": "stream",
     "text": [
      "\r>> Converting image 1720/2569 shard 1"
     ]
    },
    {
     "name": "stdout",
     "output_type": "stream",
     "text": [
      "\r>> Converting image 1721/2569 shard 1"
     ]
    },
    {
     "name": "stdout",
     "output_type": "stream",
     "text": [
      "\r>> Converting image 1722/2569 shard 1"
     ]
    },
    {
     "name": "stdout",
     "output_type": "stream",
     "text": [
      "\r>> Converting image 1723/2569 shard 1"
     ]
    },
    {
     "name": "stdout",
     "output_type": "stream",
     "text": [
      "\r>> Converting image 1724/2569 shard 1"
     ]
    },
    {
     "name": "stdout",
     "output_type": "stream",
     "text": [
      "\r>> Converting image 1725/2569 shard 1"
     ]
    },
    {
     "name": "stdout",
     "output_type": "stream",
     "text": [
      "\r>> Converting image 1726/2569 shard 1"
     ]
    },
    {
     "name": "stdout",
     "output_type": "stream",
     "text": [
      "\r>> Converting image 1727/2569 shard 1"
     ]
    },
    {
     "name": "stdout",
     "output_type": "stream",
     "text": [
      "\r>> Converting image 1728/2569 shard 1"
     ]
    },
    {
     "name": "stdout",
     "output_type": "stream",
     "text": [
      "\r>> Converting image 1729/2569 shard 1"
     ]
    },
    {
     "name": "stdout",
     "output_type": "stream",
     "text": [
      "\r>> Converting image 1730/2569 shard 1"
     ]
    },
    {
     "name": "stdout",
     "output_type": "stream",
     "text": [
      "\r>> Converting image 1731/2569 shard 1"
     ]
    },
    {
     "name": "stdout",
     "output_type": "stream",
     "text": [
      "\r>> Converting image 1732/2569 shard 1"
     ]
    },
    {
     "name": "stdout",
     "output_type": "stream",
     "text": [
      "\r>> Converting image 1733/2569 shard 1"
     ]
    },
    {
     "name": "stdout",
     "output_type": "stream",
     "text": [
      "\r>> Converting image 1734/2569 shard 1"
     ]
    },
    {
     "name": "stdout",
     "output_type": "stream",
     "text": [
      "\r>> Converting image 1735/2569 shard 1"
     ]
    },
    {
     "name": "stdout",
     "output_type": "stream",
     "text": [
      "\r>> Converting image 1736/2569 shard 1"
     ]
    },
    {
     "name": "stdout",
     "output_type": "stream",
     "text": [
      "\r>> Converting image 1737/2569 shard 1"
     ]
    },
    {
     "name": "stdout",
     "output_type": "stream",
     "text": [
      "\r>> Converting image 1738/2569 shard 1"
     ]
    },
    {
     "name": "stdout",
     "output_type": "stream",
     "text": [
      "\r>> Converting image 1739/2569 shard 1"
     ]
    },
    {
     "name": "stdout",
     "output_type": "stream",
     "text": [
      "\r>> Converting image 1740/2569 shard 1"
     ]
    },
    {
     "name": "stdout",
     "output_type": "stream",
     "text": [
      "\r>> Converting image 1741/2569 shard 1"
     ]
    },
    {
     "name": "stdout",
     "output_type": "stream",
     "text": [
      "\r>> Converting image 1742/2569 shard 1"
     ]
    },
    {
     "name": "stdout",
     "output_type": "stream",
     "text": [
      "\r>> Converting image 1743/2569 shard 1"
     ]
    },
    {
     "name": "stdout",
     "output_type": "stream",
     "text": [
      "\r>> Converting image 1744/2569 shard 1"
     ]
    },
    {
     "name": "stdout",
     "output_type": "stream",
     "text": [
      "\r>> Converting image 1745/2569 shard 1"
     ]
    },
    {
     "name": "stdout",
     "output_type": "stream",
     "text": [
      "\r>> Converting image 1746/2569 shard 1"
     ]
    },
    {
     "name": "stdout",
     "output_type": "stream",
     "text": [
      "\r>> Converting image 1747/2569 shard 1"
     ]
    },
    {
     "name": "stdout",
     "output_type": "stream",
     "text": [
      "\r>> Converting image 1748/2569 shard 1"
     ]
    },
    {
     "name": "stdout",
     "output_type": "stream",
     "text": [
      "\r>> Converting image 1749/2569 shard 1"
     ]
    },
    {
     "name": "stdout",
     "output_type": "stream",
     "text": [
      "\r>> Converting image 1750/2569 shard 1"
     ]
    },
    {
     "name": "stdout",
     "output_type": "stream",
     "text": [
      "\r>> Converting image 1751/2569 shard 1"
     ]
    },
    {
     "name": "stdout",
     "output_type": "stream",
     "text": [
      "\r>> Converting image 1752/2569 shard 1"
     ]
    },
    {
     "name": "stdout",
     "output_type": "stream",
     "text": [
      "\r>> Converting image 1753/2569 shard 1"
     ]
    },
    {
     "name": "stdout",
     "output_type": "stream",
     "text": [
      "\r>> Converting image 1754/2569 shard 1"
     ]
    },
    {
     "name": "stdout",
     "output_type": "stream",
     "text": [
      "\r>> Converting image 1755/2569 shard 1"
     ]
    },
    {
     "name": "stdout",
     "output_type": "stream",
     "text": [
      "\r>> Converting image 1756/2569 shard 1"
     ]
    },
    {
     "name": "stdout",
     "output_type": "stream",
     "text": [
      "\r>> Converting image 1757/2569 shard 1"
     ]
    },
    {
     "name": "stdout",
     "output_type": "stream",
     "text": [
      "\r>> Converting image 1758/2569 shard 1"
     ]
    },
    {
     "name": "stdout",
     "output_type": "stream",
     "text": [
      "\r>> Converting image 1759/2569 shard 1"
     ]
    },
    {
     "name": "stdout",
     "output_type": "stream",
     "text": [
      "\r>> Converting image 1760/2569 shard 1"
     ]
    },
    {
     "name": "stdout",
     "output_type": "stream",
     "text": [
      "\r>> Converting image 1761/2569 shard 1"
     ]
    },
    {
     "name": "stdout",
     "output_type": "stream",
     "text": [
      "\r>> Converting image 1762/2569 shard 1"
     ]
    },
    {
     "name": "stdout",
     "output_type": "stream",
     "text": [
      "\r>> Converting image 1763/2569 shard 1"
     ]
    },
    {
     "name": "stdout",
     "output_type": "stream",
     "text": [
      "\r>> Converting image 1764/2569 shard 1"
     ]
    },
    {
     "name": "stdout",
     "output_type": "stream",
     "text": [
      "\r>> Converting image 1765/2569 shard 1"
     ]
    },
    {
     "name": "stdout",
     "output_type": "stream",
     "text": [
      "\r>> Converting image 1766/2569 shard 1"
     ]
    },
    {
     "name": "stdout",
     "output_type": "stream",
     "text": [
      "\r>> Converting image 1767/2569 shard 1"
     ]
    },
    {
     "name": "stdout",
     "output_type": "stream",
     "text": [
      "\r>> Converting image 1768/2569 shard 1"
     ]
    },
    {
     "name": "stdout",
     "output_type": "stream",
     "text": [
      "\r>> Converting image 1769/2569 shard 1"
     ]
    },
    {
     "name": "stdout",
     "output_type": "stream",
     "text": [
      "\r>> Converting image 1770/2569 shard 1"
     ]
    },
    {
     "name": "stdout",
     "output_type": "stream",
     "text": [
      "\r>> Converting image 1771/2569 shard 1"
     ]
    },
    {
     "name": "stdout",
     "output_type": "stream",
     "text": [
      "\r>> Converting image 1772/2569 shard 1"
     ]
    },
    {
     "name": "stdout",
     "output_type": "stream",
     "text": [
      "\r>> Converting image 1773/2569 shard 1"
     ]
    },
    {
     "name": "stdout",
     "output_type": "stream",
     "text": [
      "\r>> Converting image 1774/2569 shard 1"
     ]
    },
    {
     "name": "stdout",
     "output_type": "stream",
     "text": [
      "\r>> Converting image 1775/2569 shard 1"
     ]
    },
    {
     "name": "stdout",
     "output_type": "stream",
     "text": [
      "\r>> Converting image 1776/2569 shard 1"
     ]
    },
    {
     "name": "stdout",
     "output_type": "stream",
     "text": [
      "\r>> Converting image 1777/2569 shard 1"
     ]
    },
    {
     "name": "stdout",
     "output_type": "stream",
     "text": [
      "\r>> Converting image 1778/2569 shard 1"
     ]
    },
    {
     "name": "stdout",
     "output_type": "stream",
     "text": [
      "\r>> Converting image 1779/2569 shard 1"
     ]
    },
    {
     "name": "stdout",
     "output_type": "stream",
     "text": [
      "\r>> Converting image 1780/2569 shard 1"
     ]
    },
    {
     "name": "stdout",
     "output_type": "stream",
     "text": [
      "\r>> Converting image 1781/2569 shard 1"
     ]
    },
    {
     "name": "stdout",
     "output_type": "stream",
     "text": [
      "\r>> Converting image 1782/2569 shard 1"
     ]
    },
    {
     "name": "stdout",
     "output_type": "stream",
     "text": [
      "\r>> Converting image 1783/2569 shard 1"
     ]
    },
    {
     "name": "stdout",
     "output_type": "stream",
     "text": [
      "\r>> Converting image 1784/2569 shard 1"
     ]
    },
    {
     "name": "stdout",
     "output_type": "stream",
     "text": [
      "\r>> Converting image 1785/2569 shard 1"
     ]
    },
    {
     "name": "stdout",
     "output_type": "stream",
     "text": [
      "\r>> Converting image 1786/2569 shard 1"
     ]
    },
    {
     "name": "stdout",
     "output_type": "stream",
     "text": [
      "\r>> Converting image 1787/2569 shard 1"
     ]
    },
    {
     "name": "stdout",
     "output_type": "stream",
     "text": [
      "\r>> Converting image 1788/2569 shard 1"
     ]
    },
    {
     "name": "stdout",
     "output_type": "stream",
     "text": [
      "\r>> Converting image 1789/2569 shard 1"
     ]
    },
    {
     "name": "stdout",
     "output_type": "stream",
     "text": [
      "\r>> Converting image 1790/2569 shard 1"
     ]
    },
    {
     "name": "stdout",
     "output_type": "stream",
     "text": [
      "\r>> Converting image 1791/2569 shard 1"
     ]
    },
    {
     "name": "stdout",
     "output_type": "stream",
     "text": [
      "\r>> Converting image 1792/2569 shard 1"
     ]
    },
    {
     "name": "stdout",
     "output_type": "stream",
     "text": [
      "\r>> Converting image 1793/2569 shard 1"
     ]
    },
    {
     "name": "stdout",
     "output_type": "stream",
     "text": [
      "\r>> Converting image 1794/2569 shard 1"
     ]
    },
    {
     "name": "stdout",
     "output_type": "stream",
     "text": [
      "\r>> Converting image 1795/2569 shard 1"
     ]
    },
    {
     "name": "stdout",
     "output_type": "stream",
     "text": [
      "\r>> Converting image 1796/2569 shard 1"
     ]
    },
    {
     "name": "stdout",
     "output_type": "stream",
     "text": [
      "\r>> Converting image 1797/2569 shard 1"
     ]
    },
    {
     "name": "stdout",
     "output_type": "stream",
     "text": [
      "\r>> Converting image 1798/2569 shard 1"
     ]
    },
    {
     "name": "stdout",
     "output_type": "stream",
     "text": [
      "\r>> Converting image 1799/2569 shard 1"
     ]
    },
    {
     "name": "stdout",
     "output_type": "stream",
     "text": [
      "\r>> Converting image 1800/2569 shard 1"
     ]
    },
    {
     "name": "stdout",
     "output_type": "stream",
     "text": [
      "\r>> Converting image 1801/2569 shard 1"
     ]
    },
    {
     "name": "stdout",
     "output_type": "stream",
     "text": [
      "\r>> Converting image 1802/2569 shard 1"
     ]
    },
    {
     "name": "stdout",
     "output_type": "stream",
     "text": [
      "\r>> Converting image 1803/2569 shard 1"
     ]
    },
    {
     "name": "stdout",
     "output_type": "stream",
     "text": [
      "\r>> Converting image 1804/2569 shard 1"
     ]
    },
    {
     "name": "stdout",
     "output_type": "stream",
     "text": [
      "\r>> Converting image 1805/2569 shard 1"
     ]
    },
    {
     "name": "stdout",
     "output_type": "stream",
     "text": [
      "\r>> Converting image 1806/2569 shard 1"
     ]
    },
    {
     "name": "stdout",
     "output_type": "stream",
     "text": [
      "\r>> Converting image 1807/2569 shard 1"
     ]
    },
    {
     "name": "stdout",
     "output_type": "stream",
     "text": [
      "\r>> Converting image 1808/2569 shard 1"
     ]
    },
    {
     "name": "stdout",
     "output_type": "stream",
     "text": [
      "\r>> Converting image 1809/2569 shard 1"
     ]
    },
    {
     "name": "stdout",
     "output_type": "stream",
     "text": [
      "\r>> Converting image 1810/2569 shard 1"
     ]
    },
    {
     "name": "stdout",
     "output_type": "stream",
     "text": [
      "\r>> Converting image 1811/2569 shard 1"
     ]
    },
    {
     "name": "stdout",
     "output_type": "stream",
     "text": [
      "\r>> Converting image 1812/2569 shard 1"
     ]
    },
    {
     "name": "stdout",
     "output_type": "stream",
     "text": [
      "\r>> Converting image 1813/2569 shard 1"
     ]
    },
    {
     "name": "stdout",
     "output_type": "stream",
     "text": [
      "\r>> Converting image 1814/2569 shard 1"
     ]
    },
    {
     "name": "stdout",
     "output_type": "stream",
     "text": [
      "\r>> Converting image 1815/2569 shard 1"
     ]
    },
    {
     "name": "stdout",
     "output_type": "stream",
     "text": [
      "\r>> Converting image 1816/2569 shard 1"
     ]
    },
    {
     "name": "stdout",
     "output_type": "stream",
     "text": [
      "\r>> Converting image 1817/2569 shard 1"
     ]
    },
    {
     "name": "stdout",
     "output_type": "stream",
     "text": [
      "\r>> Converting image 1818/2569 shard 1"
     ]
    },
    {
     "name": "stdout",
     "output_type": "stream",
     "text": [
      "\r>> Converting image 1819/2569 shard 1"
     ]
    },
    {
     "name": "stdout",
     "output_type": "stream",
     "text": [
      "\r>> Converting image 1820/2569 shard 1"
     ]
    },
    {
     "name": "stdout",
     "output_type": "stream",
     "text": [
      "\r>> Converting image 1821/2569 shard 1"
     ]
    },
    {
     "name": "stdout",
     "output_type": "stream",
     "text": [
      "\r>> Converting image 1822/2569 shard 1"
     ]
    },
    {
     "name": "stdout",
     "output_type": "stream",
     "text": [
      "\r>> Converting image 1823/2569 shard 1"
     ]
    },
    {
     "name": "stdout",
     "output_type": "stream",
     "text": [
      "\r>> Converting image 1824/2569 shard 1"
     ]
    },
    {
     "name": "stdout",
     "output_type": "stream",
     "text": [
      "\r>> Converting image 1825/2569 shard 1"
     ]
    },
    {
     "name": "stdout",
     "output_type": "stream",
     "text": [
      "\r>> Converting image 1826/2569 shard 1"
     ]
    },
    {
     "name": "stdout",
     "output_type": "stream",
     "text": [
      "\r>> Converting image 1827/2569 shard 1"
     ]
    },
    {
     "name": "stdout",
     "output_type": "stream",
     "text": [
      "\r>> Converting image 1828/2569 shard 1"
     ]
    },
    {
     "name": "stdout",
     "output_type": "stream",
     "text": [
      "\r>> Converting image 1829/2569 shard 1"
     ]
    },
    {
     "name": "stdout",
     "output_type": "stream",
     "text": [
      "\r>> Converting image 1830/2569 shard 1"
     ]
    },
    {
     "name": "stdout",
     "output_type": "stream",
     "text": [
      "\r>> Converting image 1831/2569 shard 1"
     ]
    },
    {
     "name": "stdout",
     "output_type": "stream",
     "text": [
      "\r>> Converting image 1832/2569 shard 1"
     ]
    },
    {
     "name": "stdout",
     "output_type": "stream",
     "text": [
      "\r>> Converting image 1833/2569 shard 1"
     ]
    },
    {
     "name": "stdout",
     "output_type": "stream",
     "text": [
      "\r>> Converting image 1834/2569 shard 1"
     ]
    },
    {
     "name": "stdout",
     "output_type": "stream",
     "text": [
      "\r>> Converting image 1835/2569 shard 1"
     ]
    },
    {
     "name": "stdout",
     "output_type": "stream",
     "text": [
      "\r>> Converting image 1836/2569 shard 1"
     ]
    },
    {
     "name": "stdout",
     "output_type": "stream",
     "text": [
      "\r>> Converting image 1837/2569 shard 1"
     ]
    },
    {
     "name": "stdout",
     "output_type": "stream",
     "text": [
      "\r>> Converting image 1838/2569 shard 1"
     ]
    },
    {
     "name": "stdout",
     "output_type": "stream",
     "text": [
      "\r>> Converting image 1839/2569 shard 1"
     ]
    },
    {
     "name": "stdout",
     "output_type": "stream",
     "text": [
      "\r>> Converting image 1840/2569 shard 1"
     ]
    },
    {
     "name": "stdout",
     "output_type": "stream",
     "text": [
      "\r>> Converting image 1841/2569 shard 1"
     ]
    },
    {
     "name": "stdout",
     "output_type": "stream",
     "text": [
      "\r>> Converting image 1842/2569 shard 1"
     ]
    },
    {
     "name": "stdout",
     "output_type": "stream",
     "text": [
      "\r>> Converting image 1843/2569 shard 1"
     ]
    },
    {
     "name": "stdout",
     "output_type": "stream",
     "text": [
      "\r>> Converting image 1844/2569 shard 1"
     ]
    },
    {
     "name": "stdout",
     "output_type": "stream",
     "text": [
      "\r>> Converting image 1845/2569 shard 1"
     ]
    },
    {
     "name": "stdout",
     "output_type": "stream",
     "text": [
      "\r>> Converting image 1846/2569 shard 1"
     ]
    },
    {
     "name": "stdout",
     "output_type": "stream",
     "text": [
      "\r>> Converting image 1847/2569 shard 1"
     ]
    },
    {
     "name": "stdout",
     "output_type": "stream",
     "text": [
      "\r>> Converting image 1848/2569 shard 1"
     ]
    },
    {
     "name": "stdout",
     "output_type": "stream",
     "text": [
      "\r>> Converting image 1849/2569 shard 1"
     ]
    },
    {
     "name": "stdout",
     "output_type": "stream",
     "text": [
      "\r>> Converting image 1850/2569 shard 1"
     ]
    },
    {
     "name": "stdout",
     "output_type": "stream",
     "text": [
      "\r>> Converting image 1851/2569 shard 1"
     ]
    },
    {
     "name": "stdout",
     "output_type": "stream",
     "text": [
      "\r>> Converting image 1852/2569 shard 1"
     ]
    },
    {
     "name": "stdout",
     "output_type": "stream",
     "text": [
      "\r>> Converting image 1853/2569 shard 1"
     ]
    },
    {
     "name": "stdout",
     "output_type": "stream",
     "text": [
      "\r>> Converting image 1854/2569 shard 1"
     ]
    },
    {
     "name": "stdout",
     "output_type": "stream",
     "text": [
      "\r>> Converting image 1855/2569 shard 1"
     ]
    },
    {
     "name": "stdout",
     "output_type": "stream",
     "text": [
      "\r>> Converting image 1856/2569 shard 1"
     ]
    },
    {
     "name": "stdout",
     "output_type": "stream",
     "text": [
      "\r>> Converting image 1857/2569 shard 1"
     ]
    },
    {
     "name": "stdout",
     "output_type": "stream",
     "text": [
      "\r>> Converting image 1858/2569 shard 1"
     ]
    },
    {
     "name": "stdout",
     "output_type": "stream",
     "text": [
      "\r>> Converting image 1859/2569 shard 1"
     ]
    },
    {
     "name": "stdout",
     "output_type": "stream",
     "text": [
      "\r>> Converting image 1860/2569 shard 1"
     ]
    },
    {
     "name": "stdout",
     "output_type": "stream",
     "text": [
      "\r>> Converting image 1861/2569 shard 1"
     ]
    },
    {
     "name": "stdout",
     "output_type": "stream",
     "text": [
      "\r>> Converting image 1862/2569 shard 1"
     ]
    },
    {
     "name": "stdout",
     "output_type": "stream",
     "text": [
      "\r>> Converting image 1863/2569 shard 1"
     ]
    },
    {
     "name": "stdout",
     "output_type": "stream",
     "text": [
      "\r>> Converting image 1864/2569 shard 1"
     ]
    },
    {
     "name": "stdout",
     "output_type": "stream",
     "text": [
      "\r>> Converting image 1865/2569 shard 1"
     ]
    },
    {
     "name": "stdout",
     "output_type": "stream",
     "text": [
      "\r>> Converting image 1866/2569 shard 1"
     ]
    },
    {
     "name": "stdout",
     "output_type": "stream",
     "text": [
      "\r>> Converting image 1867/2569 shard 1"
     ]
    },
    {
     "name": "stdout",
     "output_type": "stream",
     "text": [
      "\r>> Converting image 1868/2569 shard 1"
     ]
    },
    {
     "name": "stdout",
     "output_type": "stream",
     "text": [
      "\r>> Converting image 1869/2569 shard 1"
     ]
    },
    {
     "name": "stdout",
     "output_type": "stream",
     "text": [
      "\r>> Converting image 1870/2569 shard 1"
     ]
    },
    {
     "name": "stdout",
     "output_type": "stream",
     "text": [
      "\r>> Converting image 1871/2569 shard 1"
     ]
    },
    {
     "name": "stdout",
     "output_type": "stream",
     "text": [
      "\r>> Converting image 1872/2569 shard 1"
     ]
    },
    {
     "name": "stdout",
     "output_type": "stream",
     "text": [
      "\r>> Converting image 1873/2569 shard 1"
     ]
    },
    {
     "name": "stdout",
     "output_type": "stream",
     "text": [
      "\r>> Converting image 1874/2569 shard 1"
     ]
    },
    {
     "name": "stdout",
     "output_type": "stream",
     "text": [
      "\r>> Converting image 1875/2569 shard 1"
     ]
    },
    {
     "name": "stdout",
     "output_type": "stream",
     "text": [
      "\r>> Converting image 1876/2569 shard 1"
     ]
    },
    {
     "name": "stdout",
     "output_type": "stream",
     "text": [
      "\r>> Converting image 1877/2569 shard 1"
     ]
    },
    {
     "name": "stdout",
     "output_type": "stream",
     "text": [
      "\r>> Converting image 1878/2569 shard 1"
     ]
    },
    {
     "name": "stdout",
     "output_type": "stream",
     "text": [
      "\r>> Converting image 1879/2569 shard 1"
     ]
    },
    {
     "name": "stdout",
     "output_type": "stream",
     "text": [
      "\r>> Converting image 1880/2569 shard 1"
     ]
    },
    {
     "name": "stdout",
     "output_type": "stream",
     "text": [
      "\r>> Converting image 1881/2569 shard 1"
     ]
    },
    {
     "name": "stdout",
     "output_type": "stream",
     "text": [
      "\r>> Converting image 1882/2569 shard 1"
     ]
    },
    {
     "name": "stdout",
     "output_type": "stream",
     "text": [
      "\r>> Converting image 1883/2569 shard 1"
     ]
    },
    {
     "name": "stdout",
     "output_type": "stream",
     "text": [
      "\r>> Converting image 1884/2569 shard 1"
     ]
    },
    {
     "name": "stdout",
     "output_type": "stream",
     "text": [
      "\r>> Converting image 1885/2569 shard 1"
     ]
    },
    {
     "name": "stdout",
     "output_type": "stream",
     "text": [
      "\r>> Converting image 1886/2569 shard 1"
     ]
    },
    {
     "name": "stdout",
     "output_type": "stream",
     "text": [
      "\r>> Converting image 1887/2569 shard 1"
     ]
    },
    {
     "name": "stdout",
     "output_type": "stream",
     "text": [
      "\r>> Converting image 1888/2569 shard 1"
     ]
    },
    {
     "name": "stdout",
     "output_type": "stream",
     "text": [
      "\r>> Converting image 1889/2569 shard 1"
     ]
    },
    {
     "name": "stdout",
     "output_type": "stream",
     "text": [
      "\r>> Converting image 1890/2569 shard 1"
     ]
    },
    {
     "name": "stdout",
     "output_type": "stream",
     "text": [
      "\r>> Converting image 1891/2569 shard 1"
     ]
    },
    {
     "name": "stdout",
     "output_type": "stream",
     "text": [
      "\r>> Converting image 1892/2569 shard 1"
     ]
    },
    {
     "name": "stdout",
     "output_type": "stream",
     "text": [
      "\r>> Converting image 1893/2569 shard 1"
     ]
    },
    {
     "name": "stdout",
     "output_type": "stream",
     "text": [
      "\r>> Converting image 1894/2569 shard 1"
     ]
    },
    {
     "name": "stdout",
     "output_type": "stream",
     "text": [
      "\r>> Converting image 1895/2569 shard 1"
     ]
    },
    {
     "name": "stdout",
     "output_type": "stream",
     "text": [
      "\r>> Converting image 1896/2569 shard 1"
     ]
    },
    {
     "name": "stdout",
     "output_type": "stream",
     "text": [
      "\r>> Converting image 1897/2569 shard 1"
     ]
    },
    {
     "name": "stdout",
     "output_type": "stream",
     "text": [
      "\r>> Converting image 1898/2569 shard 1"
     ]
    },
    {
     "name": "stdout",
     "output_type": "stream",
     "text": [
      "\r>> Converting image 1899/2569 shard 1"
     ]
    },
    {
     "name": "stdout",
     "output_type": "stream",
     "text": [
      "\r>> Converting image 1900/2569 shard 1"
     ]
    },
    {
     "name": "stdout",
     "output_type": "stream",
     "text": [
      "\r>> Converting image 1901/2569 shard 1"
     ]
    },
    {
     "name": "stdout",
     "output_type": "stream",
     "text": [
      "\r>> Converting image 1902/2569 shard 1"
     ]
    },
    {
     "name": "stdout",
     "output_type": "stream",
     "text": [
      "\r>> Converting image 1903/2569 shard 1"
     ]
    },
    {
     "name": "stdout",
     "output_type": "stream",
     "text": [
      "\r>> Converting image 1904/2569 shard 1"
     ]
    },
    {
     "name": "stdout",
     "output_type": "stream",
     "text": [
      "\r>> Converting image 1905/2569 shard 1"
     ]
    },
    {
     "name": "stdout",
     "output_type": "stream",
     "text": [
      "\r>> Converting image 1906/2569 shard 1"
     ]
    },
    {
     "name": "stdout",
     "output_type": "stream",
     "text": [
      "\r>> Converting image 1907/2569 shard 1"
     ]
    },
    {
     "name": "stdout",
     "output_type": "stream",
     "text": [
      "\r>> Converting image 1908/2569 shard 1"
     ]
    },
    {
     "name": "stdout",
     "output_type": "stream",
     "text": [
      "\r>> Converting image 1909/2569 shard 1"
     ]
    },
    {
     "name": "stdout",
     "output_type": "stream",
     "text": [
      "\r>> Converting image 1910/2569 shard 1"
     ]
    },
    {
     "name": "stdout",
     "output_type": "stream",
     "text": [
      "\r>> Converting image 1911/2569 shard 1"
     ]
    },
    {
     "name": "stdout",
     "output_type": "stream",
     "text": [
      "\r>> Converting image 1912/2569 shard 1"
     ]
    },
    {
     "name": "stdout",
     "output_type": "stream",
     "text": [
      "\r>> Converting image 1913/2569 shard 1"
     ]
    },
    {
     "name": "stdout",
     "output_type": "stream",
     "text": [
      "\r>> Converting image 1914/2569 shard 1"
     ]
    },
    {
     "name": "stdout",
     "output_type": "stream",
     "text": [
      "\r>> Converting image 1915/2569 shard 1"
     ]
    },
    {
     "name": "stdout",
     "output_type": "stream",
     "text": [
      "\r>> Converting image 1916/2569 shard 1"
     ]
    },
    {
     "name": "stdout",
     "output_type": "stream",
     "text": [
      "\r>> Converting image 1917/2569 shard 1"
     ]
    },
    {
     "name": "stdout",
     "output_type": "stream",
     "text": [
      "\r>> Converting image 1918/2569 shard 1"
     ]
    },
    {
     "name": "stdout",
     "output_type": "stream",
     "text": [
      "\r>> Converting image 1919/2569 shard 1"
     ]
    },
    {
     "name": "stdout",
     "output_type": "stream",
     "text": [
      "\r>> Converting image 1920/2569 shard 1"
     ]
    },
    {
     "name": "stdout",
     "output_type": "stream",
     "text": [
      "\r>> Converting image 1921/2569 shard 1"
     ]
    },
    {
     "name": "stdout",
     "output_type": "stream",
     "text": [
      "\r>> Converting image 1922/2569 shard 1"
     ]
    },
    {
     "name": "stdout",
     "output_type": "stream",
     "text": [
      "\r>> Converting image 1923/2569 shard 1"
     ]
    },
    {
     "name": "stdout",
     "output_type": "stream",
     "text": [
      "\r>> Converting image 1924/2569 shard 1"
     ]
    },
    {
     "name": "stdout",
     "output_type": "stream",
     "text": [
      "\r>> Converting image 1925/2569 shard 1"
     ]
    },
    {
     "name": "stdout",
     "output_type": "stream",
     "text": [
      "\r>> Converting image 1926/2569 shard 1"
     ]
    },
    {
     "name": "stdout",
     "output_type": "stream",
     "text": [
      "\r>> Converting image 1927/2569 shard 1"
     ]
    },
    {
     "name": "stdout",
     "output_type": "stream",
     "text": [
      "\r>> Converting image 1928/2569 shard 1"
     ]
    },
    {
     "name": "stdout",
     "output_type": "stream",
     "text": [
      "\r>> Converting image 1929/2569 shard 1"
     ]
    },
    {
     "name": "stdout",
     "output_type": "stream",
     "text": [
      "\r>> Converting image 1930/2569 shard 1"
     ]
    },
    {
     "name": "stdout",
     "output_type": "stream",
     "text": [
      "\r>> Converting image 1931/2569 shard 1"
     ]
    },
    {
     "name": "stdout",
     "output_type": "stream",
     "text": [
      "\r>> Converting image 1932/2569 shard 1"
     ]
    },
    {
     "name": "stdout",
     "output_type": "stream",
     "text": [
      "\r>> Converting image 1933/2569 shard 1"
     ]
    },
    {
     "name": "stdout",
     "output_type": "stream",
     "text": [
      "\r>> Converting image 1934/2569 shard 1"
     ]
    },
    {
     "name": "stdout",
     "output_type": "stream",
     "text": [
      "\r>> Converting image 1935/2569 shard 1"
     ]
    },
    {
     "name": "stdout",
     "output_type": "stream",
     "text": [
      "\r>> Converting image 1936/2569 shard 1"
     ]
    },
    {
     "name": "stdout",
     "output_type": "stream",
     "text": [
      "\r>> Converting image 1937/2569 shard 1"
     ]
    },
    {
     "name": "stdout",
     "output_type": "stream",
     "text": [
      "\r>> Converting image 1938/2569 shard 1"
     ]
    },
    {
     "name": "stdout",
     "output_type": "stream",
     "text": [
      "\r>> Converting image 1939/2569 shard 1"
     ]
    },
    {
     "name": "stdout",
     "output_type": "stream",
     "text": [
      "\r>> Converting image 1940/2569 shard 1"
     ]
    },
    {
     "name": "stdout",
     "output_type": "stream",
     "text": [
      "\r>> Converting image 1941/2569 shard 1"
     ]
    },
    {
     "name": "stdout",
     "output_type": "stream",
     "text": [
      "\r>> Converting image 1942/2569 shard 1"
     ]
    },
    {
     "name": "stdout",
     "output_type": "stream",
     "text": [
      "\r>> Converting image 1943/2569 shard 1"
     ]
    },
    {
     "name": "stdout",
     "output_type": "stream",
     "text": [
      "\r>> Converting image 1944/2569 shard 1"
     ]
    },
    {
     "name": "stdout",
     "output_type": "stream",
     "text": [
      "\r>> Converting image 1945/2569 shard 1"
     ]
    },
    {
     "name": "stdout",
     "output_type": "stream",
     "text": [
      "\r>> Converting image 1946/2569 shard 1"
     ]
    },
    {
     "name": "stdout",
     "output_type": "stream",
     "text": [
      "\r>> Converting image 1947/2569 shard 1"
     ]
    },
    {
     "name": "stdout",
     "output_type": "stream",
     "text": [
      "\r>> Converting image 1948/2569 shard 1"
     ]
    },
    {
     "name": "stdout",
     "output_type": "stream",
     "text": [
      "\r>> Converting image 1949/2569 shard 1"
     ]
    },
    {
     "name": "stdout",
     "output_type": "stream",
     "text": [
      "\r>> Converting image 1950/2569 shard 1"
     ]
    },
    {
     "name": "stdout",
     "output_type": "stream",
     "text": [
      "\r>> Converting image 1951/2569 shard 1"
     ]
    },
    {
     "name": "stdout",
     "output_type": "stream",
     "text": [
      "\r>> Converting image 1952/2569 shard 1"
     ]
    },
    {
     "name": "stdout",
     "output_type": "stream",
     "text": [
      "\r>> Converting image 1953/2569 shard 1"
     ]
    },
    {
     "name": "stdout",
     "output_type": "stream",
     "text": [
      "\r>> Converting image 1954/2569 shard 1"
     ]
    },
    {
     "name": "stdout",
     "output_type": "stream",
     "text": [
      "\r>> Converting image 1955/2569 shard 1"
     ]
    },
    {
     "name": "stdout",
     "output_type": "stream",
     "text": [
      "\r>> Converting image 1956/2569 shard 1"
     ]
    },
    {
     "name": "stdout",
     "output_type": "stream",
     "text": [
      "\r>> Converting image 1957/2569 shard 1"
     ]
    },
    {
     "name": "stdout",
     "output_type": "stream",
     "text": [
      "\r>> Converting image 1958/2569 shard 1"
     ]
    },
    {
     "name": "stdout",
     "output_type": "stream",
     "text": [
      "\r>> Converting image 1959/2569 shard 1"
     ]
    },
    {
     "name": "stdout",
     "output_type": "stream",
     "text": [
      "\r>> Converting image 1960/2569 shard 1"
     ]
    },
    {
     "name": "stdout",
     "output_type": "stream",
     "text": [
      "\r>> Converting image 1961/2569 shard 1"
     ]
    },
    {
     "name": "stdout",
     "output_type": "stream",
     "text": [
      "\r>> Converting image 1962/2569 shard 1"
     ]
    },
    {
     "name": "stdout",
     "output_type": "stream",
     "text": [
      "\r>> Converting image 1963/2569 shard 1"
     ]
    },
    {
     "name": "stdout",
     "output_type": "stream",
     "text": [
      "\r>> Converting image 1964/2569 shard 1"
     ]
    },
    {
     "name": "stdout",
     "output_type": "stream",
     "text": [
      "\r>> Converting image 1965/2569 shard 1"
     ]
    },
    {
     "name": "stdout",
     "output_type": "stream",
     "text": [
      "\r>> Converting image 1966/2569 shard 1"
     ]
    },
    {
     "name": "stdout",
     "output_type": "stream",
     "text": [
      "\r>> Converting image 1967/2569 shard 1"
     ]
    },
    {
     "name": "stdout",
     "output_type": "stream",
     "text": [
      "\r>> Converting image 1968/2569 shard 1"
     ]
    },
    {
     "name": "stdout",
     "output_type": "stream",
     "text": [
      "\r>> Converting image 1969/2569 shard 1"
     ]
    },
    {
     "name": "stdout",
     "output_type": "stream",
     "text": [
      "\r>> Converting image 1970/2569 shard 1"
     ]
    },
    {
     "name": "stdout",
     "output_type": "stream",
     "text": [
      "\r>> Converting image 1971/2569 shard 1"
     ]
    },
    {
     "name": "stdout",
     "output_type": "stream",
     "text": [
      "\r>> Converting image 1972/2569 shard 1"
     ]
    },
    {
     "name": "stdout",
     "output_type": "stream",
     "text": [
      "\r>> Converting image 1973/2569 shard 1"
     ]
    },
    {
     "name": "stdout",
     "output_type": "stream",
     "text": [
      "\r>> Converting image 1974/2569 shard 1"
     ]
    },
    {
     "name": "stdout",
     "output_type": "stream",
     "text": [
      "\r>> Converting image 1975/2569 shard 1"
     ]
    },
    {
     "name": "stdout",
     "output_type": "stream",
     "text": [
      "\r>> Converting image 1976/2569 shard 1"
     ]
    },
    {
     "name": "stdout",
     "output_type": "stream",
     "text": [
      "\r>> Converting image 1977/2569 shard 1"
     ]
    },
    {
     "name": "stdout",
     "output_type": "stream",
     "text": [
      "\r>> Converting image 1978/2569 shard 1"
     ]
    },
    {
     "name": "stdout",
     "output_type": "stream",
     "text": [
      "\r>> Converting image 1979/2569 shard 1"
     ]
    },
    {
     "name": "stdout",
     "output_type": "stream",
     "text": [
      "\r>> Converting image 1980/2569 shard 1"
     ]
    },
    {
     "name": "stdout",
     "output_type": "stream",
     "text": [
      "\r>> Converting image 1981/2569 shard 1"
     ]
    },
    {
     "name": "stdout",
     "output_type": "stream",
     "text": [
      "\r>> Converting image 1982/2569 shard 1"
     ]
    },
    {
     "name": "stdout",
     "output_type": "stream",
     "text": [
      "\r>> Converting image 1983/2569 shard 1"
     ]
    },
    {
     "name": "stdout",
     "output_type": "stream",
     "text": [
      "\r>> Converting image 1984/2569 shard 1"
     ]
    },
    {
     "name": "stdout",
     "output_type": "stream",
     "text": [
      "\r>> Converting image 1985/2569 shard 1"
     ]
    },
    {
     "name": "stdout",
     "output_type": "stream",
     "text": [
      "\r>> Converting image 1986/2569 shard 1"
     ]
    },
    {
     "name": "stdout",
     "output_type": "stream",
     "text": [
      "\r>> Converting image 1987/2569 shard 1"
     ]
    },
    {
     "name": "stdout",
     "output_type": "stream",
     "text": [
      "\r>> Converting image 1988/2569 shard 1"
     ]
    },
    {
     "name": "stdout",
     "output_type": "stream",
     "text": [
      "\r>> Converting image 1989/2569 shard 1"
     ]
    },
    {
     "name": "stdout",
     "output_type": "stream",
     "text": [
      "\r>> Converting image 1990/2569 shard 1"
     ]
    },
    {
     "name": "stdout",
     "output_type": "stream",
     "text": [
      "\r>> Converting image 1991/2569 shard 1"
     ]
    },
    {
     "name": "stdout",
     "output_type": "stream",
     "text": [
      "\r>> Converting image 1992/2569 shard 1"
     ]
    },
    {
     "name": "stdout",
     "output_type": "stream",
     "text": [
      "\r>> Converting image 1993/2569 shard 1"
     ]
    },
    {
     "name": "stdout",
     "output_type": "stream",
     "text": [
      "\r>> Converting image 1994/2569 shard 1"
     ]
    },
    {
     "name": "stdout",
     "output_type": "stream",
     "text": [
      "\r>> Converting image 1995/2569 shard 1"
     ]
    },
    {
     "name": "stdout",
     "output_type": "stream",
     "text": [
      "\r>> Converting image 1996/2569 shard 1"
     ]
    },
    {
     "name": "stdout",
     "output_type": "stream",
     "text": [
      "\r>> Converting image 1997/2569 shard 1"
     ]
    },
    {
     "name": "stdout",
     "output_type": "stream",
     "text": [
      "\r>> Converting image 1998/2569 shard 1"
     ]
    },
    {
     "name": "stdout",
     "output_type": "stream",
     "text": [
      "\r>> Converting image 1999/2569 shard 1"
     ]
    },
    {
     "name": "stdout",
     "output_type": "stream",
     "text": [
      "\r>> Converting image 2000/2569 shard 1"
     ]
    },
    {
     "name": "stdout",
     "output_type": "stream",
     "text": [
      "\r>> Converting image 2001/2569 shard 1"
     ]
    },
    {
     "name": "stdout",
     "output_type": "stream",
     "text": [
      "\r>> Converting image 2002/2569 shard 1"
     ]
    },
    {
     "name": "stdout",
     "output_type": "stream",
     "text": [
      "\r>> Converting image 2003/2569 shard 1"
     ]
    },
    {
     "name": "stdout",
     "output_type": "stream",
     "text": [
      "\r>> Converting image 2004/2569 shard 1"
     ]
    },
    {
     "name": "stdout",
     "output_type": "stream",
     "text": [
      "\r>> Converting image 2005/2569 shard 1"
     ]
    },
    {
     "name": "stdout",
     "output_type": "stream",
     "text": [
      "\r>> Converting image 2006/2569 shard 1"
     ]
    },
    {
     "name": "stdout",
     "output_type": "stream",
     "text": [
      "\r>> Converting image 2007/2569 shard 1"
     ]
    },
    {
     "name": "stdout",
     "output_type": "stream",
     "text": [
      "\r>> Converting image 2008/2569 shard 1"
     ]
    },
    {
     "name": "stdout",
     "output_type": "stream",
     "text": [
      "\r>> Converting image 2009/2569 shard 1"
     ]
    },
    {
     "name": "stdout",
     "output_type": "stream",
     "text": [
      "\r>> Converting image 2010/2569 shard 1"
     ]
    },
    {
     "name": "stdout",
     "output_type": "stream",
     "text": [
      "\r>> Converting image 2011/2569 shard 1"
     ]
    },
    {
     "name": "stdout",
     "output_type": "stream",
     "text": [
      "\r>> Converting image 2012/2569 shard 1"
     ]
    },
    {
     "name": "stdout",
     "output_type": "stream",
     "text": [
      "\r>> Converting image 2013/2569 shard 1"
     ]
    },
    {
     "name": "stdout",
     "output_type": "stream",
     "text": [
      "\r>> Converting image 2014/2569 shard 1"
     ]
    },
    {
     "name": "stdout",
     "output_type": "stream",
     "text": [
      "\r>> Converting image 2015/2569 shard 1"
     ]
    },
    {
     "name": "stdout",
     "output_type": "stream",
     "text": [
      "\r>> Converting image 2016/2569 shard 1"
     ]
    },
    {
     "name": "stdout",
     "output_type": "stream",
     "text": [
      "\r>> Converting image 2017/2569 shard 1"
     ]
    },
    {
     "name": "stdout",
     "output_type": "stream",
     "text": [
      "\r>> Converting image 2018/2569 shard 1"
     ]
    },
    {
     "name": "stdout",
     "output_type": "stream",
     "text": [
      "\r>> Converting image 2019/2569 shard 1"
     ]
    },
    {
     "name": "stdout",
     "output_type": "stream",
     "text": [
      "\r>> Converting image 2020/2569 shard 1"
     ]
    },
    {
     "name": "stdout",
     "output_type": "stream",
     "text": [
      "\r>> Converting image 2021/2569 shard 1"
     ]
    },
    {
     "name": "stdout",
     "output_type": "stream",
     "text": [
      "\r>> Converting image 2022/2569 shard 1"
     ]
    },
    {
     "name": "stdout",
     "output_type": "stream",
     "text": [
      "\r>> Converting image 2023/2569 shard 1"
     ]
    },
    {
     "name": "stdout",
     "output_type": "stream",
     "text": [
      "\r>> Converting image 2024/2569 shard 1"
     ]
    },
    {
     "name": "stdout",
     "output_type": "stream",
     "text": [
      "\r>> Converting image 2025/2569 shard 1"
     ]
    },
    {
     "name": "stdout",
     "output_type": "stream",
     "text": [
      "\r>> Converting image 2026/2569 shard 1"
     ]
    },
    {
     "name": "stdout",
     "output_type": "stream",
     "text": [
      "\r>> Converting image 2027/2569 shard 1"
     ]
    },
    {
     "name": "stdout",
     "output_type": "stream",
     "text": [
      "\r>> Converting image 2028/2569 shard 1"
     ]
    },
    {
     "name": "stdout",
     "output_type": "stream",
     "text": [
      "\r>> Converting image 2029/2569 shard 1"
     ]
    },
    {
     "name": "stdout",
     "output_type": "stream",
     "text": [
      "\r>> Converting image 2030/2569 shard 1"
     ]
    },
    {
     "name": "stdout",
     "output_type": "stream",
     "text": [
      "\r>> Converting image 2031/2569 shard 1"
     ]
    },
    {
     "name": "stdout",
     "output_type": "stream",
     "text": [
      "\r>> Converting image 2032/2569 shard 1"
     ]
    },
    {
     "name": "stdout",
     "output_type": "stream",
     "text": [
      "\r>> Converting image 2033/2569 shard 1"
     ]
    },
    {
     "name": "stdout",
     "output_type": "stream",
     "text": [
      "\r>> Converting image 2034/2569 shard 1"
     ]
    },
    {
     "name": "stdout",
     "output_type": "stream",
     "text": [
      "\r>> Converting image 2035/2569 shard 1"
     ]
    },
    {
     "name": "stdout",
     "output_type": "stream",
     "text": [
      "\r>> Converting image 2036/2569 shard 1"
     ]
    },
    {
     "name": "stdout",
     "output_type": "stream",
     "text": [
      "\r>> Converting image 2037/2569 shard 1"
     ]
    },
    {
     "name": "stdout",
     "output_type": "stream",
     "text": [
      "\r>> Converting image 2038/2569 shard 1"
     ]
    },
    {
     "name": "stdout",
     "output_type": "stream",
     "text": [
      "\r>> Converting image 2039/2569 shard 1"
     ]
    },
    {
     "name": "stdout",
     "output_type": "stream",
     "text": [
      "\r>> Converting image 2040/2569 shard 1"
     ]
    },
    {
     "name": "stdout",
     "output_type": "stream",
     "text": [
      "\r>> Converting image 2041/2569 shard 1"
     ]
    },
    {
     "name": "stdout",
     "output_type": "stream",
     "text": [
      "\r>> Converting image 2042/2569 shard 1"
     ]
    },
    {
     "name": "stdout",
     "output_type": "stream",
     "text": [
      "\r>> Converting image 2043/2569 shard 1"
     ]
    },
    {
     "name": "stdout",
     "output_type": "stream",
     "text": [
      "\r>> Converting image 2044/2569 shard 1"
     ]
    },
    {
     "name": "stdout",
     "output_type": "stream",
     "text": [
      "\r>> Converting image 2045/2569 shard 1"
     ]
    },
    {
     "name": "stdout",
     "output_type": "stream",
     "text": [
      "\r>> Converting image 2046/2569 shard 1"
     ]
    },
    {
     "name": "stdout",
     "output_type": "stream",
     "text": [
      "\r>> Converting image 2047/2569 shard 1"
     ]
    },
    {
     "name": "stdout",
     "output_type": "stream",
     "text": [
      "\r>> Converting image 2048/2569 shard 1"
     ]
    },
    {
     "name": "stdout",
     "output_type": "stream",
     "text": [
      "\r>> Converting image 2049/2569 shard 1"
     ]
    },
    {
     "name": "stdout",
     "output_type": "stream",
     "text": [
      "\r>> Converting image 2050/2569 shard 1"
     ]
    },
    {
     "name": "stdout",
     "output_type": "stream",
     "text": [
      "\r>> Converting image 2051/2569 shard 1"
     ]
    },
    {
     "name": "stdout",
     "output_type": "stream",
     "text": [
      "\r>> Converting image 2052/2569 shard 1"
     ]
    },
    {
     "name": "stdout",
     "output_type": "stream",
     "text": [
      "\r>> Converting image 2053/2569 shard 1"
     ]
    },
    {
     "name": "stdout",
     "output_type": "stream",
     "text": [
      "\r>> Converting image 2054/2569 shard 1"
     ]
    },
    {
     "name": "stdout",
     "output_type": "stream",
     "text": [
      "\r>> Converting image 2055/2569 shard 1"
     ]
    },
    {
     "name": "stdout",
     "output_type": "stream",
     "text": [
      "\r>> Converting image 2056/2569 shard 1"
     ]
    },
    {
     "name": "stdout",
     "output_type": "stream",
     "text": [
      "\r>> Converting image 2057/2569 shard 1"
     ]
    },
    {
     "name": "stdout",
     "output_type": "stream",
     "text": [
      "\r>> Converting image 2058/2569 shard 1"
     ]
    },
    {
     "name": "stdout",
     "output_type": "stream",
     "text": [
      "\r>> Converting image 2059/2569 shard 1"
     ]
    },
    {
     "name": "stdout",
     "output_type": "stream",
     "text": [
      "\r>> Converting image 2060/2569 shard 1"
     ]
    },
    {
     "name": "stdout",
     "output_type": "stream",
     "text": [
      "\r>> Converting image 2061/2569 shard 1"
     ]
    },
    {
     "name": "stdout",
     "output_type": "stream",
     "text": [
      "\r>> Converting image 2062/2569 shard 1"
     ]
    },
    {
     "name": "stdout",
     "output_type": "stream",
     "text": [
      "\r>> Converting image 2063/2569 shard 1"
     ]
    },
    {
     "name": "stdout",
     "output_type": "stream",
     "text": [
      "\r>> Converting image 2064/2569 shard 1"
     ]
    },
    {
     "name": "stdout",
     "output_type": "stream",
     "text": [
      "\r>> Converting image 2065/2569 shard 1"
     ]
    },
    {
     "name": "stdout",
     "output_type": "stream",
     "text": [
      "\r>> Converting image 2066/2569 shard 1"
     ]
    },
    {
     "name": "stdout",
     "output_type": "stream",
     "text": [
      "\r>> Converting image 2067/2569 shard 1"
     ]
    },
    {
     "name": "stdout",
     "output_type": "stream",
     "text": [
      "\r>> Converting image 2068/2569 shard 1"
     ]
    },
    {
     "name": "stdout",
     "output_type": "stream",
     "text": [
      "\r>> Converting image 2069/2569 shard 1"
     ]
    },
    {
     "name": "stdout",
     "output_type": "stream",
     "text": [
      "\r>> Converting image 2070/2569 shard 1"
     ]
    },
    {
     "name": "stdout",
     "output_type": "stream",
     "text": [
      "\r>> Converting image 2071/2569 shard 1"
     ]
    },
    {
     "name": "stdout",
     "output_type": "stream",
     "text": [
      "\r>> Converting image 2072/2569 shard 1"
     ]
    },
    {
     "name": "stdout",
     "output_type": "stream",
     "text": [
      "\r>> Converting image 2073/2569 shard 1"
     ]
    },
    {
     "name": "stdout",
     "output_type": "stream",
     "text": [
      "\r>> Converting image 2074/2569 shard 1"
     ]
    },
    {
     "name": "stdout",
     "output_type": "stream",
     "text": [
      "\r>> Converting image 2075/2569 shard 1"
     ]
    },
    {
     "name": "stdout",
     "output_type": "stream",
     "text": [
      "\r>> Converting image 2076/2569 shard 1"
     ]
    },
    {
     "name": "stdout",
     "output_type": "stream",
     "text": [
      "\r>> Converting image 2077/2569 shard 1"
     ]
    },
    {
     "name": "stdout",
     "output_type": "stream",
     "text": [
      "\r>> Converting image 2078/2569 shard 1"
     ]
    },
    {
     "name": "stdout",
     "output_type": "stream",
     "text": [
      "\r>> Converting image 2079/2569 shard 1"
     ]
    },
    {
     "name": "stdout",
     "output_type": "stream",
     "text": [
      "\r>> Converting image 2080/2569 shard 1"
     ]
    },
    {
     "name": "stdout",
     "output_type": "stream",
     "text": [
      "\r>> Converting image 2081/2569 shard 1"
     ]
    },
    {
     "name": "stdout",
     "output_type": "stream",
     "text": [
      "\r>> Converting image 2082/2569 shard 1"
     ]
    },
    {
     "name": "stdout",
     "output_type": "stream",
     "text": [
      "\r>> Converting image 2083/2569 shard 1"
     ]
    },
    {
     "name": "stdout",
     "output_type": "stream",
     "text": [
      "\r>> Converting image 2084/2569 shard 1"
     ]
    },
    {
     "name": "stdout",
     "output_type": "stream",
     "text": [
      "\r>> Converting image 2085/2569 shard 1"
     ]
    },
    {
     "name": "stdout",
     "output_type": "stream",
     "text": [
      "\r>> Converting image 2086/2569 shard 1"
     ]
    },
    {
     "name": "stdout",
     "output_type": "stream",
     "text": [
      "\r>> Converting image 2087/2569 shard 1"
     ]
    },
    {
     "name": "stdout",
     "output_type": "stream",
     "text": [
      "\r>> Converting image 2088/2569 shard 1"
     ]
    },
    {
     "name": "stdout",
     "output_type": "stream",
     "text": [
      "\r>> Converting image 2089/2569 shard 1"
     ]
    },
    {
     "name": "stdout",
     "output_type": "stream",
     "text": [
      "\r>> Converting image 2090/2569 shard 1"
     ]
    },
    {
     "name": "stdout",
     "output_type": "stream",
     "text": [
      "\r>> Converting image 2091/2569 shard 1"
     ]
    },
    {
     "name": "stdout",
     "output_type": "stream",
     "text": [
      "\r>> Converting image 2092/2569 shard 1"
     ]
    },
    {
     "name": "stdout",
     "output_type": "stream",
     "text": [
      "\r>> Converting image 2093/2569 shard 1"
     ]
    },
    {
     "name": "stdout",
     "output_type": "stream",
     "text": [
      "\r>> Converting image 2094/2569 shard 1"
     ]
    },
    {
     "name": "stdout",
     "output_type": "stream",
     "text": [
      "\r>> Converting image 2095/2569 shard 1"
     ]
    },
    {
     "name": "stdout",
     "output_type": "stream",
     "text": [
      "\r>> Converting image 2096/2569 shard 1"
     ]
    },
    {
     "name": "stdout",
     "output_type": "stream",
     "text": [
      "\r>> Converting image 2097/2569 shard 1"
     ]
    },
    {
     "name": "stdout",
     "output_type": "stream",
     "text": [
      "\r>> Converting image 2098/2569 shard 1"
     ]
    },
    {
     "name": "stdout",
     "output_type": "stream",
     "text": [
      "\r>> Converting image 2099/2569 shard 1"
     ]
    },
    {
     "name": "stdout",
     "output_type": "stream",
     "text": [
      "\r>> Converting image 2100/2569 shard 1"
     ]
    },
    {
     "name": "stdout",
     "output_type": "stream",
     "text": [
      "\r>> Converting image 2101/2569 shard 1"
     ]
    },
    {
     "name": "stdout",
     "output_type": "stream",
     "text": [
      "\r>> Converting image 2102/2569 shard 1"
     ]
    },
    {
     "name": "stdout",
     "output_type": "stream",
     "text": [
      "\r>> Converting image 2103/2569 shard 1"
     ]
    },
    {
     "name": "stdout",
     "output_type": "stream",
     "text": [
      "\r>> Converting image 2104/2569 shard 1"
     ]
    },
    {
     "name": "stdout",
     "output_type": "stream",
     "text": [
      "\r>> Converting image 2105/2569 shard 1"
     ]
    },
    {
     "name": "stdout",
     "output_type": "stream",
     "text": [
      "\r>> Converting image 2106/2569 shard 1"
     ]
    },
    {
     "name": "stdout",
     "output_type": "stream",
     "text": [
      "\r>> Converting image 2107/2569 shard 1"
     ]
    },
    {
     "name": "stdout",
     "output_type": "stream",
     "text": [
      "\r>> Converting image 2108/2569 shard 1"
     ]
    },
    {
     "name": "stdout",
     "output_type": "stream",
     "text": [
      "\r>> Converting image 2109/2569 shard 1"
     ]
    },
    {
     "name": "stdout",
     "output_type": "stream",
     "text": [
      "\r>> Converting image 2110/2569 shard 1"
     ]
    },
    {
     "name": "stdout",
     "output_type": "stream",
     "text": [
      "\r>> Converting image 2111/2569 shard 1"
     ]
    },
    {
     "name": "stdout",
     "output_type": "stream",
     "text": [
      "\r>> Converting image 2112/2569 shard 1"
     ]
    },
    {
     "name": "stdout",
     "output_type": "stream",
     "text": [
      "\r>> Converting image 2113/2569 shard 1"
     ]
    },
    {
     "name": "stdout",
     "output_type": "stream",
     "text": [
      "\r>> Converting image 2114/2569 shard 1"
     ]
    },
    {
     "name": "stdout",
     "output_type": "stream",
     "text": [
      "\r>> Converting image 2115/2569 shard 1"
     ]
    },
    {
     "name": "stdout",
     "output_type": "stream",
     "text": [
      "\r>> Converting image 2116/2569 shard 1"
     ]
    },
    {
     "name": "stdout",
     "output_type": "stream",
     "text": [
      "\r>> Converting image 2117/2569 shard 1"
     ]
    },
    {
     "name": "stdout",
     "output_type": "stream",
     "text": [
      "\r>> Converting image 2118/2569 shard 1"
     ]
    },
    {
     "name": "stdout",
     "output_type": "stream",
     "text": [
      "\r>> Converting image 2119/2569 shard 1"
     ]
    },
    {
     "name": "stdout",
     "output_type": "stream",
     "text": [
      "\r>> Converting image 2120/2569 shard 1"
     ]
    },
    {
     "name": "stdout",
     "output_type": "stream",
     "text": [
      "\r>> Converting image 2121/2569 shard 1"
     ]
    },
    {
     "name": "stdout",
     "output_type": "stream",
     "text": [
      "\r>> Converting image 2122/2569 shard 1"
     ]
    },
    {
     "name": "stdout",
     "output_type": "stream",
     "text": [
      "\r>> Converting image 2123/2569 shard 1"
     ]
    },
    {
     "name": "stdout",
     "output_type": "stream",
     "text": [
      "\r>> Converting image 2124/2569 shard 1"
     ]
    },
    {
     "name": "stdout",
     "output_type": "stream",
     "text": [
      "\r>> Converting image 2125/2569 shard 1"
     ]
    },
    {
     "name": "stdout",
     "output_type": "stream",
     "text": [
      "\r>> Converting image 2126/2569 shard 1"
     ]
    },
    {
     "name": "stdout",
     "output_type": "stream",
     "text": [
      "\r>> Converting image 2127/2569 shard 1"
     ]
    },
    {
     "name": "stdout",
     "output_type": "stream",
     "text": [
      "\r>> Converting image 2128/2569 shard 1"
     ]
    },
    {
     "name": "stdout",
     "output_type": "stream",
     "text": [
      "\r>> Converting image 2129/2569 shard 1"
     ]
    },
    {
     "name": "stdout",
     "output_type": "stream",
     "text": [
      "\r>> Converting image 2130/2569 shard 1"
     ]
    },
    {
     "name": "stdout",
     "output_type": "stream",
     "text": [
      "\r>> Converting image 2131/2569 shard 1"
     ]
    },
    {
     "name": "stdout",
     "output_type": "stream",
     "text": [
      "\r>> Converting image 2132/2569 shard 1"
     ]
    },
    {
     "name": "stdout",
     "output_type": "stream",
     "text": [
      "\r>> Converting image 2133/2569 shard 1"
     ]
    },
    {
     "name": "stdout",
     "output_type": "stream",
     "text": [
      "\r>> Converting image 2134/2569 shard 1"
     ]
    },
    {
     "name": "stdout",
     "output_type": "stream",
     "text": [
      "\r>> Converting image 2135/2569 shard 1"
     ]
    },
    {
     "name": "stdout",
     "output_type": "stream",
     "text": [
      "\r>> Converting image 2136/2569 shard 1"
     ]
    },
    {
     "name": "stdout",
     "output_type": "stream",
     "text": [
      "\r>> Converting image 2137/2569 shard 1"
     ]
    },
    {
     "name": "stdout",
     "output_type": "stream",
     "text": [
      "\r>> Converting image 2138/2569 shard 1"
     ]
    },
    {
     "name": "stdout",
     "output_type": "stream",
     "text": [
      "\r>> Converting image 2139/2569 shard 1"
     ]
    },
    {
     "name": "stdout",
     "output_type": "stream",
     "text": [
      "\r>> Converting image 2140/2569 shard 1"
     ]
    },
    {
     "name": "stdout",
     "output_type": "stream",
     "text": [
      "\r>> Converting image 2141/2569 shard 1"
     ]
    },
    {
     "name": "stdout",
     "output_type": "stream",
     "text": [
      "\r>> Converting image 2142/2569 shard 1"
     ]
    },
    {
     "name": "stdout",
     "output_type": "stream",
     "text": [
      "\r>> Converting image 2143/2569 shard 1"
     ]
    },
    {
     "name": "stdout",
     "output_type": "stream",
     "text": [
      "\r>> Converting image 2144/2569 shard 1"
     ]
    },
    {
     "name": "stdout",
     "output_type": "stream",
     "text": [
      "\r>> Converting image 2145/2569 shard 1"
     ]
    },
    {
     "name": "stdout",
     "output_type": "stream",
     "text": [
      "\r>> Converting image 2146/2569 shard 1"
     ]
    },
    {
     "name": "stdout",
     "output_type": "stream",
     "text": [
      "\r>> Converting image 2147/2569 shard 1"
     ]
    },
    {
     "name": "stdout",
     "output_type": "stream",
     "text": [
      "\r>> Converting image 2148/2569 shard 1"
     ]
    },
    {
     "name": "stdout",
     "output_type": "stream",
     "text": [
      "\r>> Converting image 2149/2569 shard 1"
     ]
    },
    {
     "name": "stdout",
     "output_type": "stream",
     "text": [
      "\r>> Converting image 2150/2569 shard 1"
     ]
    },
    {
     "name": "stdout",
     "output_type": "stream",
     "text": [
      "\r>> Converting image 2151/2569 shard 1"
     ]
    },
    {
     "name": "stdout",
     "output_type": "stream",
     "text": [
      "\r>> Converting image 2152/2569 shard 1"
     ]
    },
    {
     "name": "stdout",
     "output_type": "stream",
     "text": [
      "\r>> Converting image 2153/2569 shard 1"
     ]
    },
    {
     "name": "stdout",
     "output_type": "stream",
     "text": [
      "\r>> Converting image 2154/2569 shard 1"
     ]
    },
    {
     "name": "stdout",
     "output_type": "stream",
     "text": [
      "\r>> Converting image 2155/2569 shard 1"
     ]
    },
    {
     "name": "stdout",
     "output_type": "stream",
     "text": [
      "\r>> Converting image 2156/2569 shard 1"
     ]
    },
    {
     "name": "stdout",
     "output_type": "stream",
     "text": [
      "\r>> Converting image 2157/2569 shard 1"
     ]
    },
    {
     "name": "stdout",
     "output_type": "stream",
     "text": [
      "\r>> Converting image 2158/2569 shard 1"
     ]
    },
    {
     "name": "stdout",
     "output_type": "stream",
     "text": [
      "\r>> Converting image 2159/2569 shard 1"
     ]
    },
    {
     "name": "stdout",
     "output_type": "stream",
     "text": [
      "\r>> Converting image 2160/2569 shard 1"
     ]
    },
    {
     "name": "stdout",
     "output_type": "stream",
     "text": [
      "\r>> Converting image 2161/2569 shard 1"
     ]
    },
    {
     "name": "stdout",
     "output_type": "stream",
     "text": [
      "\r>> Converting image 2162/2569 shard 1"
     ]
    },
    {
     "name": "stdout",
     "output_type": "stream",
     "text": [
      "\r>> Converting image 2163/2569 shard 1"
     ]
    },
    {
     "name": "stdout",
     "output_type": "stream",
     "text": [
      "\r>> Converting image 2164/2569 shard 1"
     ]
    },
    {
     "name": "stdout",
     "output_type": "stream",
     "text": [
      "\r>> Converting image 2165/2569 shard 1"
     ]
    },
    {
     "name": "stdout",
     "output_type": "stream",
     "text": [
      "\r>> Converting image 2166/2569 shard 1"
     ]
    },
    {
     "name": "stdout",
     "output_type": "stream",
     "text": [
      "\r>> Converting image 2167/2569 shard 1"
     ]
    },
    {
     "name": "stdout",
     "output_type": "stream",
     "text": [
      "\r>> Converting image 2168/2569 shard 1"
     ]
    },
    {
     "name": "stdout",
     "output_type": "stream",
     "text": [
      "\r>> Converting image 2169/2569 shard 1"
     ]
    },
    {
     "name": "stdout",
     "output_type": "stream",
     "text": [
      "\r>> Converting image 2170/2569 shard 1"
     ]
    },
    {
     "name": "stdout",
     "output_type": "stream",
     "text": [
      "\r>> Converting image 2171/2569 shard 1"
     ]
    },
    {
     "name": "stdout",
     "output_type": "stream",
     "text": [
      "\r>> Converting image 2172/2569 shard 1"
     ]
    },
    {
     "name": "stdout",
     "output_type": "stream",
     "text": [
      "\r>> Converting image 2173/2569 shard 1"
     ]
    },
    {
     "name": "stdout",
     "output_type": "stream",
     "text": [
      "\r>> Converting image 2174/2569 shard 1"
     ]
    },
    {
     "name": "stdout",
     "output_type": "stream",
     "text": [
      "\r>> Converting image 2175/2569 shard 1"
     ]
    },
    {
     "name": "stdout",
     "output_type": "stream",
     "text": [
      "\r>> Converting image 2176/2569 shard 1"
     ]
    },
    {
     "name": "stdout",
     "output_type": "stream",
     "text": [
      "\r>> Converting image 2177/2569 shard 1"
     ]
    },
    {
     "name": "stdout",
     "output_type": "stream",
     "text": [
      "\r>> Converting image 2178/2569 shard 1"
     ]
    },
    {
     "name": "stdout",
     "output_type": "stream",
     "text": [
      "\r>> Converting image 2179/2569 shard 1"
     ]
    },
    {
     "name": "stdout",
     "output_type": "stream",
     "text": [
      "\r>> Converting image 2180/2569 shard 1"
     ]
    },
    {
     "name": "stdout",
     "output_type": "stream",
     "text": [
      "\r>> Converting image 2181/2569 shard 1"
     ]
    },
    {
     "name": "stdout",
     "output_type": "stream",
     "text": [
      "\r>> Converting image 2182/2569 shard 1"
     ]
    },
    {
     "name": "stdout",
     "output_type": "stream",
     "text": [
      "\r>> Converting image 2183/2569 shard 1"
     ]
    },
    {
     "name": "stdout",
     "output_type": "stream",
     "text": [
      "\r>> Converting image 2184/2569 shard 1"
     ]
    },
    {
     "name": "stdout",
     "output_type": "stream",
     "text": [
      "\r>> Converting image 2185/2569 shard 1"
     ]
    },
    {
     "name": "stdout",
     "output_type": "stream",
     "text": [
      "\r>> Converting image 2186/2569 shard 1"
     ]
    },
    {
     "name": "stdout",
     "output_type": "stream",
     "text": [
      "\r>> Converting image 2187/2569 shard 1"
     ]
    },
    {
     "name": "stdout",
     "output_type": "stream",
     "text": [
      "\r>> Converting image 2188/2569 shard 1"
     ]
    },
    {
     "name": "stdout",
     "output_type": "stream",
     "text": [
      "\r>> Converting image 2189/2569 shard 1"
     ]
    },
    {
     "name": "stdout",
     "output_type": "stream",
     "text": [
      "\r>> Converting image 2190/2569 shard 1"
     ]
    },
    {
     "name": "stdout",
     "output_type": "stream",
     "text": [
      "\r>> Converting image 2191/2569 shard 1"
     ]
    },
    {
     "name": "stdout",
     "output_type": "stream",
     "text": [
      "\r>> Converting image 2192/2569 shard 1"
     ]
    },
    {
     "name": "stdout",
     "output_type": "stream",
     "text": [
      "\r>> Converting image 2193/2569 shard 1"
     ]
    },
    {
     "name": "stdout",
     "output_type": "stream",
     "text": [
      "\r>> Converting image 2194/2569 shard 1"
     ]
    },
    {
     "name": "stdout",
     "output_type": "stream",
     "text": [
      "\r>> Converting image 2195/2569 shard 1"
     ]
    },
    {
     "name": "stdout",
     "output_type": "stream",
     "text": [
      "\r>> Converting image 2196/2569 shard 1"
     ]
    },
    {
     "name": "stdout",
     "output_type": "stream",
     "text": [
      "\r>> Converting image 2197/2569 shard 1"
     ]
    },
    {
     "name": "stdout",
     "output_type": "stream",
     "text": [
      "\r>> Converting image 2198/2569 shard 1"
     ]
    },
    {
     "name": "stdout",
     "output_type": "stream",
     "text": [
      "\r>> Converting image 2199/2569 shard 1"
     ]
    },
    {
     "name": "stdout",
     "output_type": "stream",
     "text": [
      "\r>> Converting image 2200/2569 shard 1"
     ]
    },
    {
     "name": "stdout",
     "output_type": "stream",
     "text": [
      "\r>> Converting image 2201/2569 shard 1"
     ]
    },
    {
     "name": "stdout",
     "output_type": "stream",
     "text": [
      "\r>> Converting image 2202/2569 shard 1"
     ]
    },
    {
     "name": "stdout",
     "output_type": "stream",
     "text": [
      "\r>> Converting image 2203/2569 shard 1"
     ]
    },
    {
     "name": "stdout",
     "output_type": "stream",
     "text": [
      "\r>> Converting image 2204/2569 shard 1"
     ]
    },
    {
     "name": "stdout",
     "output_type": "stream",
     "text": [
      "\r>> Converting image 2205/2569 shard 1"
     ]
    },
    {
     "name": "stdout",
     "output_type": "stream",
     "text": [
      "\r>> Converting image 2206/2569 shard 1"
     ]
    },
    {
     "name": "stdout",
     "output_type": "stream",
     "text": [
      "\r>> Converting image 2207/2569 shard 1"
     ]
    },
    {
     "name": "stdout",
     "output_type": "stream",
     "text": [
      "\r>> Converting image 2208/2569 shard 1"
     ]
    },
    {
     "name": "stdout",
     "output_type": "stream",
     "text": [
      "\r>> Converting image 2209/2569 shard 1"
     ]
    },
    {
     "name": "stdout",
     "output_type": "stream",
     "text": [
      "\r>> Converting image 2210/2569 shard 1"
     ]
    },
    {
     "name": "stdout",
     "output_type": "stream",
     "text": [
      "\r>> Converting image 2211/2569 shard 1"
     ]
    },
    {
     "name": "stdout",
     "output_type": "stream",
     "text": [
      "\r>> Converting image 2212/2569 shard 1"
     ]
    },
    {
     "name": "stdout",
     "output_type": "stream",
     "text": [
      "\r>> Converting image 2213/2569 shard 1"
     ]
    },
    {
     "name": "stdout",
     "output_type": "stream",
     "text": [
      "\r>> Converting image 2214/2569 shard 1"
     ]
    },
    {
     "name": "stdout",
     "output_type": "stream",
     "text": [
      "\r>> Converting image 2215/2569 shard 1"
     ]
    },
    {
     "name": "stdout",
     "output_type": "stream",
     "text": [
      "\r>> Converting image 2216/2569 shard 1"
     ]
    },
    {
     "name": "stdout",
     "output_type": "stream",
     "text": [
      "\r>> Converting image 2217/2569 shard 1"
     ]
    },
    {
     "name": "stdout",
     "output_type": "stream",
     "text": [
      "\r>> Converting image 2218/2569 shard 1"
     ]
    },
    {
     "name": "stdout",
     "output_type": "stream",
     "text": [
      "\r>> Converting image 2219/2569 shard 1"
     ]
    },
    {
     "name": "stdout",
     "output_type": "stream",
     "text": [
      "\r>> Converting image 2220/2569 shard 1"
     ]
    },
    {
     "name": "stdout",
     "output_type": "stream",
     "text": [
      "\r>> Converting image 2221/2569 shard 1"
     ]
    },
    {
     "name": "stdout",
     "output_type": "stream",
     "text": [
      "\r>> Converting image 2222/2569 shard 1"
     ]
    },
    {
     "name": "stdout",
     "output_type": "stream",
     "text": [
      "\r>> Converting image 2223/2569 shard 1"
     ]
    },
    {
     "name": "stdout",
     "output_type": "stream",
     "text": [
      "\r>> Converting image 2224/2569 shard 1"
     ]
    },
    {
     "name": "stdout",
     "output_type": "stream",
     "text": [
      "\r>> Converting image 2225/2569 shard 1"
     ]
    },
    {
     "name": "stdout",
     "output_type": "stream",
     "text": [
      "\r>> Converting image 2226/2569 shard 1"
     ]
    },
    {
     "name": "stdout",
     "output_type": "stream",
     "text": [
      "\r>> Converting image 2227/2569 shard 1"
     ]
    },
    {
     "name": "stdout",
     "output_type": "stream",
     "text": [
      "\r>> Converting image 2228/2569 shard 1"
     ]
    },
    {
     "name": "stdout",
     "output_type": "stream",
     "text": [
      "\r>> Converting image 2229/2569 shard 1"
     ]
    },
    {
     "name": "stdout",
     "output_type": "stream",
     "text": [
      "\r>> Converting image 2230/2569 shard 1"
     ]
    },
    {
     "name": "stdout",
     "output_type": "stream",
     "text": [
      "\r>> Converting image 2231/2569 shard 1"
     ]
    },
    {
     "name": "stdout",
     "output_type": "stream",
     "text": [
      "\r>> Converting image 2232/2569 shard 1"
     ]
    },
    {
     "name": "stdout",
     "output_type": "stream",
     "text": [
      "\r>> Converting image 2233/2569 shard 1"
     ]
    },
    {
     "name": "stdout",
     "output_type": "stream",
     "text": [
      "\r>> Converting image 2234/2569 shard 1"
     ]
    },
    {
     "name": "stdout",
     "output_type": "stream",
     "text": [
      "\r>> Converting image 2235/2569 shard 1"
     ]
    },
    {
     "name": "stdout",
     "output_type": "stream",
     "text": [
      "\r>> Converting image 2236/2569 shard 1"
     ]
    },
    {
     "name": "stdout",
     "output_type": "stream",
     "text": [
      "\r>> Converting image 2237/2569 shard 1"
     ]
    },
    {
     "name": "stdout",
     "output_type": "stream",
     "text": [
      "\r>> Converting image 2238/2569 shard 1"
     ]
    },
    {
     "name": "stdout",
     "output_type": "stream",
     "text": [
      "\r>> Converting image 2239/2569 shard 1"
     ]
    },
    {
     "name": "stdout",
     "output_type": "stream",
     "text": [
      "\r>> Converting image 2240/2569 shard 1"
     ]
    },
    {
     "name": "stdout",
     "output_type": "stream",
     "text": [
      "\r>> Converting image 2241/2569 shard 1"
     ]
    },
    {
     "name": "stdout",
     "output_type": "stream",
     "text": [
      "\r>> Converting image 2242/2569 shard 1"
     ]
    },
    {
     "name": "stdout",
     "output_type": "stream",
     "text": [
      "\r>> Converting image 2243/2569 shard 1"
     ]
    },
    {
     "name": "stdout",
     "output_type": "stream",
     "text": [
      "\r>> Converting image 2244/2569 shard 1"
     ]
    },
    {
     "name": "stdout",
     "output_type": "stream",
     "text": [
      "\r>> Converting image 2245/2569 shard 1"
     ]
    },
    {
     "name": "stdout",
     "output_type": "stream",
     "text": [
      "\r>> Converting image 2246/2569 shard 1"
     ]
    },
    {
     "name": "stdout",
     "output_type": "stream",
     "text": [
      "\r>> Converting image 2247/2569 shard 1"
     ]
    },
    {
     "name": "stdout",
     "output_type": "stream",
     "text": [
      "\r>> Converting image 2248/2569 shard 1"
     ]
    },
    {
     "name": "stdout",
     "output_type": "stream",
     "text": [
      "\r>> Converting image 2249/2569 shard 1"
     ]
    },
    {
     "name": "stdout",
     "output_type": "stream",
     "text": [
      "\r>> Converting image 2250/2569 shard 1"
     ]
    },
    {
     "name": "stdout",
     "output_type": "stream",
     "text": [
      "\r>> Converting image 2251/2569 shard 1"
     ]
    },
    {
     "name": "stdout",
     "output_type": "stream",
     "text": [
      "\r>> Converting image 2252/2569 shard 1"
     ]
    },
    {
     "name": "stdout",
     "output_type": "stream",
     "text": [
      "\r>> Converting image 2253/2569 shard 1"
     ]
    },
    {
     "name": "stdout",
     "output_type": "stream",
     "text": [
      "\r>> Converting image 2254/2569 shard 1"
     ]
    },
    {
     "name": "stdout",
     "output_type": "stream",
     "text": [
      "\r>> Converting image 2255/2569 shard 1"
     ]
    },
    {
     "name": "stdout",
     "output_type": "stream",
     "text": [
      "\r>> Converting image 2256/2569 shard 1"
     ]
    },
    {
     "name": "stdout",
     "output_type": "stream",
     "text": [
      "\r>> Converting image 2257/2569 shard 1"
     ]
    },
    {
     "name": "stdout",
     "output_type": "stream",
     "text": [
      "\r>> Converting image 2258/2569 shard 1"
     ]
    },
    {
     "name": "stdout",
     "output_type": "stream",
     "text": [
      "\r>> Converting image 2259/2569 shard 1"
     ]
    },
    {
     "name": "stdout",
     "output_type": "stream",
     "text": [
      "\r>> Converting image 2260/2569 shard 1"
     ]
    },
    {
     "name": "stdout",
     "output_type": "stream",
     "text": [
      "\r>> Converting image 2261/2569 shard 1"
     ]
    },
    {
     "name": "stdout",
     "output_type": "stream",
     "text": [
      "\r>> Converting image 2262/2569 shard 1"
     ]
    },
    {
     "name": "stdout",
     "output_type": "stream",
     "text": [
      "\r>> Converting image 2263/2569 shard 1"
     ]
    },
    {
     "name": "stdout",
     "output_type": "stream",
     "text": [
      "\r>> Converting image 2264/2569 shard 1"
     ]
    },
    {
     "name": "stdout",
     "output_type": "stream",
     "text": [
      "\r>> Converting image 2265/2569 shard 1"
     ]
    },
    {
     "name": "stdout",
     "output_type": "stream",
     "text": [
      "\r>> Converting image 2266/2569 shard 1"
     ]
    },
    {
     "name": "stdout",
     "output_type": "stream",
     "text": [
      "\r>> Converting image 2267/2569 shard 1"
     ]
    },
    {
     "name": "stdout",
     "output_type": "stream",
     "text": [
      "\r>> Converting image 2268/2569 shard 1"
     ]
    },
    {
     "name": "stdout",
     "output_type": "stream",
     "text": [
      "\r>> Converting image 2269/2569 shard 1"
     ]
    },
    {
     "name": "stdout",
     "output_type": "stream",
     "text": [
      "\r>> Converting image 2270/2569 shard 1"
     ]
    },
    {
     "name": "stdout",
     "output_type": "stream",
     "text": [
      "\r>> Converting image 2271/2569 shard 1"
     ]
    },
    {
     "name": "stdout",
     "output_type": "stream",
     "text": [
      "\r>> Converting image 2272/2569 shard 1"
     ]
    },
    {
     "name": "stdout",
     "output_type": "stream",
     "text": [
      "\r>> Converting image 2273/2569 shard 1"
     ]
    },
    {
     "name": "stdout",
     "output_type": "stream",
     "text": [
      "\r>> Converting image 2274/2569 shard 1"
     ]
    },
    {
     "name": "stdout",
     "output_type": "stream",
     "text": [
      "\r>> Converting image 2275/2569 shard 1"
     ]
    },
    {
     "name": "stdout",
     "output_type": "stream",
     "text": [
      "\r>> Converting image 2276/2569 shard 1"
     ]
    },
    {
     "name": "stdout",
     "output_type": "stream",
     "text": [
      "\r>> Converting image 2277/2569 shard 1"
     ]
    },
    {
     "name": "stdout",
     "output_type": "stream",
     "text": [
      "\r>> Converting image 2278/2569 shard 1"
     ]
    },
    {
     "name": "stdout",
     "output_type": "stream",
     "text": [
      "\r>> Converting image 2279/2569 shard 1"
     ]
    },
    {
     "name": "stdout",
     "output_type": "stream",
     "text": [
      "\r>> Converting image 2280/2569 shard 1"
     ]
    },
    {
     "name": "stdout",
     "output_type": "stream",
     "text": [
      "\r>> Converting image 2281/2569 shard 1"
     ]
    },
    {
     "name": "stdout",
     "output_type": "stream",
     "text": [
      "\r>> Converting image 2282/2569 shard 1"
     ]
    },
    {
     "name": "stdout",
     "output_type": "stream",
     "text": [
      "\r>> Converting image 2283/2569 shard 1"
     ]
    },
    {
     "name": "stdout",
     "output_type": "stream",
     "text": [
      "\r>> Converting image 2284/2569 shard 1"
     ]
    },
    {
     "name": "stdout",
     "output_type": "stream",
     "text": [
      "\r>> Converting image 2285/2569 shard 1"
     ]
    },
    {
     "name": "stdout",
     "output_type": "stream",
     "text": [
      "\r>> Converting image 2286/2569 shard 1"
     ]
    },
    {
     "name": "stdout",
     "output_type": "stream",
     "text": [
      "\r>> Converting image 2287/2569 shard 1"
     ]
    },
    {
     "name": "stdout",
     "output_type": "stream",
     "text": [
      "\r>> Converting image 2288/2569 shard 1"
     ]
    },
    {
     "name": "stdout",
     "output_type": "stream",
     "text": [
      "\r>> Converting image 2289/2569 shard 1"
     ]
    },
    {
     "name": "stdout",
     "output_type": "stream",
     "text": [
      "\r>> Converting image 2290/2569 shard 1"
     ]
    },
    {
     "name": "stdout",
     "output_type": "stream",
     "text": [
      "\r>> Converting image 2291/2569 shard 1"
     ]
    },
    {
     "name": "stdout",
     "output_type": "stream",
     "text": [
      "\r>> Converting image 2292/2569 shard 1"
     ]
    },
    {
     "name": "stdout",
     "output_type": "stream",
     "text": [
      "\r>> Converting image 2293/2569 shard 1"
     ]
    },
    {
     "name": "stdout",
     "output_type": "stream",
     "text": [
      "\r>> Converting image 2294/2569 shard 1"
     ]
    },
    {
     "name": "stdout",
     "output_type": "stream",
     "text": [
      "\r>> Converting image 2295/2569 shard 1"
     ]
    },
    {
     "name": "stdout",
     "output_type": "stream",
     "text": [
      "\r>> Converting image 2296/2569 shard 1"
     ]
    },
    {
     "name": "stdout",
     "output_type": "stream",
     "text": [
      "\r>> Converting image 2297/2569 shard 1"
     ]
    },
    {
     "name": "stdout",
     "output_type": "stream",
     "text": [
      "\r>> Converting image 2298/2569 shard 1"
     ]
    },
    {
     "name": "stdout",
     "output_type": "stream",
     "text": [
      "\r>> Converting image 2299/2569 shard 1"
     ]
    },
    {
     "name": "stdout",
     "output_type": "stream",
     "text": [
      "\r>> Converting image 2300/2569 shard 1"
     ]
    },
    {
     "name": "stdout",
     "output_type": "stream",
     "text": [
      "\r>> Converting image 2301/2569 shard 1"
     ]
    },
    {
     "name": "stdout",
     "output_type": "stream",
     "text": [
      "\r>> Converting image 2302/2569 shard 1"
     ]
    },
    {
     "name": "stdout",
     "output_type": "stream",
     "text": [
      "\r>> Converting image 2303/2569 shard 1"
     ]
    },
    {
     "name": "stdout",
     "output_type": "stream",
     "text": [
      "\r>> Converting image 2304/2569 shard 1"
     ]
    },
    {
     "name": "stdout",
     "output_type": "stream",
     "text": [
      "\r>> Converting image 2305/2569 shard 1"
     ]
    },
    {
     "name": "stdout",
     "output_type": "stream",
     "text": [
      "\r>> Converting image 2306/2569 shard 1"
     ]
    },
    {
     "name": "stdout",
     "output_type": "stream",
     "text": [
      "\r>> Converting image 2307/2569 shard 1"
     ]
    },
    {
     "name": "stdout",
     "output_type": "stream",
     "text": [
      "\r>> Converting image 2308/2569 shard 1"
     ]
    },
    {
     "name": "stdout",
     "output_type": "stream",
     "text": [
      "\r>> Converting image 2309/2569 shard 1"
     ]
    },
    {
     "name": "stdout",
     "output_type": "stream",
     "text": [
      "\r>> Converting image 2310/2569 shard 1"
     ]
    },
    {
     "name": "stdout",
     "output_type": "stream",
     "text": [
      "\r>> Converting image 2311/2569 shard 1"
     ]
    },
    {
     "name": "stdout",
     "output_type": "stream",
     "text": [
      "\r>> Converting image 2312/2569 shard 1"
     ]
    },
    {
     "name": "stdout",
     "output_type": "stream",
     "text": [
      "\r>> Converting image 2313/2569 shard 1"
     ]
    },
    {
     "name": "stdout",
     "output_type": "stream",
     "text": [
      "\r>> Converting image 2314/2569 shard 1"
     ]
    },
    {
     "name": "stdout",
     "output_type": "stream",
     "text": [
      "\r>> Converting image 2315/2569 shard 1"
     ]
    },
    {
     "name": "stdout",
     "output_type": "stream",
     "text": [
      "\r>> Converting image 2316/2569 shard 1"
     ]
    },
    {
     "name": "stdout",
     "output_type": "stream",
     "text": [
      "\r>> Converting image 2317/2569 shard 1"
     ]
    },
    {
     "name": "stdout",
     "output_type": "stream",
     "text": [
      "\r>> Converting image 2318/2569 shard 1"
     ]
    },
    {
     "name": "stdout",
     "output_type": "stream",
     "text": [
      "\r>> Converting image 2319/2569 shard 1"
     ]
    },
    {
     "name": "stdout",
     "output_type": "stream",
     "text": [
      "\r>> Converting image 2320/2569 shard 1"
     ]
    },
    {
     "name": "stdout",
     "output_type": "stream",
     "text": [
      "\r>> Converting image 2321/2569 shard 1"
     ]
    },
    {
     "name": "stdout",
     "output_type": "stream",
     "text": [
      "\r>> Converting image 2322/2569 shard 1"
     ]
    },
    {
     "name": "stdout",
     "output_type": "stream",
     "text": [
      "\r>> Converting image 2323/2569 shard 1"
     ]
    },
    {
     "name": "stdout",
     "output_type": "stream",
     "text": [
      "\r>> Converting image 2324/2569 shard 1"
     ]
    },
    {
     "name": "stdout",
     "output_type": "stream",
     "text": [
      "\r>> Converting image 2325/2569 shard 1"
     ]
    },
    {
     "name": "stdout",
     "output_type": "stream",
     "text": [
      "\r>> Converting image 2326/2569 shard 1"
     ]
    },
    {
     "name": "stdout",
     "output_type": "stream",
     "text": [
      "\r>> Converting image 2327/2569 shard 1"
     ]
    },
    {
     "name": "stdout",
     "output_type": "stream",
     "text": [
      "\r>> Converting image 2328/2569 shard 1"
     ]
    },
    {
     "name": "stdout",
     "output_type": "stream",
     "text": [
      "\r>> Converting image 2329/2569 shard 1"
     ]
    },
    {
     "name": "stdout",
     "output_type": "stream",
     "text": [
      "\r>> Converting image 2330/2569 shard 1"
     ]
    },
    {
     "name": "stdout",
     "output_type": "stream",
     "text": [
      "\r>> Converting image 2331/2569 shard 1"
     ]
    },
    {
     "name": "stdout",
     "output_type": "stream",
     "text": [
      "\r>> Converting image 2332/2569 shard 1"
     ]
    },
    {
     "name": "stdout",
     "output_type": "stream",
     "text": [
      "\r>> Converting image 2333/2569 shard 1"
     ]
    },
    {
     "name": "stdout",
     "output_type": "stream",
     "text": [
      "\r>> Converting image 2334/2569 shard 1"
     ]
    },
    {
     "name": "stdout",
     "output_type": "stream",
     "text": [
      "\r>> Converting image 2335/2569 shard 1"
     ]
    },
    {
     "name": "stdout",
     "output_type": "stream",
     "text": [
      "\r>> Converting image 2336/2569 shard 1"
     ]
    },
    {
     "name": "stdout",
     "output_type": "stream",
     "text": [
      "\r>> Converting image 2337/2569 shard 1"
     ]
    },
    {
     "name": "stdout",
     "output_type": "stream",
     "text": [
      "\r>> Converting image 2338/2569 shard 1"
     ]
    },
    {
     "name": "stdout",
     "output_type": "stream",
     "text": [
      "\r>> Converting image 2339/2569 shard 1"
     ]
    },
    {
     "name": "stdout",
     "output_type": "stream",
     "text": [
      "\r>> Converting image 2340/2569 shard 1"
     ]
    },
    {
     "name": "stdout",
     "output_type": "stream",
     "text": [
      "\r>> Converting image 2341/2569 shard 1"
     ]
    },
    {
     "name": "stdout",
     "output_type": "stream",
     "text": [
      "\r>> Converting image 2342/2569 shard 1"
     ]
    },
    {
     "name": "stdout",
     "output_type": "stream",
     "text": [
      "\r>> Converting image 2343/2569 shard 1"
     ]
    },
    {
     "name": "stdout",
     "output_type": "stream",
     "text": [
      "\r>> Converting image 2344/2569 shard 1"
     ]
    },
    {
     "name": "stdout",
     "output_type": "stream",
     "text": [
      "\r>> Converting image 2345/2569 shard 1"
     ]
    },
    {
     "name": "stdout",
     "output_type": "stream",
     "text": [
      "\r>> Converting image 2346/2569 shard 1"
     ]
    },
    {
     "name": "stdout",
     "output_type": "stream",
     "text": [
      "\r>> Converting image 2347/2569 shard 1"
     ]
    },
    {
     "name": "stdout",
     "output_type": "stream",
     "text": [
      "\r>> Converting image 2348/2569 shard 1"
     ]
    },
    {
     "name": "stdout",
     "output_type": "stream",
     "text": [
      "\r>> Converting image 2349/2569 shard 1"
     ]
    },
    {
     "name": "stdout",
     "output_type": "stream",
     "text": [
      "\r>> Converting image 2350/2569 shard 1"
     ]
    },
    {
     "name": "stdout",
     "output_type": "stream",
     "text": [
      "\r>> Converting image 2351/2569 shard 1"
     ]
    },
    {
     "name": "stdout",
     "output_type": "stream",
     "text": [
      "\r>> Converting image 2352/2569 shard 1"
     ]
    },
    {
     "name": "stdout",
     "output_type": "stream",
     "text": [
      "\r>> Converting image 2353/2569 shard 1"
     ]
    },
    {
     "name": "stdout",
     "output_type": "stream",
     "text": [
      "\r>> Converting image 2354/2569 shard 1"
     ]
    },
    {
     "name": "stdout",
     "output_type": "stream",
     "text": [
      "\r>> Converting image 2355/2569 shard 1"
     ]
    },
    {
     "name": "stdout",
     "output_type": "stream",
     "text": [
      "\r>> Converting image 2356/2569 shard 1"
     ]
    },
    {
     "name": "stdout",
     "output_type": "stream",
     "text": [
      "\r>> Converting image 2357/2569 shard 1"
     ]
    },
    {
     "name": "stdout",
     "output_type": "stream",
     "text": [
      "\r>> Converting image 2358/2569 shard 1"
     ]
    },
    {
     "name": "stdout",
     "output_type": "stream",
     "text": [
      "\r>> Converting image 2359/2569 shard 1"
     ]
    },
    {
     "name": "stdout",
     "output_type": "stream",
     "text": [
      "\r>> Converting image 2360/2569 shard 1"
     ]
    },
    {
     "name": "stdout",
     "output_type": "stream",
     "text": [
      "\r>> Converting image 2361/2569 shard 1"
     ]
    },
    {
     "name": "stdout",
     "output_type": "stream",
     "text": [
      "\r>> Converting image 2362/2569 shard 1"
     ]
    },
    {
     "name": "stdout",
     "output_type": "stream",
     "text": [
      "\r>> Converting image 2363/2569 shard 1"
     ]
    },
    {
     "name": "stdout",
     "output_type": "stream",
     "text": [
      "\r>> Converting image 2364/2569 shard 1"
     ]
    },
    {
     "name": "stdout",
     "output_type": "stream",
     "text": [
      "\r>> Converting image 2365/2569 shard 1"
     ]
    },
    {
     "name": "stdout",
     "output_type": "stream",
     "text": [
      "\r>> Converting image 2366/2569 shard 1"
     ]
    },
    {
     "name": "stdout",
     "output_type": "stream",
     "text": [
      "\r>> Converting image 2367/2569 shard 1"
     ]
    },
    {
     "name": "stdout",
     "output_type": "stream",
     "text": [
      "\r>> Converting image 2368/2569 shard 1"
     ]
    },
    {
     "name": "stdout",
     "output_type": "stream",
     "text": [
      "\r>> Converting image 2369/2569 shard 1"
     ]
    },
    {
     "name": "stdout",
     "output_type": "stream",
     "text": [
      "\r>> Converting image 2370/2569 shard 1"
     ]
    },
    {
     "name": "stdout",
     "output_type": "stream",
     "text": [
      "\r>> Converting image 2371/2569 shard 1"
     ]
    },
    {
     "name": "stdout",
     "output_type": "stream",
     "text": [
      "\r>> Converting image 2372/2569 shard 1"
     ]
    },
    {
     "name": "stdout",
     "output_type": "stream",
     "text": [
      "\r>> Converting image 2373/2569 shard 1"
     ]
    },
    {
     "name": "stdout",
     "output_type": "stream",
     "text": [
      "\r>> Converting image 2374/2569 shard 1"
     ]
    },
    {
     "name": "stdout",
     "output_type": "stream",
     "text": [
      "\r>> Converting image 2375/2569 shard 1"
     ]
    },
    {
     "name": "stdout",
     "output_type": "stream",
     "text": [
      "\r>> Converting image 2376/2569 shard 1"
     ]
    },
    {
     "name": "stdout",
     "output_type": "stream",
     "text": [
      "\r>> Converting image 2377/2569 shard 1"
     ]
    },
    {
     "name": "stdout",
     "output_type": "stream",
     "text": [
      "\r>> Converting image 2378/2569 shard 1"
     ]
    },
    {
     "name": "stdout",
     "output_type": "stream",
     "text": [
      "\r>> Converting image 2379/2569 shard 1"
     ]
    },
    {
     "name": "stdout",
     "output_type": "stream",
     "text": [
      "\r>> Converting image 2380/2569 shard 1"
     ]
    },
    {
     "name": "stdout",
     "output_type": "stream",
     "text": [
      "\r>> Converting image 2381/2569 shard 1"
     ]
    },
    {
     "name": "stdout",
     "output_type": "stream",
     "text": [
      "\r>> Converting image 2382/2569 shard 1"
     ]
    },
    {
     "name": "stdout",
     "output_type": "stream",
     "text": [
      "\r>> Converting image 2383/2569 shard 1"
     ]
    },
    {
     "name": "stdout",
     "output_type": "stream",
     "text": [
      "\r>> Converting image 2384/2569 shard 1"
     ]
    },
    {
     "name": "stdout",
     "output_type": "stream",
     "text": [
      "\r>> Converting image 2385/2569 shard 1"
     ]
    },
    {
     "name": "stdout",
     "output_type": "stream",
     "text": [
      "\r>> Converting image 2386/2569 shard 1"
     ]
    },
    {
     "name": "stdout",
     "output_type": "stream",
     "text": [
      "\r>> Converting image 2387/2569 shard 1"
     ]
    },
    {
     "name": "stdout",
     "output_type": "stream",
     "text": [
      "\r>> Converting image 2388/2569 shard 1"
     ]
    },
    {
     "name": "stdout",
     "output_type": "stream",
     "text": [
      "\r>> Converting image 2389/2569 shard 1"
     ]
    },
    {
     "name": "stdout",
     "output_type": "stream",
     "text": [
      "\r>> Converting image 2390/2569 shard 1"
     ]
    },
    {
     "name": "stdout",
     "output_type": "stream",
     "text": [
      "\r>> Converting image 2391/2569 shard 1"
     ]
    },
    {
     "name": "stdout",
     "output_type": "stream",
     "text": [
      "\r>> Converting image 2392/2569 shard 1"
     ]
    },
    {
     "name": "stdout",
     "output_type": "stream",
     "text": [
      "\r>> Converting image 2393/2569 shard 1"
     ]
    },
    {
     "name": "stdout",
     "output_type": "stream",
     "text": [
      "\r>> Converting image 2394/2569 shard 1"
     ]
    },
    {
     "name": "stdout",
     "output_type": "stream",
     "text": [
      "\r>> Converting image 2395/2569 shard 1"
     ]
    },
    {
     "name": "stdout",
     "output_type": "stream",
     "text": [
      "\r>> Converting image 2396/2569 shard 1"
     ]
    },
    {
     "name": "stdout",
     "output_type": "stream",
     "text": [
      "\r>> Converting image 2397/2569 shard 1"
     ]
    },
    {
     "name": "stdout",
     "output_type": "stream",
     "text": [
      "\r>> Converting image 2398/2569 shard 1"
     ]
    },
    {
     "name": "stdout",
     "output_type": "stream",
     "text": [
      "\r>> Converting image 2399/2569 shard 1"
     ]
    },
    {
     "name": "stdout",
     "output_type": "stream",
     "text": [
      "\r>> Converting image 2400/2569 shard 1"
     ]
    },
    {
     "name": "stdout",
     "output_type": "stream",
     "text": [
      "\r>> Converting image 2401/2569 shard 1"
     ]
    },
    {
     "name": "stdout",
     "output_type": "stream",
     "text": [
      "\r>> Converting image 2402/2569 shard 1"
     ]
    },
    {
     "name": "stdout",
     "output_type": "stream",
     "text": [
      "\r>> Converting image 2403/2569 shard 1"
     ]
    },
    {
     "name": "stdout",
     "output_type": "stream",
     "text": [
      "\r>> Converting image 2404/2569 shard 1"
     ]
    },
    {
     "name": "stdout",
     "output_type": "stream",
     "text": [
      "\r>> Converting image 2405/2569 shard 1"
     ]
    },
    {
     "name": "stdout",
     "output_type": "stream",
     "text": [
      "\r>> Converting image 2406/2569 shard 1"
     ]
    },
    {
     "name": "stdout",
     "output_type": "stream",
     "text": [
      "\r>> Converting image 2407/2569 shard 1"
     ]
    },
    {
     "name": "stdout",
     "output_type": "stream",
     "text": [
      "\r>> Converting image 2408/2569 shard 1"
     ]
    },
    {
     "name": "stdout",
     "output_type": "stream",
     "text": [
      "\r>> Converting image 2409/2569 shard 1"
     ]
    },
    {
     "name": "stdout",
     "output_type": "stream",
     "text": [
      "\r>> Converting image 2410/2569 shard 1"
     ]
    },
    {
     "name": "stdout",
     "output_type": "stream",
     "text": [
      "\r>> Converting image 2411/2569 shard 1"
     ]
    },
    {
     "name": "stdout",
     "output_type": "stream",
     "text": [
      "\r>> Converting image 2412/2569 shard 1"
     ]
    },
    {
     "name": "stdout",
     "output_type": "stream",
     "text": [
      "\r>> Converting image 2413/2569 shard 1"
     ]
    },
    {
     "name": "stdout",
     "output_type": "stream",
     "text": [
      "\r>> Converting image 2414/2569 shard 1"
     ]
    },
    {
     "name": "stdout",
     "output_type": "stream",
     "text": [
      "\r>> Converting image 2415/2569 shard 1"
     ]
    },
    {
     "name": "stdout",
     "output_type": "stream",
     "text": [
      "\r>> Converting image 2416/2569 shard 1"
     ]
    },
    {
     "name": "stdout",
     "output_type": "stream",
     "text": [
      "\r>> Converting image 2417/2569 shard 1"
     ]
    },
    {
     "name": "stdout",
     "output_type": "stream",
     "text": [
      "\r>> Converting image 2418/2569 shard 1"
     ]
    },
    {
     "name": "stdout",
     "output_type": "stream",
     "text": [
      "\r>> Converting image 2419/2569 shard 1"
     ]
    },
    {
     "name": "stdout",
     "output_type": "stream",
     "text": [
      "\r>> Converting image 2420/2569 shard 1"
     ]
    },
    {
     "name": "stdout",
     "output_type": "stream",
     "text": [
      "\r>> Converting image 2421/2569 shard 1"
     ]
    },
    {
     "name": "stdout",
     "output_type": "stream",
     "text": [
      "\r>> Converting image 2422/2569 shard 1"
     ]
    },
    {
     "name": "stdout",
     "output_type": "stream",
     "text": [
      "\r>> Converting image 2423/2569 shard 1"
     ]
    },
    {
     "name": "stdout",
     "output_type": "stream",
     "text": [
      "\r>> Converting image 2424/2569 shard 1"
     ]
    },
    {
     "name": "stdout",
     "output_type": "stream",
     "text": [
      "\r>> Converting image 2425/2569 shard 1"
     ]
    },
    {
     "name": "stdout",
     "output_type": "stream",
     "text": [
      "\r>> Converting image 2426/2569 shard 1"
     ]
    },
    {
     "name": "stdout",
     "output_type": "stream",
     "text": [
      "\r>> Converting image 2427/2569 shard 1"
     ]
    },
    {
     "name": "stdout",
     "output_type": "stream",
     "text": [
      "\r>> Converting image 2428/2569 shard 1"
     ]
    },
    {
     "name": "stdout",
     "output_type": "stream",
     "text": [
      "\r>> Converting image 2429/2569 shard 1"
     ]
    },
    {
     "name": "stdout",
     "output_type": "stream",
     "text": [
      "\r>> Converting image 2430/2569 shard 1"
     ]
    },
    {
     "name": "stdout",
     "output_type": "stream",
     "text": [
      "\r>> Converting image 2431/2569 shard 1"
     ]
    },
    {
     "name": "stdout",
     "output_type": "stream",
     "text": [
      "\r>> Converting image 2432/2569 shard 1"
     ]
    },
    {
     "name": "stdout",
     "output_type": "stream",
     "text": [
      "\r>> Converting image 2433/2569 shard 1"
     ]
    },
    {
     "name": "stdout",
     "output_type": "stream",
     "text": [
      "\r>> Converting image 2434/2569 shard 1"
     ]
    },
    {
     "name": "stdout",
     "output_type": "stream",
     "text": [
      "\r>> Converting image 2435/2569 shard 1"
     ]
    },
    {
     "name": "stdout",
     "output_type": "stream",
     "text": [
      "\r>> Converting image 2436/2569 shard 1"
     ]
    },
    {
     "name": "stdout",
     "output_type": "stream",
     "text": [
      "\r>> Converting image 2437/2569 shard 1"
     ]
    },
    {
     "name": "stdout",
     "output_type": "stream",
     "text": [
      "\r>> Converting image 2438/2569 shard 1"
     ]
    },
    {
     "name": "stdout",
     "output_type": "stream",
     "text": [
      "\r>> Converting image 2439/2569 shard 1"
     ]
    },
    {
     "name": "stdout",
     "output_type": "stream",
     "text": [
      "\r>> Converting image 2440/2569 shard 1"
     ]
    },
    {
     "name": "stdout",
     "output_type": "stream",
     "text": [
      "\r>> Converting image 2441/2569 shard 1"
     ]
    },
    {
     "name": "stdout",
     "output_type": "stream",
     "text": [
      "\r>> Converting image 2442/2569 shard 1"
     ]
    },
    {
     "name": "stdout",
     "output_type": "stream",
     "text": [
      "\r>> Converting image 2443/2569 shard 1"
     ]
    },
    {
     "name": "stdout",
     "output_type": "stream",
     "text": [
      "\r>> Converting image 2444/2569 shard 1"
     ]
    },
    {
     "name": "stdout",
     "output_type": "stream",
     "text": [
      "\r>> Converting image 2445/2569 shard 1"
     ]
    },
    {
     "name": "stdout",
     "output_type": "stream",
     "text": [
      "\r>> Converting image 2446/2569 shard 1"
     ]
    },
    {
     "name": "stdout",
     "output_type": "stream",
     "text": [
      "\r>> Converting image 2447/2569 shard 1"
     ]
    },
    {
     "name": "stdout",
     "output_type": "stream",
     "text": [
      "\r>> Converting image 2448/2569 shard 1"
     ]
    },
    {
     "name": "stdout",
     "output_type": "stream",
     "text": [
      "\r>> Converting image 2449/2569 shard 1"
     ]
    },
    {
     "name": "stdout",
     "output_type": "stream",
     "text": [
      "\r>> Converting image 2450/2569 shard 1"
     ]
    },
    {
     "name": "stdout",
     "output_type": "stream",
     "text": [
      "\r>> Converting image 2451/2569 shard 1"
     ]
    },
    {
     "name": "stdout",
     "output_type": "stream",
     "text": [
      "\r>> Converting image 2452/2569 shard 1"
     ]
    },
    {
     "name": "stdout",
     "output_type": "stream",
     "text": [
      "\r>> Converting image 2453/2569 shard 1"
     ]
    },
    {
     "name": "stdout",
     "output_type": "stream",
     "text": [
      "\r>> Converting image 2454/2569 shard 1"
     ]
    },
    {
     "name": "stdout",
     "output_type": "stream",
     "text": [
      "\r>> Converting image 2455/2569 shard 1"
     ]
    },
    {
     "name": "stdout",
     "output_type": "stream",
     "text": [
      "\r>> Converting image 2456/2569 shard 1"
     ]
    },
    {
     "name": "stdout",
     "output_type": "stream",
     "text": [
      "\r>> Converting image 2457/2569 shard 1"
     ]
    },
    {
     "name": "stdout",
     "output_type": "stream",
     "text": [
      "\r>> Converting image 2458/2569 shard 1"
     ]
    },
    {
     "name": "stdout",
     "output_type": "stream",
     "text": [
      "\r>> Converting image 2459/2569 shard 1"
     ]
    },
    {
     "name": "stdout",
     "output_type": "stream",
     "text": [
      "\r>> Converting image 2460/2569 shard 1"
     ]
    },
    {
     "name": "stdout",
     "output_type": "stream",
     "text": [
      "\r>> Converting image 2461/2569 shard 1"
     ]
    },
    {
     "name": "stdout",
     "output_type": "stream",
     "text": [
      "\r>> Converting image 2462/2569 shard 1"
     ]
    },
    {
     "name": "stdout",
     "output_type": "stream",
     "text": [
      "\r>> Converting image 2463/2569 shard 1"
     ]
    },
    {
     "name": "stdout",
     "output_type": "stream",
     "text": [
      "\r>> Converting image 2464/2569 shard 1"
     ]
    },
    {
     "name": "stdout",
     "output_type": "stream",
     "text": [
      "\r>> Converting image 2465/2569 shard 1"
     ]
    },
    {
     "name": "stdout",
     "output_type": "stream",
     "text": [
      "\r>> Converting image 2466/2569 shard 1"
     ]
    },
    {
     "name": "stdout",
     "output_type": "stream",
     "text": [
      "\r>> Converting image 2467/2569 shard 1"
     ]
    },
    {
     "name": "stdout",
     "output_type": "stream",
     "text": [
      "\r>> Converting image 2468/2569 shard 1"
     ]
    },
    {
     "name": "stdout",
     "output_type": "stream",
     "text": [
      "\r>> Converting image 2469/2569 shard 1"
     ]
    },
    {
     "name": "stdout",
     "output_type": "stream",
     "text": [
      "\r>> Converting image 2470/2569 shard 1"
     ]
    },
    {
     "name": "stdout",
     "output_type": "stream",
     "text": [
      "\r>> Converting image 2471/2569 shard 1"
     ]
    },
    {
     "name": "stdout",
     "output_type": "stream",
     "text": [
      "\r>> Converting image 2472/2569 shard 1"
     ]
    },
    {
     "name": "stdout",
     "output_type": "stream",
     "text": [
      "\r>> Converting image 2473/2569 shard 1"
     ]
    },
    {
     "name": "stdout",
     "output_type": "stream",
     "text": [
      "\r>> Converting image 2474/2569 shard 1"
     ]
    },
    {
     "name": "stdout",
     "output_type": "stream",
     "text": [
      "\r>> Converting image 2475/2569 shard 1"
     ]
    },
    {
     "name": "stdout",
     "output_type": "stream",
     "text": [
      "\r>> Converting image 2476/2569 shard 1"
     ]
    },
    {
     "name": "stdout",
     "output_type": "stream",
     "text": [
      "\r>> Converting image 2477/2569 shard 1"
     ]
    },
    {
     "name": "stdout",
     "output_type": "stream",
     "text": [
      "\r>> Converting image 2478/2569 shard 1"
     ]
    },
    {
     "name": "stdout",
     "output_type": "stream",
     "text": [
      "\r>> Converting image 2479/2569 shard 1"
     ]
    },
    {
     "name": "stdout",
     "output_type": "stream",
     "text": [
      "\r>> Converting image 2480/2569 shard 1"
     ]
    },
    {
     "name": "stdout",
     "output_type": "stream",
     "text": [
      "\r>> Converting image 2481/2569 shard 1"
     ]
    },
    {
     "name": "stdout",
     "output_type": "stream",
     "text": [
      "\r>> Converting image 2482/2569 shard 1"
     ]
    },
    {
     "name": "stdout",
     "output_type": "stream",
     "text": [
      "\r>> Converting image 2483/2569 shard 1"
     ]
    },
    {
     "name": "stdout",
     "output_type": "stream",
     "text": [
      "\r>> Converting image 2484/2569 shard 1"
     ]
    },
    {
     "name": "stdout",
     "output_type": "stream",
     "text": [
      "\r>> Converting image 2485/2569 shard 1"
     ]
    },
    {
     "name": "stdout",
     "output_type": "stream",
     "text": [
      "\r>> Converting image 2486/2569 shard 1"
     ]
    },
    {
     "name": "stdout",
     "output_type": "stream",
     "text": [
      "\r>> Converting image 2487/2569 shard 1"
     ]
    },
    {
     "name": "stdout",
     "output_type": "stream",
     "text": [
      "\r>> Converting image 2488/2569 shard 1"
     ]
    },
    {
     "name": "stdout",
     "output_type": "stream",
     "text": [
      "\r>> Converting image 2489/2569 shard 1"
     ]
    },
    {
     "name": "stdout",
     "output_type": "stream",
     "text": [
      "\r>> Converting image 2490/2569 shard 1"
     ]
    },
    {
     "name": "stdout",
     "output_type": "stream",
     "text": [
      "\r>> Converting image 2491/2569 shard 1"
     ]
    },
    {
     "name": "stdout",
     "output_type": "stream",
     "text": [
      "\r>> Converting image 2492/2569 shard 1"
     ]
    },
    {
     "name": "stdout",
     "output_type": "stream",
     "text": [
      "\r>> Converting image 2493/2569 shard 1"
     ]
    },
    {
     "name": "stdout",
     "output_type": "stream",
     "text": [
      "\r>> Converting image 2494/2569 shard 1"
     ]
    },
    {
     "name": "stdout",
     "output_type": "stream",
     "text": [
      "\r>> Converting image 2495/2569 shard 1"
     ]
    },
    {
     "name": "stdout",
     "output_type": "stream",
     "text": [
      "\r>> Converting image 2496/2569 shard 1"
     ]
    },
    {
     "name": "stdout",
     "output_type": "stream",
     "text": [
      "\r>> Converting image 2497/2569 shard 1"
     ]
    },
    {
     "name": "stdout",
     "output_type": "stream",
     "text": [
      "\r>> Converting image 2498/2569 shard 1"
     ]
    },
    {
     "name": "stdout",
     "output_type": "stream",
     "text": [
      "\r>> Converting image 2499/2569 shard 1"
     ]
    },
    {
     "name": "stdout",
     "output_type": "stream",
     "text": [
      "\r>> Converting image 2500/2569 shard 1"
     ]
    },
    {
     "name": "stdout",
     "output_type": "stream",
     "text": [
      "\r>> Converting image 2501/2569 shard 1"
     ]
    },
    {
     "name": "stdout",
     "output_type": "stream",
     "text": [
      "\r>> Converting image 2502/2569 shard 1"
     ]
    },
    {
     "name": "stdout",
     "output_type": "stream",
     "text": [
      "\r>> Converting image 2503/2569 shard 1"
     ]
    },
    {
     "name": "stdout",
     "output_type": "stream",
     "text": [
      "\r>> Converting image 2504/2569 shard 1"
     ]
    },
    {
     "name": "stdout",
     "output_type": "stream",
     "text": [
      "\r>> Converting image 2505/2569 shard 1"
     ]
    },
    {
     "name": "stdout",
     "output_type": "stream",
     "text": [
      "\r>> Converting image 2506/2569 shard 1"
     ]
    },
    {
     "name": "stdout",
     "output_type": "stream",
     "text": [
      "\r>> Converting image 2507/2569 shard 1"
     ]
    },
    {
     "name": "stdout",
     "output_type": "stream",
     "text": [
      "\r>> Converting image 2508/2569 shard 1"
     ]
    },
    {
     "name": "stdout",
     "output_type": "stream",
     "text": [
      "\r>> Converting image 2509/2569 shard 1"
     ]
    },
    {
     "name": "stdout",
     "output_type": "stream",
     "text": [
      "\r>> Converting image 2510/2569 shard 1"
     ]
    },
    {
     "name": "stdout",
     "output_type": "stream",
     "text": [
      "\r>> Converting image 2511/2569 shard 1"
     ]
    },
    {
     "name": "stdout",
     "output_type": "stream",
     "text": [
      "\r>> Converting image 2512/2569 shard 1"
     ]
    },
    {
     "name": "stdout",
     "output_type": "stream",
     "text": [
      "\r>> Converting image 2513/2569 shard 1"
     ]
    },
    {
     "name": "stdout",
     "output_type": "stream",
     "text": [
      "\r>> Converting image 2514/2569 shard 1"
     ]
    },
    {
     "name": "stdout",
     "output_type": "stream",
     "text": [
      "\r>> Converting image 2515/2569 shard 1"
     ]
    },
    {
     "name": "stdout",
     "output_type": "stream",
     "text": [
      "\r>> Converting image 2516/2569 shard 1"
     ]
    },
    {
     "name": "stdout",
     "output_type": "stream",
     "text": [
      "\r>> Converting image 2517/2569 shard 1"
     ]
    },
    {
     "name": "stdout",
     "output_type": "stream",
     "text": [
      "\r>> Converting image 2518/2569 shard 1"
     ]
    },
    {
     "name": "stdout",
     "output_type": "stream",
     "text": [
      "\r>> Converting image 2519/2569 shard 1"
     ]
    },
    {
     "name": "stdout",
     "output_type": "stream",
     "text": [
      "\r>> Converting image 2520/2569 shard 1"
     ]
    },
    {
     "name": "stdout",
     "output_type": "stream",
     "text": [
      "\r>> Converting image 2521/2569 shard 1"
     ]
    },
    {
     "name": "stdout",
     "output_type": "stream",
     "text": [
      "\r>> Converting image 2522/2569 shard 1"
     ]
    },
    {
     "name": "stdout",
     "output_type": "stream",
     "text": [
      "\r>> Converting image 2523/2569 shard 1"
     ]
    },
    {
     "name": "stdout",
     "output_type": "stream",
     "text": [
      "\r>> Converting image 2524/2569 shard 1"
     ]
    },
    {
     "name": "stdout",
     "output_type": "stream",
     "text": [
      "\r>> Converting image 2525/2569 shard 1"
     ]
    },
    {
     "name": "stdout",
     "output_type": "stream",
     "text": [
      "\r>> Converting image 2526/2569 shard 1"
     ]
    },
    {
     "name": "stdout",
     "output_type": "stream",
     "text": [
      "\r>> Converting image 2527/2569 shard 1"
     ]
    },
    {
     "name": "stdout",
     "output_type": "stream",
     "text": [
      "\r>> Converting image 2528/2569 shard 1"
     ]
    },
    {
     "name": "stdout",
     "output_type": "stream",
     "text": [
      "\r>> Converting image 2529/2569 shard 1"
     ]
    },
    {
     "name": "stdout",
     "output_type": "stream",
     "text": [
      "\r>> Converting image 2530/2569 shard 1"
     ]
    },
    {
     "name": "stdout",
     "output_type": "stream",
     "text": [
      "\r>> Converting image 2531/2569 shard 1"
     ]
    },
    {
     "name": "stdout",
     "output_type": "stream",
     "text": [
      "\r>> Converting image 2532/2569 shard 1"
     ]
    },
    {
     "name": "stdout",
     "output_type": "stream",
     "text": [
      "\r>> Converting image 2533/2569 shard 1"
     ]
    },
    {
     "name": "stdout",
     "output_type": "stream",
     "text": [
      "\r>> Converting image 2534/2569 shard 1"
     ]
    },
    {
     "name": "stdout",
     "output_type": "stream",
     "text": [
      "\r>> Converting image 2535/2569 shard 1"
     ]
    },
    {
     "name": "stdout",
     "output_type": "stream",
     "text": [
      "\r>> Converting image 2536/2569 shard 1"
     ]
    },
    {
     "name": "stdout",
     "output_type": "stream",
     "text": [
      "\r>> Converting image 2537/2569 shard 1"
     ]
    },
    {
     "name": "stdout",
     "output_type": "stream",
     "text": [
      "\r>> Converting image 2538/2569 shard 1"
     ]
    },
    {
     "name": "stdout",
     "output_type": "stream",
     "text": [
      "\r>> Converting image 2539/2569 shard 1"
     ]
    },
    {
     "name": "stdout",
     "output_type": "stream",
     "text": [
      "\r>> Converting image 2540/2569 shard 1"
     ]
    },
    {
     "name": "stdout",
     "output_type": "stream",
     "text": [
      "\r>> Converting image 2541/2569 shard 1"
     ]
    },
    {
     "name": "stdout",
     "output_type": "stream",
     "text": [
      "\r>> Converting image 2542/2569 shard 1"
     ]
    },
    {
     "name": "stdout",
     "output_type": "stream",
     "text": [
      "\r>> Converting image 2543/2569 shard 1"
     ]
    },
    {
     "name": "stdout",
     "output_type": "stream",
     "text": [
      "\r>> Converting image 2544/2569 shard 1"
     ]
    },
    {
     "name": "stdout",
     "output_type": "stream",
     "text": [
      "\r>> Converting image 2545/2569 shard 1"
     ]
    },
    {
     "name": "stdout",
     "output_type": "stream",
     "text": [
      "\r>> Converting image 2546/2569 shard 1"
     ]
    },
    {
     "name": "stdout",
     "output_type": "stream",
     "text": [
      "\r>> Converting image 2547/2569 shard 1"
     ]
    },
    {
     "name": "stdout",
     "output_type": "stream",
     "text": [
      "\r>> Converting image 2548/2569 shard 1"
     ]
    },
    {
     "name": "stdout",
     "output_type": "stream",
     "text": [
      "\r>> Converting image 2549/2569 shard 1"
     ]
    },
    {
     "name": "stdout",
     "output_type": "stream",
     "text": [
      "\r>> Converting image 2550/2569 shard 1"
     ]
    },
    {
     "name": "stdout",
     "output_type": "stream",
     "text": [
      "\r>> Converting image 2551/2569 shard 1"
     ]
    },
    {
     "name": "stdout",
     "output_type": "stream",
     "text": [
      "\r>> Converting image 2552/2569 shard 1"
     ]
    },
    {
     "name": "stdout",
     "output_type": "stream",
     "text": [
      "\r>> Converting image 2553/2569 shard 1"
     ]
    },
    {
     "name": "stdout",
     "output_type": "stream",
     "text": [
      "\r>> Converting image 2554/2569 shard 1"
     ]
    },
    {
     "name": "stdout",
     "output_type": "stream",
     "text": [
      "\r>> Converting image 2555/2569 shard 1"
     ]
    },
    {
     "name": "stdout",
     "output_type": "stream",
     "text": [
      "\r>> Converting image 2556/2569 shard 1"
     ]
    },
    {
     "name": "stdout",
     "output_type": "stream",
     "text": [
      "\r>> Converting image 2557/2569 shard 1"
     ]
    },
    {
     "name": "stdout",
     "output_type": "stream",
     "text": [
      "\r>> Converting image 2558/2569 shard 1"
     ]
    },
    {
     "name": "stdout",
     "output_type": "stream",
     "text": [
      "\r>> Converting image 2559/2569 shard 1"
     ]
    },
    {
     "name": "stdout",
     "output_type": "stream",
     "text": [
      "\r>> Converting image 2560/2569 shard 1"
     ]
    },
    {
     "name": "stdout",
     "output_type": "stream",
     "text": [
      "\r>> Converting image 2561/2569 shard 1"
     ]
    },
    {
     "name": "stdout",
     "output_type": "stream",
     "text": [
      "\r>> Converting image 2562/2569 shard 1"
     ]
    },
    {
     "name": "stdout",
     "output_type": "stream",
     "text": [
      "\r>> Converting image 2563/2569 shard 1"
     ]
    },
    {
     "name": "stdout",
     "output_type": "stream",
     "text": [
      "\r>> Converting image 2564/2569 shard 1"
     ]
    },
    {
     "name": "stdout",
     "output_type": "stream",
     "text": [
      "\r>> Converting image 2565/2569 shard 1"
     ]
    },
    {
     "name": "stdout",
     "output_type": "stream",
     "text": [
      "\r>> Converting image 2566/2569 shard 1"
     ]
    },
    {
     "name": "stdout",
     "output_type": "stream",
     "text": [
      "\r>> Converting image 2567/2569 shard 1"
     ]
    },
    {
     "name": "stdout",
     "output_type": "stream",
     "text": [
      "\r>> Converting image 2568/2569 shard 1"
     ]
    },
    {
     "name": "stdout",
     "output_type": "stream",
     "text": [
      "\r>> Converting image 2569/2569 shard 1"
     ]
    },
    {
     "name": "stdout",
     "output_type": "stream",
     "text": [
      "\n"
     ]
    }
   ],
   "source": [
    "# First, convert the training and validation sets.\n",
    "_convert_dataset('train', trainingFilenames, classNameToLabel,\n",
    "                 dataset_dir = FLAGS.dataset_dir,\n",
    "                 _NUM_SHARDS = FLAGS.num_shards)"
   ]
  },
  {
   "cell_type": "code",
   "execution_count": 5,
   "metadata": {
    "collapsed": true
   },
   "outputs": [
    {
     "name": "stdout",
     "output_type": "stream",
     "text": [
      "\r>> Converting image 1/1101 shard 0"
     ]
    },
    {
     "name": "stdout",
     "output_type": "stream",
     "text": [
      "\r>> Converting image 2/1101 shard 0"
     ]
    },
    {
     "name": "stdout",
     "output_type": "stream",
     "text": [
      "\r>> Converting image 3/1101 shard 0"
     ]
    },
    {
     "name": "stdout",
     "output_type": "stream",
     "text": [
      "\r>> Converting image 4/1101 shard 0"
     ]
    },
    {
     "name": "stdout",
     "output_type": "stream",
     "text": [
      "\r>> Converting image 5/1101 shard 0"
     ]
    },
    {
     "name": "stdout",
     "output_type": "stream",
     "text": [
      "\r>> Converting image 6/1101 shard 0"
     ]
    },
    {
     "name": "stdout",
     "output_type": "stream",
     "text": [
      "\r>> Converting image 7/1101 shard 0"
     ]
    },
    {
     "name": "stdout",
     "output_type": "stream",
     "text": [
      "\r>> Converting image 8/1101 shard 0"
     ]
    },
    {
     "name": "stdout",
     "output_type": "stream",
     "text": [
      "\r>> Converting image 9/1101 shard 0"
     ]
    },
    {
     "name": "stdout",
     "output_type": "stream",
     "text": [
      "\r>> Converting image 10/1101 shard 0"
     ]
    },
    {
     "name": "stdout",
     "output_type": "stream",
     "text": [
      "\r>> Converting image 11/1101 shard 0"
     ]
    },
    {
     "name": "stdout",
     "output_type": "stream",
     "text": [
      "\r>> Converting image 12/1101 shard 0"
     ]
    },
    {
     "name": "stdout",
     "output_type": "stream",
     "text": [
      "\r>> Converting image 13/1101 shard 0"
     ]
    },
    {
     "name": "stdout",
     "output_type": "stream",
     "text": [
      "\r>> Converting image 14/1101 shard 0"
     ]
    },
    {
     "name": "stdout",
     "output_type": "stream",
     "text": [
      "\r>> Converting image 15/1101 shard 0"
     ]
    },
    {
     "name": "stdout",
     "output_type": "stream",
     "text": [
      "\r>> Converting image 16/1101 shard 0"
     ]
    },
    {
     "name": "stdout",
     "output_type": "stream",
     "text": [
      "\r>> Converting image 17/1101 shard 0"
     ]
    },
    {
     "name": "stdout",
     "output_type": "stream",
     "text": [
      "\r>> Converting image 18/1101 shard 0"
     ]
    },
    {
     "name": "stdout",
     "output_type": "stream",
     "text": [
      "\r>> Converting image 19/1101 shard 0"
     ]
    },
    {
     "name": "stdout",
     "output_type": "stream",
     "text": [
      "\r>> Converting image 20/1101 shard 0"
     ]
    },
    {
     "name": "stdout",
     "output_type": "stream",
     "text": [
      "\r>> Converting image 21/1101 shard 0"
     ]
    },
    {
     "name": "stdout",
     "output_type": "stream",
     "text": [
      "\r>> Converting image 22/1101 shard 0"
     ]
    },
    {
     "name": "stdout",
     "output_type": "stream",
     "text": [
      "\r>> Converting image 23/1101 shard 0"
     ]
    },
    {
     "name": "stdout",
     "output_type": "stream",
     "text": [
      "\r>> Converting image 24/1101 shard 0"
     ]
    },
    {
     "name": "stdout",
     "output_type": "stream",
     "text": [
      "\r>> Converting image 25/1101 shard 0"
     ]
    },
    {
     "name": "stdout",
     "output_type": "stream",
     "text": [
      "\r>> Converting image 26/1101 shard 0"
     ]
    },
    {
     "name": "stdout",
     "output_type": "stream",
     "text": [
      "\r>> Converting image 27/1101 shard 0"
     ]
    },
    {
     "name": "stdout",
     "output_type": "stream",
     "text": [
      "\r>> Converting image 28/1101 shard 0"
     ]
    },
    {
     "name": "stdout",
     "output_type": "stream",
     "text": [
      "\r>> Converting image 29/1101 shard 0"
     ]
    },
    {
     "name": "stdout",
     "output_type": "stream",
     "text": [
      "\r>> Converting image 30/1101 shard 0"
     ]
    },
    {
     "name": "stdout",
     "output_type": "stream",
     "text": [
      "\r>> Converting image 31/1101 shard 0"
     ]
    },
    {
     "name": "stdout",
     "output_type": "stream",
     "text": [
      "\r>> Converting image 32/1101 shard 0"
     ]
    },
    {
     "name": "stdout",
     "output_type": "stream",
     "text": [
      "\r>> Converting image 33/1101 shard 0"
     ]
    },
    {
     "name": "stdout",
     "output_type": "stream",
     "text": [
      "\r>> Converting image 34/1101 shard 0"
     ]
    },
    {
     "name": "stdout",
     "output_type": "stream",
     "text": [
      "\r>> Converting image 35/1101 shard 0"
     ]
    },
    {
     "name": "stdout",
     "output_type": "stream",
     "text": [
      "\r>> Converting image 36/1101 shard 0"
     ]
    },
    {
     "name": "stdout",
     "output_type": "stream",
     "text": [
      "\r>> Converting image 37/1101 shard 0"
     ]
    },
    {
     "name": "stdout",
     "output_type": "stream",
     "text": [
      "\r>> Converting image 38/1101 shard 0"
     ]
    },
    {
     "name": "stdout",
     "output_type": "stream",
     "text": [
      "\r>> Converting image 39/1101 shard 0"
     ]
    },
    {
     "name": "stdout",
     "output_type": "stream",
     "text": [
      "\r>> Converting image 40/1101 shard 0"
     ]
    },
    {
     "name": "stdout",
     "output_type": "stream",
     "text": [
      "\r>> Converting image 41/1101 shard 0"
     ]
    },
    {
     "name": "stdout",
     "output_type": "stream",
     "text": [
      "\r>> Converting image 42/1101 shard 0"
     ]
    },
    {
     "name": "stdout",
     "output_type": "stream",
     "text": [
      "\r>> Converting image 43/1101 shard 0"
     ]
    },
    {
     "name": "stdout",
     "output_type": "stream",
     "text": [
      "\r>> Converting image 44/1101 shard 0"
     ]
    },
    {
     "name": "stdout",
     "output_type": "stream",
     "text": [
      "\r>> Converting image 45/1101 shard 0"
     ]
    },
    {
     "name": "stdout",
     "output_type": "stream",
     "text": [
      "\r>> Converting image 46/1101 shard 0"
     ]
    },
    {
     "name": "stdout",
     "output_type": "stream",
     "text": [
      "\r>> Converting image 47/1101 shard 0"
     ]
    },
    {
     "name": "stdout",
     "output_type": "stream",
     "text": [
      "\r>> Converting image 48/1101 shard 0"
     ]
    },
    {
     "name": "stdout",
     "output_type": "stream",
     "text": [
      "\r>> Converting image 49/1101 shard 0"
     ]
    },
    {
     "name": "stdout",
     "output_type": "stream",
     "text": [
      "\r>> Converting image 50/1101 shard 0"
     ]
    },
    {
     "name": "stdout",
     "output_type": "stream",
     "text": [
      "\r>> Converting image 51/1101 shard 0"
     ]
    },
    {
     "name": "stdout",
     "output_type": "stream",
     "text": [
      "\r>> Converting image 52/1101 shard 0"
     ]
    },
    {
     "name": "stdout",
     "output_type": "stream",
     "text": [
      "\r>> Converting image 53/1101 shard 0"
     ]
    },
    {
     "name": "stdout",
     "output_type": "stream",
     "text": [
      "\r>> Converting image 54/1101 shard 0"
     ]
    },
    {
     "name": "stdout",
     "output_type": "stream",
     "text": [
      "\r>> Converting image 55/1101 shard 0"
     ]
    },
    {
     "name": "stdout",
     "output_type": "stream",
     "text": [
      "\r>> Converting image 56/1101 shard 0"
     ]
    },
    {
     "name": "stdout",
     "output_type": "stream",
     "text": [
      "\r>> Converting image 57/1101 shard 0"
     ]
    },
    {
     "name": "stdout",
     "output_type": "stream",
     "text": [
      "\r>> Converting image 58/1101 shard 0"
     ]
    },
    {
     "name": "stdout",
     "output_type": "stream",
     "text": [
      "\r>> Converting image 59/1101 shard 0"
     ]
    },
    {
     "name": "stdout",
     "output_type": "stream",
     "text": [
      "\r>> Converting image 60/1101 shard 0"
     ]
    },
    {
     "name": "stdout",
     "output_type": "stream",
     "text": [
      "\r>> Converting image 61/1101 shard 0"
     ]
    },
    {
     "name": "stdout",
     "output_type": "stream",
     "text": [
      "\r>> Converting image 62/1101 shard 0"
     ]
    },
    {
     "name": "stdout",
     "output_type": "stream",
     "text": [
      "\r>> Converting image 63/1101 shard 0"
     ]
    },
    {
     "name": "stdout",
     "output_type": "stream",
     "text": [
      "\r>> Converting image 64/1101 shard 0"
     ]
    },
    {
     "name": "stdout",
     "output_type": "stream",
     "text": [
      "\r>> Converting image 65/1101 shard 0"
     ]
    },
    {
     "name": "stdout",
     "output_type": "stream",
     "text": [
      "\r>> Converting image 66/1101 shard 0"
     ]
    },
    {
     "name": "stdout",
     "output_type": "stream",
     "text": [
      "\r>> Converting image 67/1101 shard 0"
     ]
    },
    {
     "name": "stdout",
     "output_type": "stream",
     "text": [
      "\r>> Converting image 68/1101 shard 0"
     ]
    },
    {
     "name": "stdout",
     "output_type": "stream",
     "text": [
      "\r>> Converting image 69/1101 shard 0"
     ]
    },
    {
     "name": "stdout",
     "output_type": "stream",
     "text": [
      "\r>> Converting image 70/1101 shard 0"
     ]
    },
    {
     "name": "stdout",
     "output_type": "stream",
     "text": [
      "\r>> Converting image 71/1101 shard 0"
     ]
    },
    {
     "name": "stdout",
     "output_type": "stream",
     "text": [
      "\r>> Converting image 72/1101 shard 0"
     ]
    },
    {
     "name": "stdout",
     "output_type": "stream",
     "text": [
      "\r>> Converting image 73/1101 shard 0"
     ]
    },
    {
     "name": "stdout",
     "output_type": "stream",
     "text": [
      "\r>> Converting image 74/1101 shard 0"
     ]
    },
    {
     "name": "stdout",
     "output_type": "stream",
     "text": [
      "\r>> Converting image 75/1101 shard 0"
     ]
    },
    {
     "name": "stdout",
     "output_type": "stream",
     "text": [
      "\r>> Converting image 76/1101 shard 0"
     ]
    },
    {
     "name": "stdout",
     "output_type": "stream",
     "text": [
      "\r>> Converting image 77/1101 shard 0"
     ]
    },
    {
     "name": "stdout",
     "output_type": "stream",
     "text": [
      "\r>> Converting image 78/1101 shard 0"
     ]
    },
    {
     "name": "stdout",
     "output_type": "stream",
     "text": [
      "\r>> Converting image 79/1101 shard 0"
     ]
    },
    {
     "name": "stdout",
     "output_type": "stream",
     "text": [
      "\r>> Converting image 80/1101 shard 0"
     ]
    },
    {
     "name": "stdout",
     "output_type": "stream",
     "text": [
      "\r>> Converting image 81/1101 shard 0"
     ]
    },
    {
     "name": "stdout",
     "output_type": "stream",
     "text": [
      "\r>> Converting image 82/1101 shard 0"
     ]
    },
    {
     "name": "stdout",
     "output_type": "stream",
     "text": [
      "\r>> Converting image 83/1101 shard 0"
     ]
    },
    {
     "name": "stdout",
     "output_type": "stream",
     "text": [
      "\r>> Converting image 84/1101 shard 0"
     ]
    },
    {
     "name": "stdout",
     "output_type": "stream",
     "text": [
      "\r>> Converting image 85/1101 shard 0"
     ]
    },
    {
     "name": "stdout",
     "output_type": "stream",
     "text": [
      "\r>> Converting image 86/1101 shard 0"
     ]
    },
    {
     "name": "stdout",
     "output_type": "stream",
     "text": [
      "\r>> Converting image 87/1101 shard 0"
     ]
    },
    {
     "name": "stdout",
     "output_type": "stream",
     "text": [
      "\r>> Converting image 88/1101 shard 0"
     ]
    },
    {
     "name": "stdout",
     "output_type": "stream",
     "text": [
      "\r>> Converting image 89/1101 shard 0"
     ]
    },
    {
     "name": "stdout",
     "output_type": "stream",
     "text": [
      "\r>> Converting image 90/1101 shard 0"
     ]
    },
    {
     "name": "stdout",
     "output_type": "stream",
     "text": [
      "\r>> Converting image 91/1101 shard 0"
     ]
    },
    {
     "name": "stdout",
     "output_type": "stream",
     "text": [
      "\r>> Converting image 92/1101 shard 0"
     ]
    },
    {
     "name": "stdout",
     "output_type": "stream",
     "text": [
      "\r>> Converting image 93/1101 shard 0"
     ]
    },
    {
     "name": "stdout",
     "output_type": "stream",
     "text": [
      "\r>> Converting image 94/1101 shard 0"
     ]
    },
    {
     "name": "stdout",
     "output_type": "stream",
     "text": [
      "\r>> Converting image 95/1101 shard 0"
     ]
    },
    {
     "name": "stdout",
     "output_type": "stream",
     "text": [
      "\r>> Converting image 96/1101 shard 0"
     ]
    },
    {
     "name": "stdout",
     "output_type": "stream",
     "text": [
      "\r>> Converting image 97/1101 shard 0"
     ]
    },
    {
     "name": "stdout",
     "output_type": "stream",
     "text": [
      "\r>> Converting image 98/1101 shard 0"
     ]
    },
    {
     "name": "stdout",
     "output_type": "stream",
     "text": [
      "\r>> Converting image 99/1101 shard 0"
     ]
    },
    {
     "name": "stdout",
     "output_type": "stream",
     "text": [
      "\r>> Converting image 100/1101 shard 0"
     ]
    },
    {
     "name": "stdout",
     "output_type": "stream",
     "text": [
      "\r>> Converting image 101/1101 shard 0"
     ]
    },
    {
     "name": "stdout",
     "output_type": "stream",
     "text": [
      "\r>> Converting image 102/1101 shard 0"
     ]
    },
    {
     "name": "stdout",
     "output_type": "stream",
     "text": [
      "\r>> Converting image 103/1101 shard 0"
     ]
    },
    {
     "name": "stdout",
     "output_type": "stream",
     "text": [
      "\r>> Converting image 104/1101 shard 0"
     ]
    },
    {
     "name": "stdout",
     "output_type": "stream",
     "text": [
      "\r>> Converting image 105/1101 shard 0"
     ]
    },
    {
     "name": "stdout",
     "output_type": "stream",
     "text": [
      "\r>> Converting image 106/1101 shard 0"
     ]
    },
    {
     "name": "stdout",
     "output_type": "stream",
     "text": [
      "\r>> Converting image 107/1101 shard 0"
     ]
    },
    {
     "name": "stdout",
     "output_type": "stream",
     "text": [
      "\r>> Converting image 108/1101 shard 0"
     ]
    },
    {
     "name": "stdout",
     "output_type": "stream",
     "text": [
      "\r>> Converting image 109/1101 shard 0"
     ]
    },
    {
     "name": "stdout",
     "output_type": "stream",
     "text": [
      "\r>> Converting image 110/1101 shard 0"
     ]
    },
    {
     "name": "stdout",
     "output_type": "stream",
     "text": [
      "\r>> Converting image 111/1101 shard 0"
     ]
    },
    {
     "name": "stdout",
     "output_type": "stream",
     "text": [
      "\r>> Converting image 112/1101 shard 0"
     ]
    },
    {
     "name": "stdout",
     "output_type": "stream",
     "text": [
      "\r>> Converting image 113/1101 shard 0"
     ]
    },
    {
     "name": "stdout",
     "output_type": "stream",
     "text": [
      "\r>> Converting image 114/1101 shard 0"
     ]
    },
    {
     "name": "stdout",
     "output_type": "stream",
     "text": [
      "\r>> Converting image 115/1101 shard 0"
     ]
    },
    {
     "name": "stdout",
     "output_type": "stream",
     "text": [
      "\r>> Converting image 116/1101 shard 0"
     ]
    },
    {
     "name": "stdout",
     "output_type": "stream",
     "text": [
      "\r>> Converting image 117/1101 shard 0"
     ]
    },
    {
     "name": "stdout",
     "output_type": "stream",
     "text": [
      "\r>> Converting image 118/1101 shard 0"
     ]
    },
    {
     "name": "stdout",
     "output_type": "stream",
     "text": [
      "\r>> Converting image 119/1101 shard 0"
     ]
    },
    {
     "name": "stdout",
     "output_type": "stream",
     "text": [
      "\r>> Converting image 120/1101 shard 0"
     ]
    },
    {
     "name": "stdout",
     "output_type": "stream",
     "text": [
      "\r>> Converting image 121/1101 shard 0"
     ]
    },
    {
     "name": "stdout",
     "output_type": "stream",
     "text": [
      "\r>> Converting image 122/1101 shard 0"
     ]
    },
    {
     "name": "stdout",
     "output_type": "stream",
     "text": [
      "\r>> Converting image 123/1101 shard 0"
     ]
    },
    {
     "name": "stdout",
     "output_type": "stream",
     "text": [
      "\r>> Converting image 124/1101 shard 0"
     ]
    },
    {
     "name": "stdout",
     "output_type": "stream",
     "text": [
      "\r>> Converting image 125/1101 shard 0"
     ]
    },
    {
     "name": "stdout",
     "output_type": "stream",
     "text": [
      "\r>> Converting image 126/1101 shard 0"
     ]
    },
    {
     "name": "stdout",
     "output_type": "stream",
     "text": [
      "\r>> Converting image 127/1101 shard 0"
     ]
    },
    {
     "name": "stdout",
     "output_type": "stream",
     "text": [
      "\r>> Converting image 128/1101 shard 0"
     ]
    },
    {
     "name": "stdout",
     "output_type": "stream",
     "text": [
      "\r>> Converting image 129/1101 shard 0"
     ]
    },
    {
     "name": "stdout",
     "output_type": "stream",
     "text": [
      "\r>> Converting image 130/1101 shard 0"
     ]
    },
    {
     "name": "stdout",
     "output_type": "stream",
     "text": [
      "\r>> Converting image 131/1101 shard 0"
     ]
    },
    {
     "name": "stdout",
     "output_type": "stream",
     "text": [
      "\r>> Converting image 132/1101 shard 0"
     ]
    },
    {
     "name": "stdout",
     "output_type": "stream",
     "text": [
      "\r>> Converting image 133/1101 shard 0"
     ]
    },
    {
     "name": "stdout",
     "output_type": "stream",
     "text": [
      "\r>> Converting image 134/1101 shard 0"
     ]
    },
    {
     "name": "stdout",
     "output_type": "stream",
     "text": [
      "\r>> Converting image 135/1101 shard 0"
     ]
    },
    {
     "name": "stdout",
     "output_type": "stream",
     "text": [
      "\r>> Converting image 136/1101 shard 0"
     ]
    },
    {
     "name": "stdout",
     "output_type": "stream",
     "text": [
      "\r>> Converting image 137/1101 shard 0"
     ]
    },
    {
     "name": "stdout",
     "output_type": "stream",
     "text": [
      "\r>> Converting image 138/1101 shard 0"
     ]
    },
    {
     "name": "stdout",
     "output_type": "stream",
     "text": [
      "\r>> Converting image 139/1101 shard 0"
     ]
    },
    {
     "name": "stdout",
     "output_type": "stream",
     "text": [
      "\r>> Converting image 140/1101 shard 0"
     ]
    },
    {
     "name": "stdout",
     "output_type": "stream",
     "text": [
      "\r>> Converting image 141/1101 shard 0"
     ]
    },
    {
     "name": "stdout",
     "output_type": "stream",
     "text": [
      "\r>> Converting image 142/1101 shard 0"
     ]
    },
    {
     "name": "stdout",
     "output_type": "stream",
     "text": [
      "\r>> Converting image 143/1101 shard 0"
     ]
    },
    {
     "name": "stdout",
     "output_type": "stream",
     "text": [
      "\r>> Converting image 144/1101 shard 0"
     ]
    },
    {
     "name": "stdout",
     "output_type": "stream",
     "text": [
      "\r>> Converting image 145/1101 shard 0"
     ]
    },
    {
     "name": "stdout",
     "output_type": "stream",
     "text": [
      "\r>> Converting image 146/1101 shard 0"
     ]
    },
    {
     "name": "stdout",
     "output_type": "stream",
     "text": [
      "\r>> Converting image 147/1101 shard 0"
     ]
    },
    {
     "name": "stdout",
     "output_type": "stream",
     "text": [
      "\r>> Converting image 148/1101 shard 0"
     ]
    },
    {
     "name": "stdout",
     "output_type": "stream",
     "text": [
      "\r>> Converting image 149/1101 shard 0"
     ]
    },
    {
     "name": "stdout",
     "output_type": "stream",
     "text": [
      "\r>> Converting image 150/1101 shard 0"
     ]
    },
    {
     "name": "stdout",
     "output_type": "stream",
     "text": [
      "\r>> Converting image 151/1101 shard 0"
     ]
    },
    {
     "name": "stdout",
     "output_type": "stream",
     "text": [
      "\r>> Converting image 152/1101 shard 0"
     ]
    },
    {
     "name": "stdout",
     "output_type": "stream",
     "text": [
      "\r>> Converting image 153/1101 shard 0"
     ]
    },
    {
     "name": "stdout",
     "output_type": "stream",
     "text": [
      "\r>> Converting image 154/1101 shard 0"
     ]
    },
    {
     "name": "stdout",
     "output_type": "stream",
     "text": [
      "\r>> Converting image 155/1101 shard 0"
     ]
    },
    {
     "name": "stdout",
     "output_type": "stream",
     "text": [
      "\r>> Converting image 156/1101 shard 0"
     ]
    },
    {
     "name": "stdout",
     "output_type": "stream",
     "text": [
      "\r>> Converting image 157/1101 shard 0"
     ]
    },
    {
     "name": "stdout",
     "output_type": "stream",
     "text": [
      "\r>> Converting image 158/1101 shard 0"
     ]
    },
    {
     "name": "stdout",
     "output_type": "stream",
     "text": [
      "\r>> Converting image 159/1101 shard 0"
     ]
    },
    {
     "name": "stdout",
     "output_type": "stream",
     "text": [
      "\r>> Converting image 160/1101 shard 0"
     ]
    },
    {
     "name": "stdout",
     "output_type": "stream",
     "text": [
      "\r>> Converting image 161/1101 shard 0"
     ]
    },
    {
     "name": "stdout",
     "output_type": "stream",
     "text": [
      "\r>> Converting image 162/1101 shard 0"
     ]
    },
    {
     "name": "stdout",
     "output_type": "stream",
     "text": [
      "\r>> Converting image 163/1101 shard 0"
     ]
    },
    {
     "name": "stdout",
     "output_type": "stream",
     "text": [
      "\r>> Converting image 164/1101 shard 0"
     ]
    },
    {
     "name": "stdout",
     "output_type": "stream",
     "text": [
      "\r>> Converting image 165/1101 shard 0"
     ]
    },
    {
     "name": "stdout",
     "output_type": "stream",
     "text": [
      "\r>> Converting image 166/1101 shard 0"
     ]
    },
    {
     "name": "stdout",
     "output_type": "stream",
     "text": [
      "\r>> Converting image 167/1101 shard 0"
     ]
    },
    {
     "name": "stdout",
     "output_type": "stream",
     "text": [
      "\r>> Converting image 168/1101 shard 0"
     ]
    },
    {
     "name": "stdout",
     "output_type": "stream",
     "text": [
      "\r>> Converting image 169/1101 shard 0"
     ]
    },
    {
     "name": "stdout",
     "output_type": "stream",
     "text": [
      "\r>> Converting image 170/1101 shard 0"
     ]
    },
    {
     "name": "stdout",
     "output_type": "stream",
     "text": [
      "\r>> Converting image 171/1101 shard 0"
     ]
    },
    {
     "name": "stdout",
     "output_type": "stream",
     "text": [
      "\r>> Converting image 172/1101 shard 0"
     ]
    },
    {
     "name": "stdout",
     "output_type": "stream",
     "text": [
      "\r>> Converting image 173/1101 shard 0"
     ]
    },
    {
     "name": "stdout",
     "output_type": "stream",
     "text": [
      "\r>> Converting image 174/1101 shard 0"
     ]
    },
    {
     "name": "stdout",
     "output_type": "stream",
     "text": [
      "\r>> Converting image 175/1101 shard 0"
     ]
    },
    {
     "name": "stdout",
     "output_type": "stream",
     "text": [
      "\r>> Converting image 176/1101 shard 0"
     ]
    },
    {
     "name": "stdout",
     "output_type": "stream",
     "text": [
      "\r>> Converting image 177/1101 shard 0"
     ]
    },
    {
     "name": "stdout",
     "output_type": "stream",
     "text": [
      "\r>> Converting image 178/1101 shard 0"
     ]
    },
    {
     "name": "stdout",
     "output_type": "stream",
     "text": [
      "\r>> Converting image 179/1101 shard 0"
     ]
    },
    {
     "name": "stdout",
     "output_type": "stream",
     "text": [
      "\r>> Converting image 180/1101 shard 0"
     ]
    },
    {
     "name": "stdout",
     "output_type": "stream",
     "text": [
      "\r>> Converting image 181/1101 shard 0"
     ]
    },
    {
     "name": "stdout",
     "output_type": "stream",
     "text": [
      "\r>> Converting image 182/1101 shard 0"
     ]
    },
    {
     "name": "stdout",
     "output_type": "stream",
     "text": [
      "\r>> Converting image 183/1101 shard 0"
     ]
    },
    {
     "name": "stdout",
     "output_type": "stream",
     "text": [
      "\r>> Converting image 184/1101 shard 0"
     ]
    },
    {
     "name": "stdout",
     "output_type": "stream",
     "text": [
      "\r>> Converting image 185/1101 shard 0"
     ]
    },
    {
     "name": "stdout",
     "output_type": "stream",
     "text": [
      "\r>> Converting image 186/1101 shard 0"
     ]
    },
    {
     "name": "stdout",
     "output_type": "stream",
     "text": [
      "\r>> Converting image 187/1101 shard 0"
     ]
    },
    {
     "name": "stdout",
     "output_type": "stream",
     "text": [
      "\r>> Converting image 188/1101 shard 0"
     ]
    },
    {
     "name": "stdout",
     "output_type": "stream",
     "text": [
      "\r>> Converting image 189/1101 shard 0"
     ]
    },
    {
     "name": "stdout",
     "output_type": "stream",
     "text": [
      "\r>> Converting image 190/1101 shard 0"
     ]
    },
    {
     "name": "stdout",
     "output_type": "stream",
     "text": [
      "\r>> Converting image 191/1101 shard 0"
     ]
    },
    {
     "name": "stdout",
     "output_type": "stream",
     "text": [
      "\r>> Converting image 192/1101 shard 0"
     ]
    },
    {
     "name": "stdout",
     "output_type": "stream",
     "text": [
      "\r>> Converting image 193/1101 shard 0"
     ]
    },
    {
     "name": "stdout",
     "output_type": "stream",
     "text": [
      "\r>> Converting image 194/1101 shard 0"
     ]
    },
    {
     "name": "stdout",
     "output_type": "stream",
     "text": [
      "\r>> Converting image 195/1101 shard 0"
     ]
    },
    {
     "name": "stdout",
     "output_type": "stream",
     "text": [
      "\r>> Converting image 196/1101 shard 0"
     ]
    },
    {
     "name": "stdout",
     "output_type": "stream",
     "text": [
      "\r>> Converting image 197/1101 shard 0"
     ]
    },
    {
     "name": "stdout",
     "output_type": "stream",
     "text": [
      "\r>> Converting image 198/1101 shard 0"
     ]
    },
    {
     "name": "stdout",
     "output_type": "stream",
     "text": [
      "\r>> Converting image 199/1101 shard 0"
     ]
    },
    {
     "name": "stdout",
     "output_type": "stream",
     "text": [
      "\r>> Converting image 200/1101 shard 0"
     ]
    },
    {
     "name": "stdout",
     "output_type": "stream",
     "text": [
      "\r>> Converting image 201/1101 shard 0"
     ]
    },
    {
     "name": "stdout",
     "output_type": "stream",
     "text": [
      "\r>> Converting image 202/1101 shard 0"
     ]
    },
    {
     "name": "stdout",
     "output_type": "stream",
     "text": [
      "\r>> Converting image 203/1101 shard 0"
     ]
    },
    {
     "name": "stdout",
     "output_type": "stream",
     "text": [
      "\r>> Converting image 204/1101 shard 0"
     ]
    },
    {
     "name": "stdout",
     "output_type": "stream",
     "text": [
      "\r>> Converting image 205/1101 shard 0"
     ]
    },
    {
     "name": "stdout",
     "output_type": "stream",
     "text": [
      "\r>> Converting image 206/1101 shard 0"
     ]
    },
    {
     "name": "stdout",
     "output_type": "stream",
     "text": [
      "\r>> Converting image 207/1101 shard 0"
     ]
    },
    {
     "name": "stdout",
     "output_type": "stream",
     "text": [
      "\r>> Converting image 208/1101 shard 0"
     ]
    },
    {
     "name": "stdout",
     "output_type": "stream",
     "text": [
      "\r>> Converting image 209/1101 shard 0"
     ]
    },
    {
     "name": "stdout",
     "output_type": "stream",
     "text": [
      "\r>> Converting image 210/1101 shard 0"
     ]
    },
    {
     "name": "stdout",
     "output_type": "stream",
     "text": [
      "\r>> Converting image 211/1101 shard 0"
     ]
    },
    {
     "name": "stdout",
     "output_type": "stream",
     "text": [
      "\r>> Converting image 212/1101 shard 0"
     ]
    },
    {
     "name": "stdout",
     "output_type": "stream",
     "text": [
      "\r>> Converting image 213/1101 shard 0"
     ]
    },
    {
     "name": "stdout",
     "output_type": "stream",
     "text": [
      "\r>> Converting image 214/1101 shard 0"
     ]
    },
    {
     "name": "stdout",
     "output_type": "stream",
     "text": [
      "\r>> Converting image 215/1101 shard 0"
     ]
    },
    {
     "name": "stdout",
     "output_type": "stream",
     "text": [
      "\r>> Converting image 216/1101 shard 0"
     ]
    },
    {
     "name": "stdout",
     "output_type": "stream",
     "text": [
      "\r>> Converting image 217/1101 shard 0"
     ]
    },
    {
     "name": "stdout",
     "output_type": "stream",
     "text": [
      "\r>> Converting image 218/1101 shard 0"
     ]
    },
    {
     "name": "stdout",
     "output_type": "stream",
     "text": [
      "\r>> Converting image 219/1101 shard 0"
     ]
    },
    {
     "name": "stdout",
     "output_type": "stream",
     "text": [
      "\r>> Converting image 220/1101 shard 0"
     ]
    },
    {
     "name": "stdout",
     "output_type": "stream",
     "text": [
      "\r>> Converting image 221/1101 shard 0"
     ]
    },
    {
     "name": "stdout",
     "output_type": "stream",
     "text": [
      "\r>> Converting image 222/1101 shard 0"
     ]
    },
    {
     "name": "stdout",
     "output_type": "stream",
     "text": [
      "\r>> Converting image 223/1101 shard 0"
     ]
    },
    {
     "name": "stdout",
     "output_type": "stream",
     "text": [
      "\r>> Converting image 224/1101 shard 0"
     ]
    },
    {
     "name": "stdout",
     "output_type": "stream",
     "text": [
      "\r>> Converting image 225/1101 shard 0"
     ]
    },
    {
     "name": "stdout",
     "output_type": "stream",
     "text": [
      "\r>> Converting image 226/1101 shard 0"
     ]
    },
    {
     "name": "stdout",
     "output_type": "stream",
     "text": [
      "\r>> Converting image 227/1101 shard 0"
     ]
    },
    {
     "name": "stdout",
     "output_type": "stream",
     "text": [
      "\r>> Converting image 228/1101 shard 0"
     ]
    },
    {
     "name": "stdout",
     "output_type": "stream",
     "text": [
      "\r>> Converting image 229/1101 shard 0"
     ]
    },
    {
     "name": "stdout",
     "output_type": "stream",
     "text": [
      "\r>> Converting image 230/1101 shard 0"
     ]
    },
    {
     "name": "stdout",
     "output_type": "stream",
     "text": [
      "\r>> Converting image 231/1101 shard 0"
     ]
    },
    {
     "name": "stdout",
     "output_type": "stream",
     "text": [
      "\r>> Converting image 232/1101 shard 0"
     ]
    },
    {
     "name": "stdout",
     "output_type": "stream",
     "text": [
      "\r>> Converting image 233/1101 shard 0"
     ]
    },
    {
     "name": "stdout",
     "output_type": "stream",
     "text": [
      "\r>> Converting image 234/1101 shard 0"
     ]
    },
    {
     "name": "stdout",
     "output_type": "stream",
     "text": [
      "\r>> Converting image 235/1101 shard 0"
     ]
    },
    {
     "name": "stdout",
     "output_type": "stream",
     "text": [
      "\r>> Converting image 236/1101 shard 0"
     ]
    },
    {
     "name": "stdout",
     "output_type": "stream",
     "text": [
      "\r>> Converting image 237/1101 shard 0"
     ]
    },
    {
     "name": "stdout",
     "output_type": "stream",
     "text": [
      "\r>> Converting image 238/1101 shard 0"
     ]
    },
    {
     "name": "stdout",
     "output_type": "stream",
     "text": [
      "\r>> Converting image 239/1101 shard 0"
     ]
    },
    {
     "name": "stdout",
     "output_type": "stream",
     "text": [
      "\r>> Converting image 240/1101 shard 0"
     ]
    },
    {
     "name": "stdout",
     "output_type": "stream",
     "text": [
      "\r>> Converting image 241/1101 shard 0"
     ]
    },
    {
     "name": "stdout",
     "output_type": "stream",
     "text": [
      "\r>> Converting image 242/1101 shard 0"
     ]
    },
    {
     "name": "stdout",
     "output_type": "stream",
     "text": [
      "\r>> Converting image 243/1101 shard 0"
     ]
    },
    {
     "name": "stdout",
     "output_type": "stream",
     "text": [
      "\r>> Converting image 244/1101 shard 0"
     ]
    },
    {
     "name": "stdout",
     "output_type": "stream",
     "text": [
      "\r>> Converting image 245/1101 shard 0"
     ]
    },
    {
     "name": "stdout",
     "output_type": "stream",
     "text": [
      "\r>> Converting image 246/1101 shard 0"
     ]
    },
    {
     "name": "stdout",
     "output_type": "stream",
     "text": [
      "\r>> Converting image 247/1101 shard 0"
     ]
    },
    {
     "name": "stdout",
     "output_type": "stream",
     "text": [
      "\r>> Converting image 248/1101 shard 0"
     ]
    },
    {
     "name": "stdout",
     "output_type": "stream",
     "text": [
      "\r>> Converting image 249/1101 shard 0"
     ]
    },
    {
     "name": "stdout",
     "output_type": "stream",
     "text": [
      "\r>> Converting image 250/1101 shard 0"
     ]
    },
    {
     "name": "stdout",
     "output_type": "stream",
     "text": [
      "\r>> Converting image 251/1101 shard 0"
     ]
    },
    {
     "name": "stdout",
     "output_type": "stream",
     "text": [
      "\r>> Converting image 252/1101 shard 0"
     ]
    },
    {
     "name": "stdout",
     "output_type": "stream",
     "text": [
      "\r>> Converting image 253/1101 shard 0"
     ]
    },
    {
     "name": "stdout",
     "output_type": "stream",
     "text": [
      "\r>> Converting image 254/1101 shard 0"
     ]
    },
    {
     "name": "stdout",
     "output_type": "stream",
     "text": [
      "\r>> Converting image 255/1101 shard 0"
     ]
    },
    {
     "name": "stdout",
     "output_type": "stream",
     "text": [
      "\r>> Converting image 256/1101 shard 0"
     ]
    },
    {
     "name": "stdout",
     "output_type": "stream",
     "text": [
      "\r>> Converting image 257/1101 shard 0"
     ]
    },
    {
     "name": "stdout",
     "output_type": "stream",
     "text": [
      "\r>> Converting image 258/1101 shard 0"
     ]
    },
    {
     "name": "stdout",
     "output_type": "stream",
     "text": [
      "\r>> Converting image 259/1101 shard 0"
     ]
    },
    {
     "name": "stdout",
     "output_type": "stream",
     "text": [
      "\r>> Converting image 260/1101 shard 0"
     ]
    },
    {
     "name": "stdout",
     "output_type": "stream",
     "text": [
      "\r>> Converting image 261/1101 shard 0"
     ]
    },
    {
     "name": "stdout",
     "output_type": "stream",
     "text": [
      "\r>> Converting image 262/1101 shard 0"
     ]
    },
    {
     "name": "stdout",
     "output_type": "stream",
     "text": [
      "\r>> Converting image 263/1101 shard 0"
     ]
    },
    {
     "name": "stdout",
     "output_type": "stream",
     "text": [
      "\r>> Converting image 264/1101 shard 0"
     ]
    },
    {
     "name": "stdout",
     "output_type": "stream",
     "text": [
      "\r>> Converting image 265/1101 shard 0"
     ]
    },
    {
     "name": "stdout",
     "output_type": "stream",
     "text": [
      "\r>> Converting image 266/1101 shard 0"
     ]
    },
    {
     "name": "stdout",
     "output_type": "stream",
     "text": [
      "\r>> Converting image 267/1101 shard 0"
     ]
    },
    {
     "name": "stdout",
     "output_type": "stream",
     "text": [
      "\r>> Converting image 268/1101 shard 0"
     ]
    },
    {
     "name": "stdout",
     "output_type": "stream",
     "text": [
      "\r>> Converting image 269/1101 shard 0"
     ]
    },
    {
     "name": "stdout",
     "output_type": "stream",
     "text": [
      "\r>> Converting image 270/1101 shard 0"
     ]
    },
    {
     "name": "stdout",
     "output_type": "stream",
     "text": [
      "\r>> Converting image 271/1101 shard 0"
     ]
    },
    {
     "name": "stdout",
     "output_type": "stream",
     "text": [
      "\r>> Converting image 272/1101 shard 0"
     ]
    },
    {
     "name": "stdout",
     "output_type": "stream",
     "text": [
      "\r>> Converting image 273/1101 shard 0"
     ]
    },
    {
     "name": "stdout",
     "output_type": "stream",
     "text": [
      "\r>> Converting image 274/1101 shard 0"
     ]
    },
    {
     "name": "stdout",
     "output_type": "stream",
     "text": [
      "\r>> Converting image 275/1101 shard 0"
     ]
    },
    {
     "name": "stdout",
     "output_type": "stream",
     "text": [
      "\r>> Converting image 276/1101 shard 0"
     ]
    },
    {
     "name": "stdout",
     "output_type": "stream",
     "text": [
      "\r>> Converting image 277/1101 shard 0"
     ]
    },
    {
     "name": "stdout",
     "output_type": "stream",
     "text": [
      "\r>> Converting image 278/1101 shard 0"
     ]
    },
    {
     "name": "stdout",
     "output_type": "stream",
     "text": [
      "\r>> Converting image 279/1101 shard 0"
     ]
    },
    {
     "name": "stdout",
     "output_type": "stream",
     "text": [
      "\r>> Converting image 280/1101 shard 0"
     ]
    },
    {
     "name": "stdout",
     "output_type": "stream",
     "text": [
      "\r>> Converting image 281/1101 shard 0"
     ]
    },
    {
     "name": "stdout",
     "output_type": "stream",
     "text": [
      "\r>> Converting image 282/1101 shard 0"
     ]
    },
    {
     "name": "stdout",
     "output_type": "stream",
     "text": [
      "\r>> Converting image 283/1101 shard 0"
     ]
    },
    {
     "name": "stdout",
     "output_type": "stream",
     "text": [
      "\r>> Converting image 284/1101 shard 0"
     ]
    },
    {
     "name": "stdout",
     "output_type": "stream",
     "text": [
      "\r>> Converting image 285/1101 shard 0"
     ]
    },
    {
     "name": "stdout",
     "output_type": "stream",
     "text": [
      "\r>> Converting image 286/1101 shard 0"
     ]
    },
    {
     "name": "stdout",
     "output_type": "stream",
     "text": [
      "\r>> Converting image 287/1101 shard 0"
     ]
    },
    {
     "name": "stdout",
     "output_type": "stream",
     "text": [
      "\r>> Converting image 288/1101 shard 0"
     ]
    },
    {
     "name": "stdout",
     "output_type": "stream",
     "text": [
      "\r>> Converting image 289/1101 shard 0"
     ]
    },
    {
     "name": "stdout",
     "output_type": "stream",
     "text": [
      "\r>> Converting image 290/1101 shard 0"
     ]
    },
    {
     "name": "stdout",
     "output_type": "stream",
     "text": [
      "\r>> Converting image 291/1101 shard 0"
     ]
    },
    {
     "name": "stdout",
     "output_type": "stream",
     "text": [
      "\r>> Converting image 292/1101 shard 0"
     ]
    },
    {
     "name": "stdout",
     "output_type": "stream",
     "text": [
      "\r>> Converting image 293/1101 shard 0"
     ]
    },
    {
     "name": "stdout",
     "output_type": "stream",
     "text": [
      "\r>> Converting image 294/1101 shard 0"
     ]
    },
    {
     "name": "stdout",
     "output_type": "stream",
     "text": [
      "\r>> Converting image 295/1101 shard 0"
     ]
    },
    {
     "name": "stdout",
     "output_type": "stream",
     "text": [
      "\r>> Converting image 296/1101 shard 0"
     ]
    },
    {
     "name": "stdout",
     "output_type": "stream",
     "text": [
      "\r>> Converting image 297/1101 shard 0"
     ]
    },
    {
     "name": "stdout",
     "output_type": "stream",
     "text": [
      "\r>> Converting image 298/1101 shard 0"
     ]
    },
    {
     "name": "stdout",
     "output_type": "stream",
     "text": [
      "\r>> Converting image 299/1101 shard 0"
     ]
    },
    {
     "name": "stdout",
     "output_type": "stream",
     "text": [
      "\r>> Converting image 300/1101 shard 0"
     ]
    },
    {
     "name": "stdout",
     "output_type": "stream",
     "text": [
      "\r>> Converting image 301/1101 shard 0"
     ]
    },
    {
     "name": "stdout",
     "output_type": "stream",
     "text": [
      "\r>> Converting image 302/1101 shard 0"
     ]
    },
    {
     "name": "stdout",
     "output_type": "stream",
     "text": [
      "\r>> Converting image 303/1101 shard 0"
     ]
    },
    {
     "name": "stdout",
     "output_type": "stream",
     "text": [
      "\r>> Converting image 304/1101 shard 0"
     ]
    },
    {
     "name": "stdout",
     "output_type": "stream",
     "text": [
      "\r>> Converting image 305/1101 shard 0"
     ]
    },
    {
     "name": "stdout",
     "output_type": "stream",
     "text": [
      "\r>> Converting image 306/1101 shard 0"
     ]
    },
    {
     "name": "stdout",
     "output_type": "stream",
     "text": [
      "\r>> Converting image 307/1101 shard 0"
     ]
    },
    {
     "name": "stdout",
     "output_type": "stream",
     "text": [
      "\r>> Converting image 308/1101 shard 0"
     ]
    },
    {
     "name": "stdout",
     "output_type": "stream",
     "text": [
      "\r>> Converting image 309/1101 shard 0"
     ]
    },
    {
     "name": "stdout",
     "output_type": "stream",
     "text": [
      "\r>> Converting image 310/1101 shard 0"
     ]
    },
    {
     "name": "stdout",
     "output_type": "stream",
     "text": [
      "\r>> Converting image 311/1101 shard 0"
     ]
    },
    {
     "name": "stdout",
     "output_type": "stream",
     "text": [
      "\r>> Converting image 312/1101 shard 0"
     ]
    },
    {
     "name": "stdout",
     "output_type": "stream",
     "text": [
      "\r>> Converting image 313/1101 shard 0"
     ]
    },
    {
     "name": "stdout",
     "output_type": "stream",
     "text": [
      "\r>> Converting image 314/1101 shard 0"
     ]
    },
    {
     "name": "stdout",
     "output_type": "stream",
     "text": [
      "\r>> Converting image 315/1101 shard 0"
     ]
    },
    {
     "name": "stdout",
     "output_type": "stream",
     "text": [
      "\r>> Converting image 316/1101 shard 0"
     ]
    },
    {
     "name": "stdout",
     "output_type": "stream",
     "text": [
      "\r>> Converting image 317/1101 shard 0"
     ]
    },
    {
     "name": "stdout",
     "output_type": "stream",
     "text": [
      "\r>> Converting image 318/1101 shard 0"
     ]
    },
    {
     "name": "stdout",
     "output_type": "stream",
     "text": [
      "\r>> Converting image 319/1101 shard 0"
     ]
    },
    {
     "name": "stdout",
     "output_type": "stream",
     "text": [
      "\r>> Converting image 320/1101 shard 0"
     ]
    },
    {
     "name": "stdout",
     "output_type": "stream",
     "text": [
      "\r>> Converting image 321/1101 shard 0"
     ]
    },
    {
     "name": "stdout",
     "output_type": "stream",
     "text": [
      "\r>> Converting image 322/1101 shard 0"
     ]
    },
    {
     "name": "stdout",
     "output_type": "stream",
     "text": [
      "\r>> Converting image 323/1101 shard 0"
     ]
    },
    {
     "name": "stdout",
     "output_type": "stream",
     "text": [
      "\r>> Converting image 324/1101 shard 0"
     ]
    },
    {
     "name": "stdout",
     "output_type": "stream",
     "text": [
      "\r>> Converting image 325/1101 shard 0"
     ]
    },
    {
     "name": "stdout",
     "output_type": "stream",
     "text": [
      "\r>> Converting image 326/1101 shard 0"
     ]
    },
    {
     "name": "stdout",
     "output_type": "stream",
     "text": [
      "\r>> Converting image 327/1101 shard 0"
     ]
    },
    {
     "name": "stdout",
     "output_type": "stream",
     "text": [
      "\r>> Converting image 328/1101 shard 0"
     ]
    },
    {
     "name": "stdout",
     "output_type": "stream",
     "text": [
      "\r>> Converting image 329/1101 shard 0"
     ]
    },
    {
     "name": "stdout",
     "output_type": "stream",
     "text": [
      "\r>> Converting image 330/1101 shard 0"
     ]
    },
    {
     "name": "stdout",
     "output_type": "stream",
     "text": [
      "\r>> Converting image 331/1101 shard 0"
     ]
    },
    {
     "name": "stdout",
     "output_type": "stream",
     "text": [
      "\r>> Converting image 332/1101 shard 0"
     ]
    },
    {
     "name": "stdout",
     "output_type": "stream",
     "text": [
      "\r>> Converting image 333/1101 shard 0"
     ]
    },
    {
     "name": "stdout",
     "output_type": "stream",
     "text": [
      "\r>> Converting image 334/1101 shard 0"
     ]
    },
    {
     "name": "stdout",
     "output_type": "stream",
     "text": [
      "\r>> Converting image 335/1101 shard 0"
     ]
    },
    {
     "name": "stdout",
     "output_type": "stream",
     "text": [
      "\r>> Converting image 336/1101 shard 0"
     ]
    },
    {
     "name": "stdout",
     "output_type": "stream",
     "text": [
      "\r>> Converting image 337/1101 shard 0"
     ]
    },
    {
     "name": "stdout",
     "output_type": "stream",
     "text": [
      "\r>> Converting image 338/1101 shard 0"
     ]
    },
    {
     "name": "stdout",
     "output_type": "stream",
     "text": [
      "\r>> Converting image 339/1101 shard 0"
     ]
    },
    {
     "name": "stdout",
     "output_type": "stream",
     "text": [
      "\r>> Converting image 340/1101 shard 0"
     ]
    },
    {
     "name": "stdout",
     "output_type": "stream",
     "text": [
      "\r>> Converting image 341/1101 shard 0"
     ]
    },
    {
     "name": "stdout",
     "output_type": "stream",
     "text": [
      "\r>> Converting image 342/1101 shard 0"
     ]
    },
    {
     "name": "stdout",
     "output_type": "stream",
     "text": [
      "\r>> Converting image 343/1101 shard 0"
     ]
    },
    {
     "name": "stdout",
     "output_type": "stream",
     "text": [
      "\r>> Converting image 344/1101 shard 0"
     ]
    },
    {
     "name": "stdout",
     "output_type": "stream",
     "text": [
      "\r>> Converting image 345/1101 shard 0"
     ]
    },
    {
     "name": "stdout",
     "output_type": "stream",
     "text": [
      "\r>> Converting image 346/1101 shard 0"
     ]
    },
    {
     "name": "stdout",
     "output_type": "stream",
     "text": [
      "\r>> Converting image 347/1101 shard 0"
     ]
    },
    {
     "name": "stdout",
     "output_type": "stream",
     "text": [
      "\r>> Converting image 348/1101 shard 0"
     ]
    },
    {
     "name": "stdout",
     "output_type": "stream",
     "text": [
      "\r>> Converting image 349/1101 shard 0"
     ]
    },
    {
     "name": "stdout",
     "output_type": "stream",
     "text": [
      "\r>> Converting image 350/1101 shard 0"
     ]
    },
    {
     "name": "stdout",
     "output_type": "stream",
     "text": [
      "\r>> Converting image 351/1101 shard 0"
     ]
    },
    {
     "name": "stdout",
     "output_type": "stream",
     "text": [
      "\r>> Converting image 352/1101 shard 0"
     ]
    },
    {
     "name": "stdout",
     "output_type": "stream",
     "text": [
      "\r>> Converting image 353/1101 shard 0"
     ]
    },
    {
     "name": "stdout",
     "output_type": "stream",
     "text": [
      "\r>> Converting image 354/1101 shard 0"
     ]
    },
    {
     "name": "stdout",
     "output_type": "stream",
     "text": [
      "\r>> Converting image 355/1101 shard 0"
     ]
    },
    {
     "name": "stdout",
     "output_type": "stream",
     "text": [
      "\r>> Converting image 356/1101 shard 0"
     ]
    },
    {
     "name": "stdout",
     "output_type": "stream",
     "text": [
      "\r>> Converting image 357/1101 shard 0"
     ]
    },
    {
     "name": "stdout",
     "output_type": "stream",
     "text": [
      "\r>> Converting image 358/1101 shard 0"
     ]
    },
    {
     "name": "stdout",
     "output_type": "stream",
     "text": [
      "\r>> Converting image 359/1101 shard 0"
     ]
    },
    {
     "name": "stdout",
     "output_type": "stream",
     "text": [
      "\r>> Converting image 360/1101 shard 0"
     ]
    },
    {
     "name": "stdout",
     "output_type": "stream",
     "text": [
      "\r>> Converting image 361/1101 shard 0"
     ]
    },
    {
     "name": "stdout",
     "output_type": "stream",
     "text": [
      "\r>> Converting image 362/1101 shard 0"
     ]
    },
    {
     "name": "stdout",
     "output_type": "stream",
     "text": [
      "\r>> Converting image 363/1101 shard 0"
     ]
    },
    {
     "name": "stdout",
     "output_type": "stream",
     "text": [
      "\r>> Converting image 364/1101 shard 0"
     ]
    },
    {
     "name": "stdout",
     "output_type": "stream",
     "text": [
      "\r>> Converting image 365/1101 shard 0"
     ]
    },
    {
     "name": "stdout",
     "output_type": "stream",
     "text": [
      "\r>> Converting image 366/1101 shard 0"
     ]
    },
    {
     "name": "stdout",
     "output_type": "stream",
     "text": [
      "\r>> Converting image 367/1101 shard 0"
     ]
    },
    {
     "name": "stdout",
     "output_type": "stream",
     "text": [
      "\r>> Converting image 368/1101 shard 0"
     ]
    },
    {
     "name": "stdout",
     "output_type": "stream",
     "text": [
      "\r>> Converting image 369/1101 shard 0"
     ]
    },
    {
     "name": "stdout",
     "output_type": "stream",
     "text": [
      "\r>> Converting image 370/1101 shard 0"
     ]
    },
    {
     "name": "stdout",
     "output_type": "stream",
     "text": [
      "\r>> Converting image 371/1101 shard 0"
     ]
    },
    {
     "name": "stdout",
     "output_type": "stream",
     "text": [
      "\r>> Converting image 372/1101 shard 0"
     ]
    },
    {
     "name": "stdout",
     "output_type": "stream",
     "text": [
      "\r>> Converting image 373/1101 shard 0"
     ]
    },
    {
     "name": "stdout",
     "output_type": "stream",
     "text": [
      "\r>> Converting image 374/1101 shard 0"
     ]
    },
    {
     "name": "stdout",
     "output_type": "stream",
     "text": [
      "\r>> Converting image 375/1101 shard 0"
     ]
    },
    {
     "name": "stdout",
     "output_type": "stream",
     "text": [
      "\r>> Converting image 376/1101 shard 0"
     ]
    },
    {
     "name": "stdout",
     "output_type": "stream",
     "text": [
      "\r>> Converting image 377/1101 shard 0"
     ]
    },
    {
     "name": "stdout",
     "output_type": "stream",
     "text": [
      "\r>> Converting image 378/1101 shard 0"
     ]
    },
    {
     "name": "stdout",
     "output_type": "stream",
     "text": [
      "\r>> Converting image 379/1101 shard 0"
     ]
    },
    {
     "name": "stdout",
     "output_type": "stream",
     "text": [
      "\r>> Converting image 380/1101 shard 0"
     ]
    },
    {
     "name": "stdout",
     "output_type": "stream",
     "text": [
      "\r>> Converting image 381/1101 shard 0"
     ]
    },
    {
     "name": "stdout",
     "output_type": "stream",
     "text": [
      "\r>> Converting image 382/1101 shard 0"
     ]
    },
    {
     "name": "stdout",
     "output_type": "stream",
     "text": [
      "\r>> Converting image 383/1101 shard 0"
     ]
    },
    {
     "name": "stdout",
     "output_type": "stream",
     "text": [
      "\r>> Converting image 384/1101 shard 0"
     ]
    },
    {
     "name": "stdout",
     "output_type": "stream",
     "text": [
      "\r>> Converting image 385/1101 shard 0"
     ]
    },
    {
     "name": "stdout",
     "output_type": "stream",
     "text": [
      "\r>> Converting image 386/1101 shard 0"
     ]
    },
    {
     "name": "stdout",
     "output_type": "stream",
     "text": [
      "\r>> Converting image 387/1101 shard 0"
     ]
    },
    {
     "name": "stdout",
     "output_type": "stream",
     "text": [
      "\r>> Converting image 388/1101 shard 0"
     ]
    },
    {
     "name": "stdout",
     "output_type": "stream",
     "text": [
      "\r>> Converting image 389/1101 shard 0"
     ]
    },
    {
     "name": "stdout",
     "output_type": "stream",
     "text": [
      "\r>> Converting image 390/1101 shard 0"
     ]
    },
    {
     "name": "stdout",
     "output_type": "stream",
     "text": [
      "\r>> Converting image 391/1101 shard 0"
     ]
    },
    {
     "name": "stdout",
     "output_type": "stream",
     "text": [
      "\r>> Converting image 392/1101 shard 0"
     ]
    },
    {
     "name": "stdout",
     "output_type": "stream",
     "text": [
      "\r>> Converting image 393/1101 shard 0"
     ]
    },
    {
     "name": "stdout",
     "output_type": "stream",
     "text": [
      "\r>> Converting image 394/1101 shard 0"
     ]
    },
    {
     "name": "stdout",
     "output_type": "stream",
     "text": [
      "\r>> Converting image 395/1101 shard 0"
     ]
    },
    {
     "name": "stdout",
     "output_type": "stream",
     "text": [
      "\r>> Converting image 396/1101 shard 0"
     ]
    },
    {
     "name": "stdout",
     "output_type": "stream",
     "text": [
      "\r>> Converting image 397/1101 shard 0"
     ]
    },
    {
     "name": "stdout",
     "output_type": "stream",
     "text": [
      "\r>> Converting image 398/1101 shard 0"
     ]
    },
    {
     "name": "stdout",
     "output_type": "stream",
     "text": [
      "\r>> Converting image 399/1101 shard 0"
     ]
    },
    {
     "name": "stdout",
     "output_type": "stream",
     "text": [
      "\r>> Converting image 400/1101 shard 0"
     ]
    },
    {
     "name": "stdout",
     "output_type": "stream",
     "text": [
      "\r>> Converting image 401/1101 shard 0"
     ]
    },
    {
     "name": "stdout",
     "output_type": "stream",
     "text": [
      "\r>> Converting image 402/1101 shard 0"
     ]
    },
    {
     "name": "stdout",
     "output_type": "stream",
     "text": [
      "\r>> Converting image 403/1101 shard 0"
     ]
    },
    {
     "name": "stdout",
     "output_type": "stream",
     "text": [
      "\r>> Converting image 404/1101 shard 0"
     ]
    },
    {
     "name": "stdout",
     "output_type": "stream",
     "text": [
      "\r>> Converting image 405/1101 shard 0"
     ]
    },
    {
     "name": "stdout",
     "output_type": "stream",
     "text": [
      "\r>> Converting image 406/1101 shard 0"
     ]
    },
    {
     "name": "stdout",
     "output_type": "stream",
     "text": [
      "\r>> Converting image 407/1101 shard 0"
     ]
    },
    {
     "name": "stdout",
     "output_type": "stream",
     "text": [
      "\r>> Converting image 408/1101 shard 0"
     ]
    },
    {
     "name": "stdout",
     "output_type": "stream",
     "text": [
      "\r>> Converting image 409/1101 shard 0"
     ]
    },
    {
     "name": "stdout",
     "output_type": "stream",
     "text": [
      "\r>> Converting image 410/1101 shard 0"
     ]
    },
    {
     "name": "stdout",
     "output_type": "stream",
     "text": [
      "\r>> Converting image 411/1101 shard 0"
     ]
    },
    {
     "name": "stdout",
     "output_type": "stream",
     "text": [
      "\r>> Converting image 412/1101 shard 0"
     ]
    },
    {
     "name": "stdout",
     "output_type": "stream",
     "text": [
      "\r>> Converting image 413/1101 shard 0"
     ]
    },
    {
     "name": "stdout",
     "output_type": "stream",
     "text": [
      "\r>> Converting image 414/1101 shard 0"
     ]
    },
    {
     "name": "stdout",
     "output_type": "stream",
     "text": [
      "\r>> Converting image 415/1101 shard 0"
     ]
    },
    {
     "name": "stdout",
     "output_type": "stream",
     "text": [
      "\r>> Converting image 416/1101 shard 0"
     ]
    },
    {
     "name": "stdout",
     "output_type": "stream",
     "text": [
      "\r>> Converting image 417/1101 shard 0"
     ]
    },
    {
     "name": "stdout",
     "output_type": "stream",
     "text": [
      "\r>> Converting image 418/1101 shard 0"
     ]
    },
    {
     "name": "stdout",
     "output_type": "stream",
     "text": [
      "\r>> Converting image 419/1101 shard 0"
     ]
    },
    {
     "name": "stdout",
     "output_type": "stream",
     "text": [
      "\r>> Converting image 420/1101 shard 0"
     ]
    },
    {
     "name": "stdout",
     "output_type": "stream",
     "text": [
      "\r>> Converting image 421/1101 shard 0"
     ]
    },
    {
     "name": "stdout",
     "output_type": "stream",
     "text": [
      "\r>> Converting image 422/1101 shard 0"
     ]
    },
    {
     "name": "stdout",
     "output_type": "stream",
     "text": [
      "\r>> Converting image 423/1101 shard 0"
     ]
    },
    {
     "name": "stdout",
     "output_type": "stream",
     "text": [
      "\r>> Converting image 424/1101 shard 0"
     ]
    },
    {
     "name": "stdout",
     "output_type": "stream",
     "text": [
      "\r>> Converting image 425/1101 shard 0"
     ]
    },
    {
     "name": "stdout",
     "output_type": "stream",
     "text": [
      "\r>> Converting image 426/1101 shard 0"
     ]
    },
    {
     "name": "stdout",
     "output_type": "stream",
     "text": [
      "\r>> Converting image 427/1101 shard 0"
     ]
    },
    {
     "name": "stdout",
     "output_type": "stream",
     "text": [
      "\r>> Converting image 428/1101 shard 0"
     ]
    },
    {
     "name": "stdout",
     "output_type": "stream",
     "text": [
      "\r>> Converting image 429/1101 shard 0"
     ]
    },
    {
     "name": "stdout",
     "output_type": "stream",
     "text": [
      "\r>> Converting image 430/1101 shard 0"
     ]
    },
    {
     "name": "stdout",
     "output_type": "stream",
     "text": [
      "\r>> Converting image 431/1101 shard 0"
     ]
    },
    {
     "name": "stdout",
     "output_type": "stream",
     "text": [
      "\r>> Converting image 432/1101 shard 0"
     ]
    },
    {
     "name": "stdout",
     "output_type": "stream",
     "text": [
      "\r>> Converting image 433/1101 shard 0"
     ]
    },
    {
     "name": "stdout",
     "output_type": "stream",
     "text": [
      "\r>> Converting image 434/1101 shard 0"
     ]
    },
    {
     "name": "stdout",
     "output_type": "stream",
     "text": [
      "\r>> Converting image 435/1101 shard 0"
     ]
    },
    {
     "name": "stdout",
     "output_type": "stream",
     "text": [
      "\r>> Converting image 436/1101 shard 0"
     ]
    },
    {
     "name": "stdout",
     "output_type": "stream",
     "text": [
      "\r>> Converting image 437/1101 shard 0"
     ]
    },
    {
     "name": "stdout",
     "output_type": "stream",
     "text": [
      "\r>> Converting image 438/1101 shard 0"
     ]
    },
    {
     "name": "stdout",
     "output_type": "stream",
     "text": [
      "\r>> Converting image 439/1101 shard 0"
     ]
    },
    {
     "name": "stdout",
     "output_type": "stream",
     "text": [
      "\r>> Converting image 440/1101 shard 0"
     ]
    },
    {
     "name": "stdout",
     "output_type": "stream",
     "text": [
      "\r>> Converting image 441/1101 shard 0"
     ]
    },
    {
     "name": "stdout",
     "output_type": "stream",
     "text": [
      "\r>> Converting image 442/1101 shard 0"
     ]
    },
    {
     "name": "stdout",
     "output_type": "stream",
     "text": [
      "\r>> Converting image 443/1101 shard 0"
     ]
    },
    {
     "name": "stdout",
     "output_type": "stream",
     "text": [
      "\r>> Converting image 444/1101 shard 0"
     ]
    },
    {
     "name": "stdout",
     "output_type": "stream",
     "text": [
      "\r>> Converting image 445/1101 shard 0"
     ]
    },
    {
     "name": "stdout",
     "output_type": "stream",
     "text": [
      "\r>> Converting image 446/1101 shard 0"
     ]
    },
    {
     "name": "stdout",
     "output_type": "stream",
     "text": [
      "\r>> Converting image 447/1101 shard 0"
     ]
    },
    {
     "name": "stdout",
     "output_type": "stream",
     "text": [
      "\r>> Converting image 448/1101 shard 0"
     ]
    },
    {
     "name": "stdout",
     "output_type": "stream",
     "text": [
      "\r>> Converting image 449/1101 shard 0"
     ]
    },
    {
     "name": "stdout",
     "output_type": "stream",
     "text": [
      "\r>> Converting image 450/1101 shard 0"
     ]
    },
    {
     "name": "stdout",
     "output_type": "stream",
     "text": [
      "\r>> Converting image 451/1101 shard 0"
     ]
    },
    {
     "name": "stdout",
     "output_type": "stream",
     "text": [
      "\r>> Converting image 452/1101 shard 0"
     ]
    },
    {
     "name": "stdout",
     "output_type": "stream",
     "text": [
      "\r>> Converting image 453/1101 shard 0"
     ]
    },
    {
     "name": "stdout",
     "output_type": "stream",
     "text": [
      "\r>> Converting image 454/1101 shard 0"
     ]
    },
    {
     "name": "stdout",
     "output_type": "stream",
     "text": [
      "\r>> Converting image 455/1101 shard 0"
     ]
    },
    {
     "name": "stdout",
     "output_type": "stream",
     "text": [
      "\r>> Converting image 456/1101 shard 0"
     ]
    },
    {
     "name": "stdout",
     "output_type": "stream",
     "text": [
      "\r>> Converting image 457/1101 shard 0"
     ]
    },
    {
     "name": "stdout",
     "output_type": "stream",
     "text": [
      "\r>> Converting image 458/1101 shard 0"
     ]
    },
    {
     "name": "stdout",
     "output_type": "stream",
     "text": [
      "\r>> Converting image 459/1101 shard 0"
     ]
    },
    {
     "name": "stdout",
     "output_type": "stream",
     "text": [
      "\r>> Converting image 460/1101 shard 0"
     ]
    },
    {
     "name": "stdout",
     "output_type": "stream",
     "text": [
      "\r>> Converting image 461/1101 shard 0"
     ]
    },
    {
     "name": "stdout",
     "output_type": "stream",
     "text": [
      "\r>> Converting image 462/1101 shard 0"
     ]
    },
    {
     "name": "stdout",
     "output_type": "stream",
     "text": [
      "\r>> Converting image 463/1101 shard 0"
     ]
    },
    {
     "name": "stdout",
     "output_type": "stream",
     "text": [
      "\r>> Converting image 464/1101 shard 0"
     ]
    },
    {
     "name": "stdout",
     "output_type": "stream",
     "text": [
      "\r>> Converting image 465/1101 shard 0"
     ]
    },
    {
     "name": "stdout",
     "output_type": "stream",
     "text": [
      "\r>> Converting image 466/1101 shard 0"
     ]
    },
    {
     "name": "stdout",
     "output_type": "stream",
     "text": [
      "\r>> Converting image 467/1101 shard 0"
     ]
    },
    {
     "name": "stdout",
     "output_type": "stream",
     "text": [
      "\r>> Converting image 468/1101 shard 0"
     ]
    },
    {
     "name": "stdout",
     "output_type": "stream",
     "text": [
      "\r>> Converting image 469/1101 shard 0"
     ]
    },
    {
     "name": "stdout",
     "output_type": "stream",
     "text": [
      "\r>> Converting image 470/1101 shard 0"
     ]
    },
    {
     "name": "stdout",
     "output_type": "stream",
     "text": [
      "\r>> Converting image 471/1101 shard 0"
     ]
    },
    {
     "name": "stdout",
     "output_type": "stream",
     "text": [
      "\r>> Converting image 472/1101 shard 0"
     ]
    },
    {
     "name": "stdout",
     "output_type": "stream",
     "text": [
      "\r>> Converting image 473/1101 shard 0"
     ]
    },
    {
     "name": "stdout",
     "output_type": "stream",
     "text": [
      "\r>> Converting image 474/1101 shard 0"
     ]
    },
    {
     "name": "stdout",
     "output_type": "stream",
     "text": [
      "\r>> Converting image 475/1101 shard 0"
     ]
    },
    {
     "name": "stdout",
     "output_type": "stream",
     "text": [
      "\r>> Converting image 476/1101 shard 0"
     ]
    },
    {
     "name": "stdout",
     "output_type": "stream",
     "text": [
      "\r>> Converting image 477/1101 shard 0"
     ]
    },
    {
     "name": "stdout",
     "output_type": "stream",
     "text": [
      "\r>> Converting image 478/1101 shard 0"
     ]
    },
    {
     "name": "stdout",
     "output_type": "stream",
     "text": [
      "\r>> Converting image 479/1101 shard 0"
     ]
    },
    {
     "name": "stdout",
     "output_type": "stream",
     "text": [
      "\r>> Converting image 480/1101 shard 0"
     ]
    },
    {
     "name": "stdout",
     "output_type": "stream",
     "text": [
      "\r>> Converting image 481/1101 shard 0"
     ]
    },
    {
     "name": "stdout",
     "output_type": "stream",
     "text": [
      "\r>> Converting image 482/1101 shard 0"
     ]
    },
    {
     "name": "stdout",
     "output_type": "stream",
     "text": [
      "\r>> Converting image 483/1101 shard 0"
     ]
    },
    {
     "name": "stdout",
     "output_type": "stream",
     "text": [
      "\r>> Converting image 484/1101 shard 0"
     ]
    },
    {
     "name": "stdout",
     "output_type": "stream",
     "text": [
      "\r>> Converting image 485/1101 shard 0"
     ]
    },
    {
     "name": "stdout",
     "output_type": "stream",
     "text": [
      "\r>> Converting image 486/1101 shard 0"
     ]
    },
    {
     "name": "stdout",
     "output_type": "stream",
     "text": [
      "\r>> Converting image 487/1101 shard 0"
     ]
    },
    {
     "name": "stdout",
     "output_type": "stream",
     "text": [
      "\r>> Converting image 488/1101 shard 0"
     ]
    },
    {
     "name": "stdout",
     "output_type": "stream",
     "text": [
      "\r>> Converting image 489/1101 shard 0"
     ]
    },
    {
     "name": "stdout",
     "output_type": "stream",
     "text": [
      "\r>> Converting image 490/1101 shard 0"
     ]
    },
    {
     "name": "stdout",
     "output_type": "stream",
     "text": [
      "\r>> Converting image 491/1101 shard 0"
     ]
    },
    {
     "name": "stdout",
     "output_type": "stream",
     "text": [
      "\r>> Converting image 492/1101 shard 0"
     ]
    },
    {
     "name": "stdout",
     "output_type": "stream",
     "text": [
      "\r>> Converting image 493/1101 shard 0"
     ]
    },
    {
     "name": "stdout",
     "output_type": "stream",
     "text": [
      "\r>> Converting image 494/1101 shard 0"
     ]
    },
    {
     "name": "stdout",
     "output_type": "stream",
     "text": [
      "\r>> Converting image 495/1101 shard 0"
     ]
    },
    {
     "name": "stdout",
     "output_type": "stream",
     "text": [
      "\r>> Converting image 496/1101 shard 0"
     ]
    },
    {
     "name": "stdout",
     "output_type": "stream",
     "text": [
      "\r>> Converting image 497/1101 shard 0"
     ]
    },
    {
     "name": "stdout",
     "output_type": "stream",
     "text": [
      "\r>> Converting image 498/1101 shard 0"
     ]
    },
    {
     "name": "stdout",
     "output_type": "stream",
     "text": [
      "\r>> Converting image 499/1101 shard 0"
     ]
    },
    {
     "name": "stdout",
     "output_type": "stream",
     "text": [
      "\r>> Converting image 500/1101 shard 0"
     ]
    },
    {
     "name": "stdout",
     "output_type": "stream",
     "text": [
      "\r>> Converting image 501/1101 shard 0"
     ]
    },
    {
     "name": "stdout",
     "output_type": "stream",
     "text": [
      "\r>> Converting image 502/1101 shard 0"
     ]
    },
    {
     "name": "stdout",
     "output_type": "stream",
     "text": [
      "\r>> Converting image 503/1101 shard 0"
     ]
    },
    {
     "name": "stdout",
     "output_type": "stream",
     "text": [
      "\r>> Converting image 504/1101 shard 0"
     ]
    },
    {
     "name": "stdout",
     "output_type": "stream",
     "text": [
      "\r>> Converting image 505/1101 shard 0"
     ]
    },
    {
     "name": "stdout",
     "output_type": "stream",
     "text": [
      "\r>> Converting image 506/1101 shard 0"
     ]
    },
    {
     "name": "stdout",
     "output_type": "stream",
     "text": [
      "\r>> Converting image 507/1101 shard 0"
     ]
    },
    {
     "name": "stdout",
     "output_type": "stream",
     "text": [
      "\r>> Converting image 508/1101 shard 0"
     ]
    },
    {
     "name": "stdout",
     "output_type": "stream",
     "text": [
      "\r>> Converting image 509/1101 shard 0"
     ]
    },
    {
     "name": "stdout",
     "output_type": "stream",
     "text": [
      "\r>> Converting image 510/1101 shard 0"
     ]
    },
    {
     "name": "stdout",
     "output_type": "stream",
     "text": [
      "\r>> Converting image 511/1101 shard 0"
     ]
    },
    {
     "name": "stdout",
     "output_type": "stream",
     "text": [
      "\r>> Converting image 512/1101 shard 0"
     ]
    },
    {
     "name": "stdout",
     "output_type": "stream",
     "text": [
      "\r>> Converting image 513/1101 shard 0"
     ]
    },
    {
     "name": "stdout",
     "output_type": "stream",
     "text": [
      "\r>> Converting image 514/1101 shard 0"
     ]
    },
    {
     "name": "stdout",
     "output_type": "stream",
     "text": [
      "\r>> Converting image 515/1101 shard 0"
     ]
    },
    {
     "name": "stdout",
     "output_type": "stream",
     "text": [
      "\r>> Converting image 516/1101 shard 0"
     ]
    },
    {
     "name": "stdout",
     "output_type": "stream",
     "text": [
      "\r>> Converting image 517/1101 shard 0"
     ]
    },
    {
     "name": "stdout",
     "output_type": "stream",
     "text": [
      "\r>> Converting image 518/1101 shard 0"
     ]
    },
    {
     "name": "stdout",
     "output_type": "stream",
     "text": [
      "\r>> Converting image 519/1101 shard 0"
     ]
    },
    {
     "name": "stdout",
     "output_type": "stream",
     "text": [
      "\r>> Converting image 520/1101 shard 0"
     ]
    },
    {
     "name": "stdout",
     "output_type": "stream",
     "text": [
      "\r>> Converting image 521/1101 shard 0"
     ]
    },
    {
     "name": "stdout",
     "output_type": "stream",
     "text": [
      "\r>> Converting image 522/1101 shard 0"
     ]
    },
    {
     "name": "stdout",
     "output_type": "stream",
     "text": [
      "\r>> Converting image 523/1101 shard 0"
     ]
    },
    {
     "name": "stdout",
     "output_type": "stream",
     "text": [
      "\r>> Converting image 524/1101 shard 0"
     ]
    },
    {
     "name": "stdout",
     "output_type": "stream",
     "text": [
      "\r>> Converting image 525/1101 shard 0"
     ]
    },
    {
     "name": "stdout",
     "output_type": "stream",
     "text": [
      "\r>> Converting image 526/1101 shard 0"
     ]
    },
    {
     "name": "stdout",
     "output_type": "stream",
     "text": [
      "\r>> Converting image 527/1101 shard 0"
     ]
    },
    {
     "name": "stdout",
     "output_type": "stream",
     "text": [
      "\r>> Converting image 528/1101 shard 0"
     ]
    },
    {
     "name": "stdout",
     "output_type": "stream",
     "text": [
      "\r>> Converting image 529/1101 shard 0"
     ]
    },
    {
     "name": "stdout",
     "output_type": "stream",
     "text": [
      "\r>> Converting image 530/1101 shard 0"
     ]
    },
    {
     "name": "stdout",
     "output_type": "stream",
     "text": [
      "\r>> Converting image 531/1101 shard 0"
     ]
    },
    {
     "name": "stdout",
     "output_type": "stream",
     "text": [
      "\r>> Converting image 532/1101 shard 0"
     ]
    },
    {
     "name": "stdout",
     "output_type": "stream",
     "text": [
      "\r>> Converting image 533/1101 shard 0"
     ]
    },
    {
     "name": "stdout",
     "output_type": "stream",
     "text": [
      "\r>> Converting image 534/1101 shard 0"
     ]
    },
    {
     "name": "stdout",
     "output_type": "stream",
     "text": [
      "\r>> Converting image 535/1101 shard 0"
     ]
    },
    {
     "name": "stdout",
     "output_type": "stream",
     "text": [
      "\r>> Converting image 536/1101 shard 0"
     ]
    },
    {
     "name": "stdout",
     "output_type": "stream",
     "text": [
      "\r>> Converting image 537/1101 shard 0"
     ]
    },
    {
     "name": "stdout",
     "output_type": "stream",
     "text": [
      "\r>> Converting image 538/1101 shard 0"
     ]
    },
    {
     "name": "stdout",
     "output_type": "stream",
     "text": [
      "\r>> Converting image 539/1101 shard 0"
     ]
    },
    {
     "name": "stdout",
     "output_type": "stream",
     "text": [
      "\r>> Converting image 540/1101 shard 0"
     ]
    },
    {
     "name": "stdout",
     "output_type": "stream",
     "text": [
      "\r>> Converting image 541/1101 shard 0"
     ]
    },
    {
     "name": "stdout",
     "output_type": "stream",
     "text": [
      "\r>> Converting image 542/1101 shard 0"
     ]
    },
    {
     "name": "stdout",
     "output_type": "stream",
     "text": [
      "\r>> Converting image 543/1101 shard 0"
     ]
    },
    {
     "name": "stdout",
     "output_type": "stream",
     "text": [
      "\r>> Converting image 544/1101 shard 0"
     ]
    },
    {
     "name": "stdout",
     "output_type": "stream",
     "text": [
      "\r>> Converting image 545/1101 shard 0"
     ]
    },
    {
     "name": "stdout",
     "output_type": "stream",
     "text": [
      "\r>> Converting image 546/1101 shard 0"
     ]
    },
    {
     "name": "stdout",
     "output_type": "stream",
     "text": [
      "\r>> Converting image 547/1101 shard 0"
     ]
    },
    {
     "name": "stdout",
     "output_type": "stream",
     "text": [
      "\r>> Converting image 548/1101 shard 0"
     ]
    },
    {
     "name": "stdout",
     "output_type": "stream",
     "text": [
      "\r>> Converting image 549/1101 shard 0"
     ]
    },
    {
     "name": "stdout",
     "output_type": "stream",
     "text": [
      "\r>> Converting image 550/1101 shard 0"
     ]
    },
    {
     "name": "stdout",
     "output_type": "stream",
     "text": [
      "\r>> Converting image 551/1101 shard 0"
     ]
    },
    {
     "name": "stdout",
     "output_type": "stream",
     "text": [
      "\r>> Converting image 552/1101 shard 1"
     ]
    },
    {
     "name": "stdout",
     "output_type": "stream",
     "text": [
      "\r>> Converting image 553/1101 shard 1"
     ]
    },
    {
     "name": "stdout",
     "output_type": "stream",
     "text": [
      "\r>> Converting image 554/1101 shard 1"
     ]
    },
    {
     "name": "stdout",
     "output_type": "stream",
     "text": [
      "\r>> Converting image 555/1101 shard 1"
     ]
    },
    {
     "name": "stdout",
     "output_type": "stream",
     "text": [
      "\r>> Converting image 556/1101 shard 1"
     ]
    },
    {
     "name": "stdout",
     "output_type": "stream",
     "text": [
      "\r>> Converting image 557/1101 shard 1"
     ]
    },
    {
     "name": "stdout",
     "output_type": "stream",
     "text": [
      "\r>> Converting image 558/1101 shard 1"
     ]
    },
    {
     "name": "stdout",
     "output_type": "stream",
     "text": [
      "\r>> Converting image 559/1101 shard 1"
     ]
    },
    {
     "name": "stdout",
     "output_type": "stream",
     "text": [
      "\r>> Converting image 560/1101 shard 1"
     ]
    },
    {
     "name": "stdout",
     "output_type": "stream",
     "text": [
      "\r>> Converting image 561/1101 shard 1"
     ]
    },
    {
     "name": "stdout",
     "output_type": "stream",
     "text": [
      "\r>> Converting image 562/1101 shard 1"
     ]
    },
    {
     "name": "stdout",
     "output_type": "stream",
     "text": [
      "\r>> Converting image 563/1101 shard 1"
     ]
    },
    {
     "name": "stdout",
     "output_type": "stream",
     "text": [
      "\r>> Converting image 564/1101 shard 1"
     ]
    },
    {
     "name": "stdout",
     "output_type": "stream",
     "text": [
      "\r>> Converting image 565/1101 shard 1"
     ]
    },
    {
     "name": "stdout",
     "output_type": "stream",
     "text": [
      "\r>> Converting image 566/1101 shard 1"
     ]
    },
    {
     "name": "stdout",
     "output_type": "stream",
     "text": [
      "\r>> Converting image 567/1101 shard 1"
     ]
    },
    {
     "name": "stdout",
     "output_type": "stream",
     "text": [
      "\r>> Converting image 568/1101 shard 1"
     ]
    },
    {
     "name": "stdout",
     "output_type": "stream",
     "text": [
      "\r>> Converting image 569/1101 shard 1"
     ]
    },
    {
     "name": "stdout",
     "output_type": "stream",
     "text": [
      "\r>> Converting image 570/1101 shard 1"
     ]
    },
    {
     "name": "stdout",
     "output_type": "stream",
     "text": [
      "\r>> Converting image 571/1101 shard 1"
     ]
    },
    {
     "name": "stdout",
     "output_type": "stream",
     "text": [
      "\r>> Converting image 572/1101 shard 1"
     ]
    },
    {
     "name": "stdout",
     "output_type": "stream",
     "text": [
      "\r>> Converting image 573/1101 shard 1"
     ]
    },
    {
     "name": "stdout",
     "output_type": "stream",
     "text": [
      "\r>> Converting image 574/1101 shard 1"
     ]
    },
    {
     "name": "stdout",
     "output_type": "stream",
     "text": [
      "\r>> Converting image 575/1101 shard 1"
     ]
    },
    {
     "name": "stdout",
     "output_type": "stream",
     "text": [
      "\r>> Converting image 576/1101 shard 1"
     ]
    },
    {
     "name": "stdout",
     "output_type": "stream",
     "text": [
      "\r>> Converting image 577/1101 shard 1"
     ]
    },
    {
     "name": "stdout",
     "output_type": "stream",
     "text": [
      "\r>> Converting image 578/1101 shard 1"
     ]
    },
    {
     "name": "stdout",
     "output_type": "stream",
     "text": [
      "\r>> Converting image 579/1101 shard 1"
     ]
    },
    {
     "name": "stdout",
     "output_type": "stream",
     "text": [
      "\r>> Converting image 580/1101 shard 1"
     ]
    },
    {
     "name": "stdout",
     "output_type": "stream",
     "text": [
      "\r>> Converting image 581/1101 shard 1"
     ]
    },
    {
     "name": "stdout",
     "output_type": "stream",
     "text": [
      "\r>> Converting image 582/1101 shard 1"
     ]
    },
    {
     "name": "stdout",
     "output_type": "stream",
     "text": [
      "\r>> Converting image 583/1101 shard 1"
     ]
    },
    {
     "name": "stdout",
     "output_type": "stream",
     "text": [
      "\r>> Converting image 584/1101 shard 1"
     ]
    },
    {
     "name": "stdout",
     "output_type": "stream",
     "text": [
      "\r>> Converting image 585/1101 shard 1"
     ]
    },
    {
     "name": "stdout",
     "output_type": "stream",
     "text": [
      "\r>> Converting image 586/1101 shard 1"
     ]
    },
    {
     "name": "stdout",
     "output_type": "stream",
     "text": [
      "\r>> Converting image 587/1101 shard 1"
     ]
    },
    {
     "name": "stdout",
     "output_type": "stream",
     "text": [
      "\r>> Converting image 588/1101 shard 1"
     ]
    },
    {
     "name": "stdout",
     "output_type": "stream",
     "text": [
      "\r>> Converting image 589/1101 shard 1"
     ]
    },
    {
     "name": "stdout",
     "output_type": "stream",
     "text": [
      "\r>> Converting image 590/1101 shard 1"
     ]
    },
    {
     "name": "stdout",
     "output_type": "stream",
     "text": [
      "\r>> Converting image 591/1101 shard 1"
     ]
    },
    {
     "name": "stdout",
     "output_type": "stream",
     "text": [
      "\r>> Converting image 592/1101 shard 1"
     ]
    },
    {
     "name": "stdout",
     "output_type": "stream",
     "text": [
      "\r>> Converting image 593/1101 shard 1"
     ]
    },
    {
     "name": "stdout",
     "output_type": "stream",
     "text": [
      "\r>> Converting image 594/1101 shard 1"
     ]
    },
    {
     "name": "stdout",
     "output_type": "stream",
     "text": [
      "\r>> Converting image 595/1101 shard 1"
     ]
    },
    {
     "name": "stdout",
     "output_type": "stream",
     "text": [
      "\r>> Converting image 596/1101 shard 1"
     ]
    },
    {
     "name": "stdout",
     "output_type": "stream",
     "text": [
      "\r>> Converting image 597/1101 shard 1"
     ]
    },
    {
     "name": "stdout",
     "output_type": "stream",
     "text": [
      "\r>> Converting image 598/1101 shard 1"
     ]
    },
    {
     "name": "stdout",
     "output_type": "stream",
     "text": [
      "\r>> Converting image 599/1101 shard 1"
     ]
    },
    {
     "name": "stdout",
     "output_type": "stream",
     "text": [
      "\r>> Converting image 600/1101 shard 1"
     ]
    },
    {
     "name": "stdout",
     "output_type": "stream",
     "text": [
      "\r>> Converting image 601/1101 shard 1"
     ]
    },
    {
     "name": "stdout",
     "output_type": "stream",
     "text": [
      "\r>> Converting image 602/1101 shard 1"
     ]
    },
    {
     "name": "stdout",
     "output_type": "stream",
     "text": [
      "\r>> Converting image 603/1101 shard 1"
     ]
    },
    {
     "name": "stdout",
     "output_type": "stream",
     "text": [
      "\r>> Converting image 604/1101 shard 1"
     ]
    },
    {
     "name": "stdout",
     "output_type": "stream",
     "text": [
      "\r>> Converting image 605/1101 shard 1"
     ]
    },
    {
     "name": "stdout",
     "output_type": "stream",
     "text": [
      "\r>> Converting image 606/1101 shard 1"
     ]
    },
    {
     "name": "stdout",
     "output_type": "stream",
     "text": [
      "\r>> Converting image 607/1101 shard 1"
     ]
    },
    {
     "name": "stdout",
     "output_type": "stream",
     "text": [
      "\r>> Converting image 608/1101 shard 1"
     ]
    },
    {
     "name": "stdout",
     "output_type": "stream",
     "text": [
      "\r>> Converting image 609/1101 shard 1"
     ]
    },
    {
     "name": "stdout",
     "output_type": "stream",
     "text": [
      "\r>> Converting image 610/1101 shard 1"
     ]
    },
    {
     "name": "stdout",
     "output_type": "stream",
     "text": [
      "\r>> Converting image 611/1101 shard 1"
     ]
    },
    {
     "name": "stdout",
     "output_type": "stream",
     "text": [
      "\r>> Converting image 612/1101 shard 1"
     ]
    },
    {
     "name": "stdout",
     "output_type": "stream",
     "text": [
      "\r>> Converting image 613/1101 shard 1"
     ]
    },
    {
     "name": "stdout",
     "output_type": "stream",
     "text": [
      "\r>> Converting image 614/1101 shard 1"
     ]
    },
    {
     "name": "stdout",
     "output_type": "stream",
     "text": [
      "\r>> Converting image 615/1101 shard 1"
     ]
    },
    {
     "name": "stdout",
     "output_type": "stream",
     "text": [
      "\r>> Converting image 616/1101 shard 1"
     ]
    },
    {
     "name": "stdout",
     "output_type": "stream",
     "text": [
      "\r>> Converting image 617/1101 shard 1"
     ]
    },
    {
     "name": "stdout",
     "output_type": "stream",
     "text": [
      "\r>> Converting image 618/1101 shard 1"
     ]
    },
    {
     "name": "stdout",
     "output_type": "stream",
     "text": [
      "\r>> Converting image 619/1101 shard 1"
     ]
    },
    {
     "name": "stdout",
     "output_type": "stream",
     "text": [
      "\r>> Converting image 620/1101 shard 1"
     ]
    },
    {
     "name": "stdout",
     "output_type": "stream",
     "text": [
      "\r>> Converting image 621/1101 shard 1"
     ]
    },
    {
     "name": "stdout",
     "output_type": "stream",
     "text": [
      "\r>> Converting image 622/1101 shard 1"
     ]
    },
    {
     "name": "stdout",
     "output_type": "stream",
     "text": [
      "\r>> Converting image 623/1101 shard 1"
     ]
    },
    {
     "name": "stdout",
     "output_type": "stream",
     "text": [
      "\r>> Converting image 624/1101 shard 1"
     ]
    },
    {
     "name": "stdout",
     "output_type": "stream",
     "text": [
      "\r>> Converting image 625/1101 shard 1"
     ]
    },
    {
     "name": "stdout",
     "output_type": "stream",
     "text": [
      "\r>> Converting image 626/1101 shard 1"
     ]
    },
    {
     "name": "stdout",
     "output_type": "stream",
     "text": [
      "\r>> Converting image 627/1101 shard 1"
     ]
    },
    {
     "name": "stdout",
     "output_type": "stream",
     "text": [
      "\r>> Converting image 628/1101 shard 1"
     ]
    },
    {
     "name": "stdout",
     "output_type": "stream",
     "text": [
      "\r>> Converting image 629/1101 shard 1"
     ]
    },
    {
     "name": "stdout",
     "output_type": "stream",
     "text": [
      "\r>> Converting image 630/1101 shard 1"
     ]
    },
    {
     "name": "stdout",
     "output_type": "stream",
     "text": [
      "\r>> Converting image 631/1101 shard 1"
     ]
    },
    {
     "name": "stdout",
     "output_type": "stream",
     "text": [
      "\r>> Converting image 632/1101 shard 1"
     ]
    },
    {
     "name": "stdout",
     "output_type": "stream",
     "text": [
      "\r>> Converting image 633/1101 shard 1"
     ]
    },
    {
     "name": "stdout",
     "output_type": "stream",
     "text": [
      "\r>> Converting image 634/1101 shard 1"
     ]
    },
    {
     "name": "stdout",
     "output_type": "stream",
     "text": [
      "\r>> Converting image 635/1101 shard 1"
     ]
    },
    {
     "name": "stdout",
     "output_type": "stream",
     "text": [
      "\r>> Converting image 636/1101 shard 1"
     ]
    },
    {
     "name": "stdout",
     "output_type": "stream",
     "text": [
      "\r>> Converting image 637/1101 shard 1"
     ]
    },
    {
     "name": "stdout",
     "output_type": "stream",
     "text": [
      "\r>> Converting image 638/1101 shard 1"
     ]
    },
    {
     "name": "stdout",
     "output_type": "stream",
     "text": [
      "\r>> Converting image 639/1101 shard 1"
     ]
    },
    {
     "name": "stdout",
     "output_type": "stream",
     "text": [
      "\r>> Converting image 640/1101 shard 1"
     ]
    },
    {
     "name": "stdout",
     "output_type": "stream",
     "text": [
      "\r>> Converting image 641/1101 shard 1"
     ]
    },
    {
     "name": "stdout",
     "output_type": "stream",
     "text": [
      "\r>> Converting image 642/1101 shard 1"
     ]
    },
    {
     "name": "stdout",
     "output_type": "stream",
     "text": [
      "\r>> Converting image 643/1101 shard 1"
     ]
    },
    {
     "name": "stdout",
     "output_type": "stream",
     "text": [
      "\r>> Converting image 644/1101 shard 1"
     ]
    },
    {
     "name": "stdout",
     "output_type": "stream",
     "text": [
      "\r>> Converting image 645/1101 shard 1"
     ]
    },
    {
     "name": "stdout",
     "output_type": "stream",
     "text": [
      "\r>> Converting image 646/1101 shard 1"
     ]
    },
    {
     "name": "stdout",
     "output_type": "stream",
     "text": [
      "\r>> Converting image 647/1101 shard 1"
     ]
    },
    {
     "name": "stdout",
     "output_type": "stream",
     "text": [
      "\r>> Converting image 648/1101 shard 1"
     ]
    },
    {
     "name": "stdout",
     "output_type": "stream",
     "text": [
      "\r>> Converting image 649/1101 shard 1"
     ]
    },
    {
     "name": "stdout",
     "output_type": "stream",
     "text": [
      "\r>> Converting image 650/1101 shard 1"
     ]
    },
    {
     "name": "stdout",
     "output_type": "stream",
     "text": [
      "\r>> Converting image 651/1101 shard 1"
     ]
    },
    {
     "name": "stdout",
     "output_type": "stream",
     "text": [
      "\r>> Converting image 652/1101 shard 1"
     ]
    },
    {
     "name": "stdout",
     "output_type": "stream",
     "text": [
      "\r>> Converting image 653/1101 shard 1"
     ]
    },
    {
     "name": "stdout",
     "output_type": "stream",
     "text": [
      "\r>> Converting image 654/1101 shard 1"
     ]
    },
    {
     "name": "stdout",
     "output_type": "stream",
     "text": [
      "\r>> Converting image 655/1101 shard 1"
     ]
    },
    {
     "name": "stdout",
     "output_type": "stream",
     "text": [
      "\r>> Converting image 656/1101 shard 1"
     ]
    },
    {
     "name": "stdout",
     "output_type": "stream",
     "text": [
      "\r>> Converting image 657/1101 shard 1"
     ]
    },
    {
     "name": "stdout",
     "output_type": "stream",
     "text": [
      "\r>> Converting image 658/1101 shard 1"
     ]
    },
    {
     "name": "stdout",
     "output_type": "stream",
     "text": [
      "\r>> Converting image 659/1101 shard 1"
     ]
    },
    {
     "name": "stdout",
     "output_type": "stream",
     "text": [
      "\r>> Converting image 660/1101 shard 1"
     ]
    },
    {
     "name": "stdout",
     "output_type": "stream",
     "text": [
      "\r>> Converting image 661/1101 shard 1"
     ]
    },
    {
     "name": "stdout",
     "output_type": "stream",
     "text": [
      "\r>> Converting image 662/1101 shard 1"
     ]
    },
    {
     "name": "stdout",
     "output_type": "stream",
     "text": [
      "\r>> Converting image 663/1101 shard 1"
     ]
    },
    {
     "name": "stdout",
     "output_type": "stream",
     "text": [
      "\r>> Converting image 664/1101 shard 1"
     ]
    },
    {
     "name": "stdout",
     "output_type": "stream",
     "text": [
      "\r>> Converting image 665/1101 shard 1"
     ]
    },
    {
     "name": "stdout",
     "output_type": "stream",
     "text": [
      "\r>> Converting image 666/1101 shard 1"
     ]
    },
    {
     "name": "stdout",
     "output_type": "stream",
     "text": [
      "\r>> Converting image 667/1101 shard 1"
     ]
    },
    {
     "name": "stdout",
     "output_type": "stream",
     "text": [
      "\r>> Converting image 668/1101 shard 1"
     ]
    },
    {
     "name": "stdout",
     "output_type": "stream",
     "text": [
      "\r>> Converting image 669/1101 shard 1"
     ]
    },
    {
     "name": "stdout",
     "output_type": "stream",
     "text": [
      "\r>> Converting image 670/1101 shard 1"
     ]
    },
    {
     "name": "stdout",
     "output_type": "stream",
     "text": [
      "\r>> Converting image 671/1101 shard 1"
     ]
    },
    {
     "name": "stdout",
     "output_type": "stream",
     "text": [
      "\r>> Converting image 672/1101 shard 1"
     ]
    },
    {
     "name": "stdout",
     "output_type": "stream",
     "text": [
      "\r>> Converting image 673/1101 shard 1"
     ]
    },
    {
     "name": "stdout",
     "output_type": "stream",
     "text": [
      "\r>> Converting image 674/1101 shard 1"
     ]
    },
    {
     "name": "stdout",
     "output_type": "stream",
     "text": [
      "\r>> Converting image 675/1101 shard 1"
     ]
    },
    {
     "name": "stdout",
     "output_type": "stream",
     "text": [
      "\r>> Converting image 676/1101 shard 1"
     ]
    },
    {
     "name": "stdout",
     "output_type": "stream",
     "text": [
      "\r>> Converting image 677/1101 shard 1"
     ]
    },
    {
     "name": "stdout",
     "output_type": "stream",
     "text": [
      "\r>> Converting image 678/1101 shard 1"
     ]
    },
    {
     "name": "stdout",
     "output_type": "stream",
     "text": [
      "\r>> Converting image 679/1101 shard 1"
     ]
    },
    {
     "name": "stdout",
     "output_type": "stream",
     "text": [
      "\r>> Converting image 680/1101 shard 1"
     ]
    },
    {
     "name": "stdout",
     "output_type": "stream",
     "text": [
      "\r>> Converting image 681/1101 shard 1"
     ]
    },
    {
     "name": "stdout",
     "output_type": "stream",
     "text": [
      "\r>> Converting image 682/1101 shard 1"
     ]
    },
    {
     "name": "stdout",
     "output_type": "stream",
     "text": [
      "\r>> Converting image 683/1101 shard 1"
     ]
    },
    {
     "name": "stdout",
     "output_type": "stream",
     "text": [
      "\r>> Converting image 684/1101 shard 1"
     ]
    },
    {
     "name": "stdout",
     "output_type": "stream",
     "text": [
      "\r>> Converting image 685/1101 shard 1"
     ]
    },
    {
     "name": "stdout",
     "output_type": "stream",
     "text": [
      "\r>> Converting image 686/1101 shard 1"
     ]
    },
    {
     "name": "stdout",
     "output_type": "stream",
     "text": [
      "\r>> Converting image 687/1101 shard 1"
     ]
    },
    {
     "name": "stdout",
     "output_type": "stream",
     "text": [
      "\r>> Converting image 688/1101 shard 1"
     ]
    },
    {
     "name": "stdout",
     "output_type": "stream",
     "text": [
      "\r>> Converting image 689/1101 shard 1"
     ]
    },
    {
     "name": "stdout",
     "output_type": "stream",
     "text": [
      "\r>> Converting image 690/1101 shard 1"
     ]
    },
    {
     "name": "stdout",
     "output_type": "stream",
     "text": [
      "\r>> Converting image 691/1101 shard 1"
     ]
    },
    {
     "name": "stdout",
     "output_type": "stream",
     "text": [
      "\r>> Converting image 692/1101 shard 1"
     ]
    },
    {
     "name": "stdout",
     "output_type": "stream",
     "text": [
      "\r>> Converting image 693/1101 shard 1"
     ]
    },
    {
     "name": "stdout",
     "output_type": "stream",
     "text": [
      "\r>> Converting image 694/1101 shard 1"
     ]
    },
    {
     "name": "stdout",
     "output_type": "stream",
     "text": [
      "\r>> Converting image 695/1101 shard 1"
     ]
    },
    {
     "name": "stdout",
     "output_type": "stream",
     "text": [
      "\r>> Converting image 696/1101 shard 1"
     ]
    },
    {
     "name": "stdout",
     "output_type": "stream",
     "text": [
      "\r>> Converting image 697/1101 shard 1"
     ]
    },
    {
     "name": "stdout",
     "output_type": "stream",
     "text": [
      "\r>> Converting image 698/1101 shard 1"
     ]
    },
    {
     "name": "stdout",
     "output_type": "stream",
     "text": [
      "\r>> Converting image 699/1101 shard 1"
     ]
    },
    {
     "name": "stdout",
     "output_type": "stream",
     "text": [
      "\r>> Converting image 700/1101 shard 1"
     ]
    },
    {
     "name": "stdout",
     "output_type": "stream",
     "text": [
      "\r>> Converting image 701/1101 shard 1"
     ]
    },
    {
     "name": "stdout",
     "output_type": "stream",
     "text": [
      "\r>> Converting image 702/1101 shard 1"
     ]
    },
    {
     "name": "stdout",
     "output_type": "stream",
     "text": [
      "\r>> Converting image 703/1101 shard 1"
     ]
    },
    {
     "name": "stdout",
     "output_type": "stream",
     "text": [
      "\r>> Converting image 704/1101 shard 1"
     ]
    },
    {
     "name": "stdout",
     "output_type": "stream",
     "text": [
      "\r>> Converting image 705/1101 shard 1"
     ]
    },
    {
     "name": "stdout",
     "output_type": "stream",
     "text": [
      "\r>> Converting image 706/1101 shard 1"
     ]
    },
    {
     "name": "stdout",
     "output_type": "stream",
     "text": [
      "\r>> Converting image 707/1101 shard 1"
     ]
    },
    {
     "name": "stdout",
     "output_type": "stream",
     "text": [
      "\r>> Converting image 708/1101 shard 1"
     ]
    },
    {
     "name": "stdout",
     "output_type": "stream",
     "text": [
      "\r>> Converting image 709/1101 shard 1"
     ]
    },
    {
     "name": "stdout",
     "output_type": "stream",
     "text": [
      "\r>> Converting image 710/1101 shard 1"
     ]
    },
    {
     "name": "stdout",
     "output_type": "stream",
     "text": [
      "\r>> Converting image 711/1101 shard 1"
     ]
    },
    {
     "name": "stdout",
     "output_type": "stream",
     "text": [
      "\r>> Converting image 712/1101 shard 1"
     ]
    },
    {
     "name": "stdout",
     "output_type": "stream",
     "text": [
      "\r>> Converting image 713/1101 shard 1"
     ]
    },
    {
     "name": "stdout",
     "output_type": "stream",
     "text": [
      "\r>> Converting image 714/1101 shard 1"
     ]
    },
    {
     "name": "stdout",
     "output_type": "stream",
     "text": [
      "\r>> Converting image 715/1101 shard 1"
     ]
    },
    {
     "name": "stdout",
     "output_type": "stream",
     "text": [
      "\r>> Converting image 716/1101 shard 1"
     ]
    },
    {
     "name": "stdout",
     "output_type": "stream",
     "text": [
      "\r>> Converting image 717/1101 shard 1"
     ]
    },
    {
     "name": "stdout",
     "output_type": "stream",
     "text": [
      "\r>> Converting image 718/1101 shard 1"
     ]
    },
    {
     "name": "stdout",
     "output_type": "stream",
     "text": [
      "\r>> Converting image 719/1101 shard 1"
     ]
    },
    {
     "name": "stdout",
     "output_type": "stream",
     "text": [
      "\r>> Converting image 720/1101 shard 1"
     ]
    },
    {
     "name": "stdout",
     "output_type": "stream",
     "text": [
      "\r>> Converting image 721/1101 shard 1"
     ]
    },
    {
     "name": "stdout",
     "output_type": "stream",
     "text": [
      "\r>> Converting image 722/1101 shard 1"
     ]
    },
    {
     "name": "stdout",
     "output_type": "stream",
     "text": [
      "\r>> Converting image 723/1101 shard 1"
     ]
    },
    {
     "name": "stdout",
     "output_type": "stream",
     "text": [
      "\r>> Converting image 724/1101 shard 1"
     ]
    },
    {
     "name": "stdout",
     "output_type": "stream",
     "text": [
      "\r>> Converting image 725/1101 shard 1"
     ]
    },
    {
     "name": "stdout",
     "output_type": "stream",
     "text": [
      "\r>> Converting image 726/1101 shard 1"
     ]
    },
    {
     "name": "stdout",
     "output_type": "stream",
     "text": [
      "\r>> Converting image 727/1101 shard 1"
     ]
    },
    {
     "name": "stdout",
     "output_type": "stream",
     "text": [
      "\r>> Converting image 728/1101 shard 1"
     ]
    },
    {
     "name": "stdout",
     "output_type": "stream",
     "text": [
      "\r>> Converting image 729/1101 shard 1"
     ]
    },
    {
     "name": "stdout",
     "output_type": "stream",
     "text": [
      "\r>> Converting image 730/1101 shard 1"
     ]
    },
    {
     "name": "stdout",
     "output_type": "stream",
     "text": [
      "\r>> Converting image 731/1101 shard 1"
     ]
    },
    {
     "name": "stdout",
     "output_type": "stream",
     "text": [
      "\r>> Converting image 732/1101 shard 1"
     ]
    },
    {
     "name": "stdout",
     "output_type": "stream",
     "text": [
      "\r>> Converting image 733/1101 shard 1"
     ]
    },
    {
     "name": "stdout",
     "output_type": "stream",
     "text": [
      "\r>> Converting image 734/1101 shard 1"
     ]
    },
    {
     "name": "stdout",
     "output_type": "stream",
     "text": [
      "\r>> Converting image 735/1101 shard 1"
     ]
    },
    {
     "name": "stdout",
     "output_type": "stream",
     "text": [
      "\r>> Converting image 736/1101 shard 1"
     ]
    },
    {
     "name": "stdout",
     "output_type": "stream",
     "text": [
      "\r>> Converting image 737/1101 shard 1"
     ]
    },
    {
     "name": "stdout",
     "output_type": "stream",
     "text": [
      "\r>> Converting image 738/1101 shard 1"
     ]
    },
    {
     "name": "stdout",
     "output_type": "stream",
     "text": [
      "\r>> Converting image 739/1101 shard 1"
     ]
    },
    {
     "name": "stdout",
     "output_type": "stream",
     "text": [
      "\r>> Converting image 740/1101 shard 1"
     ]
    },
    {
     "name": "stdout",
     "output_type": "stream",
     "text": [
      "\r>> Converting image 741/1101 shard 1"
     ]
    },
    {
     "name": "stdout",
     "output_type": "stream",
     "text": [
      "\r>> Converting image 742/1101 shard 1"
     ]
    },
    {
     "name": "stdout",
     "output_type": "stream",
     "text": [
      "\r>> Converting image 743/1101 shard 1"
     ]
    },
    {
     "name": "stdout",
     "output_type": "stream",
     "text": [
      "\r>> Converting image 744/1101 shard 1"
     ]
    },
    {
     "name": "stdout",
     "output_type": "stream",
     "text": [
      "\r>> Converting image 745/1101 shard 1"
     ]
    },
    {
     "name": "stdout",
     "output_type": "stream",
     "text": [
      "\r>> Converting image 746/1101 shard 1"
     ]
    },
    {
     "name": "stdout",
     "output_type": "stream",
     "text": [
      "\r>> Converting image 747/1101 shard 1"
     ]
    },
    {
     "name": "stdout",
     "output_type": "stream",
     "text": [
      "\r>> Converting image 748/1101 shard 1"
     ]
    },
    {
     "name": "stdout",
     "output_type": "stream",
     "text": [
      "\r>> Converting image 749/1101 shard 1"
     ]
    },
    {
     "name": "stdout",
     "output_type": "stream",
     "text": [
      "\r>> Converting image 750/1101 shard 1"
     ]
    },
    {
     "name": "stdout",
     "output_type": "stream",
     "text": [
      "\r>> Converting image 751/1101 shard 1"
     ]
    },
    {
     "name": "stdout",
     "output_type": "stream",
     "text": [
      "\r>> Converting image 752/1101 shard 1"
     ]
    },
    {
     "name": "stdout",
     "output_type": "stream",
     "text": [
      "\r>> Converting image 753/1101 shard 1"
     ]
    },
    {
     "name": "stdout",
     "output_type": "stream",
     "text": [
      "\r>> Converting image 754/1101 shard 1"
     ]
    },
    {
     "name": "stdout",
     "output_type": "stream",
     "text": [
      "\r>> Converting image 755/1101 shard 1"
     ]
    },
    {
     "name": "stdout",
     "output_type": "stream",
     "text": [
      "\r>> Converting image 756/1101 shard 1"
     ]
    },
    {
     "name": "stdout",
     "output_type": "stream",
     "text": [
      "\r>> Converting image 757/1101 shard 1"
     ]
    },
    {
     "name": "stdout",
     "output_type": "stream",
     "text": [
      "\r>> Converting image 758/1101 shard 1"
     ]
    },
    {
     "name": "stdout",
     "output_type": "stream",
     "text": [
      "\r>> Converting image 759/1101 shard 1"
     ]
    },
    {
     "name": "stdout",
     "output_type": "stream",
     "text": [
      "\r>> Converting image 760/1101 shard 1"
     ]
    },
    {
     "name": "stdout",
     "output_type": "stream",
     "text": [
      "\r>> Converting image 761/1101 shard 1"
     ]
    },
    {
     "name": "stdout",
     "output_type": "stream",
     "text": [
      "\r>> Converting image 762/1101 shard 1"
     ]
    },
    {
     "name": "stdout",
     "output_type": "stream",
     "text": [
      "\r>> Converting image 763/1101 shard 1"
     ]
    },
    {
     "name": "stdout",
     "output_type": "stream",
     "text": [
      "\r>> Converting image 764/1101 shard 1"
     ]
    },
    {
     "name": "stdout",
     "output_type": "stream",
     "text": [
      "\r>> Converting image 765/1101 shard 1"
     ]
    },
    {
     "name": "stdout",
     "output_type": "stream",
     "text": [
      "\r>> Converting image 766/1101 shard 1"
     ]
    },
    {
     "name": "stdout",
     "output_type": "stream",
     "text": [
      "\r>> Converting image 767/1101 shard 1"
     ]
    },
    {
     "name": "stdout",
     "output_type": "stream",
     "text": [
      "\r>> Converting image 768/1101 shard 1"
     ]
    },
    {
     "name": "stdout",
     "output_type": "stream",
     "text": [
      "\r>> Converting image 769/1101 shard 1"
     ]
    },
    {
     "name": "stdout",
     "output_type": "stream",
     "text": [
      "\r>> Converting image 770/1101 shard 1"
     ]
    },
    {
     "name": "stdout",
     "output_type": "stream",
     "text": [
      "\r>> Converting image 771/1101 shard 1"
     ]
    },
    {
     "name": "stdout",
     "output_type": "stream",
     "text": [
      "\r>> Converting image 772/1101 shard 1"
     ]
    },
    {
     "name": "stdout",
     "output_type": "stream",
     "text": [
      "\r>> Converting image 773/1101 shard 1"
     ]
    },
    {
     "name": "stdout",
     "output_type": "stream",
     "text": [
      "\r>> Converting image 774/1101 shard 1"
     ]
    },
    {
     "name": "stdout",
     "output_type": "stream",
     "text": [
      "\r>> Converting image 775/1101 shard 1"
     ]
    },
    {
     "name": "stdout",
     "output_type": "stream",
     "text": [
      "\r>> Converting image 776/1101 shard 1"
     ]
    },
    {
     "name": "stdout",
     "output_type": "stream",
     "text": [
      "\r>> Converting image 777/1101 shard 1"
     ]
    },
    {
     "name": "stdout",
     "output_type": "stream",
     "text": [
      "\r>> Converting image 778/1101 shard 1"
     ]
    },
    {
     "name": "stdout",
     "output_type": "stream",
     "text": [
      "\r>> Converting image 779/1101 shard 1"
     ]
    },
    {
     "name": "stdout",
     "output_type": "stream",
     "text": [
      "\r>> Converting image 780/1101 shard 1"
     ]
    },
    {
     "name": "stdout",
     "output_type": "stream",
     "text": [
      "\r>> Converting image 781/1101 shard 1"
     ]
    },
    {
     "name": "stdout",
     "output_type": "stream",
     "text": [
      "\r>> Converting image 782/1101 shard 1"
     ]
    },
    {
     "name": "stdout",
     "output_type": "stream",
     "text": [
      "\r>> Converting image 783/1101 shard 1"
     ]
    },
    {
     "name": "stdout",
     "output_type": "stream",
     "text": [
      "\r>> Converting image 784/1101 shard 1"
     ]
    },
    {
     "name": "stdout",
     "output_type": "stream",
     "text": [
      "\r>> Converting image 785/1101 shard 1"
     ]
    },
    {
     "name": "stdout",
     "output_type": "stream",
     "text": [
      "\r>> Converting image 786/1101 shard 1"
     ]
    },
    {
     "name": "stdout",
     "output_type": "stream",
     "text": [
      "\r>> Converting image 787/1101 shard 1"
     ]
    },
    {
     "name": "stdout",
     "output_type": "stream",
     "text": [
      "\r>> Converting image 788/1101 shard 1"
     ]
    },
    {
     "name": "stdout",
     "output_type": "stream",
     "text": [
      "\r>> Converting image 789/1101 shard 1"
     ]
    },
    {
     "name": "stdout",
     "output_type": "stream",
     "text": [
      "\r>> Converting image 790/1101 shard 1"
     ]
    },
    {
     "name": "stdout",
     "output_type": "stream",
     "text": [
      "\r>> Converting image 791/1101 shard 1"
     ]
    },
    {
     "name": "stdout",
     "output_type": "stream",
     "text": [
      "\r>> Converting image 792/1101 shard 1"
     ]
    },
    {
     "name": "stdout",
     "output_type": "stream",
     "text": [
      "\r>> Converting image 793/1101 shard 1"
     ]
    },
    {
     "name": "stdout",
     "output_type": "stream",
     "text": [
      "\r>> Converting image 794/1101 shard 1"
     ]
    },
    {
     "name": "stdout",
     "output_type": "stream",
     "text": [
      "\r>> Converting image 795/1101 shard 1"
     ]
    },
    {
     "name": "stdout",
     "output_type": "stream",
     "text": [
      "\r>> Converting image 796/1101 shard 1"
     ]
    },
    {
     "name": "stdout",
     "output_type": "stream",
     "text": [
      "\r>> Converting image 797/1101 shard 1"
     ]
    },
    {
     "name": "stdout",
     "output_type": "stream",
     "text": [
      "\r>> Converting image 798/1101 shard 1"
     ]
    },
    {
     "name": "stdout",
     "output_type": "stream",
     "text": [
      "\r>> Converting image 799/1101 shard 1"
     ]
    },
    {
     "name": "stdout",
     "output_type": "stream",
     "text": [
      "\r>> Converting image 800/1101 shard 1"
     ]
    },
    {
     "name": "stdout",
     "output_type": "stream",
     "text": [
      "\r>> Converting image 801/1101 shard 1"
     ]
    },
    {
     "name": "stdout",
     "output_type": "stream",
     "text": [
      "\r>> Converting image 802/1101 shard 1"
     ]
    },
    {
     "name": "stdout",
     "output_type": "stream",
     "text": [
      "\r>> Converting image 803/1101 shard 1"
     ]
    },
    {
     "name": "stdout",
     "output_type": "stream",
     "text": [
      "\r>> Converting image 804/1101 shard 1"
     ]
    },
    {
     "name": "stdout",
     "output_type": "stream",
     "text": [
      "\r>> Converting image 805/1101 shard 1"
     ]
    },
    {
     "name": "stdout",
     "output_type": "stream",
     "text": [
      "\r>> Converting image 806/1101 shard 1"
     ]
    },
    {
     "name": "stdout",
     "output_type": "stream",
     "text": [
      "\r>> Converting image 807/1101 shard 1"
     ]
    },
    {
     "name": "stdout",
     "output_type": "stream",
     "text": [
      "\r>> Converting image 808/1101 shard 1"
     ]
    },
    {
     "name": "stdout",
     "output_type": "stream",
     "text": [
      "\r>> Converting image 809/1101 shard 1"
     ]
    },
    {
     "name": "stdout",
     "output_type": "stream",
     "text": [
      "\r>> Converting image 810/1101 shard 1"
     ]
    },
    {
     "name": "stdout",
     "output_type": "stream",
     "text": [
      "\r>> Converting image 811/1101 shard 1"
     ]
    },
    {
     "name": "stdout",
     "output_type": "stream",
     "text": [
      "\r>> Converting image 812/1101 shard 1"
     ]
    },
    {
     "name": "stdout",
     "output_type": "stream",
     "text": [
      "\r>> Converting image 813/1101 shard 1"
     ]
    },
    {
     "name": "stdout",
     "output_type": "stream",
     "text": [
      "\r>> Converting image 814/1101 shard 1"
     ]
    },
    {
     "name": "stdout",
     "output_type": "stream",
     "text": [
      "\r>> Converting image 815/1101 shard 1"
     ]
    },
    {
     "name": "stdout",
     "output_type": "stream",
     "text": [
      "\r>> Converting image 816/1101 shard 1"
     ]
    },
    {
     "name": "stdout",
     "output_type": "stream",
     "text": [
      "\r>> Converting image 817/1101 shard 1"
     ]
    },
    {
     "name": "stdout",
     "output_type": "stream",
     "text": [
      "\r>> Converting image 818/1101 shard 1"
     ]
    },
    {
     "name": "stdout",
     "output_type": "stream",
     "text": [
      "\r>> Converting image 819/1101 shard 1"
     ]
    },
    {
     "name": "stdout",
     "output_type": "stream",
     "text": [
      "\r>> Converting image 820/1101 shard 1"
     ]
    },
    {
     "name": "stdout",
     "output_type": "stream",
     "text": [
      "\r>> Converting image 821/1101 shard 1"
     ]
    },
    {
     "name": "stdout",
     "output_type": "stream",
     "text": [
      "\r>> Converting image 822/1101 shard 1"
     ]
    },
    {
     "name": "stdout",
     "output_type": "stream",
     "text": [
      "\r>> Converting image 823/1101 shard 1"
     ]
    },
    {
     "name": "stdout",
     "output_type": "stream",
     "text": [
      "\r>> Converting image 824/1101 shard 1"
     ]
    },
    {
     "name": "stdout",
     "output_type": "stream",
     "text": [
      "\r>> Converting image 825/1101 shard 1"
     ]
    },
    {
     "name": "stdout",
     "output_type": "stream",
     "text": [
      "\r>> Converting image 826/1101 shard 1"
     ]
    },
    {
     "name": "stdout",
     "output_type": "stream",
     "text": [
      "\r>> Converting image 827/1101 shard 1"
     ]
    },
    {
     "name": "stdout",
     "output_type": "stream",
     "text": [
      "\r>> Converting image 828/1101 shard 1"
     ]
    },
    {
     "name": "stdout",
     "output_type": "stream",
     "text": [
      "\r>> Converting image 829/1101 shard 1"
     ]
    },
    {
     "name": "stdout",
     "output_type": "stream",
     "text": [
      "\r>> Converting image 830/1101 shard 1"
     ]
    },
    {
     "name": "stdout",
     "output_type": "stream",
     "text": [
      "\r>> Converting image 831/1101 shard 1"
     ]
    },
    {
     "name": "stdout",
     "output_type": "stream",
     "text": [
      "\r>> Converting image 832/1101 shard 1"
     ]
    },
    {
     "name": "stdout",
     "output_type": "stream",
     "text": [
      "\r>> Converting image 833/1101 shard 1"
     ]
    },
    {
     "name": "stdout",
     "output_type": "stream",
     "text": [
      "\r>> Converting image 834/1101 shard 1"
     ]
    },
    {
     "name": "stdout",
     "output_type": "stream",
     "text": [
      "\r>> Converting image 835/1101 shard 1"
     ]
    },
    {
     "name": "stdout",
     "output_type": "stream",
     "text": [
      "\r>> Converting image 836/1101 shard 1"
     ]
    },
    {
     "name": "stdout",
     "output_type": "stream",
     "text": [
      "\r>> Converting image 837/1101 shard 1"
     ]
    },
    {
     "name": "stdout",
     "output_type": "stream",
     "text": [
      "\r>> Converting image 838/1101 shard 1"
     ]
    },
    {
     "name": "stdout",
     "output_type": "stream",
     "text": [
      "\r>> Converting image 839/1101 shard 1"
     ]
    },
    {
     "name": "stdout",
     "output_type": "stream",
     "text": [
      "\r>> Converting image 840/1101 shard 1"
     ]
    },
    {
     "name": "stdout",
     "output_type": "stream",
     "text": [
      "\r>> Converting image 841/1101 shard 1"
     ]
    },
    {
     "name": "stdout",
     "output_type": "stream",
     "text": [
      "\r>> Converting image 842/1101 shard 1"
     ]
    },
    {
     "name": "stdout",
     "output_type": "stream",
     "text": [
      "\r>> Converting image 843/1101 shard 1"
     ]
    },
    {
     "name": "stdout",
     "output_type": "stream",
     "text": [
      "\r>> Converting image 844/1101 shard 1"
     ]
    },
    {
     "name": "stdout",
     "output_type": "stream",
     "text": [
      "\r>> Converting image 845/1101 shard 1"
     ]
    },
    {
     "name": "stdout",
     "output_type": "stream",
     "text": [
      "\r>> Converting image 846/1101 shard 1"
     ]
    },
    {
     "name": "stdout",
     "output_type": "stream",
     "text": [
      "\r>> Converting image 847/1101 shard 1"
     ]
    },
    {
     "name": "stdout",
     "output_type": "stream",
     "text": [
      "\r>> Converting image 848/1101 shard 1"
     ]
    },
    {
     "name": "stdout",
     "output_type": "stream",
     "text": [
      "\r>> Converting image 849/1101 shard 1"
     ]
    },
    {
     "name": "stdout",
     "output_type": "stream",
     "text": [
      "\r>> Converting image 850/1101 shard 1"
     ]
    },
    {
     "name": "stdout",
     "output_type": "stream",
     "text": [
      "\r>> Converting image 851/1101 shard 1"
     ]
    },
    {
     "name": "stdout",
     "output_type": "stream",
     "text": [
      "\r>> Converting image 852/1101 shard 1"
     ]
    },
    {
     "name": "stdout",
     "output_type": "stream",
     "text": [
      "\r>> Converting image 853/1101 shard 1"
     ]
    },
    {
     "name": "stdout",
     "output_type": "stream",
     "text": [
      "\r>> Converting image 854/1101 shard 1"
     ]
    },
    {
     "name": "stdout",
     "output_type": "stream",
     "text": [
      "\r>> Converting image 855/1101 shard 1"
     ]
    },
    {
     "name": "stdout",
     "output_type": "stream",
     "text": [
      "\r>> Converting image 856/1101 shard 1"
     ]
    },
    {
     "name": "stdout",
     "output_type": "stream",
     "text": [
      "\r>> Converting image 857/1101 shard 1"
     ]
    },
    {
     "name": "stdout",
     "output_type": "stream",
     "text": [
      "\r>> Converting image 858/1101 shard 1"
     ]
    },
    {
     "name": "stdout",
     "output_type": "stream",
     "text": [
      "\r>> Converting image 859/1101 shard 1"
     ]
    },
    {
     "name": "stdout",
     "output_type": "stream",
     "text": [
      "\r>> Converting image 860/1101 shard 1"
     ]
    },
    {
     "name": "stdout",
     "output_type": "stream",
     "text": [
      "\r>> Converting image 861/1101 shard 1"
     ]
    },
    {
     "name": "stdout",
     "output_type": "stream",
     "text": [
      "\r>> Converting image 862/1101 shard 1"
     ]
    },
    {
     "name": "stdout",
     "output_type": "stream",
     "text": [
      "\r>> Converting image 863/1101 shard 1"
     ]
    },
    {
     "name": "stdout",
     "output_type": "stream",
     "text": [
      "\r>> Converting image 864/1101 shard 1"
     ]
    },
    {
     "name": "stdout",
     "output_type": "stream",
     "text": [
      "\r>> Converting image 865/1101 shard 1"
     ]
    },
    {
     "name": "stdout",
     "output_type": "stream",
     "text": [
      "\r>> Converting image 866/1101 shard 1"
     ]
    },
    {
     "name": "stdout",
     "output_type": "stream",
     "text": [
      "\r>> Converting image 867/1101 shard 1"
     ]
    },
    {
     "name": "stdout",
     "output_type": "stream",
     "text": [
      "\r>> Converting image 868/1101 shard 1"
     ]
    },
    {
     "name": "stdout",
     "output_type": "stream",
     "text": [
      "\r>> Converting image 869/1101 shard 1"
     ]
    },
    {
     "name": "stdout",
     "output_type": "stream",
     "text": [
      "\r>> Converting image 870/1101 shard 1"
     ]
    },
    {
     "name": "stdout",
     "output_type": "stream",
     "text": [
      "\r>> Converting image 871/1101 shard 1"
     ]
    },
    {
     "name": "stdout",
     "output_type": "stream",
     "text": [
      "\r>> Converting image 872/1101 shard 1"
     ]
    },
    {
     "name": "stdout",
     "output_type": "stream",
     "text": [
      "\r>> Converting image 873/1101 shard 1"
     ]
    },
    {
     "name": "stdout",
     "output_type": "stream",
     "text": [
      "\r>> Converting image 874/1101 shard 1"
     ]
    },
    {
     "name": "stdout",
     "output_type": "stream",
     "text": [
      "\r>> Converting image 875/1101 shard 1"
     ]
    },
    {
     "name": "stdout",
     "output_type": "stream",
     "text": [
      "\r>> Converting image 876/1101 shard 1"
     ]
    },
    {
     "name": "stdout",
     "output_type": "stream",
     "text": [
      "\r>> Converting image 877/1101 shard 1"
     ]
    },
    {
     "name": "stdout",
     "output_type": "stream",
     "text": [
      "\r>> Converting image 878/1101 shard 1"
     ]
    },
    {
     "name": "stdout",
     "output_type": "stream",
     "text": [
      "\r>> Converting image 879/1101 shard 1"
     ]
    },
    {
     "name": "stdout",
     "output_type": "stream",
     "text": [
      "\r>> Converting image 880/1101 shard 1"
     ]
    },
    {
     "name": "stdout",
     "output_type": "stream",
     "text": [
      "\r>> Converting image 881/1101 shard 1"
     ]
    },
    {
     "name": "stdout",
     "output_type": "stream",
     "text": [
      "\r>> Converting image 882/1101 shard 1"
     ]
    },
    {
     "name": "stdout",
     "output_type": "stream",
     "text": [
      "\r>> Converting image 883/1101 shard 1"
     ]
    },
    {
     "name": "stdout",
     "output_type": "stream",
     "text": [
      "\r>> Converting image 884/1101 shard 1"
     ]
    },
    {
     "name": "stdout",
     "output_type": "stream",
     "text": [
      "\r>> Converting image 885/1101 shard 1"
     ]
    },
    {
     "name": "stdout",
     "output_type": "stream",
     "text": [
      "\r>> Converting image 886/1101 shard 1"
     ]
    },
    {
     "name": "stdout",
     "output_type": "stream",
     "text": [
      "\r>> Converting image 887/1101 shard 1"
     ]
    },
    {
     "name": "stdout",
     "output_type": "stream",
     "text": [
      "\r>> Converting image 888/1101 shard 1"
     ]
    },
    {
     "name": "stdout",
     "output_type": "stream",
     "text": [
      "\r>> Converting image 889/1101 shard 1"
     ]
    },
    {
     "name": "stdout",
     "output_type": "stream",
     "text": [
      "\r>> Converting image 890/1101 shard 1"
     ]
    },
    {
     "name": "stdout",
     "output_type": "stream",
     "text": [
      "\r>> Converting image 891/1101 shard 1"
     ]
    },
    {
     "name": "stdout",
     "output_type": "stream",
     "text": [
      "\r>> Converting image 892/1101 shard 1"
     ]
    },
    {
     "name": "stdout",
     "output_type": "stream",
     "text": [
      "\r>> Converting image 893/1101 shard 1"
     ]
    },
    {
     "name": "stdout",
     "output_type": "stream",
     "text": [
      "\r>> Converting image 894/1101 shard 1"
     ]
    },
    {
     "name": "stdout",
     "output_type": "stream",
     "text": [
      "\r>> Converting image 895/1101 shard 1"
     ]
    },
    {
     "name": "stdout",
     "output_type": "stream",
     "text": [
      "\r>> Converting image 896/1101 shard 1"
     ]
    },
    {
     "name": "stdout",
     "output_type": "stream",
     "text": [
      "\r>> Converting image 897/1101 shard 1"
     ]
    },
    {
     "name": "stdout",
     "output_type": "stream",
     "text": [
      "\r>> Converting image 898/1101 shard 1"
     ]
    },
    {
     "name": "stdout",
     "output_type": "stream",
     "text": [
      "\r>> Converting image 899/1101 shard 1"
     ]
    },
    {
     "name": "stdout",
     "output_type": "stream",
     "text": [
      "\r>> Converting image 900/1101 shard 1"
     ]
    },
    {
     "name": "stdout",
     "output_type": "stream",
     "text": [
      "\r>> Converting image 901/1101 shard 1"
     ]
    },
    {
     "name": "stdout",
     "output_type": "stream",
     "text": [
      "\r>> Converting image 902/1101 shard 1"
     ]
    },
    {
     "name": "stdout",
     "output_type": "stream",
     "text": [
      "\r>> Converting image 903/1101 shard 1"
     ]
    },
    {
     "name": "stdout",
     "output_type": "stream",
     "text": [
      "\r>> Converting image 904/1101 shard 1"
     ]
    },
    {
     "name": "stdout",
     "output_type": "stream",
     "text": [
      "\r>> Converting image 905/1101 shard 1"
     ]
    },
    {
     "name": "stdout",
     "output_type": "stream",
     "text": [
      "\r>> Converting image 906/1101 shard 1"
     ]
    },
    {
     "name": "stdout",
     "output_type": "stream",
     "text": [
      "\r>> Converting image 907/1101 shard 1"
     ]
    },
    {
     "name": "stdout",
     "output_type": "stream",
     "text": [
      "\r>> Converting image 908/1101 shard 1"
     ]
    },
    {
     "name": "stdout",
     "output_type": "stream",
     "text": [
      "\r>> Converting image 909/1101 shard 1"
     ]
    },
    {
     "name": "stdout",
     "output_type": "stream",
     "text": [
      "\r>> Converting image 910/1101 shard 1"
     ]
    },
    {
     "name": "stdout",
     "output_type": "stream",
     "text": [
      "\r>> Converting image 911/1101 shard 1"
     ]
    },
    {
     "name": "stdout",
     "output_type": "stream",
     "text": [
      "\r>> Converting image 912/1101 shard 1"
     ]
    },
    {
     "name": "stdout",
     "output_type": "stream",
     "text": [
      "\r>> Converting image 913/1101 shard 1"
     ]
    },
    {
     "name": "stdout",
     "output_type": "stream",
     "text": [
      "\r>> Converting image 914/1101 shard 1"
     ]
    },
    {
     "name": "stdout",
     "output_type": "stream",
     "text": [
      "\r>> Converting image 915/1101 shard 1"
     ]
    },
    {
     "name": "stdout",
     "output_type": "stream",
     "text": [
      "\r>> Converting image 916/1101 shard 1"
     ]
    },
    {
     "name": "stdout",
     "output_type": "stream",
     "text": [
      "\r>> Converting image 917/1101 shard 1"
     ]
    },
    {
     "name": "stdout",
     "output_type": "stream",
     "text": [
      "\r>> Converting image 918/1101 shard 1"
     ]
    },
    {
     "name": "stdout",
     "output_type": "stream",
     "text": [
      "\r>> Converting image 919/1101 shard 1"
     ]
    },
    {
     "name": "stdout",
     "output_type": "stream",
     "text": [
      "\r>> Converting image 920/1101 shard 1"
     ]
    },
    {
     "name": "stdout",
     "output_type": "stream",
     "text": [
      "\r>> Converting image 921/1101 shard 1"
     ]
    },
    {
     "name": "stdout",
     "output_type": "stream",
     "text": [
      "\r>> Converting image 922/1101 shard 1"
     ]
    },
    {
     "name": "stdout",
     "output_type": "stream",
     "text": [
      "\r>> Converting image 923/1101 shard 1"
     ]
    },
    {
     "name": "stdout",
     "output_type": "stream",
     "text": [
      "\r>> Converting image 924/1101 shard 1"
     ]
    },
    {
     "name": "stdout",
     "output_type": "stream",
     "text": [
      "\r>> Converting image 925/1101 shard 1"
     ]
    },
    {
     "name": "stdout",
     "output_type": "stream",
     "text": [
      "\r>> Converting image 926/1101 shard 1"
     ]
    },
    {
     "name": "stdout",
     "output_type": "stream",
     "text": [
      "\r>> Converting image 927/1101 shard 1"
     ]
    },
    {
     "name": "stdout",
     "output_type": "stream",
     "text": [
      "\r>> Converting image 928/1101 shard 1"
     ]
    },
    {
     "name": "stdout",
     "output_type": "stream",
     "text": [
      "\r>> Converting image 929/1101 shard 1"
     ]
    },
    {
     "name": "stdout",
     "output_type": "stream",
     "text": [
      "\r>> Converting image 930/1101 shard 1"
     ]
    },
    {
     "name": "stdout",
     "output_type": "stream",
     "text": [
      "\r>> Converting image 931/1101 shard 1"
     ]
    },
    {
     "name": "stdout",
     "output_type": "stream",
     "text": [
      "\r>> Converting image 932/1101 shard 1"
     ]
    },
    {
     "name": "stdout",
     "output_type": "stream",
     "text": [
      "\r>> Converting image 933/1101 shard 1"
     ]
    },
    {
     "name": "stdout",
     "output_type": "stream",
     "text": [
      "\r>> Converting image 934/1101 shard 1"
     ]
    },
    {
     "name": "stdout",
     "output_type": "stream",
     "text": [
      "\r>> Converting image 935/1101 shard 1"
     ]
    },
    {
     "name": "stdout",
     "output_type": "stream",
     "text": [
      "\r>> Converting image 936/1101 shard 1"
     ]
    },
    {
     "name": "stdout",
     "output_type": "stream",
     "text": [
      "\r>> Converting image 937/1101 shard 1"
     ]
    },
    {
     "name": "stdout",
     "output_type": "stream",
     "text": [
      "\r>> Converting image 938/1101 shard 1"
     ]
    },
    {
     "name": "stdout",
     "output_type": "stream",
     "text": [
      "\r>> Converting image 939/1101 shard 1"
     ]
    },
    {
     "name": "stdout",
     "output_type": "stream",
     "text": [
      "\r>> Converting image 940/1101 shard 1"
     ]
    },
    {
     "name": "stdout",
     "output_type": "stream",
     "text": [
      "\r>> Converting image 941/1101 shard 1"
     ]
    },
    {
     "name": "stdout",
     "output_type": "stream",
     "text": [
      "\r>> Converting image 942/1101 shard 1"
     ]
    },
    {
     "name": "stdout",
     "output_type": "stream",
     "text": [
      "\r>> Converting image 943/1101 shard 1"
     ]
    },
    {
     "name": "stdout",
     "output_type": "stream",
     "text": [
      "\r>> Converting image 944/1101 shard 1"
     ]
    },
    {
     "name": "stdout",
     "output_type": "stream",
     "text": [
      "\r>> Converting image 945/1101 shard 1"
     ]
    },
    {
     "name": "stdout",
     "output_type": "stream",
     "text": [
      "\r>> Converting image 946/1101 shard 1"
     ]
    },
    {
     "name": "stdout",
     "output_type": "stream",
     "text": [
      "\r>> Converting image 947/1101 shard 1"
     ]
    },
    {
     "name": "stdout",
     "output_type": "stream",
     "text": [
      "\r>> Converting image 948/1101 shard 1"
     ]
    },
    {
     "name": "stdout",
     "output_type": "stream",
     "text": [
      "\r>> Converting image 949/1101 shard 1"
     ]
    },
    {
     "name": "stdout",
     "output_type": "stream",
     "text": [
      "\r>> Converting image 950/1101 shard 1"
     ]
    },
    {
     "name": "stdout",
     "output_type": "stream",
     "text": [
      "\r>> Converting image 951/1101 shard 1"
     ]
    },
    {
     "name": "stdout",
     "output_type": "stream",
     "text": [
      "\r>> Converting image 952/1101 shard 1"
     ]
    },
    {
     "name": "stdout",
     "output_type": "stream",
     "text": [
      "\r>> Converting image 953/1101 shard 1"
     ]
    },
    {
     "name": "stdout",
     "output_type": "stream",
     "text": [
      "\r>> Converting image 954/1101 shard 1"
     ]
    },
    {
     "name": "stdout",
     "output_type": "stream",
     "text": [
      "\r>> Converting image 955/1101 shard 1"
     ]
    },
    {
     "name": "stdout",
     "output_type": "stream",
     "text": [
      "\r>> Converting image 956/1101 shard 1"
     ]
    },
    {
     "name": "stdout",
     "output_type": "stream",
     "text": [
      "\r>> Converting image 957/1101 shard 1"
     ]
    },
    {
     "name": "stdout",
     "output_type": "stream",
     "text": [
      "\r>> Converting image 958/1101 shard 1"
     ]
    },
    {
     "name": "stdout",
     "output_type": "stream",
     "text": [
      "\r>> Converting image 959/1101 shard 1"
     ]
    },
    {
     "name": "stdout",
     "output_type": "stream",
     "text": [
      "\r>> Converting image 960/1101 shard 1"
     ]
    },
    {
     "name": "stdout",
     "output_type": "stream",
     "text": [
      "\r>> Converting image 961/1101 shard 1"
     ]
    },
    {
     "name": "stdout",
     "output_type": "stream",
     "text": [
      "\r>> Converting image 962/1101 shard 1"
     ]
    },
    {
     "name": "stdout",
     "output_type": "stream",
     "text": [
      "\r>> Converting image 963/1101 shard 1"
     ]
    },
    {
     "name": "stdout",
     "output_type": "stream",
     "text": [
      "\r>> Converting image 964/1101 shard 1"
     ]
    },
    {
     "name": "stdout",
     "output_type": "stream",
     "text": [
      "\r>> Converting image 965/1101 shard 1"
     ]
    },
    {
     "name": "stdout",
     "output_type": "stream",
     "text": [
      "\r>> Converting image 966/1101 shard 1"
     ]
    },
    {
     "name": "stdout",
     "output_type": "stream",
     "text": [
      "\r>> Converting image 967/1101 shard 1"
     ]
    },
    {
     "name": "stdout",
     "output_type": "stream",
     "text": [
      "\r>> Converting image 968/1101 shard 1"
     ]
    },
    {
     "name": "stdout",
     "output_type": "stream",
     "text": [
      "\r>> Converting image 969/1101 shard 1"
     ]
    },
    {
     "name": "stdout",
     "output_type": "stream",
     "text": [
      "\r>> Converting image 970/1101 shard 1"
     ]
    },
    {
     "name": "stdout",
     "output_type": "stream",
     "text": [
      "\r>> Converting image 971/1101 shard 1"
     ]
    },
    {
     "name": "stdout",
     "output_type": "stream",
     "text": [
      "\r>> Converting image 972/1101 shard 1"
     ]
    },
    {
     "name": "stdout",
     "output_type": "stream",
     "text": [
      "\r>> Converting image 973/1101 shard 1"
     ]
    },
    {
     "name": "stdout",
     "output_type": "stream",
     "text": [
      "\r>> Converting image 974/1101 shard 1"
     ]
    },
    {
     "name": "stdout",
     "output_type": "stream",
     "text": [
      "\r>> Converting image 975/1101 shard 1"
     ]
    },
    {
     "name": "stdout",
     "output_type": "stream",
     "text": [
      "\r>> Converting image 976/1101 shard 1"
     ]
    },
    {
     "name": "stdout",
     "output_type": "stream",
     "text": [
      "\r>> Converting image 977/1101 shard 1"
     ]
    },
    {
     "name": "stdout",
     "output_type": "stream",
     "text": [
      "\r>> Converting image 978/1101 shard 1"
     ]
    },
    {
     "name": "stdout",
     "output_type": "stream",
     "text": [
      "\r>> Converting image 979/1101 shard 1"
     ]
    },
    {
     "name": "stdout",
     "output_type": "stream",
     "text": [
      "\r>> Converting image 980/1101 shard 1"
     ]
    },
    {
     "name": "stdout",
     "output_type": "stream",
     "text": [
      "\r>> Converting image 981/1101 shard 1"
     ]
    },
    {
     "name": "stdout",
     "output_type": "stream",
     "text": [
      "\r>> Converting image 982/1101 shard 1"
     ]
    },
    {
     "name": "stdout",
     "output_type": "stream",
     "text": [
      "\r>> Converting image 983/1101 shard 1"
     ]
    },
    {
     "name": "stdout",
     "output_type": "stream",
     "text": [
      "\r>> Converting image 984/1101 shard 1"
     ]
    },
    {
     "name": "stdout",
     "output_type": "stream",
     "text": [
      "\r>> Converting image 985/1101 shard 1"
     ]
    },
    {
     "name": "stdout",
     "output_type": "stream",
     "text": [
      "\r>> Converting image 986/1101 shard 1"
     ]
    },
    {
     "name": "stdout",
     "output_type": "stream",
     "text": [
      "\r>> Converting image 987/1101 shard 1"
     ]
    },
    {
     "name": "stdout",
     "output_type": "stream",
     "text": [
      "\r>> Converting image 988/1101 shard 1"
     ]
    },
    {
     "name": "stdout",
     "output_type": "stream",
     "text": [
      "\r>> Converting image 989/1101 shard 1"
     ]
    },
    {
     "name": "stdout",
     "output_type": "stream",
     "text": [
      "\r>> Converting image 990/1101 shard 1"
     ]
    },
    {
     "name": "stdout",
     "output_type": "stream",
     "text": [
      "\r>> Converting image 991/1101 shard 1"
     ]
    },
    {
     "name": "stdout",
     "output_type": "stream",
     "text": [
      "\r>> Converting image 992/1101 shard 1"
     ]
    },
    {
     "name": "stdout",
     "output_type": "stream",
     "text": [
      "\r>> Converting image 993/1101 shard 1"
     ]
    },
    {
     "name": "stdout",
     "output_type": "stream",
     "text": [
      "\r>> Converting image 994/1101 shard 1"
     ]
    },
    {
     "name": "stdout",
     "output_type": "stream",
     "text": [
      "\r>> Converting image 995/1101 shard 1"
     ]
    },
    {
     "name": "stdout",
     "output_type": "stream",
     "text": [
      "\r>> Converting image 996/1101 shard 1"
     ]
    },
    {
     "name": "stdout",
     "output_type": "stream",
     "text": [
      "\r>> Converting image 997/1101 shard 1"
     ]
    },
    {
     "name": "stdout",
     "output_type": "stream",
     "text": [
      "\r>> Converting image 998/1101 shard 1"
     ]
    },
    {
     "name": "stdout",
     "output_type": "stream",
     "text": [
      "\r>> Converting image 999/1101 shard 1"
     ]
    },
    {
     "name": "stdout",
     "output_type": "stream",
     "text": [
      "\r>> Converting image 1000/1101 shard 1"
     ]
    },
    {
     "name": "stdout",
     "output_type": "stream",
     "text": [
      "\r>> Converting image 1001/1101 shard 1"
     ]
    },
    {
     "name": "stdout",
     "output_type": "stream",
     "text": [
      "\r>> Converting image 1002/1101 shard 1"
     ]
    },
    {
     "name": "stdout",
     "output_type": "stream",
     "text": [
      "\r>> Converting image 1003/1101 shard 1"
     ]
    },
    {
     "name": "stdout",
     "output_type": "stream",
     "text": [
      "\r>> Converting image 1004/1101 shard 1"
     ]
    },
    {
     "name": "stdout",
     "output_type": "stream",
     "text": [
      "\r>> Converting image 1005/1101 shard 1"
     ]
    },
    {
     "name": "stdout",
     "output_type": "stream",
     "text": [
      "\r>> Converting image 1006/1101 shard 1"
     ]
    },
    {
     "name": "stdout",
     "output_type": "stream",
     "text": [
      "\r>> Converting image 1007/1101 shard 1"
     ]
    },
    {
     "name": "stdout",
     "output_type": "stream",
     "text": [
      "\r>> Converting image 1008/1101 shard 1"
     ]
    },
    {
     "name": "stdout",
     "output_type": "stream",
     "text": [
      "\r>> Converting image 1009/1101 shard 1"
     ]
    },
    {
     "name": "stdout",
     "output_type": "stream",
     "text": [
      "\r>> Converting image 1010/1101 shard 1"
     ]
    },
    {
     "name": "stdout",
     "output_type": "stream",
     "text": [
      "\r>> Converting image 1011/1101 shard 1"
     ]
    },
    {
     "name": "stdout",
     "output_type": "stream",
     "text": [
      "\r>> Converting image 1012/1101 shard 1"
     ]
    },
    {
     "name": "stdout",
     "output_type": "stream",
     "text": [
      "\r>> Converting image 1013/1101 shard 1"
     ]
    },
    {
     "name": "stdout",
     "output_type": "stream",
     "text": [
      "\r>> Converting image 1014/1101 shard 1"
     ]
    },
    {
     "name": "stdout",
     "output_type": "stream",
     "text": [
      "\r>> Converting image 1015/1101 shard 1"
     ]
    },
    {
     "name": "stdout",
     "output_type": "stream",
     "text": [
      "\r>> Converting image 1016/1101 shard 1"
     ]
    },
    {
     "name": "stdout",
     "output_type": "stream",
     "text": [
      "\r>> Converting image 1017/1101 shard 1"
     ]
    },
    {
     "name": "stdout",
     "output_type": "stream",
     "text": [
      "\r>> Converting image 1018/1101 shard 1"
     ]
    },
    {
     "name": "stdout",
     "output_type": "stream",
     "text": [
      "\r>> Converting image 1019/1101 shard 1"
     ]
    },
    {
     "name": "stdout",
     "output_type": "stream",
     "text": [
      "\r>> Converting image 1020/1101 shard 1"
     ]
    },
    {
     "name": "stdout",
     "output_type": "stream",
     "text": [
      "\r>> Converting image 1021/1101 shard 1"
     ]
    },
    {
     "name": "stdout",
     "output_type": "stream",
     "text": [
      "\r>> Converting image 1022/1101 shard 1"
     ]
    },
    {
     "name": "stdout",
     "output_type": "stream",
     "text": [
      "\r>> Converting image 1023/1101 shard 1"
     ]
    },
    {
     "name": "stdout",
     "output_type": "stream",
     "text": [
      "\r>> Converting image 1024/1101 shard 1"
     ]
    },
    {
     "name": "stdout",
     "output_type": "stream",
     "text": [
      "\r>> Converting image 1025/1101 shard 1"
     ]
    },
    {
     "name": "stdout",
     "output_type": "stream",
     "text": [
      "\r>> Converting image 1026/1101 shard 1"
     ]
    },
    {
     "name": "stdout",
     "output_type": "stream",
     "text": [
      "\r>> Converting image 1027/1101 shard 1"
     ]
    },
    {
     "name": "stdout",
     "output_type": "stream",
     "text": [
      "\r>> Converting image 1028/1101 shard 1"
     ]
    },
    {
     "name": "stdout",
     "output_type": "stream",
     "text": [
      "\r>> Converting image 1029/1101 shard 1"
     ]
    },
    {
     "name": "stdout",
     "output_type": "stream",
     "text": [
      "\r>> Converting image 1030/1101 shard 1"
     ]
    },
    {
     "name": "stdout",
     "output_type": "stream",
     "text": [
      "\r>> Converting image 1031/1101 shard 1"
     ]
    },
    {
     "name": "stdout",
     "output_type": "stream",
     "text": [
      "\r>> Converting image 1032/1101 shard 1"
     ]
    },
    {
     "name": "stdout",
     "output_type": "stream",
     "text": [
      "\r>> Converting image 1033/1101 shard 1"
     ]
    },
    {
     "name": "stdout",
     "output_type": "stream",
     "text": [
      "\r>> Converting image 1034/1101 shard 1"
     ]
    },
    {
     "name": "stdout",
     "output_type": "stream",
     "text": [
      "\r>> Converting image 1035/1101 shard 1"
     ]
    },
    {
     "name": "stdout",
     "output_type": "stream",
     "text": [
      "\r>> Converting image 1036/1101 shard 1"
     ]
    },
    {
     "name": "stdout",
     "output_type": "stream",
     "text": [
      "\r>> Converting image 1037/1101 shard 1"
     ]
    },
    {
     "name": "stdout",
     "output_type": "stream",
     "text": [
      "\r>> Converting image 1038/1101 shard 1"
     ]
    },
    {
     "name": "stdout",
     "output_type": "stream",
     "text": [
      "\r>> Converting image 1039/1101 shard 1"
     ]
    },
    {
     "name": "stdout",
     "output_type": "stream",
     "text": [
      "\r>> Converting image 1040/1101 shard 1"
     ]
    },
    {
     "name": "stdout",
     "output_type": "stream",
     "text": [
      "\r>> Converting image 1041/1101 shard 1"
     ]
    },
    {
     "name": "stdout",
     "output_type": "stream",
     "text": [
      "\r>> Converting image 1042/1101 shard 1"
     ]
    },
    {
     "name": "stdout",
     "output_type": "stream",
     "text": [
      "\r>> Converting image 1043/1101 shard 1"
     ]
    },
    {
     "name": "stdout",
     "output_type": "stream",
     "text": [
      "\r>> Converting image 1044/1101 shard 1"
     ]
    },
    {
     "name": "stdout",
     "output_type": "stream",
     "text": [
      "\r>> Converting image 1045/1101 shard 1"
     ]
    },
    {
     "name": "stdout",
     "output_type": "stream",
     "text": [
      "\r>> Converting image 1046/1101 shard 1"
     ]
    },
    {
     "name": "stdout",
     "output_type": "stream",
     "text": [
      "\r>> Converting image 1047/1101 shard 1"
     ]
    },
    {
     "name": "stdout",
     "output_type": "stream",
     "text": [
      "\r>> Converting image 1048/1101 shard 1"
     ]
    },
    {
     "name": "stdout",
     "output_type": "stream",
     "text": [
      "\r>> Converting image 1049/1101 shard 1"
     ]
    },
    {
     "name": "stdout",
     "output_type": "stream",
     "text": [
      "\r>> Converting image 1050/1101 shard 1"
     ]
    },
    {
     "name": "stdout",
     "output_type": "stream",
     "text": [
      "\r>> Converting image 1051/1101 shard 1"
     ]
    },
    {
     "name": "stdout",
     "output_type": "stream",
     "text": [
      "\r>> Converting image 1052/1101 shard 1"
     ]
    },
    {
     "name": "stdout",
     "output_type": "stream",
     "text": [
      "\r>> Converting image 1053/1101 shard 1"
     ]
    },
    {
     "name": "stdout",
     "output_type": "stream",
     "text": [
      "\r>> Converting image 1054/1101 shard 1"
     ]
    },
    {
     "name": "stdout",
     "output_type": "stream",
     "text": [
      "\r>> Converting image 1055/1101 shard 1"
     ]
    },
    {
     "name": "stdout",
     "output_type": "stream",
     "text": [
      "\r>> Converting image 1056/1101 shard 1"
     ]
    },
    {
     "name": "stdout",
     "output_type": "stream",
     "text": [
      "\r>> Converting image 1057/1101 shard 1"
     ]
    },
    {
     "name": "stdout",
     "output_type": "stream",
     "text": [
      "\r>> Converting image 1058/1101 shard 1"
     ]
    },
    {
     "name": "stdout",
     "output_type": "stream",
     "text": [
      "\r>> Converting image 1059/1101 shard 1"
     ]
    },
    {
     "name": "stdout",
     "output_type": "stream",
     "text": [
      "\r>> Converting image 1060/1101 shard 1"
     ]
    },
    {
     "name": "stdout",
     "output_type": "stream",
     "text": [
      "\r>> Converting image 1061/1101 shard 1"
     ]
    },
    {
     "name": "stdout",
     "output_type": "stream",
     "text": [
      "\r>> Converting image 1062/1101 shard 1"
     ]
    },
    {
     "name": "stdout",
     "output_type": "stream",
     "text": [
      "\r>> Converting image 1063/1101 shard 1"
     ]
    },
    {
     "name": "stdout",
     "output_type": "stream",
     "text": [
      "\r>> Converting image 1064/1101 shard 1"
     ]
    },
    {
     "name": "stdout",
     "output_type": "stream",
     "text": [
      "\r>> Converting image 1065/1101 shard 1"
     ]
    },
    {
     "name": "stdout",
     "output_type": "stream",
     "text": [
      "\r>> Converting image 1066/1101 shard 1"
     ]
    },
    {
     "name": "stdout",
     "output_type": "stream",
     "text": [
      "\r>> Converting image 1067/1101 shard 1"
     ]
    },
    {
     "name": "stdout",
     "output_type": "stream",
     "text": [
      "\r>> Converting image 1068/1101 shard 1"
     ]
    },
    {
     "name": "stdout",
     "output_type": "stream",
     "text": [
      "\r>> Converting image 1069/1101 shard 1"
     ]
    },
    {
     "name": "stdout",
     "output_type": "stream",
     "text": [
      "\r>> Converting image 1070/1101 shard 1"
     ]
    },
    {
     "name": "stdout",
     "output_type": "stream",
     "text": [
      "\r>> Converting image 1071/1101 shard 1"
     ]
    },
    {
     "name": "stdout",
     "output_type": "stream",
     "text": [
      "\r>> Converting image 1072/1101 shard 1"
     ]
    },
    {
     "name": "stdout",
     "output_type": "stream",
     "text": [
      "\r>> Converting image 1073/1101 shard 1"
     ]
    },
    {
     "name": "stdout",
     "output_type": "stream",
     "text": [
      "\r>> Converting image 1074/1101 shard 1"
     ]
    },
    {
     "name": "stdout",
     "output_type": "stream",
     "text": [
      "\r>> Converting image 1075/1101 shard 1"
     ]
    },
    {
     "name": "stdout",
     "output_type": "stream",
     "text": [
      "\r>> Converting image 1076/1101 shard 1"
     ]
    },
    {
     "name": "stdout",
     "output_type": "stream",
     "text": [
      "\r>> Converting image 1077/1101 shard 1"
     ]
    },
    {
     "name": "stdout",
     "output_type": "stream",
     "text": [
      "\r>> Converting image 1078/1101 shard 1"
     ]
    },
    {
     "name": "stdout",
     "output_type": "stream",
     "text": [
      "\r>> Converting image 1079/1101 shard 1"
     ]
    },
    {
     "name": "stdout",
     "output_type": "stream",
     "text": [
      "\r>> Converting image 1080/1101 shard 1"
     ]
    },
    {
     "name": "stdout",
     "output_type": "stream",
     "text": [
      "\r>> Converting image 1081/1101 shard 1"
     ]
    },
    {
     "name": "stdout",
     "output_type": "stream",
     "text": [
      "\r>> Converting image 1082/1101 shard 1"
     ]
    },
    {
     "name": "stdout",
     "output_type": "stream",
     "text": [
      "\r>> Converting image 1083/1101 shard 1"
     ]
    },
    {
     "name": "stdout",
     "output_type": "stream",
     "text": [
      "\r>> Converting image 1084/1101 shard 1"
     ]
    },
    {
     "name": "stdout",
     "output_type": "stream",
     "text": [
      "\r>> Converting image 1085/1101 shard 1"
     ]
    },
    {
     "name": "stdout",
     "output_type": "stream",
     "text": [
      "\r>> Converting image 1086/1101 shard 1"
     ]
    },
    {
     "name": "stdout",
     "output_type": "stream",
     "text": [
      "\r>> Converting image 1087/1101 shard 1"
     ]
    },
    {
     "name": "stdout",
     "output_type": "stream",
     "text": [
      "\r>> Converting image 1088/1101 shard 1"
     ]
    },
    {
     "name": "stdout",
     "output_type": "stream",
     "text": [
      "\r>> Converting image 1089/1101 shard 1"
     ]
    },
    {
     "name": "stdout",
     "output_type": "stream",
     "text": [
      "\r>> Converting image 1090/1101 shard 1"
     ]
    },
    {
     "name": "stdout",
     "output_type": "stream",
     "text": [
      "\r>> Converting image 1091/1101 shard 1"
     ]
    },
    {
     "name": "stdout",
     "output_type": "stream",
     "text": [
      "\r>> Converting image 1092/1101 shard 1"
     ]
    },
    {
     "name": "stdout",
     "output_type": "stream",
     "text": [
      "\r>> Converting image 1093/1101 shard 1"
     ]
    },
    {
     "name": "stdout",
     "output_type": "stream",
     "text": [
      "\r>> Converting image 1094/1101 shard 1"
     ]
    },
    {
     "name": "stdout",
     "output_type": "stream",
     "text": [
      "\r>> Converting image 1095/1101 shard 1"
     ]
    },
    {
     "name": "stdout",
     "output_type": "stream",
     "text": [
      "\r>> Converting image 1096/1101 shard 1"
     ]
    },
    {
     "name": "stdout",
     "output_type": "stream",
     "text": [
      "\r>> Converting image 1097/1101 shard 1"
     ]
    },
    {
     "name": "stdout",
     "output_type": "stream",
     "text": [
      "\r>> Converting image 1098/1101 shard 1"
     ]
    },
    {
     "name": "stdout",
     "output_type": "stream",
     "text": [
      "\r>> Converting image 1099/1101 shard 1"
     ]
    },
    {
     "name": "stdout",
     "output_type": "stream",
     "text": [
      "\r>> Converting image 1100/1101 shard 1"
     ]
    },
    {
     "name": "stdout",
     "output_type": "stream",
     "text": [
      "\r>> Converting image 1101/1101 shard 1"
     ]
    },
    {
     "name": "stdout",
     "output_type": "stream",
     "text": [
      "\n"
     ]
    }
   ],
   "source": [
    "_convert_dataset('validation', validationFilenames, classNameToLabel,\n",
    "                 dataset_dir = FLAGS.dataset_dir,\n",
    "                 _NUM_SHARDS = FLAGS.num_shards)"
   ]
  },
  {
   "cell_type": "code",
   "execution_count": 6,
   "metadata": {
    "collapsed": true
   },
   "outputs": [],
   "source": [
    "# Write the label information\n",
    "\n",
    "labelToClass = dict(zip(range(len(classNames)), classNames))\n",
    "write_label_file(labelToClass, FLAGS.dataset_dir)\n",
    "\n"
   ]
  },
  {
   "cell_type": "code",
   "execution_count": null,
   "metadata": {},
   "outputs": [],
   "source": []
  },
  {
   "cell_type": "code",
   "execution_count": null,
   "metadata": {},
   "outputs": [],
   "source": []
  },
  {
   "cell_type": "code",
   "execution_count": null,
   "metadata": {},
   "outputs": [],
   "source": []
  },
  {
   "cell_type": "code",
   "execution_count": 3,
   "metadata": {},
   "outputs": [
    {
     "data": {
      "text/plain": [
       "-75.598012"
      ]
     },
     "execution_count": 3,
     "metadata": {},
     "output_type": "execute_result"
    }
   ],
   "source": [
    "(8*pow(2.605,2)) - (3*2.0605*2.656) + (7*pow(2.656,2)) - (25*2.0605) - (31*2.656) -29"
   ]
  },
  {
   "cell_type": "code",
   "execution_count": 4,
   "metadata": {},
   "outputs": [
    {
     "data": {
      "text/plain": [
       "-75.55961160000001"
      ]
     },
     "execution_count": 4,
     "metadata": {},
     "output_type": "execute_result"
    }
   ],
   "source": [
    "(8*pow(2.606,2)) - (3*2.0606*2.657) + (7*pow(2.657,2)) - (25*2.0606) - (31*2.657) -29"
   ]
  },
  {
   "cell_type": "code",
   "execution_count": 5,
   "metadata": {},
   "outputs": [
    {
     "data": {
      "text/plain": [
       "-74.12611100000001"
      ]
     },
     "execution_count": 5,
     "metadata": {},
     "output_type": "execute_result"
    }
   ],
   "source": [
    "(8*pow(2.64,2)) - (3*2.0604*2.655) + (7*pow(2.655,2)) - (25*2.0604) - (31*2.655) -29"
   ]
  },
  {
   "cell_type": "code",
   "execution_count": 6,
   "metadata": {},
   "outputs": [
    {
     "data": {
      "text/plain": [
       "3.552713678800501e-15"
      ]
     },
     "execution_count": 6,
     "metadata": {},
     "output_type": "execute_result"
    }
   ],
   "source": [
    "(16*(2.0605)) + (3* -2.656) -25"
   ]
  },
  {
   "cell_type": "code",
   "execution_count": 8,
   "metadata": {},
   "outputs": [
    {
     "data": {
      "text/plain": [
       "-0.0025000000000048317"
      ]
     },
     "execution_count": 8,
     "metadata": {},
     "output_type": "execute_result"
    }
   ],
   "source": [
    "(14*(-2.656)) + (3* 2.0605)  +31"
   ]
  },
  {
   "cell_type": "code",
   "execution_count": null,
   "metadata": {
    "collapsed": true
   },
   "outputs": [],
   "source": []
  }
 ],
 "metadata": {
  "kernelspec": {
   "display_name": "Python 3",
   "language": "python",
   "name": "python3"
  },
  "language_info": {
   "codemirror_mode": {
    "name": "ipython",
    "version": 3
   },
   "file_extension": ".py",
   "mimetype": "text/x-python",
   "name": "python",
   "nbconvert_exporter": "python",
   "pygments_lexer": "ipython3",
   "version": "3.6.1"
  }
 },
 "nbformat": 4,
 "nbformat_minor": 2
}
